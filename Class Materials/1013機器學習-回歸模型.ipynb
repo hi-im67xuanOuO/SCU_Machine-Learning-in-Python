{
 "cells": [
  {
   "cell_type": "code",
   "execution_count": 6,
   "metadata": {
    "ExecuteTime": {
     "end_time": "2020-10-13T07:56:59.616608Z",
     "start_time": "2020-10-13T07:56:59.567064Z"
    }
   },
   "outputs": [],
   "source": [
    "from sklearn.datasets import load_diabetes\n",
    "from sklearn.model_selection import train_test_split\n",
    "\n",
    "X,y = load_diabetes().data, load_diabetes().target\n",
    "X_train, X_test, y_train, y_test = train_test_split(X,y,random_state= 8)"
   ]
  },
  {
   "cell_type": "code",
   "execution_count": 8,
   "metadata": {
    "ExecuteTime": {
     "end_time": "2020-10-13T07:57:12.524210Z",
     "start_time": "2020-10-13T07:57:12.495416Z"
    }
   },
   "outputs": [
    {
     "data": {
      "text/plain": [
       "{'data': array([[ 0.03807591,  0.05068012,  0.06169621, ..., -0.00259226,\n",
       "          0.01990842, -0.01764613],\n",
       "        [-0.00188202, -0.04464164, -0.05147406, ..., -0.03949338,\n",
       "         -0.06832974, -0.09220405],\n",
       "        [ 0.08529891,  0.05068012,  0.04445121, ..., -0.00259226,\n",
       "          0.00286377, -0.02593034],\n",
       "        ...,\n",
       "        [ 0.04170844,  0.05068012, -0.01590626, ..., -0.01107952,\n",
       "         -0.04687948,  0.01549073],\n",
       "        [-0.04547248, -0.04464164,  0.03906215, ...,  0.02655962,\n",
       "          0.04452837, -0.02593034],\n",
       "        [-0.04547248, -0.04464164, -0.0730303 , ..., -0.03949338,\n",
       "         -0.00421986,  0.00306441]]),\n",
       " 'target': array([151.,  75., 141., 206., 135.,  97., 138.,  63., 110., 310., 101.,\n",
       "         69., 179., 185., 118., 171., 166., 144.,  97., 168.,  68.,  49.,\n",
       "         68., 245., 184., 202., 137.,  85., 131., 283., 129.,  59., 341.,\n",
       "         87.,  65., 102., 265., 276., 252.,  90., 100.,  55.,  61.,  92.,\n",
       "        259.,  53., 190., 142.,  75., 142., 155., 225.,  59., 104., 182.,\n",
       "        128.,  52.,  37., 170., 170.,  61., 144.,  52., 128.,  71., 163.,\n",
       "        150.,  97., 160., 178.,  48., 270., 202., 111.,  85.,  42., 170.,\n",
       "        200., 252., 113., 143.,  51.,  52., 210.,  65., 141.,  55., 134.,\n",
       "         42., 111.,  98., 164.,  48.,  96.,  90., 162., 150., 279.,  92.,\n",
       "         83., 128., 102., 302., 198.,  95.,  53., 134., 144., 232.,  81.,\n",
       "        104.,  59., 246., 297., 258., 229., 275., 281., 179., 200., 200.,\n",
       "        173., 180.,  84., 121., 161.,  99., 109., 115., 268., 274., 158.,\n",
       "        107.,  83., 103., 272.,  85., 280., 336., 281., 118., 317., 235.,\n",
       "         60., 174., 259., 178., 128.,  96., 126., 288.,  88., 292.,  71.,\n",
       "        197., 186.,  25.,  84.,  96., 195.,  53., 217., 172., 131., 214.,\n",
       "         59.,  70., 220., 268., 152.,  47.,  74., 295., 101., 151., 127.,\n",
       "        237., 225.,  81., 151., 107.,  64., 138., 185., 265., 101., 137.,\n",
       "        143., 141.,  79., 292., 178.,  91., 116.,  86., 122.,  72., 129.,\n",
       "        142.,  90., 158.,  39., 196., 222., 277.,  99., 196., 202., 155.,\n",
       "         77., 191.,  70.,  73.,  49.,  65., 263., 248., 296., 214., 185.,\n",
       "         78.,  93., 252., 150.,  77., 208.,  77., 108., 160.,  53., 220.,\n",
       "        154., 259.,  90., 246., 124.,  67.,  72., 257., 262., 275., 177.,\n",
       "         71.,  47., 187., 125.,  78.,  51., 258., 215., 303., 243.,  91.,\n",
       "        150., 310., 153., 346.,  63.,  89.,  50.,  39., 103., 308., 116.,\n",
       "        145.,  74.,  45., 115., 264.,  87., 202., 127., 182., 241.,  66.,\n",
       "         94., 283.,  64., 102., 200., 265.,  94., 230., 181., 156., 233.,\n",
       "         60., 219.,  80.,  68., 332., 248.,  84., 200.,  55.,  85.,  89.,\n",
       "         31., 129.,  83., 275.,  65., 198., 236., 253., 124.,  44., 172.,\n",
       "        114., 142., 109., 180., 144., 163., 147.,  97., 220., 190., 109.,\n",
       "        191., 122., 230., 242., 248., 249., 192., 131., 237.,  78., 135.,\n",
       "        244., 199., 270., 164.,  72.,  96., 306.,  91., 214.,  95., 216.,\n",
       "        263., 178., 113., 200., 139., 139.,  88., 148.,  88., 243.,  71.,\n",
       "         77., 109., 272.,  60.,  54., 221.,  90., 311., 281., 182., 321.,\n",
       "         58., 262., 206., 233., 242., 123., 167.,  63., 197.,  71., 168.,\n",
       "        140., 217., 121., 235., 245.,  40.,  52., 104., 132.,  88.,  69.,\n",
       "        219.,  72., 201., 110.,  51., 277.,  63., 118.,  69., 273., 258.,\n",
       "         43., 198., 242., 232., 175.,  93., 168., 275., 293., 281.,  72.,\n",
       "        140., 189., 181., 209., 136., 261., 113., 131., 174., 257.,  55.,\n",
       "         84.,  42., 146., 212., 233.,  91., 111., 152., 120.,  67., 310.,\n",
       "         94., 183.,  66., 173.,  72.,  49.,  64.,  48., 178., 104., 132.,\n",
       "        220.,  57.]),\n",
       " 'DESCR': '.. _diabetes_dataset:\\n\\nDiabetes dataset\\n----------------\\n\\nTen baseline variables, age, sex, body mass index, average blood\\npressure, and six blood serum measurements were obtained for each of n =\\n442 diabetes patients, as well as the response of interest, a\\nquantitative measure of disease progression one year after baseline.\\n\\n**Data Set Characteristics:**\\n\\n  :Number of Instances: 442\\n\\n  :Number of Attributes: First 10 columns are numeric predictive values\\n\\n  :Target: Column 11 is a quantitative measure of disease progression one year after baseline\\n\\n  :Attribute Information:\\n      - Age\\n      - Sex\\n      - Body mass index\\n      - Average blood pressure\\n      - S1\\n      - S2\\n      - S3\\n      - S4\\n      - S5\\n      - S6\\n\\nNote: Each of these 10 feature variables have been mean centered and scaled by the standard deviation times `n_samples` (i.e. the sum of squares of each column totals 1).\\n\\nSource URL:\\nhttps://www4.stat.ncsu.edu/~boos/var.select/diabetes.html\\n\\nFor more information see:\\nBradley Efron, Trevor Hastie, Iain Johnstone and Robert Tibshirani (2004) \"Least Angle Regression,\" Annals of Statistics (with discussion), 407-499.\\n(https://web.stanford.edu/~hastie/Papers/LARS/LeastAngle_2002.pdf)',\n",
       " 'feature_names': ['age',\n",
       "  'sex',\n",
       "  'bmi',\n",
       "  'bp',\n",
       "  's1',\n",
       "  's2',\n",
       "  's3',\n",
       "  's4',\n",
       "  's5',\n",
       "  's6'],\n",
       " 'data_filename': '/opt/anaconda3/lib/python3.7/site-packages/sklearn/datasets/data/diabetes_data.csv.gz',\n",
       " 'target_filename': '/opt/anaconda3/lib/python3.7/site-packages/sklearn/datasets/data/diabetes_target.csv.gz'}"
      ]
     },
     "execution_count": 8,
     "metadata": {},
     "output_type": "execute_result"
    }
   ],
   "source": [
    "load_diabetes()"
   ]
  },
  {
   "cell_type": "code",
   "execution_count": 2,
   "metadata": {
    "ExecuteTime": {
     "end_time": "2020-10-13T07:42:49.335109Z",
     "start_time": "2020-10-13T07:42:49.134401Z"
    }
   },
   "outputs": [
    {
     "name": "stdout",
     "output_type": "stream",
     "text": [
      "[   11.5106203   -282.51347161   534.20455671   401.73142674\n",
      " -1043.89718398   634.92464089   186.43262636   204.93373199\n",
      "   762.47149733    91.9460394 ]\n",
      "MSE train: 2812.369, test: 3108.041\n",
      "R^2 train: 0.530, test: 0.459\n"
     ]
    }
   ],
   "source": [
    "from sklearn.linear_model import LinearRegression\n",
    "from sklearn.metrics import mean_squared_error\n",
    "from sklearn.metrics import r2_score\n",
    "\n",
    "slr = LinearRegression()\n",
    "\n",
    "slr.fit(X_train, y_train)\n",
    "print(slr.coef_)\n",
    "y_train_pred = slr.predict(X_train)\n",
    "y_test_pred = slr.predict(X_test)\n",
    "\n",
    "print('MSE train: %.3f, test: %.3f'%(\n",
    "        mean_squared_error(y_train,y_train_pred),\n",
    "        mean_squared_error(y_test,y_test_pred)))\n",
    "print('R^2 train: %.3f, test: %.3f'%(\n",
    "        r2_score(y_train,y_train_pred),\n",
    "        r2_score(y_test,y_test_pred)))"
   ]
  },
  {
   "cell_type": "code",
   "execution_count": 16,
   "metadata": {
    "ExecuteTime": {
     "end_time": "2020-10-13T07:59:59.776668Z",
     "start_time": "2020-10-13T07:59:58.794337Z"
    }
   },
   "outputs": [
    {
     "data": {
      "image/png": "[encoded data removed]",
      "text/plain": [
       "<Figure size 432x288 with 2 Axes>"
      ]
     },
     "metadata": {
      "needs_background": "light"
     },
     "output_type": "display_data"
    }
   ],
   "source": [
    "cols = ['age','sex','bmi','bp','s1','s2','s3','s4','s5','s6']\n",
    "\n",
    "import pandas as pd\n",
    "data = load_diabetes()\n",
    "feature = pd.DataFrame(data['data'], columns = data['feature_names'])\n",
    "target = pd.DataFrame(data['target'], columns = ['target'])\n",
    "df = pd.concat([feature, target], axis = 1)\n",
    "\n",
    "import numpy as np\n",
    "import matplotlib.pyplot as plt\n",
    "import seaborn as sns\n",
    "\n",
    "cm = np.corrcoef(df[cols].values.T) #.T是轉置矩陣（因為python預設用列的方向計算）\n",
    "#sns.set(font_scale = 1.5)\n",
    "hm = sns.heatmap(cm,\n",
    "                 cbar = True, #圖右手邊的長條熱度圖\n",
    "                 annot = True, # 是否顯示數值\n",
    "                 square = True, #是否為正方形\n",
    "                 fmt = '.2f', #浮點數幾位\n",
    "                 annot_kws = {'size': 11},\n",
    "                 yticklabels = cols,\n",
    "                 xticklabels = cols)\n",
    "\n",
    "plt.tight_layout()\n",
    "plt.savefig('correlation2.png',dpi = 300)\n",
    "plt.show()"
   ]
  },
  {
   "cell_type": "markdown",
   "metadata": {},
   "source": [
    "# Ridge"
   ]
  },
  {
   "cell_type": "code",
   "execution_count": 26,
   "metadata": {
    "ExecuteTime": {
     "end_time": "2020-10-13T08:37:15.415385Z",
     "start_time": "2020-10-13T08:37:15.403067Z"
    }
   },
   "outputs": [
    {
     "name": "stdout",
     "output_type": "stream",
     "text": [
      "[  36.8262072   -75.80823733  282.42652716  207.39314972   -1.46580263\n",
      "  -27.81750835 -134.3740951    98.97724793  222.67543268  117.97255343]\n"
     ]
    }
   ],
   "source": [
    "from sklearn.linear_model import Ridge\n",
    "ridge = Ridge(alpha=1).fit(X_train,y_train) ## alpha = 1\n",
    "print(ridge.coef_)\n",
    "\n",
    "y_train_pred = ridge.predict(X_train)\n",
    "y_test_pred = ridge.predict(X_test)"
   ]
  },
  {
   "cell_type": "code",
   "execution_count": 27,
   "metadata": {
    "ExecuteTime": {
     "end_time": "2020-10-13T08:37:16.012829Z",
     "start_time": "2020-10-13T08:37:16.001248Z"
    }
   },
   "outputs": [
    {
     "name": "stdout",
     "output_type": "stream",
     "text": [
      "MSE train: 3397.720, test: 3262.233\n",
      "R^2 train: 0.433, test: 0.433\n"
     ]
    }
   ],
   "source": [
    "print('MSE train: %.3f, test: %.3f'%(\n",
    "        mean_squared_error(y_train,y_train_pred),\n",
    "        mean_squared_error(y_test,y_test_pred)))\n",
    "print('R^2 train: %.3f, test: %.3f'%(\n",
    "        r2_score(y_train,y_train_pred),\n",
    "        r2_score(y_test,y_test_pred)))"
   ]
  },
  {
   "cell_type": "code",
   "execution_count": 28,
   "metadata": {
    "ExecuteTime": {
     "end_time": "2020-10-13T08:37:21.028437Z",
     "start_time": "2020-10-13T08:37:21.008021Z"
    }
   },
   "outputs": [
    {
     "name": "stdout",
     "output_type": "stream",
     "text": [
      "[ 15.08676646  -1.9586191   60.69903425  47.11843221  14.72337546\n",
      "   9.87779644 -35.56015266  35.74603575  54.27193163  37.42095846]\n",
      "MSE train: 5083.146, test: 4817.252\n",
      "R^2 train: 0.151, test: 0.162\n"
     ]
    }
   ],
   "source": [
    "from sklearn.linear_model import Ridge\n",
    "ridge = Ridge(alpha=10).fit(X_train,y_train)\n",
    "print(ridge.coef_)\n",
    "\n",
    "y_train_pred = ridge.predict(X_train)\n",
    "y_test_pred = ridge.predict(X_test)\n",
    "\n",
    "print('MSE train: %.3f, test: %.3f'%(\n",
    "        mean_squared_error(y_train,y_train_pred),\n",
    "        mean_squared_error(y_test,y_test_pred)))\n",
    "print('R^2 train: %.3f, test: %.3f'%(\n",
    "        r2_score(y_train,y_train_pred),\n",
    "        r2_score(y_test,y_test_pred)))"
   ]
  },
  {
   "cell_type": "code",
   "execution_count": 29,
   "metadata": {
    "ExecuteTime": {
     "end_time": "2020-10-13T08:37:24.974743Z",
     "start_time": "2020-10-13T08:37:24.949248Z"
    }
   },
   "outputs": [
    {
     "name": "stdout",
     "output_type": "stream",
     "text": [
      "[  24.77802114 -228.33364296  495.54594378  361.21481169 -109.82542594\n",
      "  -78.3286822  -190.69780344  108.24040795  383.72269392  107.42593373]\n",
      "MSE train: 2865.170, test: 3027.227\n",
      "R^2 train: 0.522, test: 0.473\n"
     ]
    }
   ],
   "source": [
    "from sklearn.linear_model import Ridge\n",
    "ridge = Ridge(alpha=0.1).fit(X_train,y_train)\n",
    "print(ridge.coef_)\n",
    "\n",
    "y_train_pred = ridge.predict(X_train)\n",
    "y_test_pred = ridge.predict(X_test)\n",
    "\n",
    "print('MSE train: %.3f, test: %.3f'%(\n",
    "        mean_squared_error(y_train,y_train_pred),\n",
    "        mean_squared_error(y_test,y_test_pred)))\n",
    "print('R^2 train: %.3f, test: %.3f'%(\n",
    "        r2_score(y_train,y_train_pred),\n",
    "        r2_score(y_test,y_test_pred)))"
   ]
  },
  {
   "cell_type": "markdown",
   "metadata": {},
   "source": [
    "# LASSO"
   ]
  },
  {
   "cell_type": "code",
   "execution_count": 31,
   "metadata": {
    "ExecuteTime": {
     "end_time": "2020-10-13T08:40:24.999004Z",
     "start_time": "2020-10-13T08:40:24.881021Z"
    }
   },
   "outputs": [
    {
     "name": "stdout",
     "output_type": "stream",
     "text": [
      "[  0.          -0.         384.73421807  72.69325545   0.\n",
      "   0.          -0.           0.         247.88881314   0.        ]\n",
      "MSE train: 3818.201, test: 3646.836\n",
      "R^2 train: 0.362, test: 0.366\n"
     ]
    }
   ],
   "source": [
    "from sklearn.linear_model import Lasso\n",
    "\n",
    "lasso = Lasso(alpha=1).fit(X_train,y_train)\n",
    "print(lasso.coef_)\n",
    "\n",
    "y_train_pred = lasso.predict(X_train)\n",
    "y_test_pred = lasso.predict(X_test)\n",
    "\n",
    "print('MSE train: %.3f, test: %.3f'%(\n",
    "        mean_squared_error(y_train,y_train_pred),\n",
    "        mean_squared_error(y_test,y_test_pred)))\n",
    "print('R^2 train: %.3f, test: %.3f'%(\n",
    "        r2_score(y_train,y_train_pred),\n",
    "        r2_score(y_test,y_test_pred)))"
   ]
  },
  {
   "cell_type": "code",
   "execution_count": 32,
   "metadata": {
    "ExecuteTime": {
     "end_time": "2020-10-13T08:42:35.066271Z",
     "start_time": "2020-10-13T08:42:35.051264Z"
    }
   },
   "outputs": [
    {
     "name": "stdout",
     "output_type": "stream",
     "text": [
      "[   0.         -181.40911617  537.71961152  355.19720303 -105.43471481\n",
      "   -0.         -198.99829878    0.          440.25133426   48.25573121]\n",
      "MSE train: 2877.650, test: 2989.599\n",
      "R^2 train: 0.519, test: 0.480\n"
     ]
    }
   ],
   "source": [
    "from sklearn.linear_model import Lasso\n",
    "\n",
    "lasso = Lasso(alpha=0.1).fit(X_train,y_train)\n",
    "print(lasso.coef_)\n",
    "\n",
    "y_train_pred = lasso.predict(X_train)\n",
    "y_test_pred = lasso.predict(X_test)\n",
    "\n",
    "print('MSE train: %.3f, test: %.3f'%(\n",
    "        mean_squared_error(y_train,y_train_pred),\n",
    "        mean_squared_error(y_test,y_test_pred)))\n",
    "print('R^2 train: %.3f, test: %.3f'%(\n",
    "        r2_score(y_train,y_train_pred),\n",
    "        r2_score(y_test,y_test_pred)))"
   ]
  },
  {
   "cell_type": "code",
   "execution_count": 34,
   "metadata": {
    "ExecuteTime": {
     "end_time": "2020-10-13T08:42:46.484518Z",
     "start_time": "2020-10-13T08:42:46.469443Z"
    }
   },
   "outputs": [
    {
     "name": "stdout",
     "output_type": "stream",
     "text": [
      "[  11.82931254 -281.06324599  534.59556593  401.25597128 -971.04936503\n",
      "  579.28119134  151.83257187  191.85084436  736.83680063   91.17487055]\n",
      "MSE train: 2812.574, test: 3102.099\n",
      "R^2 train: 0.530, test: 0.460\n"
     ]
    }
   ],
   "source": [
    "from sklearn.linear_model import Lasso\n",
    "\n",
    "lasso = Lasso(alpha=0.001).fit(X_train,y_train)\n",
    "print(lasso.coef_)\n",
    "\n",
    "y_train_pred = lasso.predict(X_train)\n",
    "y_test_pred = lasso.predict(X_test)\n",
    "\n",
    "print('MSE train: %.3f, test: %.3f'%(\n",
    "        mean_squared_error(y_train,y_train_pred),\n",
    "        mean_squared_error(y_test,y_test_pred)))\n",
    "print('R^2 train: %.3f, test: %.3f'%(\n",
    "        r2_score(y_train,y_train_pred),\n",
    "        r2_score(y_test,y_test_pred)))"
   ]
  },
  {
   "cell_type": "code",
   "execution_count": null,
   "metadata": {},
   "outputs": [],
   "source": []
  }
 ],
 "metadata": {
  "kernelspec": {
   "display_name": "Python 3",
   "language": "python",
   "name": "python3"
  },
  "language_info": {
   "codemirror_mode": {
    "name": "ipython",
    "version": 3
   },
   "file_extension": ".py",
   "mimetype": "text/x-python",
   "name": "python",
   "nbconvert_exporter": "python",
   "pygments_lexer": "ipython3",
   "version": "3.7.4"
  },
  "toc": {
   "base_numbering": 1,
   "nav_menu": {},
   "number_sections": true,
   "sideBar": true,
   "skip_h1_title": false,
   "title_cell": "Table of Contents",
   "title_sidebar": "Contents",
   "toc_cell": false,
   "toc_position": {},
   "toc_section_display": true,
   "toc_window_display": false
  }
 },
 "nbformat": 4,
 "nbformat_minor": 2
}
