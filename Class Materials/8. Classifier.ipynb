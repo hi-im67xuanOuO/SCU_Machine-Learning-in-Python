{
 "cells": [
  {
   "cell_type": "code",
   "execution_count": 17,
   "metadata": {
    "ExecuteTime": {
     "end_time": "2020-12-04T13:44:41.036273Z",
     "start_time": "2020-12-04T13:44:41.029468Z"
    }
   },
   "outputs": [],
   "source": [
    "import pandas as pd\n",
    "import numpy as np"
   ]
  },
  {
   "cell_type": "code",
   "execution_count": 18,
   "metadata": {
    "ExecuteTime": {
     "end_time": "2020-12-04T13:44:41.260894Z",
     "start_time": "2020-12-04T13:44:41.235817Z"
    }
   },
   "outputs": [
    {
     "data": {
      "text/html": [
       "<div>\n",
       "<style scoped>\n",
       "    .dataframe tbody tr th:only-of-type {\n",
       "        vertical-align: middle;\n",
       "    }\n",
       "\n",
       "    .dataframe tbody tr th {\n",
       "        vertical-align: top;\n",
       "    }\n",
       "\n",
       "    .dataframe thead th {\n",
       "        text-align: right;\n",
       "    }\n",
       "</style>\n",
       "<table border=\"1\" class=\"dataframe\">\n",
       "  <thead>\n",
       "    <tr style=\"text-align: right;\">\n",
       "      <th></th>\n",
       "      <th>Alcohol</th>\n",
       "      <th>OD280/OD315 of diluted wines</th>\n",
       "    </tr>\n",
       "  </thead>\n",
       "  <tbody>\n",
       "    <tr>\n",
       "      <td>1</td>\n",
       "      <td>14.23</td>\n",
       "      <td>3.92</td>\n",
       "    </tr>\n",
       "    <tr>\n",
       "      <td>1</td>\n",
       "      <td>13.20</td>\n",
       "      <td>3.40</td>\n",
       "    </tr>\n",
       "    <tr>\n",
       "      <td>1</td>\n",
       "      <td>13.16</td>\n",
       "      <td>3.17</td>\n",
       "    </tr>\n",
       "    <tr>\n",
       "      <td>1</td>\n",
       "      <td>14.37</td>\n",
       "      <td>3.45</td>\n",
       "    </tr>\n",
       "    <tr>\n",
       "      <td>1</td>\n",
       "      <td>13.24</td>\n",
       "      <td>2.93</td>\n",
       "    </tr>\n",
       "  </tbody>\n",
       "</table>\n",
       "</div>"
      ],
      "text/plain": [
       "   Alcohol  OD280/OD315 of diluted wines\n",
       "1    14.23                          3.92\n",
       "1    13.20                          3.40\n",
       "1    13.16                          3.17\n",
       "1    14.37                          3.45\n",
       "1    13.24                          2.93"
      ]
     },
     "execution_count": 18,
     "metadata": {},
     "output_type": "execute_result"
    }
   ],
   "source": [
    "names = ['Alcohol','Malic acid','Ash','Alcalinity of ash','Magnesium','Total phenols',\n",
    "         'Flavanoids','Nonflavanoid phenols','Proanthocyanins','Color intensity','Hue',\n",
    "         'OD280/OD315 of diluted wines','Proline']\n",
    "\n",
    "data = pd.read_csv('wine.csv',header = None, names = names)\n",
    "\n",
    "df = data[['Alcohol','OD280/OD315 of diluted wines']]\n",
    "\n",
    "df.head()"
   ]
  },
  {
   "cell_type": "code",
   "execution_count": 19,
   "metadata": {
    "ExecuteTime": {
     "end_time": "2020-12-04T13:44:41.613548Z",
     "start_time": "2020-12-04T13:44:41.587848Z"
    }
   },
   "outputs": [
    {
     "data": {
      "text/html": [
       "<div>\n",
       "<style scoped>\n",
       "    .dataframe tbody tr th:only-of-type {\n",
       "        vertical-align: middle;\n",
       "    }\n",
       "\n",
       "    .dataframe tbody tr th {\n",
       "        vertical-align: top;\n",
       "    }\n",
       "\n",
       "    .dataframe thead th {\n",
       "        text-align: right;\n",
       "    }\n",
       "</style>\n",
       "<table border=\"1\" class=\"dataframe\">\n",
       "  <thead>\n",
       "    <tr style=\"text-align: right;\">\n",
       "      <th></th>\n",
       "      <th>Alcohol</th>\n",
       "      <th>OD280/OD315 of diluted wines</th>\n",
       "    </tr>\n",
       "  </thead>\n",
       "  <tbody>\n",
       "    <tr>\n",
       "      <td>2</td>\n",
       "      <td>12.37</td>\n",
       "      <td>1.82</td>\n",
       "    </tr>\n",
       "    <tr>\n",
       "      <td>2</td>\n",
       "      <td>12.33</td>\n",
       "      <td>1.67</td>\n",
       "    </tr>\n",
       "    <tr>\n",
       "      <td>2</td>\n",
       "      <td>12.64</td>\n",
       "      <td>1.59</td>\n",
       "    </tr>\n",
       "    <tr>\n",
       "      <td>2</td>\n",
       "      <td>13.67</td>\n",
       "      <td>2.46</td>\n",
       "    </tr>\n",
       "    <tr>\n",
       "      <td>2</td>\n",
       "      <td>12.37</td>\n",
       "      <td>2.87</td>\n",
       "    </tr>\n",
       "  </tbody>\n",
       "</table>\n",
       "</div>"
      ],
      "text/plain": [
       "   Alcohol  OD280/OD315 of diluted wines\n",
       "2    12.37                          1.82\n",
       "2    12.33                          1.67\n",
       "2    12.64                          1.59\n",
       "2    13.67                          2.46\n",
       "2    12.37                          2.87"
      ]
     },
     "execution_count": 19,
     "metadata": {},
     "output_type": "execute_result"
    }
   ],
   "source": [
    "df = df[df.index!=1] #只考慮類別為0或1的資料\n",
    "df.head()"
   ]
  },
  {
   "cell_type": "code",
   "execution_count": 20,
   "metadata": {
    "ExecuteTime": {
     "end_time": "2020-12-04T13:44:42.072002Z",
     "start_time": "2020-12-04T13:44:42.063638Z"
    }
   },
   "outputs": [],
   "source": [
    "from sklearn.model_selection import train_test_split\n",
    "from sklearn.preprocessing import StandardScaler\n",
    "\n",
    "X = df.iloc[:,:2].values\n",
    "y = df.index.values\n",
    "\n",
    "X_train, X_test, y_train, y_test = train_test_split(X, y, test_size=0.2,random_state = 1,stratify=y)\n",
    "#stratify依照原數據y(class)的比例分配給train和test"
   ]
  },
  {
   "cell_type": "code",
   "execution_count": 21,
   "metadata": {
    "ExecuteTime": {
     "end_time": "2020-12-04T13:44:42.515556Z",
     "start_time": "2020-12-04T13:44:42.448280Z"
    }
   },
   "outputs": [
    {
     "data": {
      "text/plain": [
       "RandomForestClassifier(bootstrap=True, class_weight=None, criterion='entropy',\n",
       "                       max_depth=None, max_features='auto', max_leaf_nodes=None,\n",
       "                       min_impurity_decrease=0.0, min_impurity_split=None,\n",
       "                       min_samples_leaf=1, min_samples_split=2,\n",
       "                       min_weight_fraction_leaf=0.0, n_estimators=25,\n",
       "                       n_jobs=None, oob_score=False, random_state=1, verbose=0,\n",
       "                       warm_start=False)"
      ]
     },
     "execution_count": 21,
     "metadata": {},
     "output_type": "execute_result"
    }
   ],
   "source": [
    "from sklearn.ensemble import RandomForestClassifier\n",
    "\n",
    "forest = RandomForestClassifier(criterion = 'entropy',\n",
    "                                n_estimators = 25,\n",
    "                                random_state = 1)\n",
    "\n",
    "forest.fit(X_train,y_train)"
   ]
  },
  {
   "cell_type": "code",
   "execution_count": 22,
   "metadata": {
    "ExecuteTime": {
     "end_time": "2020-12-04T13:44:42.832825Z",
     "start_time": "2020-12-04T13:44:42.817973Z"
    }
   },
   "outputs": [],
   "source": [
    "forest_pred = forest.predict(X_test)"
   ]
  },
  {
   "cell_type": "code",
   "execution_count": 23,
   "metadata": {
    "ExecuteTime": {
     "end_time": "2020-12-04T13:44:43.992448Z",
     "start_time": "2020-12-04T13:44:43.171072Z"
    }
   },
   "outputs": [
    {
     "data": {
      "text/plain": [
       "AdaBoostClassifier(algorithm='SAMME.R',\n",
       "                   base_estimator=DecisionTreeClassifier(class_weight=None,\n",
       "                                                         criterion='entropy',\n",
       "                                                         max_depth=1,\n",
       "                                                         max_features=None,\n",
       "                                                         max_leaf_nodes=None,\n",
       "                                                         min_impurity_decrease=0.0,\n",
       "                                                         min_impurity_split=None,\n",
       "                                                         min_samples_leaf=1,\n",
       "                                                         min_samples_split=2,\n",
       "                                                         min_weight_fraction_leaf=0.0,\n",
       "                                                         presort=False,\n",
       "                                                         random_state=1,\n",
       "                                                         splitter='best'),\n",
       "                   learning_rate=0.1, n_estimators=500, random_state=1)"
      ]
     },
     "execution_count": 23,
     "metadata": {},
     "output_type": "execute_result"
    }
   ],
   "source": [
    "from sklearn.tree import DecisionTreeClassifier\n",
    "from sklearn.ensemble import AdaBoostClassifier\n",
    "\n",
    "tree = DecisionTreeClassifier(criterion='entropy',\n",
    "                              max_depth=1, #單層決策樹\n",
    "                              random_state=1) \n",
    "\n",
    "tree.fit(X_train,y_train)\n",
    "\n",
    "ada = AdaBoostClassifier(base_estimator=tree,\n",
    "                         n_estimators=500, #用500棵決策樹單層決策樹\n",
    "                         learning_rate=0.1,\n",
    "                         random_state=1)\n",
    "\n",
    "ada.fit(X_train,y_train)"
   ]
  },
  {
   "cell_type": "code",
   "execution_count": 24,
   "metadata": {
    "ExecuteTime": {
     "end_time": "2020-12-04T13:44:44.104765Z",
     "start_time": "2020-12-04T13:44:43.996118Z"
    }
   },
   "outputs": [],
   "source": [
    "tree_pred = tree.predict(X_test)\n",
    "ada_pred = ada.predict(X_test)"
   ]
  },
  {
   "cell_type": "code",
   "execution_count": 25,
   "metadata": {
    "ExecuteTime": {
     "end_time": "2020-12-04T13:44:44.261151Z",
     "start_time": "2020-12-04T13:44:44.239586Z"
    }
   },
   "outputs": [],
   "source": [
    "import matplotlib.pyplot as plt\n",
    "from matplotlib.colors import ListedColormap\n",
    "\n",
    "def plot_decision_regions(X, y, classifier, test_idx = None, resolution = 0.02):\n",
    "    \n",
    "    # setup marker generator and color map\n",
    "    markers = ('s','x','o','^','v')\n",
    "    colors = ('red','blue','lightgreen','gray','cyan')\n",
    "    cmap = ListedColormap(colors[:len(np.unique(y))])\n",
    "    \n",
    "    # plot the decision surface\n",
    "    x1_min, x1_max = X[:,0].min()-1, X[:,0].max()+1\n",
    "    x2_min, x2_max = X[:,1].min()-1, X[:,1].max()+1\n",
    "    xx1,xx2 = np.meshgrid(np.arange(x1_min,x1_max,resolution),\n",
    "                          np.arange(x2_min,x2_max,resolution))\n",
    "    Z = classifier.predict(np.array([xx1.ravel(),xx2.ravel()]).T)\n",
    "    Z = Z.reshape(xx1.shape)\n",
    "    plt.contourf(xx1,xx2,Z,alpha=0.3,cmap=cmap)\n",
    "    plt.xlim(xx1.min(),xx1.max())\n",
    "    plt.xlim(xx2.min(),xx2.max())\n",
    "    \n",
    "    for idx, cl in enumerate(np.unique(y)):\n",
    "        plt.scatter(x=X[y==cl,0],\n",
    "                    y=X[y==cl,1],\n",
    "                    alpha=0.8,\n",
    "                    c=colors[idx],\n",
    "                    label=cl,\n",
    "                    edgecolor='black')\n",
    "    \n",
    "    if test_idx:\n",
    "        X_test,y_test = X[test_idx,:], y[test_idx]\n",
    "        \n",
    "        plt.scatter(X_test[:,0],\n",
    "                    X_test[:,1],\n",
    "                    c='',\n",
    "                    edgecolor='black',\n",
    "                    alpha=1.0,\n",
    "                    linewidth=1,\n",
    "                    marker='o',\n",
    "                    s=100,\n",
    "                    label='test set')"
   ]
  },
  {
   "cell_type": "code",
   "execution_count": 26,
   "metadata": {
    "ExecuteTime": {
     "end_time": "2020-12-04T13:44:44.884567Z",
     "start_time": "2020-12-04T13:44:44.879667Z"
    }
   },
   "outputs": [],
   "source": [
    "X_new = np.vstack((X_train, X_test))\n",
    "y_new = np.hstack((y_train, y_test))"
   ]
  },
  {
   "cell_type": "code",
   "execution_count": 30,
   "metadata": {
    "ExecuteTime": {
     "end_time": "2020-12-04T13:44:52.579974Z",
     "start_time": "2020-12-04T13:44:52.277564Z"
    }
   },
   "outputs": [
    {
     "data": {
      "image/png": "[encoded data removed]",
      "text/plain": [
       "<Figure size 432x288 with 1 Axes>"
      ]
     },
     "metadata": {
      "needs_background": "light"
     },
     "output_type": "display_data"
    }
   ],
   "source": [
    "import matplotlib.pyplot as plt\n",
    "import seaborn as sns\n",
    "from sklearn.linear_model import LogisticRegression\n",
    "from matplotlib.colors import ListedColormap\n",
    "plot_decision_regions(X_new,y_new,classifier=forest,test_idx=range(96,119))\n",
    "plt.legend(loc='upper left')\n",
    "plt.tight_layout()\n",
    "plt.show()"
   ]
  },
  {
   "cell_type": "code",
   "execution_count": 28,
   "metadata": {
    "ExecuteTime": {
     "end_time": "2020-12-04T13:44:47.058650Z",
     "start_time": "2020-12-04T13:44:47.043002Z"
    }
   },
   "outputs": [
    {
     "data": {
      "text/plain": [
       "array([[12.2 ,  1.83],\n",
       "       [12.33,  2.31],\n",
       "       [12.79,  1.47],\n",
       "       [12.84,  2.15],\n",
       "       [11.56,  3.69],\n",
       "       [12.07,  3.28],\n",
       "       [12.88,  1.42],\n",
       "       [13.11,  1.33],\n",
       "       [11.96,  3.13],\n",
       "       [12.16,  2.26],\n",
       "       [12.37,  2.87],\n",
       "       [12.67,  3.16],\n",
       "       [12.37,  1.82],\n",
       "       [12.08,  3.21],\n",
       "       [12.37,  2.77],\n",
       "       [13.03,  2.48],\n",
       "       [11.87,  3.64],\n",
       "       [12.08,  3.19],\n",
       "       [12.69,  2.06],\n",
       "       [12.87,  1.86],\n",
       "       [11.41,  2.31],\n",
       "       [12.08,  2.72],\n",
       "       [12.04,  2.57],\n",
       "       [12.42,  3.12],\n",
       "       [12.77,  1.63],\n",
       "       [12.21,  3.07],\n",
       "       [12.93,  2.31],\n",
       "       [12.72,  2.42],\n",
       "       [12.7 ,  3.13],\n",
       "       [13.49,  2.78],\n",
       "       [12.29,  2.83],\n",
       "       [12.51,  1.51],\n",
       "       [12.42,  2.96],\n",
       "       [12.72,  3.14],\n",
       "       [13.16,  1.68],\n",
       "       [13.71,  1.74],\n",
       "       [13.4 ,  1.56],\n",
       "       [14.13,  1.6 ],\n",
       "       [12.08,  2.27],\n",
       "       [13.62,  2.05],\n",
       "       [13.27,  1.56],\n",
       "       [12.08,  2.96],\n",
       "       [12.22,  3.02],\n",
       "       [14.16,  1.71],\n",
       "       [13.32,  1.62],\n",
       "       [12.34,  3.38],\n",
       "       [12.6 ,  2.77],\n",
       "       [12.25,  3.17],\n",
       "       [12.29,  1.82],\n",
       "       [11.79,  2.44],\n",
       "       [12.29,  3.3 ],\n",
       "       [12.29,  2.74],\n",
       "       [14.34,  1.96],\n",
       "       [13.84,  1.64],\n",
       "       [12.36,  1.58],\n",
       "       [11.03,  2.87],\n",
       "       [12.37,  3.48],\n",
       "       [11.65,  3.21],\n",
       "       [11.64,  2.75],\n",
       "       [13.17,  1.48],\n",
       "       [11.82,  2.44],\n",
       "       [12.  ,  3.12],\n",
       "       [12.25,  1.27],\n",
       "       [12.81,  1.36],\n",
       "       [13.73,  1.75],\n",
       "       [12.  ,  2.65],\n",
       "       [12.52,  2.78],\n",
       "       [11.45,  3.39],\n",
       "       [11.82,  3.33],\n",
       "       [12.86,  1.29],\n",
       "       [12.99,  3.5 ],\n",
       "       [12.6 ,  1.58],\n",
       "       [13.69,  1.82],\n",
       "       [13.88,  1.33],\n",
       "       [11.84,  2.52],\n",
       "       [12.53,  1.69],\n",
       "       [12.43,  2.84],\n",
       "       [12.25,  2.  ],\n",
       "       [13.52,  2.06],\n",
       "       [13.17,  1.62],\n",
       "       [11.76,  2.5 ],\n",
       "       [13.05,  2.01],\n",
       "       [11.46,  2.81],\n",
       "       [13.5 ,  1.3 ],\n",
       "       [13.67,  2.46],\n",
       "       [13.78,  1.68],\n",
       "       [12.96,  1.75],\n",
       "       [12.77,  2.12],\n",
       "       [12.64,  1.59],\n",
       "       [11.62,  2.96],\n",
       "       [12.58,  1.55],\n",
       "       [13.48,  1.78],\n",
       "       [13.36,  2.47],\n",
       "       [12.42,  3.3 ],\n",
       "       [12.47,  2.63],\n",
       "       [12.85,  2.11],\n",
       "       [13.58,  1.8 ],\n",
       "       [12.7 ,  1.29],\n",
       "       [13.11,  3.18],\n",
       "       [12.37,  2.78],\n",
       "       [12.37,  2.3 ],\n",
       "       [12.33,  1.67],\n",
       "       [13.34,  1.93],\n",
       "       [13.08,  1.33],\n",
       "       [12.51,  3.57],\n",
       "       [11.84,  3.08],\n",
       "       [12.82,  1.75],\n",
       "       [13.45,  1.56],\n",
       "       [13.86,  3.16],\n",
       "       [12.45,  1.73],\n",
       "       [13.05,  3.1 ],\n",
       "       [13.49,  1.82],\n",
       "       [13.23,  1.51],\n",
       "       [13.4 ,  1.92],\n",
       "       [11.61,  3.26],\n",
       "       [12.  ,  3.05],\n",
       "       [11.81,  2.26],\n",
       "       [11.66,  2.14],\n",
       "       [12.17,  2.23]])"
      ]
     },
     "execution_count": 28,
     "metadata": {},
     "output_type": "execute_result"
    }
   ],
   "source": [
    "X_new"
   ]
  },
  {
   "cell_type": "code",
   "execution_count": 29,
   "metadata": {
    "ExecuteTime": {
     "end_time": "2020-12-04T13:44:48.568661Z",
     "start_time": "2020-12-04T13:44:48.488530Z"
    }
   },
   "outputs": [],
   "source": [
    "#定義決策區間\n",
    "def plot_decision_regions(X, y, classifier, test_idx=None, resolution=0.02):\n",
    "    \n",
    "    #setup marker generator and color map\n",
    "    markers = ('s','x','o','^','v')\n",
    "    colors = ('red','blue','lightgreen','gray','cyan')\n",
    "    cmap = ListedColormap(colors[:len(np.unique(y))])\n",
    "    \n",
    "    #plot the decision surface\n",
    "    x1_min, x1_max = X[:, 0].min() - 1,X[:, 0].max() + 1\n",
    "    x2_min, x2_max = X[:, 1].min() - 1,X[:, 1].max() + 1\n",
    "    xx1, xx2 = np.meshgrid(np.arange(x1_min, x1_max, resolution),\n",
    "                           np.arange(x2_min, x2_max, resolution))\n",
    "    Z = classifier.predict(np.array([xx1.ravel(), xx2.ravel()]).T)\n",
    "    Z = Z.reshape(xx1.shape)\n",
    "    plt.contourf(xx1, xx2, Z, alpha=0.3, cmap=cmap)\n",
    "    plt.xlim(xx1.min(), xx1.max())\n",
    "    plt.ylim(xx2.min(), xx2.max())\n",
    "    \n",
    "    for idx, cl in enumerate(np.unique(y)):\n",
    "        plt.scatter(x=X[y == cl, 0],\n",
    "                    y=X[y == cl, 1],\n",
    "                    alpha=0.8,\n",
    "                    c=colors[idx],\n",
    "                    marker=markers[idx],\n",
    "                    label=cl,\n",
    "                    edgecolor='black')\n",
    "        \n",
    "    #highlight test samples\n",
    "    if test_idx:\n",
    "        #plot all samples\n",
    "        X_test, y_test = X[test_idx, :], y[test_idx]\n",
    "        \n",
    "        plt.scatter(X_test[:, 0],\n",
    "                    X_test[:, 1],\n",
    "                    c='',\n",
    "                    edgecolor='black',\n",
    "                    alpha=1.0,\n",
    "                    linewidth=1,\n",
    "                    marker='o',\n",
    "                    s=100,\n",
    "                    label='test set')"
   ]
  },
  {
   "cell_type": "code",
   "execution_count": null,
   "metadata": {},
   "outputs": [],
   "source": []
  }
 ],
 "metadata": {
  "kernelspec": {
   "display_name": "Python 3",
   "language": "python",
   "name": "python3"
  },
  "language_info": {
   "codemirror_mode": {
    "name": "ipython",
    "version": 3
   },
   "file_extension": ".py",
   "mimetype": "text/x-python",
   "name": "python",
   "nbconvert_exporter": "python",
   "pygments_lexer": "ipython3",
   "version": "3.7.4"
  },
  "toc": {
   "base_numbering": 1,
   "nav_menu": {},
   "number_sections": true,
   "sideBar": true,
   "skip_h1_title": false,
   "title_cell": "Table of Contents",
   "title_sidebar": "Contents",
   "toc_cell": false,
   "toc_position": {},
   "toc_section_display": true,
   "toc_window_display": false
  }
 },
 "nbformat": 4,
 "nbformat_minor": 2
}
