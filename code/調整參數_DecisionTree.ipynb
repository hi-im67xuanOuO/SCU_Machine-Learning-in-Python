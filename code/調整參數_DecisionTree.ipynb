{
 "cells": [
  {
   "cell_type": "code",
   "execution_count": 1,
   "metadata": {
    "ExecuteTime": {
     "end_time": "2021-01-19T15:22:24.288843Z",
     "start_time": "2021-01-19T15:22:22.571557Z"
    }
   },
   "outputs": [],
   "source": [
    "import csv\n",
    "import pandas as pd\n",
    "import numpy as np"
   ]
  },
  {
   "cell_type": "code",
   "execution_count": 2,
   "metadata": {
    "ExecuteTime": {
     "end_time": "2021-01-19T15:23:15.516267Z",
     "start_time": "2021-01-19T15:22:24.292343Z"
    }
   },
   "outputs": [
    {
     "name": "stderr",
     "output_type": "stream",
     "text": [
      "/opt/anaconda3/lib/python3.7/site-packages/numpy/lib/arraysetops.py:568: FutureWarning: elementwise comparison failed; returning scalar instead, but in the future will perform elementwise comparison\n",
      "  mask |= (ar1 == a)\n"
     ]
    }
   ],
   "source": [
    "df = pd.read_csv('機器學習期末kkbox.csv', index_col=0)\n",
    "df_test = pd.read_csv('機器學習期末kkbox_test.csv', index_col=0)"
   ]
  },
  {
   "cell_type": "code",
   "execution_count": 3,
   "metadata": {
    "ExecuteTime": {
     "end_time": "2021-01-19T15:23:15.593412Z",
     "start_time": "2021-01-19T15:23:15.526846Z"
    }
   },
   "outputs": [
    {
     "data": {
      "text/html": [
       "<div>\n",
       "<style scoped>\n",
       "    .dataframe tbody tr th:only-of-type {\n",
       "        vertical-align: middle;\n",
       "    }\n",
       "\n",
       "    .dataframe tbody tr th {\n",
       "        vertical-align: top;\n",
       "    }\n",
       "\n",
       "    .dataframe thead th {\n",
       "        text-align: right;\n",
       "    }\n",
       "</style>\n",
       "<table border=\"1\" class=\"dataframe\">\n",
       "  <thead>\n",
       "    <tr style=\"text-align: right;\">\n",
       "      <th></th>\n",
       "      <th>artist_name</th>\n",
       "      <th>bd</th>\n",
       "      <th>city</th>\n",
       "      <th>composer</th>\n",
       "      <th>expiration_date</th>\n",
       "      <th>expiration_date_month</th>\n",
       "      <th>expiration_date_new</th>\n",
       "      <th>expiration_date_year</th>\n",
       "      <th>genre_ids</th>\n",
       "      <th>index</th>\n",
       "      <th>...</th>\n",
       "      <th>source_system_tab_search</th>\n",
       "      <th>source_system_tab_settings</th>\n",
       "      <th>source_system_tab_nan</th>\n",
       "      <th>registered_via_13</th>\n",
       "      <th>registered_via_16</th>\n",
       "      <th>registered_via_3</th>\n",
       "      <th>registered_via_4</th>\n",
       "      <th>registered_via_7</th>\n",
       "      <th>registered_via_9</th>\n",
       "      <th>registered_via_nan</th>\n",
       "    </tr>\n",
       "  </thead>\n",
       "  <tbody>\n",
       "    <tr>\n",
       "      <td>0</td>\n",
       "      <td>3784</td>\n",
       "      <td>0</td>\n",
       "      <td>0</td>\n",
       "      <td>16653</td>\n",
       "      <td>2017-10-05</td>\n",
       "      <td>10</td>\n",
       "      <td>1507132800</td>\n",
       "      <td>2017</td>\n",
       "      <td>307</td>\n",
       "      <td>0</td>\n",
       "      <td>...</td>\n",
       "      <td>0</td>\n",
       "      <td>0</td>\n",
       "      <td>0</td>\n",
       "      <td>0</td>\n",
       "      <td>0</td>\n",
       "      <td>0</td>\n",
       "      <td>0</td>\n",
       "      <td>1</td>\n",
       "      <td>0</td>\n",
       "      <td>0</td>\n",
       "    </tr>\n",
       "    <tr>\n",
       "      <td>1</td>\n",
       "      <td>5190</td>\n",
       "      <td>0</td>\n",
       "      <td>0</td>\n",
       "      <td>9701</td>\n",
       "      <td>2017-10-05</td>\n",
       "      <td>10</td>\n",
       "      <td>1507132800</td>\n",
       "      <td>2017</td>\n",
       "      <td>2</td>\n",
       "      <td>1</td>\n",
       "      <td>...</td>\n",
       "      <td>0</td>\n",
       "      <td>0</td>\n",
       "      <td>0</td>\n",
       "      <td>0</td>\n",
       "      <td>0</td>\n",
       "      <td>0</td>\n",
       "      <td>0</td>\n",
       "      <td>1</td>\n",
       "      <td>0</td>\n",
       "      <td>0</td>\n",
       "    </tr>\n",
       "    <tr>\n",
       "      <td>2</td>\n",
       "      <td>9451</td>\n",
       "      <td>0</td>\n",
       "      <td>0</td>\n",
       "      <td>63665</td>\n",
       "      <td>2017-10-05</td>\n",
       "      <td>10</td>\n",
       "      <td>1507132800</td>\n",
       "      <td>2017</td>\n",
       "      <td>97</td>\n",
       "      <td>2</td>\n",
       "      <td>...</td>\n",
       "      <td>0</td>\n",
       "      <td>0</td>\n",
       "      <td>0</td>\n",
       "      <td>0</td>\n",
       "      <td>0</td>\n",
       "      <td>0</td>\n",
       "      <td>0</td>\n",
       "      <td>1</td>\n",
       "      <td>0</td>\n",
       "      <td>0</td>\n",
       "    </tr>\n",
       "    <tr>\n",
       "      <td>3</td>\n",
       "      <td>35336</td>\n",
       "      <td>0</td>\n",
       "      <td>0</td>\n",
       "      <td>67752</td>\n",
       "      <td>2017-10-05</td>\n",
       "      <td>10</td>\n",
       "      <td>1507132800</td>\n",
       "      <td>2017</td>\n",
       "      <td>2</td>\n",
       "      <td>3</td>\n",
       "      <td>...</td>\n",
       "      <td>0</td>\n",
       "      <td>0</td>\n",
       "      <td>0</td>\n",
       "      <td>0</td>\n",
       "      <td>0</td>\n",
       "      <td>0</td>\n",
       "      <td>0</td>\n",
       "      <td>1</td>\n",
       "      <td>0</td>\n",
       "      <td>0</td>\n",
       "    </tr>\n",
       "    <tr>\n",
       "      <td>4</td>\n",
       "      <td>25764</td>\n",
       "      <td>0</td>\n",
       "      <td>0</td>\n",
       "      <td>60377</td>\n",
       "      <td>2017-10-05</td>\n",
       "      <td>10</td>\n",
       "      <td>1507132800</td>\n",
       "      <td>2017</td>\n",
       "      <td>371</td>\n",
       "      <td>4</td>\n",
       "      <td>...</td>\n",
       "      <td>0</td>\n",
       "      <td>0</td>\n",
       "      <td>0</td>\n",
       "      <td>0</td>\n",
       "      <td>0</td>\n",
       "      <td>0</td>\n",
       "      <td>0</td>\n",
       "      <td>1</td>\n",
       "      <td>0</td>\n",
       "      <td>0</td>\n",
       "    </tr>\n",
       "  </tbody>\n",
       "</table>\n",
       "<p>5 rows × 37 columns</p>\n",
       "</div>"
      ],
      "text/plain": [
       "   artist_name  bd  city  composer expiration_date  expiration_date_month  \\\n",
       "0         3784   0     0     16653      2017-10-05                     10   \n",
       "1         5190   0     0      9701      2017-10-05                     10   \n",
       "2         9451   0     0     63665      2017-10-05                     10   \n",
       "3        35336   0     0     67752      2017-10-05                     10   \n",
       "4        25764   0     0     60377      2017-10-05                     10   \n",
       "\n",
       "   expiration_date_new  expiration_date_year  genre_ids  index  ...  \\\n",
       "0           1507132800                  2017        307      0  ...   \n",
       "1           1507132800                  2017          2      1  ...   \n",
       "2           1507132800                  2017         97      2  ...   \n",
       "3           1507132800                  2017          2      3  ...   \n",
       "4           1507132800                  2017        371      4  ...   \n",
       "\n",
       "   source_system_tab_search  source_system_tab_settings  \\\n",
       "0                         0                           0   \n",
       "1                         0                           0   \n",
       "2                         0                           0   \n",
       "3                         0                           0   \n",
       "4                         0                           0   \n",
       "\n",
       "   source_system_tab_nan registered_via_13  registered_via_16  \\\n",
       "0                      0                 0                  0   \n",
       "1                      0                 0                  0   \n",
       "2                      0                 0                  0   \n",
       "3                      0                 0                  0   \n",
       "4                      0                 0                  0   \n",
       "\n",
       "   registered_via_3  registered_via_4  registered_via_7  registered_via_9  \\\n",
       "0                 0                 0                 1                 0   \n",
       "1                 0                 0                 1                 0   \n",
       "2                 0                 0                 1                 0   \n",
       "3                 0                 0                 1                 0   \n",
       "4                 0                 0                 1                 0   \n",
       "\n",
       "   registered_via_nan  \n",
       "0                   0  \n",
       "1                   0  \n",
       "2                   0  \n",
       "3                   0  \n",
       "4                   0  \n",
       "\n",
       "[5 rows x 37 columns]"
      ]
     },
     "execution_count": 3,
     "metadata": {},
     "output_type": "execute_result"
    }
   ],
   "source": [
    "df.head()"
   ]
  },
  {
   "cell_type": "code",
   "execution_count": 4,
   "metadata": {
    "ExecuteTime": {
     "end_time": "2021-01-19T15:23:16.185750Z",
     "start_time": "2021-01-19T15:23:15.598203Z"
    }
   },
   "outputs": [
    {
     "data": {
      "text/html": [
       "<div>\n",
       "<style scoped>\n",
       "    .dataframe tbody tr th:only-of-type {\n",
       "        vertical-align: middle;\n",
       "    }\n",
       "\n",
       "    .dataframe tbody tr th {\n",
       "        vertical-align: top;\n",
       "    }\n",
       "\n",
       "    .dataframe thead th {\n",
       "        text-align: right;\n",
       "    }\n",
       "</style>\n",
       "<table border=\"1\" class=\"dataframe\">\n",
       "  <thead>\n",
       "    <tr style=\"text-align: right;\">\n",
       "      <th></th>\n",
       "      <th>id</th>\n",
       "    </tr>\n",
       "  </thead>\n",
       "  <tbody>\n",
       "    <tr>\n",
       "      <td>0</td>\n",
       "      <td>0.0</td>\n",
       "    </tr>\n",
       "    <tr>\n",
       "      <td>1</td>\n",
       "      <td>1.0</td>\n",
       "    </tr>\n",
       "    <tr>\n",
       "      <td>2</td>\n",
       "      <td>2.0</td>\n",
       "    </tr>\n",
       "    <tr>\n",
       "      <td>3</td>\n",
       "      <td>3.0</td>\n",
       "    </tr>\n",
       "    <tr>\n",
       "      <td>4</td>\n",
       "      <td>4.0</td>\n",
       "    </tr>\n",
       "  </tbody>\n",
       "</table>\n",
       "</div>"
      ],
      "text/plain": [
       "    id\n",
       "0  0.0\n",
       "1  1.0\n",
       "2  2.0\n",
       "3  3.0\n",
       "4  4.0"
      ]
     },
     "execution_count": 4,
     "metadata": {},
     "output_type": "execute_result"
    }
   ],
   "source": [
    "id_test = pd.read_csv('test_ids_df.csv', index_col=0)\n",
    "id_test.head()"
   ]
  },
  {
   "cell_type": "code",
   "execution_count": 5,
   "metadata": {
    "ExecuteTime": {
     "end_time": "2021-01-19T15:23:16.199031Z",
     "start_time": "2021-01-19T15:23:16.190285Z"
    }
   },
   "outputs": [
    {
     "data": {
      "text/plain": [
       "(7370601, 37)"
      ]
     },
     "execution_count": 5,
     "metadata": {},
     "output_type": "execute_result"
    }
   ],
   "source": [
    "df.shape"
   ]
  },
  {
   "cell_type": "code",
   "execution_count": 6,
   "metadata": {
    "ExecuteTime": {
     "end_time": "2021-01-19T15:23:16.212255Z",
     "start_time": "2021-01-19T15:23:16.203766Z"
    }
   },
   "outputs": [
    {
     "data": {
      "text/plain": [
       "(2556790, 36)"
      ]
     },
     "execution_count": 6,
     "metadata": {},
     "output_type": "execute_result"
    }
   ],
   "source": [
    "df_test.shape"
   ]
  },
  {
   "cell_type": "markdown",
   "metadata": {},
   "source": [
    "# 評估方法def"
   ]
  },
  {
   "cell_type": "code",
   "execution_count": 7,
   "metadata": {
    "ExecuteTime": {
     "end_time": "2021-01-19T15:23:18.609667Z",
     "start_time": "2021-01-19T15:23:16.216419Z"
    }
   },
   "outputs": [],
   "source": [
    "#confusion matrix\n",
    "from sklearn.metrics import confusion_matrix\n",
    "#ROC & AUC\n",
    "from sklearn.metrics import accuracy_score\n",
    "from sklearn.metrics import precision_score\n",
    "from sklearn.metrics import recall_score\n",
    "from sklearn.metrics import f1_score\n",
    "from sklearn.metrics import classification_report\n",
    "from sklearn.metrics import roc_curve\n",
    "from sklearn.metrics import roc_auc_score\n",
    "import matplotlib.pyplot as plt\n",
    "\n",
    "def evaluate_model(predicted, actual):\n",
    "    \n",
    "    # Table-Type Plotting\n",
    "    #print('Confusion Matrix:\\n{}'.format(confusion_matrix(predicted, actual)))\n",
    "    print('Classification Report:\\n{}'.format(classification_report(predicted, actual)))\n",
    "    print('Accuracy: {}'.format(accuracy_score(predicted, actual)))\n",
    "    print('Precision: {}'.format(precision_score(predicted, actual)))\n",
    "    print('Recall: {}'.format(recall_score(predicted, actual)))\n",
    "    print('F-1: {}'.format(f1_score(predicted, actual)))\n",
    "    print('AUC: {}'.format(roc_auc_score(predicted, actual)))    \n",
    "        \n",
    "    # ROC Curve Plotting\n",
    "    fpr, tpr, thresh = roc_curve(actual, predicted)\n",
    "    roc_auc = roc_auc_score(predicted, actual)    \n",
    "    plt.title('ROC')\n",
    "    plt.plot(fpr, tpr, 'b',\n",
    "    label='AUC = %0.2f'% roc_auc)\n",
    "    plt.legend(loc='lower right')\n",
    "    plt.plot([0,1],[0,1],'r--')\n",
    "    plt.xlim([-0.1,1.2])\n",
    "    plt.ylim([-0.1,1.2])\n",
    "    plt.ylabel('True Positive Rate')\n",
    "    plt.xlabel('False Positive Rate')\n",
    "    plt.show()\n",
    "    \n",
    "    print('Confusion Matrix:\\n{}'.format(confusion_matrix(predicted, actual)))\n",
    "    tp, fp, fn, tn  = confusion_matrix(actual, predicted).ravel()\n",
    "    print(\"True positives: \" + str(tp))\n",
    "    print(\"False positives: \" + str(fp))\n",
    "    print(\"True negatives: \" + str(tn))\n",
    "    print(\"False negatives: \" + str(fn))\n",
    "    print('\\n')"
   ]
  },
  {
   "cell_type": "code",
   "execution_count": 8,
   "metadata": {
    "ExecuteTime": {
     "end_time": "2021-01-19T15:23:18.627523Z",
     "start_time": "2021-01-19T15:23:18.619855Z"
    }
   },
   "outputs": [],
   "source": [
    "#confusion matrix\n",
    "from sklearn.metrics import confusion_matrix\n",
    "\n",
    "def printCM(y,y_pred):\n",
    "    print('Confusion Matrix:\\n{}'.format(confusion_matrix(y, y_pred)))\n",
    "    tp, fp, fn, tn  = confusion_matrix(y, y_pred).ravel()\n",
    "    print(\"True positives: \" + str(tp))\n",
    "    print(\"False positives: \" + str(fp))\n",
    "    print(\"True negatives: \" + str(tn))\n",
    "    print(\"False negatives: \" + str(fn))\n",
    "    print('\\n')"
   ]
  },
  {
   "cell_type": "markdown",
   "metadata": {
    "ExecuteTime": {
     "end_time": "2021-01-10T17:30:06.768703Z",
     "start_time": "2021-01-10T17:30:06.754721Z"
    }
   },
   "source": [
    "# 訓練/測試資料切割"
   ]
  },
  {
   "cell_type": "code",
   "execution_count": 9,
   "metadata": {
    "ExecuteTime": {
     "end_time": "2021-01-19T15:23:28.860330Z",
     "start_time": "2021-01-19T15:23:18.631770Z"
    }
   },
   "outputs": [],
   "source": [
    "df_x = df.drop([\"target\",'registration_init_time','expiration_date'], axis = 1)\n",
    "df_y = df['target']\n",
    "df_y = pd.DataFrame(df_y)\n",
    "\n",
    "X = df_x.iloc[:,:].values\n",
    "y = df_y.iloc[:,-1].values"
   ]
  },
  {
   "cell_type": "code",
   "execution_count": 10,
   "metadata": {
    "ExecuteTime": {
     "end_time": "2021-01-19T15:23:28.939396Z",
     "start_time": "2021-01-19T15:23:28.894966Z"
    }
   },
   "outputs": [
    {
     "data": {
      "text/plain": [
       "34"
      ]
     },
     "execution_count": 10,
     "metadata": {},
     "output_type": "execute_result"
    }
   ],
   "source": [
    "len(df_x.columns)"
   ]
  },
  {
   "cell_type": "code",
   "execution_count": 11,
   "metadata": {
    "ExecuteTime": {
     "end_time": "2021-01-19T15:23:29.004306Z",
     "start_time": "2021-01-19T15:23:28.953824Z"
    }
   },
   "outputs": [
    {
     "data": {
      "text/plain": [
       "Index(['artist_name', 'bd', 'city', 'composer', 'expiration_date_month',\n",
       "       'expiration_date_new', 'expiration_date_year', 'genre_ids', 'index',\n",
       "       'language', 'lyricist', 'msno', 'registration_init_time_month',\n",
       "       'registration_init_time_new', 'registration_init_time_year', 'song_id',\n",
       "       'song_length', 'source_screen_name', 'source_system_tab_discover',\n",
       "       'source_system_tab_explore', 'source_system_tab_listen with',\n",
       "       'source_system_tab_my library', 'source_system_tab_notification',\n",
       "       'source_system_tab_radio', 'source_system_tab_search',\n",
       "       'source_system_tab_settings', 'source_system_tab_nan',\n",
       "       'registered_via_13', 'registered_via_16', 'registered_via_3',\n",
       "       'registered_via_4', 'registered_via_7', 'registered_via_9',\n",
       "       'registered_via_nan'],\n",
       "      dtype='object')"
      ]
     },
     "execution_count": 11,
     "metadata": {},
     "output_type": "execute_result"
    }
   ],
   "source": [
    "df_x.columns"
   ]
  },
  {
   "cell_type": "code",
   "execution_count": 12,
   "metadata": {
    "ExecuteTime": {
     "end_time": "2021-01-19T15:23:34.302344Z",
     "start_time": "2021-01-19T15:23:29.014994Z"
    }
   },
   "outputs": [],
   "source": [
    "df_x_test = df_test.drop(['registration_init_time','expiration_date'], axis = 1)\n",
    "X_ = df_x_test.iloc[:,:].values"
   ]
  },
  {
   "cell_type": "code",
   "execution_count": 13,
   "metadata": {
    "ExecuteTime": {
     "end_time": "2021-01-19T15:23:34.345946Z",
     "start_time": "2021-01-19T15:23:34.329762Z"
    }
   },
   "outputs": [
    {
     "data": {
      "text/plain": [
       "Index(['artist_name', 'bd', 'city', 'composer', 'expiration_date_month',\n",
       "       'expiration_date_new', 'expiration_date_year', 'genre_ids', 'index',\n",
       "       'language', 'lyricist', 'msno', 'registration_init_time_month',\n",
       "       'registration_init_time_new', 'registration_init_time_year', 'song_id',\n",
       "       'song_length', 'source_screen_name', 'source_system_tab_discover',\n",
       "       'source_system_tab_explore', 'source_system_tab_listen with',\n",
       "       'source_system_tab_my library', 'source_system_tab_notification',\n",
       "       'source_system_tab_radio', 'source_system_tab_search',\n",
       "       'source_system_tab_settings', 'source_system_tab_nan',\n",
       "       'registered_via_13', 'registered_via_16', 'registered_via_3',\n",
       "       'registered_via_4', 'registered_via_7', 'registered_via_9',\n",
       "       'registered_via_nan'],\n",
       "      dtype='object')"
      ]
     },
     "execution_count": 13,
     "metadata": {},
     "output_type": "execute_result"
    }
   ],
   "source": [
    "df_x_test.columns"
   ]
  },
  {
   "cell_type": "code",
   "execution_count": 14,
   "metadata": {
    "ExecuteTime": {
     "end_time": "2021-01-19T15:23:34.382144Z",
     "start_time": "2021-01-19T15:23:34.359773Z"
    }
   },
   "outputs": [
    {
     "data": {
      "text/plain": [
       "34"
      ]
     },
     "execution_count": 14,
     "metadata": {},
     "output_type": "execute_result"
    }
   ],
   "source": [
    "len(df_x_test.columns)"
   ]
  },
  {
   "cell_type": "code",
   "execution_count": 15,
   "metadata": {
    "ExecuteTime": {
     "end_time": "2021-01-19T15:24:16.979481Z",
     "start_time": "2021-01-19T15:23:34.405219Z"
    }
   },
   "outputs": [],
   "source": [
    "from sklearn.model_selection import train_test_split\n",
    "from sklearn.preprocessing import StandardScaler\n",
    "\n",
    "X_train, X_test, y_train, y_test = train_test_split(X,y,test_size=0.3)#,random_state=3)\n",
    "\n",
    "sc = StandardScaler()\n",
    "sc.fit(X_train)\n",
    "X_train_std = sc.transform(X_train)\n",
    "X_test_std = sc.transform(X_test)\n",
    "\n",
    "\n",
    "all_test_std = sc.transform(X_)"
   ]
  },
  {
   "cell_type": "code",
   "execution_count": 16,
   "metadata": {
    "ExecuteTime": {
     "end_time": "2021-01-19T15:24:17.109400Z",
     "start_time": "2021-01-19T15:24:17.046640Z"
    }
   },
   "outputs": [
    {
     "data": {
      "text/plain": [
       "(7370601, 34)"
      ]
     },
     "execution_count": 16,
     "metadata": {},
     "output_type": "execute_result"
    }
   ],
   "source": [
    "X.shape"
   ]
  },
  {
   "cell_type": "code",
   "execution_count": 17,
   "metadata": {
    "ExecuteTime": {
     "end_time": "2021-01-19T15:24:17.132908Z",
     "start_time": "2021-01-19T15:24:17.121690Z"
    }
   },
   "outputs": [
    {
     "data": {
      "text/plain": [
       "(2556790, 34)"
      ]
     },
     "execution_count": 17,
     "metadata": {},
     "output_type": "execute_result"
    }
   ],
   "source": [
    "X_.shape"
   ]
  },
  {
   "cell_type": "code",
   "execution_count": 18,
   "metadata": {
    "ExecuteTime": {
     "end_time": "2021-01-19T15:24:17.545044Z",
     "start_time": "2021-01-19T15:24:17.139497Z"
    }
   },
   "outputs": [
    {
     "name": "stdout",
     "output_type": "stream",
     "text": [
      "False\n",
      "True\n"
     ]
    }
   ],
   "source": [
    "print(np.any(np.isnan(X_)))\n",
    "print(np.all(np.isfinite(X_)))"
   ]
  },
  {
   "cell_type": "code",
   "execution_count": 19,
   "metadata": {
    "ExecuteTime": {
     "end_time": "2021-01-19T15:24:18.360005Z",
     "start_time": "2021-01-19T15:24:17.553032Z"
    }
   },
   "outputs": [],
   "source": [
    "from sklearn.ensemble import RandomForestClassifier\n",
    "from sklearn.metrics import mean_squared_error\n",
    "from sklearn.metrics import roc_auc_score\n",
    "from sklearn.metrics import f1_score\n",
    "from sklearn.metrics import accuracy_score\n",
    "import matplotlib.pyplot as plt\n",
    "import seaborn as sns\n",
    "import numpy as np\n",
    "import warnings\n",
    "warnings.filterwarnings(\"ignore\")"
   ]
  },
  {
   "cell_type": "code",
   "execution_count": null,
   "metadata": {},
   "outputs": [],
   "source": []
  },
  {
   "cell_type": "code",
   "execution_count": 20,
   "metadata": {
    "ExecuteTime": {
     "end_time": "2021-01-19T15:24:18.369642Z",
     "start_time": "2021-01-19T15:24:18.364256Z"
    }
   },
   "outputs": [],
   "source": [
    "from sklearn.tree import DecisionTreeClassifier"
   ]
  },
  {
   "cell_type": "markdown",
   "metadata": {},
   "source": [
    "# DecisionTree Classifier"
   ]
  },
  {
   "cell_type": "markdown",
   "metadata": {},
   "source": [
    "## max_depth"
   ]
  },
  {
   "cell_type": "code",
   "execution_count": 20,
   "metadata": {
    "ExecuteTime": {
     "end_time": "2021-01-12T05:03:59.850544Z",
     "start_time": "2021-01-12T04:17:41.468569Z"
    }
   },
   "outputs": [
    {
     "name": "stdout",
     "output_type": "stream",
     "text": [
      "0.626\n",
      "0.661\n",
      "0.671\n",
      "0.665\n",
      "0.657\n"
     ]
    }
   ],
   "source": [
    "model = DecisionTreeClassifier()\n",
    "random = np.arange(10,60,10)\n",
    "\n",
    "f1score = []\n",
    "acc = []\n",
    "\n",
    "for n in random:\n",
    "    model.set_params(max_depth = n, splitter = 'random')\n",
    "    model.fit(X_train_std, y_train)\n",
    "    pred_y_test = model.predict(X_test_std)\n",
    "    f1score.append(round(f1_score(y_true = y_test, y_pred = pred_y_test, average='weighted'),3))\n",
    "    acc.append(round(accuracy_score(y_test, pred_y_test),3))\n",
    "    \n",
    "    print(round(accuracy_score(y_test, pred_y_test),3))"
   ]
  },
  {
   "cell_type": "code",
   "execution_count": 21,
   "metadata": {
    "ExecuteTime": {
     "end_time": "2021-01-12T05:29:41.912671Z",
     "start_time": "2021-01-12T05:29:41.312495Z"
    }
   },
   "outputs": [
    {
     "data": {
      "text/plain": [
       "[<matplotlib.lines.Line2D at 0x7f7d857a8ed0>]"
      ]
     },
     "execution_count": 21,
     "metadata": {},
     "output_type": "execute_result"
    },
    {
     "data": {
      "image/png": "[encoded data removed]",
      "text/plain": [
       "<Figure size 432x288 with 1 Axes>"
      ]
     },
     "metadata": {
      "needs_background": "light"
     },
     "output_type": "display_data"
    }
   ],
   "source": [
    "plt.title(\"Effect of max_depth\")\n",
    "plt.xlabel(\"max_depth\")\n",
    "plt.ylabel(\"Accuracy\")\n",
    "plt.plot(random, acc)"
   ]
  },
  {
   "cell_type": "markdown",
   "metadata": {},
   "source": [
    "### max_depth = 30"
   ]
  },
  {
   "cell_type": "code",
   "execution_count": 27,
   "metadata": {
    "ExecuteTime": {
     "end_time": "2021-01-16T19:56:04.518028Z",
     "start_time": "2021-01-16T19:28:13.085405Z"
    }
   },
   "outputs": [
    {
     "name": "stdout",
     "output_type": "stream",
     "text": [
      "0.838033344833334\n"
     ]
    }
   ],
   "source": [
    "dt = DecisionTreeClassifier(max_depth = 30, splitter = 'random')\n",
    "\n",
    "dt.fit(X_train_std, y_train)\n",
    "pred_y_test = dt.predict(X_test_std)\n",
    "print(dt.score(X_train_std, y_train))"
   ]
  },
  {
   "cell_type": "code",
   "execution_count": 28,
   "metadata": {},
   "outputs": [
    {
     "name": "stdout",
     "output_type": "stream",
     "text": [
      "Classification Report:\n",
      "              precision    recall  f1-score   support\n",
      "\n",
      "         0.0       0.68      0.66      0.67   1098566\n",
      "         1.0       0.67      0.69      0.68   1112615\n",
      "\n",
      "    accuracy                           0.68   2211181\n",
      "   macro avg       0.68      0.68      0.68   2211181\n",
      "weighted avg       0.68      0.68      0.68   2211181\n",
      "\n",
      "Accuracy: 0.6771245773186365\n",
      "Precision: 0.6741164663370203\n",
      "Recall: 0.693655037906194\n",
      "F-1: 0.6837461981910788\n",
      "AUC: 0.6770188775059741\n"
     ]
    },
    {
     "data": {
      "image/png": "[encoded data removed]",
      "text/plain": [
       "<Figure size 432x288 with 1 Axes>"
      ]
     },
     "metadata": {
      "needs_background": "light"
     },
     "output_type": "display_data"
    },
    {
     "name": "stdout",
     "output_type": "stream",
     "text": [
      "Confusion Matrix:\n",
      "[[725474 373092]\n",
      " [340844 771771]]\n",
      "True positives: 725474\n",
      "False positives: 340844\n",
      "True negatives: 771771\n",
      "False negatives: 373092\n",
      "\n",
      "\n"
     ]
    }
   ],
   "source": [
    "evaluate_model(y_test, pred_y_test)"
   ]
  },
  {
   "cell_type": "code",
   "execution_count": 29,
   "metadata": {},
   "outputs": [
    {
     "name": "stdout",
     "output_type": "stream",
     "text": [
      "(2556790, 1)\n"
     ]
    }
   ],
   "source": [
    "pred_result = dt.predict(all_test_std)\n",
    "update = pd.DataFrame({'id':id_test['id'],\n",
    "                       'target':pred_result})\n",
    "update['id'] = update['id'].apply(lambda x:int(x))\n",
    "update.set_index(\"id\" , inplace=True)\n",
    "update.head()\n",
    "print(update.shape)"
   ]
  },
  {
   "cell_type": "code",
   "execution_count": 31,
   "metadata": {},
   "outputs": [
    {
     "data": {
      "text/plain": [
       "DecisionTreeClassifier(ccp_alpha=0.0, class_weight=None, criterion='gini',\n",
       "                       max_depth=30, max_features=None, max_leaf_nodes=None,\n",
       "                       min_impurity_decrease=0.0, min_impurity_split=None,\n",
       "                       min_samples_leaf=1, min_samples_split=2,\n",
       "                       min_weight_fraction_leaf=0.0, presort='deprecated',\n",
       "                       random_state=None, splitter='random')"
      ]
     },
     "execution_count": 31,
     "metadata": {},
     "output_type": "execute_result"
    }
   ],
   "source": [
    "dt"
   ]
  },
  {
   "cell_type": "code",
   "execution_count": 30,
   "metadata": {},
   "outputs": [],
   "source": [
    "update.to_csv('submission_decisiontree調參1.csv')"
   ]
  },
  {
   "cell_type": "code",
   "execution_count": null,
   "metadata": {},
   "outputs": [],
   "source": []
  },
  {
   "cell_type": "code",
   "execution_count": null,
   "metadata": {},
   "outputs": [],
   "source": []
  },
  {
   "cell_type": "markdown",
   "metadata": {},
   "source": [
    "## min_samples_leaf"
   ]
  },
  {
   "cell_type": "code",
   "execution_count": 32,
   "metadata": {},
   "outputs": [
    {
     "name": "stdout",
     "output_type": "stream",
     "text": [
      "0.675\n",
      "0.687\n",
      "0.689\n",
      "0.688\n",
      "0.685\n",
      "0.683\n"
     ]
    }
   ],
   "source": [
    "from sklearn.tree import DecisionTreeClassifier\n",
    "model = DecisionTreeClassifier()\n",
    "random = np.arange(1,31,5)\n",
    "\n",
    "f1score = []\n",
    "acc = []\n",
    "\n",
    "for n in random:\n",
    "    model.set_params(max_depth = 30, splitter = 'random', min_samples_leaf = n)\n",
    "    model.fit(X_train_std, y_train)\n",
    "    pred_y_test = model.predict(X_test_std)\n",
    "    f1score.append(round(f1_score(y_true = y_test, y_pred = pred_y_test, average='weighted'),3))\n",
    "    acc.append(round(accuracy_score(y_test, pred_y_test),3))\n",
    "    \n",
    "    print(round(accuracy_score(y_test, pred_y_test),3))"
   ]
  },
  {
   "cell_type": "code",
   "execution_count": 33,
   "metadata": {},
   "outputs": [
    {
     "data": {
      "text/plain": [
       "[<matplotlib.lines.Line2D at 0x7f91e84a4390>]"
      ]
     },
     "execution_count": 33,
     "metadata": {},
     "output_type": "execute_result"
    },
    {
     "data": {
      "image/png": "[encoded data removed]",
      "text/plain": [
       "<Figure size 432x288 with 1 Axes>"
      ]
     },
     "metadata": {
      "needs_background": "light"
     },
     "output_type": "display_data"
    }
   ],
   "source": [
    "plt.title(\"Effect of min_samples_leaf\")\n",
    "plt.xlabel(\"min_samples_leaf\")\n",
    "plt.ylabel(\"Accuracy\")\n",
    "plt.plot(random, acc)"
   ]
  },
  {
   "cell_type": "markdown",
   "metadata": {},
   "source": [
    "### min_samples_leaf = 11"
   ]
  },
  {
   "cell_type": "code",
   "execution_count": 34,
   "metadata": {},
   "outputs": [
    {
     "name": "stdout",
     "output_type": "stream",
     "text": [
      "0.7324660523857333\n"
     ]
    }
   ],
   "source": [
    "dt = DecisionTreeClassifier(max_depth = 30, splitter = 'random', min_samples_leaf = 11)\n",
    "\n",
    "dt.fit(X_train_std, y_train)\n",
    "pred_y_test = dt.predict(X_test_std)\n",
    "print(dt.score(X_train_std, y_train))"
   ]
  },
  {
   "cell_type": "code",
   "execution_count": 35,
   "metadata": {},
   "outputs": [
    {
     "name": "stdout",
     "output_type": "stream",
     "text": [
      "Classification Report:\n",
      "              precision    recall  f1-score   support\n",
      "\n",
      "         0.0       0.68      0.70      0.69   1098566\n",
      "         1.0       0.69      0.67      0.68   1112615\n",
      "\n",
      "    accuracy                           0.69   2211181\n",
      "   macro avg       0.69      0.69      0.69   2211181\n",
      "weighted avg       0.69      0.69      0.69   2211181\n",
      "\n",
      "Accuracy: 0.6857416918832063\n",
      "Precision: 0.6941122239683869\n",
      "Recall: 0.6712753288424118\n",
      "F-1: 0.6825027962774785\n",
      "AUC: 0.6858341933507377\n"
     ]
    },
    {
     "data": {
      "image/png": "[encoded data removed]",
      "text/plain": [
       "<Figure size 432x288 with 1 Axes>"
      ]
     },
     "metadata": {
      "needs_background": "light"
     },
     "output_type": "display_data"
    },
    {
     "name": "stdout",
     "output_type": "stream",
     "text": [
      "Confusion Matrix:\n",
      "[[769428 329138]\n",
      " [365744 746871]]\n",
      "True positives: 769428\n",
      "False positives: 365744\n",
      "True negatives: 746871\n",
      "False negatives: 329138\n",
      "\n",
      "\n"
     ]
    }
   ],
   "source": [
    "evaluate_model(y_test, pred_y_test)"
   ]
  },
  {
   "cell_type": "code",
   "execution_count": 36,
   "metadata": {},
   "outputs": [
    {
     "name": "stdout",
     "output_type": "stream",
     "text": [
      "(2556790, 1)\n"
     ]
    }
   ],
   "source": [
    "pred_result = dt.predict(all_test_std)\n",
    "update = pd.DataFrame({'id':id_test['id'],\n",
    "                       'target':pred_result})\n",
    "update['id'] = update['id'].apply(lambda x:int(x))\n",
    "update.set_index(\"id\" , inplace=True)\n",
    "update.head()\n",
    "print(update.shape)"
   ]
  },
  {
   "cell_type": "code",
   "execution_count": 37,
   "metadata": {},
   "outputs": [],
   "source": [
    "update.to_csv('submission_decisiontree調參2.csv')"
   ]
  },
  {
   "cell_type": "code",
   "execution_count": null,
   "metadata": {},
   "outputs": [],
   "source": []
  },
  {
   "cell_type": "markdown",
   "metadata": {},
   "source": [
    "## max_features"
   ]
  },
  {
   "cell_type": "code",
   "execution_count": 22,
   "metadata": {},
   "outputs": [
    {
     "name": "stdout",
     "output_type": "stream",
     "text": [
      "0.629\n",
      "0.666\n",
      "0.672\n",
      "0.682\n",
      "0.688\n",
      "0.686\n",
      "0.682\n"
     ]
    }
   ],
   "source": [
    "from sklearn.tree import DecisionTreeClassifier\n",
    "model = DecisionTreeClassifier()\n",
    "random = np.arange(3,34,5)\n",
    "\n",
    "f1score = []\n",
    "acc = []\n",
    "\n",
    "for n in random:\n",
    "    model.set_params(max_depth = 30, splitter = 'random', min_samples_leaf = 11, max_features = n)\n",
    "    model.fit(X_train_std, y_train)\n",
    "    pred_y_test = model.predict(X_test_std)\n",
    "    f1score.append(round(f1_score(y_true = y_test, y_pred = pred_y_test, average='weighted'),3))\n",
    "    acc.append(round(accuracy_score(y_test, pred_y_test),3))\n",
    "    \n",
    "    print(round(accuracy_score(y_test, pred_y_test),3))"
   ]
  },
  {
   "cell_type": "code",
   "execution_count": 23,
   "metadata": {},
   "outputs": [
    {
     "data": {
      "text/plain": [
       "[<matplotlib.lines.Line2D at 0x7f7c985a2b10>]"
      ]
     },
     "execution_count": 23,
     "metadata": {},
     "output_type": "execute_result"
    },
    {
     "data": {
      "image/png": "[encoded data removed]",
      "text/plain": [
       "<Figure size 432x288 with 1 Axes>"
      ]
     },
     "metadata": {
      "needs_background": "light"
     },
     "output_type": "display_data"
    }
   ],
   "source": [
    "plt.title(\"Effect of max_features\")\n",
    "plt.xlabel(\"max_features\")\n",
    "plt.ylabel(\"Accuracy\")\n",
    "plt.plot(random, acc)"
   ]
  },
  {
   "cell_type": "markdown",
   "metadata": {},
   "source": [
    "### max_features = 33"
   ]
  },
  {
   "cell_type": "code",
   "execution_count": 21,
   "metadata": {
    "ExecuteTime": {
     "end_time": "2021-01-19T15:27:10.135682Z",
     "start_time": "2021-01-19T15:24:34.787911Z"
    }
   },
   "outputs": [
    {
     "name": "stdout",
     "output_type": "stream",
     "text": [
      "0.7370049346631986\n"
     ]
    }
   ],
   "source": [
    "dt = DecisionTreeClassifier(max_depth = 30, splitter = 'random', min_samples_leaf = 11, max_features = 33)\n",
    "\n",
    "dt.fit(X_train_std, y_train)\n",
    "pred_y_test = dt.predict(X_test_std)\n",
    "print(dt.score(X_train_std, y_train))"
   ]
  },
  {
   "cell_type": "code",
   "execution_count": 22,
   "metadata": {
    "ExecuteTime": {
     "end_time": "2021-01-19T15:28:30.264183Z",
     "start_time": "2021-01-19T15:28:05.948457Z"
    }
   },
   "outputs": [
    {
     "name": "stdout",
     "output_type": "stream",
     "text": [
      "Classification Report:\n",
      "              precision    recall  f1-score   support\n",
      "\n",
      "         0.0       0.68      0.69      0.69   1097155\n",
      "         1.0       0.69      0.68      0.68   1114026\n",
      "\n",
      "    accuracy                           0.69   2211181\n",
      "   macro avg       0.69      0.69      0.69   2211181\n",
      "weighted avg       0.69      0.69      0.69   2211181\n",
      "\n",
      "Accuracy: 0.6858041019708473\n",
      "Precision: 0.6922969673287507\n",
      "Recall: 0.6774868809166034\n",
      "F-1: 0.6848118608850297\n",
      "AUC: 0.6858680491052112\n"
     ]
    },
    {
     "data": {
      "image/png": "[encoded data removed]",
      "text/plain": [
       "<Figure size 432x288 with 1 Axes>"
      ]
     },
     "metadata": {
      "needs_background": "light"
     },
     "output_type": "display_data"
    },
    {
     "name": "stdout",
     "output_type": "stream",
     "text": [
      "Confusion Matrix:\n",
      "[[761699 335456]\n",
      " [359288 754738]]\n",
      "True positives: 761699\n",
      "False positives: 359288\n",
      "True negatives: 754738\n",
      "False negatives: 335456\n",
      "\n",
      "\n"
     ]
    }
   ],
   "source": [
    "evaluate_model(y_test, pred_y_test)"
   ]
  },
  {
   "cell_type": "code",
   "execution_count": 26,
   "metadata": {
    "ExecuteTime": {
     "end_time": "2021-01-19T15:30:44.258954Z",
     "start_time": "2021-01-19T15:30:42.684903Z"
    }
   },
   "outputs": [],
   "source": [
    "pred_result = dt.predict_proba(all_test_std)"
   ]
  },
  {
   "cell_type": "code",
   "execution_count": 27,
   "metadata": {
    "ExecuteTime": {
     "end_time": "2021-01-19T15:31:16.115191Z",
     "start_time": "2021-01-19T15:31:13.757786Z"
    }
   },
   "outputs": [
    {
     "name": "stdout",
     "output_type": "stream",
     "text": [
      "2556790\n"
     ]
    }
   ],
   "source": [
    "pred_list = pred_result.tolist()\n",
    "pred_ = []\n",
    "for i in range(len(pred_list)):\n",
    "    pred_.append(pred_list[i][-1])\n",
    "print(len(pred_))"
   ]
  },
  {
   "cell_type": "code",
   "execution_count": 28,
   "metadata": {
    "ExecuteTime": {
     "end_time": "2021-01-19T15:31:25.746620Z",
     "start_time": "2021-01-19T15:31:23.725513Z"
    }
   },
   "outputs": [
    {
     "name": "stdout",
     "output_type": "stream",
     "text": [
      "(2556790, 1)\n"
     ]
    }
   ],
   "source": [
    "update = pd.DataFrame({'id':id_test['id'],\n",
    "                       'target':pred_})\n",
    "update['id'] = update['id'].apply(lambda x:int(x))\n",
    "update.set_index(\"id\" , inplace=True)\n",
    "update.head()\n",
    "print(update.shape)"
   ]
  },
  {
   "cell_type": "raw",
   "metadata": {},
   "source": [
    "pred_result = dt.predict(all_test_std)\n",
    "update = pd.DataFrame({'id':id_test['id'],\n",
    "                       'target':pred_result})\n",
    "update['id'] = update['id'].apply(lambda x:int(x))\n",
    "update.set_index(\"id\" , inplace=True)\n",
    "update.head()\n",
    "print(update.shape)"
   ]
  },
  {
   "cell_type": "code",
   "execution_count": 30,
   "metadata": {
    "ExecuteTime": {
     "end_time": "2021-01-19T15:31:45.170083Z",
     "start_time": "2021-01-19T15:31:37.175302Z"
    }
   },
   "outputs": [],
   "source": [
    "update.to_csv('submission_decisiontree調參3.csv')"
   ]
  },
  {
   "cell_type": "code",
   "execution_count": null,
   "metadata": {},
   "outputs": [],
   "source": []
  },
  {
   "cell_type": "code",
   "execution_count": null,
   "metadata": {},
   "outputs": [],
   "source": []
  },
  {
   "cell_type": "markdown",
   "metadata": {},
   "source": [
    "## min_samples_split"
   ]
  },
  {
   "cell_type": "code",
   "execution_count": 46,
   "metadata": {},
   "outputs": [
    {
     "name": "stdout",
     "output_type": "stream",
     "text": [
      "0.684\n",
      "0.686\n",
      "0.685\n",
      "0.686\n",
      "0.686\n",
      "0.684\n"
     ]
    }
   ],
   "source": [
    "from sklearn.tree import DecisionTreeClassifier\n",
    "model = DecisionTreeClassifier()\n",
    "random = np.arange(2,53,10)\n",
    "\n",
    "f1score = []\n",
    "acc = []\n",
    "\n",
    "for n in random:\n",
    "    model.set_params(max_depth = 30, splitter = 'random', min_samples_leaf = 11, max_features = 33, min_samples_split = n)\n",
    "    model.fit(X_train_std, y_train)\n",
    "    pred_y_test = model.predict(X_test_std)\n",
    "    f1score.append(round(f1_score(y_true = y_test, y_pred = pred_y_test, average='weighted'),3))\n",
    "    acc.append(round(accuracy_score(y_test, pred_y_test),3))\n",
    "    \n",
    "    print(round(accuracy_score(y_test, pred_y_test),3))"
   ]
  },
  {
   "cell_type": "code",
   "execution_count": 47,
   "metadata": {},
   "outputs": [
    {
     "data": {
      "text/plain": [
       "[<matplotlib.lines.Line2D at 0x7f92025c1ad0>]"
      ]
     },
     "execution_count": 47,
     "metadata": {},
     "output_type": "execute_result"
    },
    {
     "data": {
      "image/png": "[encoded data removed]",
      "text/plain": [
       "<Figure size 432x288 with 1 Axes>"
      ]
     },
     "metadata": {
      "needs_background": "light"
     },
     "output_type": "display_data"
    }
   ],
   "source": [
    "plt.title(\"Effect of min_samples_split\")\n",
    "plt.xlabel(\"min_samples_split\")\n",
    "plt.ylabel(\"Accuracy\")\n",
    "plt.plot(random, acc)"
   ]
  },
  {
   "cell_type": "markdown",
   "metadata": {},
   "source": [
    "### min_samples_split = 12"
   ]
  },
  {
   "cell_type": "code",
   "execution_count": 48,
   "metadata": {},
   "outputs": [
    {
     "name": "stdout",
     "output_type": "stream",
     "text": [
      "0.7395459179520179\n"
     ]
    }
   ],
   "source": [
    "dt = DecisionTreeClassifier(max_depth = 30, splitter = 'random', min_samples_leaf = 11, max_features = 33, min_samples_split =12 )\n",
    "\n",
    "dt.fit(X_train_std, y_train)\n",
    "pred_y_test = dt.predict(X_test_std)\n",
    "print(dt.score(X_train_std, y_train))"
   ]
  },
  {
   "cell_type": "code",
   "execution_count": 49,
   "metadata": {},
   "outputs": [
    {
     "name": "stdout",
     "output_type": "stream",
     "text": [
      "Classification Report:\n",
      "              precision    recall  f1-score   support\n",
      "\n",
      "         0.0       0.68      0.70      0.69   1098566\n",
      "         1.0       0.70      0.68      0.69   1112615\n",
      "\n",
      "    accuracy                           0.69   2211181\n",
      "   macro avg       0.69      0.69      0.69   2211181\n",
      "weighted avg       0.69      0.69      0.69   2211181\n",
      "\n",
      "Accuracy: 0.6898119149902247\n",
      "Precision: 0.697184185452472\n",
      "Recall: 0.6780422697878422\n",
      "F-1: 0.6874800084932579\n",
      "AUC: 0.6898871729835763\n"
     ]
    },
    {
     "data": {
      "image/png": "[encoded data removed]",
      "text/plain": [
       "<Figure size 432x288 with 1 Axes>"
      ]
     },
     "metadata": {
      "needs_background": "light"
     },
     "output_type": "display_data"
    },
    {
     "name": "stdout",
     "output_type": "stream",
     "text": [
      "Confusion Matrix:\n",
      "[[770899 327667]\n",
      " [358215 754400]]\n",
      "True positives: 770899\n",
      "False positives: 358215\n",
      "True negatives: 754400\n",
      "False negatives: 327667\n",
      "\n",
      "\n"
     ]
    }
   ],
   "source": [
    "evaluate_model(y_test, pred_y_test)"
   ]
  },
  {
   "cell_type": "code",
   "execution_count": 50,
   "metadata": {},
   "outputs": [
    {
     "name": "stdout",
     "output_type": "stream",
     "text": [
      "(2556790, 1)\n"
     ]
    }
   ],
   "source": [
    "pred_result = dt.predict(all_test_std)\n",
    "update = pd.DataFrame({'id':id_test['id'],\n",
    "                       'target':pred_result})\n",
    "update['id'] = update['id'].apply(lambda x:int(x))\n",
    "update.set_index(\"id\" , inplace=True)\n",
    "update.head()\n",
    "print(update.shape)"
   ]
  },
  {
   "cell_type": "code",
   "execution_count": 51,
   "metadata": {},
   "outputs": [],
   "source": [
    "update.to_csv('submission_decisiontree調參4.csv')"
   ]
  },
  {
   "cell_type": "code",
   "execution_count": null,
   "metadata": {},
   "outputs": [],
   "source": []
  }
 ],
 "metadata": {
  "kernelspec": {
   "display_name": "Python 3",
   "language": "python",
   "name": "python3"
  },
  "language_info": {
   "codemirror_mode": {
    "name": "ipython",
    "version": 3
   },
   "file_extension": ".py",
   "mimetype": "text/x-python",
   "name": "python",
   "nbconvert_exporter": "python",
   "pygments_lexer": "ipython3",
   "version": "3.7.4"
  },
  "toc": {
   "base_numbering": 1,
   "nav_menu": {},
   "number_sections": true,
   "sideBar": true,
   "skip_h1_title": false,
   "title_cell": "Table of Contents",
   "title_sidebar": "Contents",
   "toc_cell": false,
   "toc_position": {},
   "toc_section_display": true,
   "toc_window_display": true
  }
 },
 "nbformat": 4,
 "nbformat_minor": 2
}
