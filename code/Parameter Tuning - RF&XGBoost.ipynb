{
 "cells": [
  {
   "cell_type": "code",
   "execution_count": 18,
   "metadata": {
    "ExecuteTime": {
     "end_time": "2021-01-19T15:46:25.883721Z",
     "start_time": "2021-01-19T15:46:24.478113Z"
    }
   },
   "outputs": [],
   "source": [
    "import csv\n",
    "import pandas as pd\n",
    "import numpy as np"
   ]
  },
  {
   "cell_type": "code",
   "execution_count": 19,
   "metadata": {
    "ExecuteTime": {
     "end_time": "2021-01-19T15:47:22.179226Z",
     "start_time": "2021-01-19T15:46:25.887600Z"
    }
   },
   "outputs": [
    {
     "name": "stderr",
     "output_type": "stream",
     "text": [
      "/opt/anaconda3/lib/python3.7/site-packages/numpy/lib/arraysetops.py:568: FutureWarning: elementwise comparison failed; returning scalar instead, but in the future will perform elementwise comparison\n",
      "  mask |= (ar1 == a)\n"
     ]
    }
   ],
   "source": [
    "df = pd.read_csv('機器學習期末kkbox.csv', index_col=0)\n",
    "df_test = pd.read_csv('機器學習期末kkbox_test.csv', index_col=0)"
   ]
  },
  {
   "cell_type": "code",
   "execution_count": 20,
   "metadata": {
    "ExecuteTime": {
     "end_time": "2021-01-19T15:47:22.362241Z",
     "start_time": "2021-01-19T15:47:22.209705Z"
    }
   },
   "outputs": [
    {
     "data": {
      "text/html": [
       "<div>\n",
       "<style scoped>\n",
       "    .dataframe tbody tr th:only-of-type {\n",
       "        vertical-align: middle;\n",
       "    }\n",
       "\n",
       "    .dataframe tbody tr th {\n",
       "        vertical-align: top;\n",
       "    }\n",
       "\n",
       "    .dataframe thead th {\n",
       "        text-align: right;\n",
       "    }\n",
       "</style>\n",
       "<table border=\"1\" class=\"dataframe\">\n",
       "  <thead>\n",
       "    <tr style=\"text-align: right;\">\n",
       "      <th></th>\n",
       "      <th>artist_name</th>\n",
       "      <th>bd</th>\n",
       "      <th>city</th>\n",
       "      <th>composer</th>\n",
       "      <th>expiration_date</th>\n",
       "      <th>expiration_date_month</th>\n",
       "      <th>expiration_date_new</th>\n",
       "      <th>expiration_date_year</th>\n",
       "      <th>genre_ids</th>\n",
       "      <th>index</th>\n",
       "      <th>...</th>\n",
       "      <th>source_system_tab_search</th>\n",
       "      <th>source_system_tab_settings</th>\n",
       "      <th>source_system_tab_nan</th>\n",
       "      <th>registered_via_13</th>\n",
       "      <th>registered_via_16</th>\n",
       "      <th>registered_via_3</th>\n",
       "      <th>registered_via_4</th>\n",
       "      <th>registered_via_7</th>\n",
       "      <th>registered_via_9</th>\n",
       "      <th>registered_via_nan</th>\n",
       "    </tr>\n",
       "  </thead>\n",
       "  <tbody>\n",
       "    <tr>\n",
       "      <td>0</td>\n",
       "      <td>3784</td>\n",
       "      <td>0</td>\n",
       "      <td>0</td>\n",
       "      <td>16653</td>\n",
       "      <td>2017-10-05</td>\n",
       "      <td>10</td>\n",
       "      <td>1507132800</td>\n",
       "      <td>2017</td>\n",
       "      <td>307</td>\n",
       "      <td>0</td>\n",
       "      <td>...</td>\n",
       "      <td>0</td>\n",
       "      <td>0</td>\n",
       "      <td>0</td>\n",
       "      <td>0</td>\n",
       "      <td>0</td>\n",
       "      <td>0</td>\n",
       "      <td>0</td>\n",
       "      <td>1</td>\n",
       "      <td>0</td>\n",
       "      <td>0</td>\n",
       "    </tr>\n",
       "    <tr>\n",
       "      <td>1</td>\n",
       "      <td>5190</td>\n",
       "      <td>0</td>\n",
       "      <td>0</td>\n",
       "      <td>9701</td>\n",
       "      <td>2017-10-05</td>\n",
       "      <td>10</td>\n",
       "      <td>1507132800</td>\n",
       "      <td>2017</td>\n",
       "      <td>2</td>\n",
       "      <td>1</td>\n",
       "      <td>...</td>\n",
       "      <td>0</td>\n",
       "      <td>0</td>\n",
       "      <td>0</td>\n",
       "      <td>0</td>\n",
       "      <td>0</td>\n",
       "      <td>0</td>\n",
       "      <td>0</td>\n",
       "      <td>1</td>\n",
       "      <td>0</td>\n",
       "      <td>0</td>\n",
       "    </tr>\n",
       "    <tr>\n",
       "      <td>2</td>\n",
       "      <td>9451</td>\n",
       "      <td>0</td>\n",
       "      <td>0</td>\n",
       "      <td>63665</td>\n",
       "      <td>2017-10-05</td>\n",
       "      <td>10</td>\n",
       "      <td>1507132800</td>\n",
       "      <td>2017</td>\n",
       "      <td>97</td>\n",
       "      <td>2</td>\n",
       "      <td>...</td>\n",
       "      <td>0</td>\n",
       "      <td>0</td>\n",
       "      <td>0</td>\n",
       "      <td>0</td>\n",
       "      <td>0</td>\n",
       "      <td>0</td>\n",
       "      <td>0</td>\n",
       "      <td>1</td>\n",
       "      <td>0</td>\n",
       "      <td>0</td>\n",
       "    </tr>\n",
       "    <tr>\n",
       "      <td>3</td>\n",
       "      <td>35336</td>\n",
       "      <td>0</td>\n",
       "      <td>0</td>\n",
       "      <td>67752</td>\n",
       "      <td>2017-10-05</td>\n",
       "      <td>10</td>\n",
       "      <td>1507132800</td>\n",
       "      <td>2017</td>\n",
       "      <td>2</td>\n",
       "      <td>3</td>\n",
       "      <td>...</td>\n",
       "      <td>0</td>\n",
       "      <td>0</td>\n",
       "      <td>0</td>\n",
       "      <td>0</td>\n",
       "      <td>0</td>\n",
       "      <td>0</td>\n",
       "      <td>0</td>\n",
       "      <td>1</td>\n",
       "      <td>0</td>\n",
       "      <td>0</td>\n",
       "    </tr>\n",
       "    <tr>\n",
       "      <td>4</td>\n",
       "      <td>25764</td>\n",
       "      <td>0</td>\n",
       "      <td>0</td>\n",
       "      <td>60377</td>\n",
       "      <td>2017-10-05</td>\n",
       "      <td>10</td>\n",
       "      <td>1507132800</td>\n",
       "      <td>2017</td>\n",
       "      <td>371</td>\n",
       "      <td>4</td>\n",
       "      <td>...</td>\n",
       "      <td>0</td>\n",
       "      <td>0</td>\n",
       "      <td>0</td>\n",
       "      <td>0</td>\n",
       "      <td>0</td>\n",
       "      <td>0</td>\n",
       "      <td>0</td>\n",
       "      <td>1</td>\n",
       "      <td>0</td>\n",
       "      <td>0</td>\n",
       "    </tr>\n",
       "  </tbody>\n",
       "</table>\n",
       "<p>5 rows × 37 columns</p>\n",
       "</div>"
      ],
      "text/plain": [
       "   artist_name  bd  city  composer expiration_date  expiration_date_month  \\\n",
       "0         3784   0     0     16653      2017-10-05                     10   \n",
       "1         5190   0     0      9701      2017-10-05                     10   \n",
       "2         9451   0     0     63665      2017-10-05                     10   \n",
       "3        35336   0     0     67752      2017-10-05                     10   \n",
       "4        25764   0     0     60377      2017-10-05                     10   \n",
       "\n",
       "   expiration_date_new  expiration_date_year  genre_ids  index  ...  \\\n",
       "0           1507132800                  2017        307      0  ...   \n",
       "1           1507132800                  2017          2      1  ...   \n",
       "2           1507132800                  2017         97      2  ...   \n",
       "3           1507132800                  2017          2      3  ...   \n",
       "4           1507132800                  2017        371      4  ...   \n",
       "\n",
       "   source_system_tab_search  source_system_tab_settings  \\\n",
       "0                         0                           0   \n",
       "1                         0                           0   \n",
       "2                         0                           0   \n",
       "3                         0                           0   \n",
       "4                         0                           0   \n",
       "\n",
       "   source_system_tab_nan registered_via_13  registered_via_16  \\\n",
       "0                      0                 0                  0   \n",
       "1                      0                 0                  0   \n",
       "2                      0                 0                  0   \n",
       "3                      0                 0                  0   \n",
       "4                      0                 0                  0   \n",
       "\n",
       "   registered_via_3  registered_via_4  registered_via_7  registered_via_9  \\\n",
       "0                 0                 0                 1                 0   \n",
       "1                 0                 0                 1                 0   \n",
       "2                 0                 0                 1                 0   \n",
       "3                 0                 0                 1                 0   \n",
       "4                 0                 0                 1                 0   \n",
       "\n",
       "   registered_via_nan  \n",
       "0                   0  \n",
       "1                   0  \n",
       "2                   0  \n",
       "3                   0  \n",
       "4                   0  \n",
       "\n",
       "[5 rows x 37 columns]"
      ]
     },
     "execution_count": 20,
     "metadata": {},
     "output_type": "execute_result"
    }
   ],
   "source": [
    "df.head()"
   ]
  },
  {
   "cell_type": "code",
   "execution_count": 21,
   "metadata": {
    "ExecuteTime": {
     "end_time": "2021-01-19T15:47:23.351553Z",
     "start_time": "2021-01-19T15:47:22.373917Z"
    }
   },
   "outputs": [
    {
     "data": {
      "text/html": [
       "<div>\n",
       "<style scoped>\n",
       "    .dataframe tbody tr th:only-of-type {\n",
       "        vertical-align: middle;\n",
       "    }\n",
       "\n",
       "    .dataframe tbody tr th {\n",
       "        vertical-align: top;\n",
       "    }\n",
       "\n",
       "    .dataframe thead th {\n",
       "        text-align: right;\n",
       "    }\n",
       "</style>\n",
       "<table border=\"1\" class=\"dataframe\">\n",
       "  <thead>\n",
       "    <tr style=\"text-align: right;\">\n",
       "      <th></th>\n",
       "      <th>id</th>\n",
       "    </tr>\n",
       "  </thead>\n",
       "  <tbody>\n",
       "    <tr>\n",
       "      <td>0</td>\n",
       "      <td>0.0</td>\n",
       "    </tr>\n",
       "    <tr>\n",
       "      <td>1</td>\n",
       "      <td>1.0</td>\n",
       "    </tr>\n",
       "    <tr>\n",
       "      <td>2</td>\n",
       "      <td>2.0</td>\n",
       "    </tr>\n",
       "    <tr>\n",
       "      <td>3</td>\n",
       "      <td>3.0</td>\n",
       "    </tr>\n",
       "    <tr>\n",
       "      <td>4</td>\n",
       "      <td>4.0</td>\n",
       "    </tr>\n",
       "  </tbody>\n",
       "</table>\n",
       "</div>"
      ],
      "text/plain": [
       "    id\n",
       "0  0.0\n",
       "1  1.0\n",
       "2  2.0\n",
       "3  3.0\n",
       "4  4.0"
      ]
     },
     "execution_count": 21,
     "metadata": {},
     "output_type": "execute_result"
    }
   ],
   "source": [
    "id_test = pd.read_csv('test_ids_df.csv', index_col=0)\n",
    "id_test.head()"
   ]
  },
  {
   "cell_type": "code",
   "execution_count": 22,
   "metadata": {
    "ExecuteTime": {
     "end_time": "2021-01-19T15:47:23.389784Z",
     "start_time": "2021-01-19T15:47:23.362764Z"
    }
   },
   "outputs": [
    {
     "data": {
      "text/plain": [
       "(7370601, 37)"
      ]
     },
     "execution_count": 22,
     "metadata": {},
     "output_type": "execute_result"
    }
   ],
   "source": [
    "df.shape"
   ]
  },
  {
   "cell_type": "code",
   "execution_count": 23,
   "metadata": {
    "ExecuteTime": {
     "end_time": "2021-01-19T15:47:23.428197Z",
     "start_time": "2021-01-19T15:47:23.414062Z"
    }
   },
   "outputs": [
    {
     "data": {
      "text/plain": [
       "(2556790, 36)"
      ]
     },
     "execution_count": 23,
     "metadata": {},
     "output_type": "execute_result"
    }
   ],
   "source": [
    "df_test.shape"
   ]
  },
  {
   "cell_type": "markdown",
   "metadata": {},
   "source": [
    "# 評估方法def"
   ]
  },
  {
   "cell_type": "code",
   "execution_count": 24,
   "metadata": {
    "ExecuteTime": {
     "end_time": "2021-01-19T15:47:25.963596Z",
     "start_time": "2021-01-19T15:47:23.435746Z"
    }
   },
   "outputs": [],
   "source": [
    "#confusion matrix\n",
    "from sklearn.metrics import confusion_matrix\n",
    "#ROC & AUC\n",
    "from sklearn.metrics import accuracy_score\n",
    "from sklearn.metrics import precision_score\n",
    "from sklearn.metrics import recall_score\n",
    "from sklearn.metrics import f1_score\n",
    "from sklearn.metrics import classification_report\n",
    "from sklearn.metrics import roc_curve\n",
    "from sklearn.metrics import roc_auc_score\n",
    "import matplotlib.pyplot as plt\n",
    "\n",
    "def evaluate_model(predicted, actual):\n",
    "    \n",
    "    # Table-Type Plotting\n",
    "    #print('Confusion Matrix:\\n{}'.format(confusion_matrix(predicted, actual)))\n",
    "    print('Classification Report:\\n{}'.format(classification_report(predicted, actual)))\n",
    "    print('Accuracy: {}'.format(accuracy_score(predicted, actual)))\n",
    "    print('Precision: {}'.format(precision_score(predicted, actual)))\n",
    "    print('Recall: {}'.format(recall_score(predicted, actual)))\n",
    "    print('F-1: {}'.format(f1_score(predicted, actual)))\n",
    "    print('AUC: {}'.format(roc_auc_score(predicted, actual)))    \n",
    "        \n",
    "    # ROC Curve Plotting\n",
    "    fpr, tpr, thresh = roc_curve(actual, predicted)\n",
    "    roc_auc = roc_auc_score(predicted, actual)    \n",
    "    plt.title('ROC')\n",
    "    plt.plot(fpr, tpr, 'b',\n",
    "    label='AUC = %0.2f'% roc_auc)\n",
    "    plt.legend(loc='lower right')\n",
    "    plt.plot([0,1],[0,1],'r--')\n",
    "    plt.xlim([-0.1,1.2])\n",
    "    plt.ylim([-0.1,1.2])\n",
    "    plt.ylabel('True Positive Rate')\n",
    "    plt.xlabel('False Positive Rate')\n",
    "    plt.show()\n",
    "    \n",
    "    print('Confusion Matrix:\\n{}'.format(confusion_matrix(predicted, actual)))\n",
    "    tp, fp, fn, tn  = confusion_matrix(actual, predicted).ravel()\n",
    "    print(\"True positives: \" + str(tp))\n",
    "    print(\"False positives: \" + str(fp))\n",
    "    print(\"True negatives: \" + str(tn))\n",
    "    print(\"False negatives: \" + str(fn))\n",
    "    print('\\n')"
   ]
  },
  {
   "cell_type": "code",
   "execution_count": 25,
   "metadata": {
    "ExecuteTime": {
     "end_time": "2021-01-19T15:47:25.988263Z",
     "start_time": "2021-01-19T15:47:25.980139Z"
    }
   },
   "outputs": [],
   "source": [
    "#confusion matrix\n",
    "from sklearn.metrics import confusion_matrix\n",
    "\n",
    "def printCM(y,y_pred):\n",
    "    print('Confusion Matrix:\\n{}'.format(confusion_matrix(y, y_pred)))\n",
    "    tp, fp, fn, tn  = confusion_matrix(y, y_pred).ravel()\n",
    "    print(\"True positives: \" + str(tp))\n",
    "    print(\"False positives: \" + str(fp))\n",
    "    print(\"True negatives: \" + str(tn))\n",
    "    print(\"False negatives: \" + str(fn))\n",
    "    print('\\n')"
   ]
  },
  {
   "cell_type": "markdown",
   "metadata": {
    "ExecuteTime": {
     "end_time": "2021-01-10T17:30:06.768703Z",
     "start_time": "2021-01-10T17:30:06.754721Z"
    }
   },
   "source": [
    "# 訓練/測試資料切割"
   ]
  },
  {
   "cell_type": "code",
   "execution_count": 26,
   "metadata": {
    "ExecuteTime": {
     "end_time": "2021-01-19T15:47:45.676149Z",
     "start_time": "2021-01-19T15:47:25.997939Z"
    }
   },
   "outputs": [],
   "source": [
    "df_x = df.drop([\"target\",'registration_init_time','expiration_date'], axis = 1)\n",
    "df_y = df['target']\n",
    "df_y = pd.DataFrame(df_y)\n",
    "\n",
    "X = df_x.iloc[:,:].values\n",
    "y = df_y.iloc[:,-1].values"
   ]
  },
  {
   "cell_type": "code",
   "execution_count": 27,
   "metadata": {
    "ExecuteTime": {
     "end_time": "2021-01-19T15:47:45.731046Z",
     "start_time": "2021-01-19T15:47:45.697331Z"
    }
   },
   "outputs": [
    {
     "data": {
      "text/plain": [
       "34"
      ]
     },
     "execution_count": 27,
     "metadata": {},
     "output_type": "execute_result"
    }
   ],
   "source": [
    "len(df_x.columns)"
   ]
  },
  {
   "cell_type": "code",
   "execution_count": 28,
   "metadata": {
    "ExecuteTime": {
     "end_time": "2021-01-19T15:47:45.765618Z",
     "start_time": "2021-01-19T15:47:45.736974Z"
    }
   },
   "outputs": [
    {
     "data": {
      "text/plain": [
       "Index(['artist_name', 'bd', 'city', 'composer', 'expiration_date_month',\n",
       "       'expiration_date_new', 'expiration_date_year', 'genre_ids', 'index',\n",
       "       'language', 'lyricist', 'msno', 'registration_init_time_month',\n",
       "       'registration_init_time_new', 'registration_init_time_year', 'song_id',\n",
       "       'song_length', 'source_screen_name', 'source_system_tab_discover',\n",
       "       'source_system_tab_explore', 'source_system_tab_listen with',\n",
       "       'source_system_tab_my library', 'source_system_tab_notification',\n",
       "       'source_system_tab_radio', 'source_system_tab_search',\n",
       "       'source_system_tab_settings', 'source_system_tab_nan',\n",
       "       'registered_via_13', 'registered_via_16', 'registered_via_3',\n",
       "       'registered_via_4', 'registered_via_7', 'registered_via_9',\n",
       "       'registered_via_nan'],\n",
       "      dtype='object')"
      ]
     },
     "execution_count": 28,
     "metadata": {},
     "output_type": "execute_result"
    }
   ],
   "source": [
    "df_x.columns"
   ]
  },
  {
   "cell_type": "code",
   "execution_count": 29,
   "metadata": {
    "ExecuteTime": {
     "end_time": "2021-01-19T15:47:49.524366Z",
     "start_time": "2021-01-19T15:47:45.770132Z"
    }
   },
   "outputs": [],
   "source": [
    "df_x_test = df_test.drop(['registration_init_time','expiration_date'], axis = 1)\n",
    "X_ = df_x_test.iloc[:,:].values"
   ]
  },
  {
   "cell_type": "code",
   "execution_count": 30,
   "metadata": {
    "ExecuteTime": {
     "end_time": "2021-01-19T15:47:49.554517Z",
     "start_time": "2021-01-19T15:47:49.545510Z"
    }
   },
   "outputs": [
    {
     "data": {
      "text/plain": [
       "Index(['artist_name', 'bd', 'city', 'composer', 'expiration_date_month',\n",
       "       'expiration_date_new', 'expiration_date_year', 'genre_ids', 'index',\n",
       "       'language', 'lyricist', 'msno', 'registration_init_time_month',\n",
       "       'registration_init_time_new', 'registration_init_time_year', 'song_id',\n",
       "       'song_length', 'source_screen_name', 'source_system_tab_discover',\n",
       "       'source_system_tab_explore', 'source_system_tab_listen with',\n",
       "       'source_system_tab_my library', 'source_system_tab_notification',\n",
       "       'source_system_tab_radio', 'source_system_tab_search',\n",
       "       'source_system_tab_settings', 'source_system_tab_nan',\n",
       "       'registered_via_13', 'registered_via_16', 'registered_via_3',\n",
       "       'registered_via_4', 'registered_via_7', 'registered_via_9',\n",
       "       'registered_via_nan'],\n",
       "      dtype='object')"
      ]
     },
     "execution_count": 30,
     "metadata": {},
     "output_type": "execute_result"
    }
   ],
   "source": [
    "df_x_test.columns"
   ]
  },
  {
   "cell_type": "code",
   "execution_count": 31,
   "metadata": {
    "ExecuteTime": {
     "end_time": "2021-01-19T15:47:49.571694Z",
     "start_time": "2021-01-19T15:47:49.561184Z"
    }
   },
   "outputs": [
    {
     "data": {
      "text/plain": [
       "34"
      ]
     },
     "execution_count": 31,
     "metadata": {},
     "output_type": "execute_result"
    }
   ],
   "source": [
    "len(df_x_test.columns)"
   ]
  },
  {
   "cell_type": "code",
   "execution_count": 32,
   "metadata": {
    "ExecuteTime": {
     "end_time": "2021-01-19T15:48:30.361789Z",
     "start_time": "2021-01-19T15:47:49.575732Z"
    }
   },
   "outputs": [],
   "source": [
    "from sklearn.model_selection import train_test_split\n",
    "from sklearn.preprocessing import StandardScaler\n",
    "\n",
    "X_train, X_test, y_train, y_test = train_test_split(X,y,test_size=0.3)#,random_state=3)\n",
    "\n",
    "sc = StandardScaler()\n",
    "sc.fit(X_train)\n",
    "X_train_std = sc.transform(X_train)\n",
    "X_test_std = sc.transform(X_test)\n",
    "\n",
    "\n",
    "all_test_std = sc.transform(X_)"
   ]
  },
  {
   "cell_type": "code",
   "execution_count": 33,
   "metadata": {
    "ExecuteTime": {
     "end_time": "2021-01-19T15:48:30.452095Z",
     "start_time": "2021-01-19T15:48:30.393544Z"
    }
   },
   "outputs": [
    {
     "data": {
      "text/plain": [
       "(7370601, 34)"
      ]
     },
     "execution_count": 33,
     "metadata": {},
     "output_type": "execute_result"
    }
   ],
   "source": [
    "X.shape"
   ]
  },
  {
   "cell_type": "code",
   "execution_count": 34,
   "metadata": {
    "ExecuteTime": {
     "end_time": "2021-01-19T15:48:30.479043Z",
     "start_time": "2021-01-19T15:48:30.462142Z"
    }
   },
   "outputs": [
    {
     "data": {
      "text/plain": [
       "(2556790, 34)"
      ]
     },
     "execution_count": 34,
     "metadata": {},
     "output_type": "execute_result"
    }
   ],
   "source": [
    "X_.shape"
   ]
  },
  {
   "cell_type": "code",
   "execution_count": 35,
   "metadata": {
    "ExecuteTime": {
     "end_time": "2021-01-19T15:48:31.026769Z",
     "start_time": "2021-01-19T15:48:30.494884Z"
    }
   },
   "outputs": [
    {
     "name": "stdout",
     "output_type": "stream",
     "text": [
      "False\n",
      "True\n"
     ]
    }
   ],
   "source": [
    "print(np.any(np.isnan(X_)))\n",
    "print(np.all(np.isfinite(X_)))"
   ]
  },
  {
   "cell_type": "markdown",
   "metadata": {
    "ExecuteTime": {
     "end_time": "2021-01-10T17:30:06.768703Z",
     "start_time": "2021-01-10T17:30:06.754721Z"
    }
   },
   "source": [
    "# RandomForest"
   ]
  },
  {
   "cell_type": "code",
   "execution_count": 36,
   "metadata": {
    "ExecuteTime": {
     "end_time": "2021-01-19T15:48:32.955167Z",
     "start_time": "2021-01-19T15:48:31.132375Z"
    }
   },
   "outputs": [],
   "source": [
    "from sklearn.ensemble import RandomForestClassifier\n",
    "from sklearn.metrics import mean_squared_error\n",
    "from sklearn.metrics import roc_auc_score\n",
    "from sklearn.metrics import f1_score\n",
    "from sklearn.metrics import accuracy_score\n",
    "import matplotlib.pyplot as plt\n",
    "import seaborn as sns\n",
    "import numpy as np\n",
    "import warnings\n",
    "warnings.filterwarnings(\"ignore\")"
   ]
  },
  {
   "cell_type": "markdown",
   "metadata": {},
   "source": [
    "## n_estimators"
   ]
  },
  {
   "cell_type": "code",
   "execution_count": 23,
   "metadata": {
    "ExecuteTime": {
     "end_time": "2021-01-16T19:28:10.876713Z",
     "start_time": "2021-01-16T09:45:51.722313Z"
    }
   },
   "outputs": [
    {
     "name": "stdout",
     "output_type": "stream",
     "text": [
      "0.703\n",
      "0.717\n",
      "0.724\n",
      "0.726\n",
      "0.728\n",
      "0.729\n",
      "0.731\n",
      "0.731\n",
      "0.731\n",
      "0.732\n"
     ]
    }
   ],
   "source": [
    "model = RandomForestClassifier()\n",
    "\n",
    "random = np.arange(10,110,10)\n",
    "\n",
    "f1score = []\n",
    "acc = []\n",
    "\n",
    "for n in random:\n",
    "    model.set_params(n_estimators= n)\n",
    "    model.fit(X_train_std, y_train)\n",
    "    pred_y_test = model.predict(X_test_std)\n",
    "    f1score.append(round(f1_score(y_true = y_test, y_pred = pred_y_test, average='weighted'),3))\n",
    "    acc.append(round(accuracy_score(y_test, pred_y_test),3))\n",
    "    \n",
    "    print(round(accuracy_score(y_test, pred_y_test),3))"
   ]
  },
  {
   "cell_type": "code",
   "execution_count": 24,
   "metadata": {
    "ExecuteTime": {
     "end_time": "2021-01-16T19:28:13.072200Z",
     "start_time": "2021-01-16T19:28:11.061879Z"
    }
   },
   "outputs": [
    {
     "data": {
      "text/plain": [
       "[<matplotlib.lines.Line2D at 0x7f95b4555410>]"
      ]
     },
     "execution_count": 24,
     "metadata": {},
     "output_type": "execute_result"
    },
    {
     "data": {
      "image/png": "[encoded data removed]",
      "text/plain": [
       "<Figure size 432x288 with 1 Axes>"
      ]
     },
     "metadata": {
      "needs_background": "light"
     },
     "output_type": "display_data"
    }
   ],
   "source": [
    "plt.title(\"Effect of n_estimators\")\n",
    "plt.xlabel(\"n_estimators\")\n",
    "plt.ylabel(\"Accuracy\")\n",
    "plt.plot(random, acc)"
   ]
  },
  {
   "cell_type": "markdown",
   "metadata": {},
   "source": [
    "### n_estimators = 30"
   ]
  },
  {
   "cell_type": "code",
   "execution_count": 25,
   "metadata": {
    "ExecuteTime": {
     "end_time": "2021-01-16T19:56:04.518028Z",
     "start_time": "2021-01-16T19:28:13.085405Z"
    }
   },
   "outputs": [],
   "source": [
    "from sklearn.ensemble import RandomForestClassifier\n",
    "from sklearn.metrics import mean_squared_error\n",
    "from sklearn.metrics import roc_auc_score\n",
    "from sklearn.metrics import f1_score\n",
    "from sklearn.metrics import accuracy_score\n",
    "import matplotlib.pyplot as plt\n",
    "import seaborn as sns\n",
    "import numpy as np\n",
    "import warnings\n",
    "warnings.filterwarnings(\"ignore\")\n",
    "\n",
    "rf = RandomForestClassifier(n_estimators = 30)\n",
    "\n",
    "rf.fit(X_train_std, y_train)\n",
    "pred_y_test = rf.predict(X_test_std)"
   ]
  },
  {
   "cell_type": "code",
   "execution_count": 26,
   "metadata": {
    "ExecuteTime": {
     "end_time": "2021-01-16T19:59:01.810569Z",
     "start_time": "2021-01-16T19:56:04.545061Z"
    }
   },
   "outputs": [
    {
     "data": {
      "text/plain": [
       "0.9991028061293711"
      ]
     },
     "execution_count": 26,
     "metadata": {},
     "output_type": "execute_result"
    }
   ],
   "source": [
    "rf.score(X_train_std, y_train)"
   ]
  },
  {
   "cell_type": "code",
   "execution_count": 27,
   "metadata": {
    "ExecuteTime": {
     "end_time": "2021-01-16T19:59:23.256783Z",
     "start_time": "2021-01-16T19:59:01.824936Z"
    }
   },
   "outputs": [
    {
     "name": "stdout",
     "output_type": "stream",
     "text": [
      "Classification Report:\n",
      "              precision    recall  f1-score   support\n",
      "\n",
      "         0.0       0.71      0.74      0.73   1097969\n",
      "         1.0       0.73      0.71      0.72   1113212\n",
      "\n",
      "    accuracy                           0.72   2211181\n",
      "   macro avg       0.72      0.72      0.72   2211181\n",
      "weighted avg       0.72      0.72      0.72   2211181\n",
      "\n",
      "Accuracy: 0.7241085193839853\n",
      "Precision: 0.7346716240821444\n",
      "Recall: 0.7075157292591169\n",
      "F-1: 0.7208380085627628\n",
      "AUC: 0.7242236974536181\n"
     ]
    },
    {
     "data": {
      "image/png": "[encoded data removed]",
      "text/plain": [
       "<Figure size 432x288 with 1 Axes>"
      ]
     },
     "metadata": {
      "needs_background": "light"
     },
     "output_type": "display_data"
    },
    {
     "name": "stdout",
     "output_type": "stream",
     "text": [
      "Confusion Matrix:\n",
      "[[813520 284449]\n",
      " [325597 787615]]\n",
      "True positives: 813520\n",
      "False positives: 325597\n",
      "True negatives: 787615\n",
      "False negatives: 284449\n",
      "\n",
      "\n"
     ]
    }
   ],
   "source": [
    "evaluate_model(y_test, pred_y_test)"
   ]
  },
  {
   "cell_type": "code",
   "execution_count": 28,
   "metadata": {
    "ExecuteTime": {
     "end_time": "2021-01-16T20:00:28.234205Z",
     "start_time": "2021-01-16T19:59:23.264630Z"
    }
   },
   "outputs": [],
   "source": [
    "pred_result = rf.predict(all_test_std)"
   ]
  },
  {
   "cell_type": "code",
   "execution_count": 29,
   "metadata": {
    "ExecuteTime": {
     "end_time": "2021-01-16T20:00:30.321211Z",
     "start_time": "2021-01-16T20:00:28.241674Z"
    }
   },
   "outputs": [],
   "source": [
    "update = pd.DataFrame({'id':id_test['id'],\n",
    "                       'target':pred_result})\n",
    "update['id'] = update['id'].apply(lambda x:int(x))"
   ]
  },
  {
   "cell_type": "code",
   "execution_count": 30,
   "metadata": {
    "ExecuteTime": {
     "end_time": "2021-01-16T20:00:30.451564Z",
     "start_time": "2021-01-16T20:00:30.335859Z"
    }
   },
   "outputs": [
    {
     "data": {
      "text/html": [
       "<div>\n",
       "<style scoped>\n",
       "    .dataframe tbody tr th:only-of-type {\n",
       "        vertical-align: middle;\n",
       "    }\n",
       "\n",
       "    .dataframe tbody tr th {\n",
       "        vertical-align: top;\n",
       "    }\n",
       "\n",
       "    .dataframe thead th {\n",
       "        text-align: right;\n",
       "    }\n",
       "</style>\n",
       "<table border=\"1\" class=\"dataframe\">\n",
       "  <thead>\n",
       "    <tr style=\"text-align: right;\">\n",
       "      <th></th>\n",
       "      <th>target</th>\n",
       "    </tr>\n",
       "    <tr>\n",
       "      <th>id</th>\n",
       "      <th></th>\n",
       "    </tr>\n",
       "  </thead>\n",
       "  <tbody>\n",
       "    <tr>\n",
       "      <td>0</td>\n",
       "      <td>1.0</td>\n",
       "    </tr>\n",
       "    <tr>\n",
       "      <td>1</td>\n",
       "      <td>0.0</td>\n",
       "    </tr>\n",
       "    <tr>\n",
       "      <td>2</td>\n",
       "      <td>0.0</td>\n",
       "    </tr>\n",
       "    <tr>\n",
       "      <td>3</td>\n",
       "      <td>0.0</td>\n",
       "    </tr>\n",
       "    <tr>\n",
       "      <td>4</td>\n",
       "      <td>0.0</td>\n",
       "    </tr>\n",
       "  </tbody>\n",
       "</table>\n",
       "</div>"
      ],
      "text/plain": [
       "    target\n",
       "id        \n",
       "0      1.0\n",
       "1      0.0\n",
       "2      0.0\n",
       "3      0.0\n",
       "4      0.0"
      ]
     },
     "execution_count": 30,
     "metadata": {},
     "output_type": "execute_result"
    }
   ],
   "source": [
    "update.set_index(\"id\" , inplace=True)\n",
    "update.head()"
   ]
  },
  {
   "cell_type": "code",
   "execution_count": 31,
   "metadata": {
    "ExecuteTime": {
     "end_time": "2021-01-16T20:00:30.470420Z",
     "start_time": "2021-01-16T20:00:30.455733Z"
    }
   },
   "outputs": [
    {
     "data": {
      "text/plain": [
       "(2556790, 1)"
      ]
     },
     "execution_count": 31,
     "metadata": {},
     "output_type": "execute_result"
    }
   ],
   "source": [
    "update.shape"
   ]
  },
  {
   "cell_type": "code",
   "execution_count": 32,
   "metadata": {
    "ExecuteTime": {
     "end_time": "2021-01-17T03:18:40.351423Z",
     "start_time": "2021-01-17T03:18:32.562748Z"
    }
   },
   "outputs": [],
   "source": [
    "update.to_csv('submission_rf調參1.csv') ## rf調參1"
   ]
  },
  {
   "cell_type": "markdown",
   "metadata": {},
   "source": [
    "### n_estimators = 70"
   ]
  },
  {
   "cell_type": "code",
   "execution_count": 33,
   "metadata": {
    "ExecuteTime": {
     "end_time": "2021-01-17T06:39:38.895783Z",
     "start_time": "2021-01-17T05:28:44.131652Z"
    }
   },
   "outputs": [],
   "source": [
    "rf = RandomForestClassifier(n_estimators = 70)\n",
    "\n",
    "rf.fit(X_train_std, y_train)\n",
    "pred_y_test = rf.predict(X_test_std)"
   ]
  },
  {
   "cell_type": "code",
   "execution_count": 34,
   "metadata": {
    "ExecuteTime": {
     "end_time": "2021-01-17T06:47:45.816544Z",
     "start_time": "2021-01-17T06:39:38.952220Z"
    }
   },
   "outputs": [
    {
     "data": {
      "text/plain": [
       "0.9999614297731141"
      ]
     },
     "execution_count": 34,
     "metadata": {},
     "output_type": "execute_result"
    }
   ],
   "source": [
    "rf.score(X_train_std, y_train)"
   ]
  },
  {
   "cell_type": "code",
   "execution_count": 35,
   "metadata": {
    "ExecuteTime": {
     "end_time": "2021-01-17T06:48:12.126970Z",
     "start_time": "2021-01-17T06:47:45.850104Z"
    }
   },
   "outputs": [
    {
     "name": "stdout",
     "output_type": "stream",
     "text": [
      "Classification Report:\n",
      "              precision    recall  f1-score   support\n",
      "\n",
      "         0.0       0.73      0.73      0.73   1097969\n",
      "         1.0       0.74      0.73      0.73   1113212\n",
      "\n",
      "    accuracy                           0.73   2211181\n",
      "   macro avg       0.73      0.73      0.73   2211181\n",
      "weighted avg       0.73      0.73      0.73   2211181\n",
      "\n",
      "Accuracy: 0.7303237500684023\n",
      "Precision: 0.7351268589436261\n",
      "Recall: 0.7258824015551395\n",
      "F-1: 0.7304753833463282\n",
      "AUC: 0.7303545794795185\n"
     ]
    },
    {
     "data": {
      "image/png": "[encoded data removed]",
      "text/plain": [
       "<Figure size 432x288 with 1 Axes>"
      ]
     },
     "metadata": {
      "needs_background": "light"
     },
     "output_type": "display_data"
    },
    {
     "name": "stdout",
     "output_type": "stream",
     "text": [
      "Confusion Matrix:\n",
      "[[806817 291152]\n",
      " [305151 808061]]\n",
      "True positives: 806817\n",
      "False positives: 305151\n",
      "True negatives: 808061\n",
      "False negatives: 291152\n",
      "\n",
      "\n"
     ]
    }
   ],
   "source": [
    "evaluate_model(y_test, pred_y_test)"
   ]
  },
  {
   "cell_type": "code",
   "execution_count": 36,
   "metadata": {
    "ExecuteTime": {
     "end_time": "2021-01-17T06:51:52.907413Z",
     "start_time": "2021-01-17T06:48:12.138656Z"
    }
   },
   "outputs": [],
   "source": [
    "pred_result = rf.predict(all_test_std)"
   ]
  },
  {
   "cell_type": "code",
   "execution_count": 37,
   "metadata": {
    "ExecuteTime": {
     "end_time": "2021-01-17T06:51:55.105241Z",
     "start_time": "2021-01-17T06:51:52.940955Z"
    }
   },
   "outputs": [
    {
     "name": "stdout",
     "output_type": "stream",
     "text": [
      "(2556790, 1)\n"
     ]
    }
   ],
   "source": [
    "update = pd.DataFrame({'id':id_test['id'],\n",
    "                       'target':pred_result})\n",
    "update['id'] = update['id'].apply(lambda x:int(x))\n",
    "update.set_index(\"id\" , inplace=True)\n",
    "print(update.shape)"
   ]
  },
  {
   "cell_type": "code",
   "execution_count": 38,
   "metadata": {
    "ExecuteTime": {
     "end_time": "2021-01-17T06:53:46.016563Z",
     "start_time": "2021-01-17T06:53:39.064258Z"
    }
   },
   "outputs": [],
   "source": [
    "update.to_csv('submission_rf調參2.csv') ## rf調參2"
   ]
  },
  {
   "cell_type": "code",
   "execution_count": null,
   "metadata": {},
   "outputs": [],
   "source": []
  },
  {
   "cell_type": "markdown",
   "metadata": {},
   "source": [
    "## max_depth"
   ]
  },
  {
   "cell_type": "code",
   "execution_count": 59,
   "metadata": {
    "ExecuteTime": {
     "end_time": "2021-01-18T01:44:52.115377Z",
     "start_time": "2021-01-17T17:01:15.048697Z"
    }
   },
   "outputs": [
    {
     "name": "stdout",
     "output_type": "stream",
     "text": [
      "0.618\n",
      "0.623\n",
      "0.642\n",
      "0.667\n",
      "0.694\n",
      "0.717\n",
      "0.728\n",
      "0.731\n",
      "0.732\n",
      "0.731\n"
     ]
    }
   ],
   "source": [
    "from sklearn.ensemble import RandomForestClassifier\n",
    "model = RandomForestClassifier()\n",
    "random = np.arange(3,50,5)\n",
    "\n",
    "f1score = []\n",
    "acc = []\n",
    "\n",
    "for n in random:\n",
    "    model.set_params(n_estimators= 70, max_depth = n)\n",
    "    model.fit(X_train_std, y_train)\n",
    "    pred_y_test = model.predict(X_test_std)\n",
    "    f1score.append(round(f1_score(y_true = y_test, y_pred = pred_y_test, average='weighted'),3))\n",
    "    acc.append(round(accuracy_score(y_test, pred_y_test),3))\n",
    "    \n",
    "    print(round(accuracy_score(y_test, pred_y_test),3))"
   ]
  },
  {
   "cell_type": "code",
   "execution_count": 60,
   "metadata": {
    "ExecuteTime": {
     "end_time": "2021-01-18T01:44:54.164878Z",
     "start_time": "2021-01-18T01:44:52.155310Z"
    }
   },
   "outputs": [
    {
     "data": {
      "text/plain": [
       "[<matplotlib.lines.Line2D at 0x7f92649947d0>]"
      ]
     },
     "execution_count": 60,
     "metadata": {},
     "output_type": "execute_result"
    },
    {
     "data": {
      "image/png": "[encoded data removed]",
      "text/plain": [
       "<Figure size 432x288 with 1 Axes>"
      ]
     },
     "metadata": {
      "needs_background": "light"
     },
     "output_type": "display_data"
    }
   ],
   "source": [
    "plt.title(\"Effect of max_depth\")\n",
    "plt.xlabel(\"max_depth\")\n",
    "plt.ylabel(\"Accuracy\")\n",
    "plt.plot(random, acc)"
   ]
  },
  {
   "cell_type": "markdown",
   "metadata": {},
   "source": [
    "### max_depth = 38"
   ]
  },
  {
   "cell_type": "code",
   "execution_count": 61,
   "metadata": {
    "ExecuteTime": {
     "end_time": "2021-01-18T10:41:27.734941Z",
     "start_time": "2021-01-18T09:34:43.347091Z"
    }
   },
   "outputs": [],
   "source": [
    "rf = RandomForestClassifier(n_estimators = 70,max_depth = 38)\n",
    "\n",
    "rf.fit(X_train_std, y_train)\n",
    "pred_y_test = rf.predict(X_test_std)"
   ]
  },
  {
   "cell_type": "code",
   "execution_count": 62,
   "metadata": {
    "ExecuteTime": {
     "end_time": "2021-01-18T10:47:57.614135Z",
     "start_time": "2021-01-18T10:41:27.792966Z"
    }
   },
   "outputs": [
    {
     "data": {
      "text/plain": [
       "0.988610153854503"
      ]
     },
     "execution_count": 62,
     "metadata": {},
     "output_type": "execute_result"
    }
   ],
   "source": [
    "rf.score(X_train_std, y_train)"
   ]
  },
  {
   "cell_type": "code",
   "execution_count": 63,
   "metadata": {
    "ExecuteTime": {
     "end_time": "2021-01-18T10:48:20.377371Z",
     "start_time": "2021-01-18T10:47:57.638775Z"
    }
   },
   "outputs": [
    {
     "name": "stdout",
     "output_type": "stream",
     "text": [
      "Classification Report:\n",
      "              precision    recall  f1-score   support\n",
      "\n",
      "         0.0       0.73      0.72      0.73   1098273\n",
      "         1.0       0.73      0.74      0.74   1112908\n",
      "\n",
      "    accuracy                           0.73   2211181\n",
      "   macro avg       0.73      0.73      0.73   2211181\n",
      "weighted avg       0.73      0.73      0.73   2211181\n",
      "\n",
      "Accuracy: 0.7306448454468449\n",
      "Precision: 0.7273134725794871\n",
      "Recall: 0.743639186707257\n",
      "F-1: 0.7353857322539528\n",
      "AUC: 0.7305582676176776\n"
     ]
    },
    {
     "data": {
      "image/png": "[encoded data removed]",
      "text/plain": [
       "<Figure size 432x288 with 1 Axes>"
      ]
     },
     "metadata": {
      "needs_background": "light"
     },
     "output_type": "display_data"
    },
    {
     "name": "stdout",
     "output_type": "stream",
     "text": [
      "Confusion Matrix:\n",
      "[[787986 310287]\n",
      " [285306 827602]]\n",
      "True positives: 787986\n",
      "False positives: 285306\n",
      "True negatives: 827602\n",
      "False negatives: 310287\n",
      "\n",
      "\n"
     ]
    }
   ],
   "source": [
    "evaluate_model(y_test, pred_y_test)"
   ]
  },
  {
   "cell_type": "code",
   "execution_count": 64,
   "metadata": {
    "ExecuteTime": {
     "end_time": "2021-01-18T10:50:59.417924Z",
     "start_time": "2021-01-18T10:48:20.385418Z"
    }
   },
   "outputs": [
    {
     "name": "stdout",
     "output_type": "stream",
     "text": [
      "(2556790, 1)\n"
     ]
    }
   ],
   "source": [
    "pred_result = rf.predict(all_test_std)\n",
    "\n",
    "update = pd.DataFrame({'id':id_test['id'],\n",
    "                       'target':pred_result})\n",
    "update['id'] = update['id'].apply(lambda x:int(x))\n",
    "update.set_index(\"id\" , inplace=True)\n",
    "print(update.shape)"
   ]
  },
  {
   "cell_type": "code",
   "execution_count": 65,
   "metadata": {
    "ExecuteTime": {
     "end_time": "2021-01-18T10:59:49.397613Z",
     "start_time": "2021-01-18T10:59:42.890478Z"
    }
   },
   "outputs": [],
   "source": [
    "update.to_csv('submission_rf調參3.csv') ## rf調參3"
   ]
  },
  {
   "cell_type": "markdown",
   "metadata": {},
   "source": [
    "### max_depth = 38, oob_score = True"
   ]
  },
  {
   "cell_type": "code",
   "execution_count": 37,
   "metadata": {
    "ExecuteTime": {
     "end_time": "2021-01-19T17:07:00.237405Z",
     "start_time": "2021-01-19T15:48:32.965615Z"
    }
   },
   "outputs": [
    {
     "name": "stdout",
     "output_type": "stream",
     "text": [
      "0.987952715615321\n"
     ]
    }
   ],
   "source": [
    "rf = RandomForestClassifier(n_estimators = 70,max_depth = 38, oob_score = True)\n",
    "\n",
    "rf.fit(X_train_std, y_train)\n",
    "pred_y_test = rf.predict(X_test_std)\n",
    "print(rf.score(X_train_std, y_train))"
   ]
  },
  {
   "cell_type": "code",
   "execution_count": 67,
   "metadata": {
    "ExecuteTime": {
     "end_time": "2021-01-18T12:17:24.928995Z",
     "start_time": "2021-01-18T12:17:01.502917Z"
    }
   },
   "outputs": [
    {
     "name": "stdout",
     "output_type": "stream",
     "text": [
      "Classification Report:\n",
      "              precision    recall  f1-score   support\n",
      "\n",
      "         0.0       0.73      0.72      0.73   1098273\n",
      "         1.0       0.73      0.74      0.74   1112908\n",
      "\n",
      "    accuracy                           0.73   2211181\n",
      "   macro avg       0.73      0.73      0.73   2211181\n",
      "weighted avg       0.73      0.73      0.73   2211181\n",
      "\n",
      "Accuracy: 0.7312191991519464\n",
      "Precision: 0.7281618667401123\n",
      "Recall: 0.7435592160358269\n",
      "F-1: 0.7357799967901825\n",
      "AUC: 0.7311369809115382\n"
     ]
    },
    {
     "data": {
      "image/png": "[encoded data removed]",
      "text/plain": [
       "<Figure size 432x288 with 1 Axes>"
      ]
     },
     "metadata": {
      "needs_background": "light"
     },
     "output_type": "display_data"
    },
    {
     "name": "stdout",
     "output_type": "stream",
     "text": [
      "Confusion Matrix:\n",
      "[[789345 308928]\n",
      " [285395 827513]]\n",
      "True positives: 789345\n",
      "False positives: 285395\n",
      "True negatives: 827513\n",
      "False negatives: 308928\n",
      "\n",
      "\n"
     ]
    }
   ],
   "source": [
    "evaluate_model(y_test, pred_y_test)"
   ]
  },
  {
   "cell_type": "code",
   "execution_count": 39,
   "metadata": {
    "ExecuteTime": {
     "end_time": "2021-01-19T17:23:52.696756Z",
     "start_time": "2021-01-19T17:20:52.541451Z"
    }
   },
   "outputs": [
    {
     "name": "stdout",
     "output_type": "stream",
     "text": [
      "2556790\n",
      "(2556790, 1)\n"
     ]
    }
   ],
   "source": [
    "pred_result = rf.predict_proba(all_test_std)\n",
    "\n",
    "pred_list = pred_result.tolist()\n",
    "pred_ = []\n",
    "for i in range(len(pred_list)):\n",
    "    pred_.append(pred_list[i][-1])\n",
    "print(len(pred_))\n",
    "\n",
    "\n",
    "update = pd.DataFrame({'id':id_test['id'],\n",
    "                       'target':pred_})\n",
    "update['id'] = update['id'].apply(lambda x:int(x))\n",
    "update.set_index(\"id\" , inplace=True)\n",
    "update.head()\n",
    "print(update.shape)"
   ]
  },
  {
   "cell_type": "code",
   "execution_count": 40,
   "metadata": {
    "ExecuteTime": {
     "end_time": "2021-01-19T17:24:02.970336Z",
     "start_time": "2021-01-19T17:23:52.707147Z"
    }
   },
   "outputs": [],
   "source": [
    "update.to_csv('submission_rf調參4.csv') ## rf調參4"
   ]
  },
  {
   "cell_type": "code",
   "execution_count": null,
   "metadata": {},
   "outputs": [],
   "source": []
  },
  {
   "cell_type": "code",
   "execution_count": null,
   "metadata": {},
   "outputs": [],
   "source": []
  },
  {
   "cell_type": "code",
   "execution_count": null,
   "metadata": {},
   "outputs": [],
   "source": []
  },
  {
   "cell_type": "markdown",
   "metadata": {},
   "source": [
    "# XGBoost"
   ]
  },
  {
   "cell_type": "markdown",
   "metadata": {},
   "source": [
    "## n_estimators"
   ]
  },
  {
   "cell_type": "code",
   "execution_count": 42,
   "metadata": {
    "ExecuteTime": {
     "end_time": "2021-01-19T17:24:22.487876Z",
     "start_time": "2021-01-19T17:24:22.339646Z"
    }
   },
   "outputs": [],
   "source": [
    "import warnings\n",
    "warnings.filterwarnings('ignore')\n",
    "\n",
    "from xgboost import XGBClassifier"
   ]
  },
  {
   "cell_type": "code",
   "execution_count": 7,
   "metadata": {
    "ExecuteTime": {
     "end_time": "2021-01-12T08:07:25.744897Z",
     "start_time": "2021-01-12T06:05:59.516195Z"
    }
   },
   "outputs": [
    {
     "name": "stdout",
     "output_type": "stream",
     "text": [
      "[14:06:06] WARNING: src/learner.cc:686: Tree method is automatically selected to be 'approx' for faster speed. To use old behavior (exact greedy algorithm on single machine), set tree_method to 'exact'.\n",
      "0.621\n",
      "[14:11:54] WARNING: src/learner.cc:686: Tree method is automatically selected to be 'approx' for faster speed. To use old behavior (exact greedy algorithm on single machine), set tree_method to 'exact'.\n",
      "0.622\n",
      "[14:27:04] WARNING: src/learner.cc:686: Tree method is automatically selected to be 'approx' for faster speed. To use old behavior (exact greedy algorithm on single machine), set tree_method to 'exact'.\n",
      "0.627\n",
      "[14:51:04] WARNING: src/learner.cc:686: Tree method is automatically selected to be 'approx' for faster speed. To use old behavior (exact greedy algorithm on single machine), set tree_method to 'exact'.\n",
      "0.63\n",
      "[15:25:04] WARNING: src/learner.cc:686: Tree method is automatically selected to be 'approx' for faster speed. To use old behavior (exact greedy algorithm on single machine), set tree_method to 'exact'.\n",
      "0.631\n"
     ]
    }
   ],
   "source": [
    "model = XGBClassifier()\n",
    "\n",
    "random = np.arange(10,110,20)\n",
    "\n",
    "f1score = []\n",
    "acc = []\n",
    "\n",
    "for n in random:\n",
    "    model.set_params(n_estimators= n)\n",
    "    model.fit(X_train_std, y_train)\n",
    "    pred_y_test = model.predict(X_test_std)\n",
    "    f1score.append(round(f1_score(y_true = y_test, y_pred = pred_y_test, average='weighted'),3))\n",
    "    acc.append(round(accuracy_score(y_test, pred_y_test),3))\n",
    "    \n",
    "    print(round(accuracy_score(y_test, pred_y_test),3))"
   ]
  },
  {
   "cell_type": "code",
   "execution_count": 8,
   "metadata": {
    "ExecuteTime": {
     "end_time": "2021-01-12T09:29:28.961404Z",
     "start_time": "2021-01-12T09:29:27.469884Z"
    }
   },
   "outputs": [
    {
     "data": {
      "text/plain": [
       "[<matplotlib.lines.Line2D at 0x7f9639a25910>]"
      ]
     },
     "execution_count": 8,
     "metadata": {},
     "output_type": "execute_result"
    },
    {
     "data": {
      "image/png": "[encoded data removed]",
      "text/plain": [
       "<Figure size 432x288 with 1 Axes>"
      ]
     },
     "metadata": {
      "needs_background": "light"
     },
     "output_type": "display_data"
    }
   ],
   "source": [
    "plt.title(\"Effect of n_estimators\")\n",
    "plt.xlabel(\"n_estimators\")\n",
    "plt.ylabel(\"Accuracy\")\n",
    "plt.plot(random, acc)"
   ]
  },
  {
   "cell_type": "markdown",
   "metadata": {},
   "source": [
    "### n_estimators = 90"
   ]
  },
  {
   "cell_type": "code",
   "execution_count": 78,
   "metadata": {
    "ExecuteTime": {
     "end_time": "2021-01-18T18:30:47.450480Z",
     "start_time": "2021-01-18T17:48:44.364790Z"
    }
   },
   "outputs": [
    {
     "name": "stdout",
     "output_type": "stream",
     "text": [
      "[01:48:47] WARNING: src/learner.cc:686: Tree method is automatically selected to be 'approx' for faster speed. To use old behavior (exact greedy algorithm on single machine), set tree_method to 'exact'.\n"
     ]
    }
   ],
   "source": [
    "xgb = XGBClassifier(n_estimators = 90)\n",
    "\n",
    "xgb.fit(X_train_std, y_train)\n",
    "pred_y_test = xgb.predict(X_test_std)"
   ]
  },
  {
   "cell_type": "code",
   "execution_count": 79,
   "metadata": {
    "ExecuteTime": {
     "end_time": "2021-01-18T18:31:22.543510Z",
     "start_time": "2021-01-18T18:30:47.473286Z"
    }
   },
   "outputs": [
    {
     "data": {
      "text/plain": [
       "0.6310374034290676"
      ]
     },
     "execution_count": 79,
     "metadata": {},
     "output_type": "execute_result"
    }
   ],
   "source": [
    "xgb.score(X_train_std, y_train)"
   ]
  },
  {
   "cell_type": "code",
   "execution_count": 80,
   "metadata": {
    "ExecuteTime": {
     "end_time": "2021-01-18T18:31:44.779038Z",
     "start_time": "2021-01-18T18:31:22.558136Z"
    }
   },
   "outputs": [
    {
     "name": "stdout",
     "output_type": "stream",
     "text": [
      "Classification Report:\n",
      "              precision    recall  f1-score   support\n",
      "\n",
      "         0.0       0.63      0.63      0.63   1098273\n",
      "         1.0       0.63      0.63      0.63   1112908\n",
      "\n",
      "    accuracy                           0.63   2211181\n",
      "   macro avg       0.63      0.63      0.63   2211181\n",
      "weighted avg       0.63      0.63      0.63   2211181\n",
      "\n",
      "Accuracy: 0.630790514209375\n",
      "Precision: 0.6345857249325753\n",
      "Recall: 0.6281372763966114\n",
      "F-1: 0.6313450352606698\n",
      "AUC: 0.6308081920250864\n"
     ]
    },
    {
     "data": {
      "image/png": "[encoded data removed]",
      "text/plain": [
       "<Figure size 432x288 with 1 Axes>"
      ]
     },
     "metadata": {
      "needs_background": "light"
     },
     "output_type": "display_data"
    },
    {
     "name": "stdout",
     "output_type": "stream",
     "text": [
      "Confusion Matrix:\n",
      "[[695733 402540]\n",
      " [413849 699059]]\n",
      "True positives: 695733\n",
      "False positives: 413849\n",
      "True negatives: 699059\n",
      "False negatives: 402540\n",
      "\n",
      "\n"
     ]
    }
   ],
   "source": [
    "evaluate_model(y_test, pred_y_test)"
   ]
  },
  {
   "cell_type": "code",
   "execution_count": 81,
   "metadata": {
    "ExecuteTime": {
     "end_time": "2021-01-18T18:32:01.395765Z",
     "start_time": "2021-01-18T18:31:44.786975Z"
    }
   },
   "outputs": [
    {
     "name": "stdout",
     "output_type": "stream",
     "text": [
      "(2556790, 1)\n"
     ]
    }
   ],
   "source": [
    "pred_result = xgb.predict(all_test_std)\n",
    "\n",
    "update = pd.DataFrame({'id':id_test['id'],\n",
    "                       'target':pred_result})\n",
    "update['id'] = update['id'].apply(lambda x:int(x))\n",
    "update.set_index(\"id\" ,inplace=True)\n",
    "print(update.shape)"
   ]
  },
  {
   "cell_type": "code",
   "execution_count": 83,
   "metadata": {
    "ExecuteTime": {
     "end_time": "2021-01-19T10:09:07.231546Z",
     "start_time": "2021-01-19T10:08:59.029105Z"
    }
   },
   "outputs": [],
   "source": [
    "update.to_csv('submission_xgb調參1.csv') ## xgb調參1"
   ]
  },
  {
   "cell_type": "code",
   "execution_count": null,
   "metadata": {},
   "outputs": [],
   "source": []
  },
  {
   "cell_type": "markdown",
   "metadata": {},
   "source": [
    "## max_depth"
   ]
  },
  {
   "cell_type": "code",
   "execution_count": 82,
   "metadata": {
    "ExecuteTime": {
     "end_time": "2021-01-19T10:08:50.051781Z",
     "start_time": "2021-01-18T18:32:01.400885Z"
    },
    "scrolled": true
   },
   "outputs": [
    {
     "name": "stdout",
     "output_type": "stream",
     "text": [
      "[02:32:06] WARNING: src/learner.cc:686: Tree method is automatically selected to be 'approx' for faster speed. To use old behavior (exact greedy algorithm on single machine), set tree_method to 'exact'.\n",
      "0.631\n",
      "[03:11:54] WARNING: src/learner.cc:686: Tree method is automatically selected to be 'approx' for faster speed. To use old behavior (exact greedy algorithm on single machine), set tree_method to 'exact'.\n",
      "0.655\n",
      "[04:30:20] WARNING: src/learner.cc:686: Tree method is automatically selected to be 'approx' for faster speed. To use old behavior (exact greedy algorithm on single machine), set tree_method to 'exact'.\n",
      "0.7\n",
      "[06:34:47] WARNING: src/learner.cc:686: Tree method is automatically selected to be 'approx' for faster speed. To use old behavior (exact greedy algorithm on single machine), set tree_method to 'exact'.\n",
      "0.733\n",
      "[09:39:05] WARNING: src/learner.cc:686: Tree method is automatically selected to be 'approx' for faster speed. To use old behavior (exact greedy algorithm on single machine), set tree_method to 'exact'.\n",
      "0.737\n",
      "[14:00:19] WARNING: src/learner.cc:686: Tree method is automatically selected to be 'approx' for faster speed. To use old behavior (exact greedy algorithm on single machine), set tree_method to 'exact'.\n"
     ]
    },
    {
     "ename": "KeyboardInterrupt",
     "evalue": "",
     "output_type": "error",
     "traceback": [
      "\u001b[0;31m---------------------------------------------------------------------------\u001b[0m",
      "\u001b[0;31mKeyboardInterrupt\u001b[0m                         Traceback (most recent call last)",
      "\u001b[0;32m<ipython-input-82-5fb7b4aad74a>\u001b[0m in \u001b[0;36m<module>\u001b[0;34m\u001b[0m\n\u001b[1;32m      8\u001b[0m \u001b[0;32mfor\u001b[0m \u001b[0mn\u001b[0m \u001b[0;32min\u001b[0m \u001b[0mrandom\u001b[0m\u001b[0;34m:\u001b[0m\u001b[0;34m\u001b[0m\u001b[0;34m\u001b[0m\u001b[0m\n\u001b[1;32m      9\u001b[0m     \u001b[0mmodel\u001b[0m\u001b[0;34m.\u001b[0m\u001b[0mset_params\u001b[0m\u001b[0;34m(\u001b[0m\u001b[0mn_estimators\u001b[0m\u001b[0;34m=\u001b[0m \u001b[0;36m90\u001b[0m\u001b[0;34m,\u001b[0m \u001b[0mmax_depth\u001b[0m \u001b[0;34m=\u001b[0m \u001b[0mn\u001b[0m\u001b[0;34m)\u001b[0m\u001b[0;34m\u001b[0m\u001b[0;34m\u001b[0m\u001b[0m\n\u001b[0;32m---> 10\u001b[0;31m     \u001b[0mmodel\u001b[0m\u001b[0;34m.\u001b[0m\u001b[0mfit\u001b[0m\u001b[0;34m(\u001b[0m\u001b[0mX_train_std\u001b[0m\u001b[0;34m,\u001b[0m \u001b[0my_train\u001b[0m\u001b[0;34m)\u001b[0m\u001b[0;34m\u001b[0m\u001b[0;34m\u001b[0m\u001b[0m\n\u001b[0m\u001b[1;32m     11\u001b[0m     \u001b[0mpred_y_test\u001b[0m \u001b[0;34m=\u001b[0m \u001b[0mmodel\u001b[0m\u001b[0;34m.\u001b[0m\u001b[0mpredict\u001b[0m\u001b[0;34m(\u001b[0m\u001b[0mX_test_std\u001b[0m\u001b[0;34m)\u001b[0m\u001b[0;34m\u001b[0m\u001b[0;34m\u001b[0m\u001b[0m\n\u001b[1;32m     12\u001b[0m     \u001b[0mf1score\u001b[0m\u001b[0;34m.\u001b[0m\u001b[0mappend\u001b[0m\u001b[0;34m(\u001b[0m\u001b[0mround\u001b[0m\u001b[0;34m(\u001b[0m\u001b[0mf1_score\u001b[0m\u001b[0;34m(\u001b[0m\u001b[0my_true\u001b[0m \u001b[0;34m=\u001b[0m \u001b[0my_test\u001b[0m\u001b[0;34m,\u001b[0m \u001b[0my_pred\u001b[0m \u001b[0;34m=\u001b[0m \u001b[0mpred_y_test\u001b[0m\u001b[0;34m,\u001b[0m \u001b[0maverage\u001b[0m\u001b[0;34m=\u001b[0m\u001b[0;34m'weighted'\u001b[0m\u001b[0;34m)\u001b[0m\u001b[0;34m,\u001b[0m\u001b[0;36m3\u001b[0m\u001b[0;34m)\u001b[0m\u001b[0;34m)\u001b[0m\u001b[0;34m\u001b[0m\u001b[0;34m\u001b[0m\u001b[0m\n",
      "\u001b[0;32m/opt/anaconda3/lib/python3.7/site-packages/xgboost/sklearn.py\u001b[0m in \u001b[0;36mfit\u001b[0;34m(self, X, y, sample_weight, eval_set, eval_metric, early_stopping_rounds, verbose, xgb_model, sample_weight_eval_set, callbacks)\u001b[0m\n\u001b[1;32m    730\u001b[0m                               \u001b[0mevals_result\u001b[0m\u001b[0;34m=\u001b[0m\u001b[0mevals_result\u001b[0m\u001b[0;34m,\u001b[0m \u001b[0mobj\u001b[0m\u001b[0;34m=\u001b[0m\u001b[0mobj\u001b[0m\u001b[0;34m,\u001b[0m \u001b[0mfeval\u001b[0m\u001b[0;34m=\u001b[0m\u001b[0mfeval\u001b[0m\u001b[0;34m,\u001b[0m\u001b[0;34m\u001b[0m\u001b[0;34m\u001b[0m\u001b[0m\n\u001b[1;32m    731\u001b[0m                               \u001b[0mverbose_eval\u001b[0m\u001b[0;34m=\u001b[0m\u001b[0mverbose\u001b[0m\u001b[0;34m,\u001b[0m \u001b[0mxgb_model\u001b[0m\u001b[0;34m=\u001b[0m\u001b[0mxgb_model\u001b[0m\u001b[0;34m,\u001b[0m\u001b[0;34m\u001b[0m\u001b[0;34m\u001b[0m\u001b[0m\n\u001b[0;32m--> 732\u001b[0;31m                               callbacks=callbacks)\n\u001b[0m\u001b[1;32m    733\u001b[0m \u001b[0;34m\u001b[0m\u001b[0m\n\u001b[1;32m    734\u001b[0m         \u001b[0mself\u001b[0m\u001b[0;34m.\u001b[0m\u001b[0mobjective\u001b[0m \u001b[0;34m=\u001b[0m \u001b[0mxgb_options\u001b[0m\u001b[0;34m[\u001b[0m\u001b[0;34m\"objective\"\u001b[0m\u001b[0;34m]\u001b[0m\u001b[0;34m\u001b[0m\u001b[0;34m\u001b[0m\u001b[0m\n",
      "\u001b[0;32m/opt/anaconda3/lib/python3.7/site-packages/xgboost/training.py\u001b[0m in \u001b[0;36mtrain\u001b[0;34m(params, dtrain, num_boost_round, evals, obj, feval, maximize, early_stopping_rounds, evals_result, verbose_eval, xgb_model, callbacks, learning_rates)\u001b[0m\n\u001b[1;32m    214\u001b[0m                            \u001b[0mevals\u001b[0m\u001b[0;34m=\u001b[0m\u001b[0mevals\u001b[0m\u001b[0;34m,\u001b[0m\u001b[0;34m\u001b[0m\u001b[0;34m\u001b[0m\u001b[0m\n\u001b[1;32m    215\u001b[0m                            \u001b[0mobj\u001b[0m\u001b[0;34m=\u001b[0m\u001b[0mobj\u001b[0m\u001b[0;34m,\u001b[0m \u001b[0mfeval\u001b[0m\u001b[0;34m=\u001b[0m\u001b[0mfeval\u001b[0m\u001b[0;34m,\u001b[0m\u001b[0;34m\u001b[0m\u001b[0;34m\u001b[0m\u001b[0m\n\u001b[0;32m--> 216\u001b[0;31m                            xgb_model=xgb_model, callbacks=callbacks)\n\u001b[0m\u001b[1;32m    217\u001b[0m \u001b[0;34m\u001b[0m\u001b[0m\n\u001b[1;32m    218\u001b[0m \u001b[0;34m\u001b[0m\u001b[0m\n",
      "\u001b[0;32m/opt/anaconda3/lib/python3.7/site-packages/xgboost/training.py\u001b[0m in \u001b[0;36m_train_internal\u001b[0;34m(params, dtrain, num_boost_round, evals, obj, feval, xgb_model, callbacks)\u001b[0m\n\u001b[1;32m     72\u001b[0m         \u001b[0;31m# Skip the first update if it is a recovery step.\u001b[0m\u001b[0;34m\u001b[0m\u001b[0;34m\u001b[0m\u001b[0;34m\u001b[0m\u001b[0m\n\u001b[1;32m     73\u001b[0m         \u001b[0;32mif\u001b[0m \u001b[0mversion\u001b[0m \u001b[0;34m%\u001b[0m \u001b[0;36m2\u001b[0m \u001b[0;34m==\u001b[0m \u001b[0;36m0\u001b[0m\u001b[0;34m:\u001b[0m\u001b[0;34m\u001b[0m\u001b[0;34m\u001b[0m\u001b[0m\n\u001b[0;32m---> 74\u001b[0;31m             \u001b[0mbst\u001b[0m\u001b[0;34m.\u001b[0m\u001b[0mupdate\u001b[0m\u001b[0;34m(\u001b[0m\u001b[0mdtrain\u001b[0m\u001b[0;34m,\u001b[0m \u001b[0mi\u001b[0m\u001b[0;34m,\u001b[0m \u001b[0mobj\u001b[0m\u001b[0;34m)\u001b[0m\u001b[0;34m\u001b[0m\u001b[0;34m\u001b[0m\u001b[0m\n\u001b[0m\u001b[1;32m     75\u001b[0m             \u001b[0mbst\u001b[0m\u001b[0;34m.\u001b[0m\u001b[0msave_rabit_checkpoint\u001b[0m\u001b[0;34m(\u001b[0m\u001b[0;34m)\u001b[0m\u001b[0;34m\u001b[0m\u001b[0;34m\u001b[0m\u001b[0m\n\u001b[1;32m     76\u001b[0m             \u001b[0mversion\u001b[0m \u001b[0;34m+=\u001b[0m \u001b[0;36m1\u001b[0m\u001b[0;34m\u001b[0m\u001b[0;34m\u001b[0m\u001b[0m\n",
      "\u001b[0;32m/opt/anaconda3/lib/python3.7/site-packages/xgboost/core.py\u001b[0m in \u001b[0;36mupdate\u001b[0;34m(self, dtrain, iteration, fobj)\u001b[0m\n\u001b[1;32m   1107\u001b[0m         \u001b[0;32mif\u001b[0m \u001b[0mfobj\u001b[0m \u001b[0;32mis\u001b[0m \u001b[0;32mNone\u001b[0m\u001b[0;34m:\u001b[0m\u001b[0;34m\u001b[0m\u001b[0;34m\u001b[0m\u001b[0m\n\u001b[1;32m   1108\u001b[0m             _check_call(_LIB.XGBoosterUpdateOneIter(self.handle, ctypes.c_int(iteration),\n\u001b[0;32m-> 1109\u001b[0;31m                                                     dtrain.handle))\n\u001b[0m\u001b[1;32m   1110\u001b[0m         \u001b[0;32melse\u001b[0m\u001b[0;34m:\u001b[0m\u001b[0;34m\u001b[0m\u001b[0;34m\u001b[0m\u001b[0m\n\u001b[1;32m   1111\u001b[0m             \u001b[0mpred\u001b[0m \u001b[0;34m=\u001b[0m \u001b[0mself\u001b[0m\u001b[0;34m.\u001b[0m\u001b[0mpredict\u001b[0m\u001b[0;34m(\u001b[0m\u001b[0mdtrain\u001b[0m\u001b[0;34m)\u001b[0m\u001b[0;34m\u001b[0m\u001b[0;34m\u001b[0m\u001b[0m\n",
      "\u001b[0;31mKeyboardInterrupt\u001b[0m: "
     ]
    }
   ],
   "source": [
    "model = XGBClassifier()\n",
    "\n",
    "random = np.arange(3,50,5)\n",
    "\n",
    "f1score = []\n",
    "acc = []\n",
    "\n",
    "for n in random:\n",
    "    model.set_params(n_estimators= 90, max_depth = n)\n",
    "    model.fit(X_train_std, y_train)\n",
    "    pred_y_test = model.predict(X_test_std)\n",
    "    f1score.append(round(f1_score(y_true = y_test, y_pred = pred_y_test, average='weighted'),3))\n",
    "    acc.append(round(accuracy_score(y_test, pred_y_test),3))\n",
    "    \n",
    "    print(round(accuracy_score(y_test, pred_y_test),3))"
   ]
  },
  {
   "cell_type": "code",
   "execution_count": null,
   "metadata": {
    "ExecuteTime": {
     "end_time": "2021-01-19T10:08:50.098727Z",
     "start_time": "2021-01-18T18:19:54.828Z"
    }
   },
   "outputs": [],
   "source": [
    "# plt.title(\"Effect of n_estimators\")\n",
    "# plt.xlabel(\"n_estimators\")\n",
    "# plt.ylabel(\"Accuracy\")\n",
    "# plt.plot(random, acc)"
   ]
  },
  {
   "cell_type": "code",
   "execution_count": null,
   "metadata": {},
   "outputs": [],
   "source": []
  },
  {
   "cell_type": "markdown",
   "metadata": {},
   "source": [
    "### max_depth = 18"
   ]
  },
  {
   "cell_type": "code",
   "execution_count": 43,
   "metadata": {
    "ExecuteTime": {
     "end_time": "2021-01-19T20:36:43.924291Z",
     "start_time": "2021-01-19T17:24:29.477181Z"
    }
   },
   "outputs": [
    {
     "name": "stdout",
     "output_type": "stream",
     "text": [
      "[01:24:58] WARNING: src/learner.cc:686: Tree method is automatically selected to be 'approx' for faster speed. To use old behavior (exact greedy algorithm on single machine), set tree_method to 'exact'.\n"
     ]
    }
   ],
   "source": [
    "xgb = XGBClassifier(n_estimators = 90, max_depth=18)\n",
    "\n",
    "xgb.fit(X_train_std, y_train)\n",
    "pred_y_test = xgb.predict(X_test_std)"
   ]
  },
  {
   "cell_type": "code",
   "execution_count": 44,
   "metadata": {
    "ExecuteTime": {
     "end_time": "2021-01-19T20:43:58.422537Z",
     "start_time": "2021-01-19T20:36:43.981309Z"
    }
   },
   "outputs": [
    {
     "data": {
      "text/plain": [
       "0.8329027293765578"
      ]
     },
     "execution_count": 44,
     "metadata": {},
     "output_type": "execute_result"
    }
   ],
   "source": [
    "xgb.score(X_train_std, y_train)"
   ]
  },
  {
   "cell_type": "code",
   "execution_count": 86,
   "metadata": {
    "ExecuteTime": {
     "end_time": "2021-01-19T13:18:32.263220Z",
     "start_time": "2021-01-19T13:18:08.281577Z"
    }
   },
   "outputs": [
    {
     "name": "stdout",
     "output_type": "stream",
     "text": [
      "Classification Report:\n",
      "              precision    recall  f1-score   support\n",
      "\n",
      "         0.0       0.74      0.72      0.73   1098273\n",
      "         1.0       0.73      0.75      0.74   1112908\n",
      "\n",
      "    accuracy                           0.73   2211181\n",
      "   macro avg       0.73      0.73      0.73   2211181\n",
      "weighted avg       0.73      0.73      0.73   2211181\n",
      "\n",
      "Accuracy: 0.7328527153588964\n",
      "Precision: 0.7293091440510578\n",
      "Recall: 0.7461659005057022\n",
      "F-1: 0.7376412311756537\n",
      "AUC: 0.7327640131579758\n"
     ]
    },
    {
     "data": {
      "image/png": "[encoded data removed]",
      "text/plain": [
       "<Figure size 432x288 with 1 Axes>"
      ]
     },
     "metadata": {
      "needs_background": "light"
     },
     "output_type": "display_data"
    },
    {
     "name": "stdout",
     "output_type": "stream",
     "text": [
      "Confusion Matrix:\n",
      "[[790056 308217]\n",
      " [282494 830414]]\n",
      "True positives: 790056\n",
      "False positives: 282494\n",
      "True negatives: 830414\n",
      "False negatives: 308217\n",
      "\n",
      "\n"
     ]
    }
   ],
   "source": [
    "evaluate_model(y_test, pred_y_test)"
   ]
  },
  {
   "cell_type": "code",
   "execution_count": 45,
   "metadata": {
    "ExecuteTime": {
     "end_time": "2021-01-19T20:46:50.830378Z",
     "start_time": "2021-01-19T20:43:58.429889Z"
    }
   },
   "outputs": [
    {
     "name": "stdout",
     "output_type": "stream",
     "text": [
      "2556790\n",
      "(2556790, 1)\n"
     ]
    }
   ],
   "source": [
    "pred_result = xgb.predict_proba(all_test_std)\n",
    "\n",
    "pred_list = pred_result.tolist()\n",
    "pred_ = []\n",
    "for i in range(len(pred_list)):\n",
    "    pred_.append(pred_list[i][-1])\n",
    "print(len(pred_))\n",
    "\n",
    "\n",
    "update = pd.DataFrame({'id':id_test['id'],\n",
    "                       'target':pred_})\n",
    "update['id'] = update['id'].apply(lambda x:int(x))\n",
    "update.set_index(\"id\" , inplace=True)\n",
    "update.head()\n",
    "print(update.shape)"
   ]
  },
  {
   "cell_type": "code",
   "execution_count": 46,
   "metadata": {
    "ExecuteTime": {
     "end_time": "2021-01-20T03:56:56.106445Z",
     "start_time": "2021-01-20T03:56:46.038330Z"
    }
   },
   "outputs": [],
   "source": [
    "update.to_csv('submission_xgb調參2.csv') ## xgb調參2"
   ]
  },
  {
   "cell_type": "code",
   "execution_count": null,
   "metadata": {},
   "outputs": [],
   "source": []
  },
  {
   "cell_type": "code",
   "execution_count": null,
   "metadata": {},
   "outputs": [],
   "source": []
  }
 ],
 "metadata": {
  "kernelspec": {
   "display_name": "Python 3",
   "language": "python",
   "name": "python3"
  },
  "language_info": {
   "codemirror_mode": {
    "name": "ipython",
    "version": 3
   },
   "file_extension": ".py",
   "mimetype": "text/x-python",
   "name": "python",
   "nbconvert_exporter": "python",
   "pygments_lexer": "ipython3",
   "version": "3.7.4"
  },
  "toc": {
   "base_numbering": 1,
   "nav_menu": {},
   "number_sections": true,
   "sideBar": true,
   "skip_h1_title": false,
   "title_cell": "Table of Contents",
   "title_sidebar": "Contents",
   "toc_cell": false,
   "toc_position": {
    "height": "calc(100% - 180px)",
    "left": "10px",
    "top": "150px",
    "width": "326px"
   },
   "toc_section_display": true,
   "toc_window_display": true
  }
 },
 "nbformat": 4,
 "nbformat_minor": 2
}
