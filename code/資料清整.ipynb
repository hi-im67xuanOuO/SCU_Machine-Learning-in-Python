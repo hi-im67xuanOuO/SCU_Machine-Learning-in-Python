{
 "cells": [
  {
   "cell_type": "code",
   "execution_count": 1,
   "metadata": {
    "ExecuteTime": {
     "end_time": "2021-01-14T03:20:53.449696Z",
     "start_time": "2021-01-14T03:20:51.582969Z"
    }
   },
   "outputs": [],
   "source": [
    "import csv\n",
    "import pandas as pd\n",
    "import numpy as np"
   ]
  },
  {
   "cell_type": "markdown",
   "metadata": {},
   "source": [
    "# 讀取資料表"
   ]
  },
  {
   "cell_type": "code",
   "execution_count": 2,
   "metadata": {
    "ExecuteTime": {
     "end_time": "2021-01-14T03:21:27.231332Z",
     "start_time": "2021-01-14T03:20:55.305152Z"
    }
   },
   "outputs": [],
   "source": [
    "df_train = pd.read_csv('train.csv')\n",
    "df_song = pd.read_csv('songs.csv')\n",
    "df_members = pd.read_csv('members.csv')\n",
    "df_test = pd.read_csv('test.csv')\n",
    "# df_target = pd.read_csv('sample_submission.csv')"
   ]
  },
  {
   "cell_type": "code",
   "execution_count": 3,
   "metadata": {
    "ExecuteTime": {
     "end_time": "2021-01-14T03:21:27.280595Z",
     "start_time": "2021-01-14T03:21:27.252799Z"
    }
   },
   "outputs": [
    {
     "data": {
      "text/plain": [
       "Index(['msno', 'song_id', 'source_system_tab', 'source_screen_name',\n",
       "       'source_type', 'target'],\n",
       "      dtype='object')"
      ]
     },
     "execution_count": 3,
     "metadata": {},
     "output_type": "execute_result"
    }
   ],
   "source": [
    "df_train.columns"
   ]
  },
  {
   "cell_type": "code",
   "execution_count": 4,
   "metadata": {
    "ExecuteTime": {
     "end_time": "2021-01-14T03:21:27.332437Z",
     "start_time": "2021-01-14T03:21:27.297771Z"
    },
    "scrolled": true
   },
   "outputs": [
    {
     "data": {
      "text/plain": [
       "<bound method DataFrame.info of                                                  msno  \\\n",
       "0        FGtllVqz18RPiwJj/edr2gV78zirAiY/9SmYvia+kCg=   \n",
       "1        Xumu+NIjS6QYVxDS4/t3SawvJ7viT9hPKXmf0RtLNx8=   \n",
       "2        Xumu+NIjS6QYVxDS4/t3SawvJ7viT9hPKXmf0RtLNx8=   \n",
       "3        Xumu+NIjS6QYVxDS4/t3SawvJ7viT9hPKXmf0RtLNx8=   \n",
       "4        FGtllVqz18RPiwJj/edr2gV78zirAiY/9SmYvia+kCg=   \n",
       "...                                               ...   \n",
       "7377413  6xdFzPlrasIDD95mQWXVC3Bg4ptnGYtBl4ztVEZMddU=   \n",
       "7377414  ZxbVmt3Kh/XOH+h58c2Kdj6SjFZk+wnUO006IgWzMQE=   \n",
       "7377415  ZxbVmt3Kh/XOH+h58c2Kdj6SjFZk+wnUO006IgWzMQE=   \n",
       "7377416  0aH4Hd3ziPSRHClRX8rkeOEaAG5EPPkW1mKGCdXEok0=   \n",
       "7377417  0aH4Hd3ziPSRHClRX8rkeOEaAG5EPPkW1mKGCdXEok0=   \n",
       "\n",
       "                                              song_id source_system_tab  \\\n",
       "0        BBzumQNXUHKdEBOB7mAJuzok+IJA1c2Ryg/yzTF6tik=           explore   \n",
       "1        bhp/MpSNoqoxOIB+/l8WPqu6jldth4DIpCm3ayXnJqM=        my library   \n",
       "2        JNWfrrC7zNN7BdMpsISKa4Mw+xVJYNnxXh3/Epw7QgY=        my library   \n",
       "3        2A87tzfnJTSWqD7gIZHisolhe4DMdzkbd6LzO1KHjNs=        my library   \n",
       "4        3qm6XTZ6MOCU11x8FIVbAGH5l5uMkT3/ZalWG1oo2Gc=           explore   \n",
       "...                                               ...               ...   \n",
       "7377413  VJTxizih/o28kXCbtPbIyWXScoXGvxyYtl6R+0YB5JM=        my library   \n",
       "7377414  z1mqaU9YOX7T/PFDvUoWozdFq7rC3KwaQP7nFVprjMI=            search   \n",
       "7377415  750RprmFfLV0bymtDH88g24pLZGVi5VpBAI300P6UOA=            search   \n",
       "7377416  G8wgqObgeAMER/rVCIlgcNeQ8mm0CzF/GsxiMK8TTnA=          discover   \n",
       "7377417  Ju0VGkjWeBUZCd7r5Az2hUImhMoWxWLUicOedsmvG0g=          discover   \n",
       "\n",
       "          source_screen_name      source_type  target  \n",
       "0                    Explore  online-playlist       1  \n",
       "1        Local playlist more   local-playlist       1  \n",
       "2        Local playlist more   local-playlist       1  \n",
       "3        Local playlist more   local-playlist       1  \n",
       "4                    Explore  online-playlist       1  \n",
       "...                      ...              ...     ...  \n",
       "7377413  Local playlist more   local-playlist       1  \n",
       "7377414               Search             song       0  \n",
       "7377415               Search             song       1  \n",
       "7377416       Discover Genre  online-playlist       1  \n",
       "7377417       Discover Genre  online-playlist       1  \n",
       "\n",
       "[7377418 rows x 6 columns]>"
      ]
     },
     "execution_count": 4,
     "metadata": {},
     "output_type": "execute_result"
    }
   ],
   "source": [
    "df_train.info"
   ]
  },
  {
   "cell_type": "code",
   "execution_count": 5,
   "metadata": {
    "ExecuteTime": {
     "end_time": "2021-01-14T03:21:27.361878Z",
     "start_time": "2021-01-14T03:21:27.351110Z"
    }
   },
   "outputs": [
    {
     "data": {
      "text/plain": [
       "(7377418, 6)"
      ]
     },
     "execution_count": 5,
     "metadata": {},
     "output_type": "execute_result"
    }
   ],
   "source": [
    "df_train.shape"
   ]
  },
  {
   "cell_type": "code",
   "execution_count": 6,
   "metadata": {
    "ExecuteTime": {
     "end_time": "2021-01-14T03:21:27.383528Z",
     "start_time": "2021-01-14T03:21:27.368253Z"
    }
   },
   "outputs": [
    {
     "data": {
      "text/plain": [
       "Index(['id', 'msno', 'song_id', 'source_system_tab', 'source_screen_name',\n",
       "       'source_type'],\n",
       "      dtype='object')"
      ]
     },
     "execution_count": 6,
     "metadata": {},
     "output_type": "execute_result"
    }
   ],
   "source": [
    "df_test.columns"
   ]
  },
  {
   "cell_type": "code",
   "execution_count": 7,
   "metadata": {
    "ExecuteTime": {
     "end_time": "2021-01-14T03:21:27.413180Z",
     "start_time": "2021-01-14T03:21:27.396005Z"
    }
   },
   "outputs": [
    {
     "data": {
      "text/plain": [
       "<bound method DataFrame.info of               id                                          msno  \\\n",
       "0              0  V8ruy7SGk7tDm3zA51DPpn6qutt+vmKMBKa21dp54uM=   \n",
       "1              1  V8ruy7SGk7tDm3zA51DPpn6qutt+vmKMBKa21dp54uM=   \n",
       "2              2  /uQAlrAkaczV+nWCd2sPF2ekvXPRipV7q0l+gbLuxjw=   \n",
       "3              3  1a6oo/iXKatxQx4eS9zTVD+KlSVaAFbTIqVvwLC1Y0k=   \n",
       "4              4  1a6oo/iXKatxQx4eS9zTVD+KlSVaAFbTIqVvwLC1Y0k=   \n",
       "...          ...                                           ...   \n",
       "2556785  2556785  XmA/cIkXJ8jZUfsUc4bBfJVWMMqmylnPW0WVkg/iz0s=   \n",
       "2556786  2556786  jvbujcxCExG0CrPShsEmZ6pePcHuRqru2OLEUw85iGk=   \n",
       "2556787  2556787  jvbujcxCExG0CrPShsEmZ6pePcHuRqru2OLEUw85iGk=   \n",
       "2556788  2556788  jvbujcxCExG0CrPShsEmZ6pePcHuRqru2OLEUw85iGk=   \n",
       "2556789  2556789  jvbujcxCExG0CrPShsEmZ6pePcHuRqru2OLEUw85iGk=   \n",
       "\n",
       "                                              song_id source_system_tab  \\\n",
       "0        WmHKgKMlp1lQMecNdNvDMkvIycZYHnFwDT72I5sIssc=        my library   \n",
       "1        y/rsZ9DC7FwK5F2PK2D5mj+aOBUJAjuu3dZ14NgE0vM=        my library   \n",
       "2        8eZLFOdGVdXBSqoAv5nsLigeH2BvKXzTQYtUM53I0k4=          discover   \n",
       "3        ztCf8thYsS4YN3GcIL/bvoxLm/T5mYBVKOO4C9NiVfQ=             radio   \n",
       "4        MKVMpslKcQhMaFEgcEQhEfi5+RZhMYlU3eRDpySrH8Y=             radio   \n",
       "...                                               ...               ...   \n",
       "2556785  wJoWzZd7AL+qX9xZWZwRTzGRYg0Lxcl5Pe+9n5hZgAQ=          discover   \n",
       "2556786  KCJ8BlSfRQRgB7EVuzFvg52AhR8m2fT032MzN5ewbEI=          discover   \n",
       "2556787  ySDsKJSnhFMESzC9mBhY0hnFEEBWDYx0FOMNcYDLb/A=          discover   \n",
       "2556788  WXH8kL8e+0H2jY+s2Y6FpHyyHdaMYV3b6yfDa3FAt9U=          discover   \n",
       "2556789  ftPDlhAywvcZX7ojE6F+9CDsC22UKX96iEr4W0ciPec=          discover   \n",
       "\n",
       "           source_screen_name          source_type  \n",
       "0         Local playlist more        local-library  \n",
       "1         Local playlist more        local-library  \n",
       "2                         NaN  song-based-playlist  \n",
       "3                       Radio                radio  \n",
       "4                       Radio                radio  \n",
       "...                       ...                  ...  \n",
       "2556785  Online playlist more      online-playlist  \n",
       "2556786                   NaN      online-playlist  \n",
       "2556787                   NaN      online-playlist  \n",
       "2556788                   NaN      online-playlist  \n",
       "2556789                   NaN      online-playlist  \n",
       "\n",
       "[2556790 rows x 6 columns]>"
      ]
     },
     "execution_count": 7,
     "metadata": {},
     "output_type": "execute_result"
    }
   ],
   "source": [
    "df_test.info"
   ]
  },
  {
   "cell_type": "code",
   "execution_count": 8,
   "metadata": {
    "ExecuteTime": {
     "end_time": "2021-01-14T03:21:27.435376Z",
     "start_time": "2021-01-14T03:21:27.421056Z"
    }
   },
   "outputs": [
    {
     "data": {
      "text/plain": [
       "(2556790, 6)"
      ]
     },
     "execution_count": 8,
     "metadata": {},
     "output_type": "execute_result"
    }
   ],
   "source": [
    "df_test.shape"
   ]
  },
  {
   "cell_type": "code",
   "execution_count": 9,
   "metadata": {
    "ExecuteTime": {
     "end_time": "2021-01-14T03:21:51.605961Z",
     "start_time": "2021-01-14T03:21:51.584993Z"
    }
   },
   "outputs": [
    {
     "data": {
      "text/plain": [
       "Index(['msno', 'city', 'bd', 'gender', 'registered_via',\n",
       "       'registration_init_time', 'expiration_date'],\n",
       "      dtype='object')"
      ]
     },
     "execution_count": 9,
     "metadata": {},
     "output_type": "execute_result"
    }
   ],
   "source": [
    "df_members.columns"
   ]
  },
  {
   "cell_type": "code",
   "execution_count": 10,
   "metadata": {
    "ExecuteTime": {
     "end_time": "2021-01-14T03:21:51.968923Z",
     "start_time": "2021-01-14T03:21:51.945786Z"
    },
    "scrolled": true
   },
   "outputs": [
    {
     "data": {
      "text/plain": [
       "<bound method DataFrame.info of                                                msno  city  bd gender  \\\n",
       "0      XQxgAYj3klVKjR3oxPPXYYFp4soD4TuBghkhMTD4oTw=     1   0    NaN   \n",
       "1      UizsfmJb9mV54qE9hCYyU07Va97c0lCRLEQX3ae+ztM=     1   0    NaN   \n",
       "2      D8nEhsIOBSoE6VthTaqDX8U6lqjJ7dLdr72mOyLya2A=     1   0    NaN   \n",
       "3      mCuD+tZ1hERA/o5GPqk38e041J8ZsBaLcu7nGoIIvhI=     1   0    NaN   \n",
       "4      q4HRBfVSssAFS9iRfxWrohxuk9kCYMKjHOEagUMV6rQ=     1   0    NaN   \n",
       "...                                             ...   ...  ..    ...   \n",
       "34398  Wwd/cudKVuLJ3txRVxlg2Zaeliu+LRUfiBmfrnxhRCY=     1   0    NaN   \n",
       "34399  g3JGnJX6Hg50lFbrNWfsHwCUmApIkiv2M8sXOaeXoIQ=     4  18   male   \n",
       "34400  IMaPMJuyN+ip9Vqi+z2XuXbFAP2kbHr+EvvCNkFfj+o=     1   0    NaN   \n",
       "34401  WAnCAJjUty9Stv8yKtV7ZC7PN+ilOy5FX3aIJgGPANM=     1   0    NaN   \n",
       "34402  xH8KpzKGeNNq6dOvy51c/8VzqOiGG+m6vabhsPSDHX4=     1   0    NaN   \n",
       "\n",
       "       registered_via  registration_init_time  expiration_date  \n",
       "0                   7                20110820         20170920  \n",
       "1                   7                20150628         20170622  \n",
       "2                   4                20160411         20170712  \n",
       "3                   9                20150906         20150907  \n",
       "4                   4                20170126         20170613  \n",
       "...               ...                     ...              ...  \n",
       "34398               7                20131111         20170910  \n",
       "34399               3                20141024         20170518  \n",
       "34400               7                20130802         20170908  \n",
       "34401               7                20151020         20170920  \n",
       "34402               4                20160815         20160818  \n",
       "\n",
       "[34403 rows x 7 columns]>"
      ]
     },
     "execution_count": 10,
     "metadata": {},
     "output_type": "execute_result"
    }
   ],
   "source": [
    "df_members.info"
   ]
  },
  {
   "cell_type": "code",
   "execution_count": 11,
   "metadata": {
    "ExecuteTime": {
     "end_time": "2021-01-14T03:21:52.439877Z",
     "start_time": "2021-01-14T03:21:52.394809Z"
    }
   },
   "outputs": [
    {
     "data": {
      "text/plain": [
       "Index(['song_id', 'song_length', 'genre_ids', 'artist_name', 'composer',\n",
       "       'lyricist', 'language'],\n",
       "      dtype='object')"
      ]
     },
     "execution_count": 11,
     "metadata": {},
     "output_type": "execute_result"
    }
   ],
   "source": [
    "df_song.columns"
   ]
  },
  {
   "cell_type": "code",
   "execution_count": 12,
   "metadata": {
    "ExecuteTime": {
     "end_time": "2021-01-14T03:21:53.353146Z",
     "start_time": "2021-01-14T03:21:53.328187Z"
    },
    "scrolled": true
   },
   "outputs": [
    {
     "data": {
      "text/plain": [
       "<bound method DataFrame.info of                                               song_id  song_length genre_ids  \\\n",
       "0        CXoTN1eb7AI+DntdU1vbcwGRV4SCIDxZu+YD8JP8r4E=       247640       465   \n",
       "1        o0kFgae9QtnYgRkVPqLJwa05zIhRlUjfF7O1tDw0ZDU=       197328       444   \n",
       "2        DwVvVurfpuz+XPuFvucclVQEyPqcpUkHR0ne1RQzPs0=       231781       465   \n",
       "3        dKMBWoZyScdxSkihKG+Vf47nc18N9q4m58+b4e7dSSE=       273554       465   \n",
       "4        W3bqWd3T+VeHFzHAUfARgW9AvVRaF4N5Yzm4Mr6Eo/o=       140329       726   \n",
       "...                                               ...          ...       ...   \n",
       "2296315  lg6rn7eV/ZNg0+P+x77kHUL7GDMfoL4eMtXxncseLNA=        20192       958   \n",
       "2296316  nXi1lrSJe+gLoTTNky7If0mNPrIyCQCLwagwR6XopGU=       273391       465   \n",
       "2296317  9KxSvIjbJyJzfEVWnkMbgR6dyn6d54ot0N5FKyKqii8=       445172      1609   \n",
       "2296318  UO8Y2MR2sjOn2q/Tp8/lzZTGKmLEvwZ20oWanG4XnYc=       172669       465   \n",
       "2296319  V/9qPSUOGT0FeIGBhDIZRRz5Y5yyjdXC2Z/+bJExo5s=       270466       829   \n",
       "\n",
       "               artist_name                            composer     lyricist  \\\n",
       "0         張信哲 (Jeff Chang)                                  董貞          何啟弘   \n",
       "1                BLACKPINK  TEDDY|  FUTURE BOUNCE|  Bekuh BOOM        TEDDY   \n",
       "2             SUPER JUNIOR                                 NaN          NaN   \n",
       "3                    S.H.E                                 湯小康          徐世珍   \n",
       "4                     貴族精選                         Traditional  Traditional   \n",
       "...                    ...                                 ...          ...   \n",
       "2296315  Catherine Collard         Robert Schumann (1810-1856)          NaN   \n",
       "2296316  紀文惠 (Justine Chi)                                 NaN          NaN   \n",
       "2296317    Various Artists                                 NaN          NaN   \n",
       "2296318  Peter Paul & Mary                                 NaN          NaN   \n",
       "2296319      Kim Robertson                                 NaN          NaN   \n",
       "\n",
       "         language  \n",
       "0             3.0  \n",
       "1            31.0  \n",
       "2            31.0  \n",
       "3             3.0  \n",
       "4            52.0  \n",
       "...           ...  \n",
       "2296315      -1.0  \n",
       "2296316       3.0  \n",
       "2296317      52.0  \n",
       "2296318      52.0  \n",
       "2296319      52.0  \n",
       "\n",
       "[2296320 rows x 7 columns]>"
      ]
     },
     "execution_count": 12,
     "metadata": {},
     "output_type": "execute_result"
    }
   ],
   "source": [
    "df_song.info"
   ]
  },
  {
   "cell_type": "markdown",
   "metadata": {},
   "source": [
    "# 合併資料欄位"
   ]
  },
  {
   "cell_type": "code",
   "execution_count": 13,
   "metadata": {
    "ExecuteTime": {
     "end_time": "2021-01-14T03:22:29.658072Z",
     "start_time": "2021-01-14T03:22:00.699795Z"
    },
    "scrolled": true
   },
   "outputs": [
    {
     "data": {
      "text/html": [
       "<div>\n",
       "<style scoped>\n",
       "    .dataframe tbody tr th:only-of-type {\n",
       "        vertical-align: middle;\n",
       "    }\n",
       "\n",
       "    .dataframe tbody tr th {\n",
       "        vertical-align: top;\n",
       "    }\n",
       "\n",
       "    .dataframe thead th {\n",
       "        text-align: right;\n",
       "    }\n",
       "</style>\n",
       "<table border=\"1\" class=\"dataframe\">\n",
       "  <thead>\n",
       "    <tr style=\"text-align: right;\">\n",
       "      <th></th>\n",
       "      <th>msno</th>\n",
       "      <th>song_id</th>\n",
       "      <th>source_system_tab</th>\n",
       "      <th>source_screen_name</th>\n",
       "      <th>source_type</th>\n",
       "      <th>target</th>\n",
       "      <th>song_length</th>\n",
       "      <th>genre_ids</th>\n",
       "      <th>artist_name</th>\n",
       "      <th>composer</th>\n",
       "      <th>lyricist</th>\n",
       "      <th>language</th>\n",
       "      <th>city</th>\n",
       "      <th>bd</th>\n",
       "      <th>gender</th>\n",
       "      <th>registered_via</th>\n",
       "      <th>registration_init_time</th>\n",
       "      <th>expiration_date</th>\n",
       "    </tr>\n",
       "  </thead>\n",
       "  <tbody>\n",
       "    <tr>\n",
       "      <td>0</td>\n",
       "      <td>FGtllVqz18RPiwJj/edr2gV78zirAiY/9SmYvia+kCg=</td>\n",
       "      <td>BBzumQNXUHKdEBOB7mAJuzok+IJA1c2Ryg/yzTF6tik=</td>\n",
       "      <td>explore</td>\n",
       "      <td>Explore</td>\n",
       "      <td>online-playlist</td>\n",
       "      <td>1</td>\n",
       "      <td>206471</td>\n",
       "      <td>359</td>\n",
       "      <td>Bastille</td>\n",
       "      <td>Dan Smith| Mark Crew</td>\n",
       "      <td>NaN</td>\n",
       "      <td>52.0</td>\n",
       "      <td>1</td>\n",
       "      <td>0</td>\n",
       "      <td>NaN</td>\n",
       "      <td>7</td>\n",
       "      <td>20120102</td>\n",
       "      <td>20171005</td>\n",
       "    </tr>\n",
       "    <tr>\n",
       "      <td>1</td>\n",
       "      <td>FGtllVqz18RPiwJj/edr2gV78zirAiY/9SmYvia+kCg=</td>\n",
       "      <td>3qm6XTZ6MOCU11x8FIVbAGH5l5uMkT3/ZalWG1oo2Gc=</td>\n",
       "      <td>explore</td>\n",
       "      <td>Explore</td>\n",
       "      <td>online-playlist</td>\n",
       "      <td>1</td>\n",
       "      <td>187802</td>\n",
       "      <td>1011</td>\n",
       "      <td>Brett Young</td>\n",
       "      <td>Brett Young| Kelly Archer| Justin Ebach</td>\n",
       "      <td>NaN</td>\n",
       "      <td>52.0</td>\n",
       "      <td>1</td>\n",
       "      <td>0</td>\n",
       "      <td>NaN</td>\n",
       "      <td>7</td>\n",
       "      <td>20120102</td>\n",
       "      <td>20171005</td>\n",
       "    </tr>\n",
       "    <tr>\n",
       "      <td>2</td>\n",
       "      <td>FGtllVqz18RPiwJj/edr2gV78zirAiY/9SmYvia+kCg=</td>\n",
       "      <td>3Hg5kugV1S0wzEVLAEfqjIV5UHzb7bCrdBRQlGygLvU=</td>\n",
       "      <td>explore</td>\n",
       "      <td>Explore</td>\n",
       "      <td>online-playlist</td>\n",
       "      <td>1</td>\n",
       "      <td>247803</td>\n",
       "      <td>1259</td>\n",
       "      <td>Desiigner</td>\n",
       "      <td>Sidney Selby| Adnan Khan</td>\n",
       "      <td>NaN</td>\n",
       "      <td>52.0</td>\n",
       "      <td>1</td>\n",
       "      <td>0</td>\n",
       "      <td>NaN</td>\n",
       "      <td>7</td>\n",
       "      <td>20120102</td>\n",
       "      <td>20171005</td>\n",
       "    </tr>\n",
       "    <tr>\n",
       "      <td>3</td>\n",
       "      <td>FGtllVqz18RPiwJj/edr2gV78zirAiY/9SmYvia+kCg=</td>\n",
       "      <td>bPIvRTzfHxH5LgHrStll+tYwSQNVV8PySgA3M1PfTgc=</td>\n",
       "      <td>explore</td>\n",
       "      <td>Explore</td>\n",
       "      <td>online-playlist</td>\n",
       "      <td>1</td>\n",
       "      <td>181115</td>\n",
       "      <td>1011</td>\n",
       "      <td>Thomas Rhett</td>\n",
       "      <td>Thomas Rhett| Rhett Akins| Ben Hayslip</td>\n",
       "      <td>NaN</td>\n",
       "      <td>52.0</td>\n",
       "      <td>1</td>\n",
       "      <td>0</td>\n",
       "      <td>NaN</td>\n",
       "      <td>7</td>\n",
       "      <td>20120102</td>\n",
       "      <td>20171005</td>\n",
       "    </tr>\n",
       "    <tr>\n",
       "      <td>4</td>\n",
       "      <td>FGtllVqz18RPiwJj/edr2gV78zirAiY/9SmYvia+kCg=</td>\n",
       "      <td>EbI7xoNxI+3QSsiHxL13zBdgHIJOwa3srHd7cDcnJ0g=</td>\n",
       "      <td>explore</td>\n",
       "      <td>Explore</td>\n",
       "      <td>online-playlist</td>\n",
       "      <td>0</td>\n",
       "      <td>257369</td>\n",
       "      <td>465</td>\n",
       "      <td>OneRepublic</td>\n",
       "      <td>Ryan Tedder</td>\n",
       "      <td>NaN</td>\n",
       "      <td>52.0</td>\n",
       "      <td>1</td>\n",
       "      <td>0</td>\n",
       "      <td>NaN</td>\n",
       "      <td>7</td>\n",
       "      <td>20120102</td>\n",
       "      <td>20171005</td>\n",
       "    </tr>\n",
       "  </tbody>\n",
       "</table>\n",
       "</div>"
      ],
      "text/plain": [
       "                                           msno  \\\n",
       "0  FGtllVqz18RPiwJj/edr2gV78zirAiY/9SmYvia+kCg=   \n",
       "1  FGtllVqz18RPiwJj/edr2gV78zirAiY/9SmYvia+kCg=   \n",
       "2  FGtllVqz18RPiwJj/edr2gV78zirAiY/9SmYvia+kCg=   \n",
       "3  FGtllVqz18RPiwJj/edr2gV78zirAiY/9SmYvia+kCg=   \n",
       "4  FGtllVqz18RPiwJj/edr2gV78zirAiY/9SmYvia+kCg=   \n",
       "\n",
       "                                        song_id source_system_tab  \\\n",
       "0  BBzumQNXUHKdEBOB7mAJuzok+IJA1c2Ryg/yzTF6tik=           explore   \n",
       "1  3qm6XTZ6MOCU11x8FIVbAGH5l5uMkT3/ZalWG1oo2Gc=           explore   \n",
       "2  3Hg5kugV1S0wzEVLAEfqjIV5UHzb7bCrdBRQlGygLvU=           explore   \n",
       "3  bPIvRTzfHxH5LgHrStll+tYwSQNVV8PySgA3M1PfTgc=           explore   \n",
       "4  EbI7xoNxI+3QSsiHxL13zBdgHIJOwa3srHd7cDcnJ0g=           explore   \n",
       "\n",
       "  source_screen_name      source_type  target  song_length genre_ids  \\\n",
       "0            Explore  online-playlist       1       206471       359   \n",
       "1            Explore  online-playlist       1       187802      1011   \n",
       "2            Explore  online-playlist       1       247803      1259   \n",
       "3            Explore  online-playlist       1       181115      1011   \n",
       "4            Explore  online-playlist       0       257369       465   \n",
       "\n",
       "    artist_name                                 composer lyricist  language  \\\n",
       "0      Bastille                     Dan Smith| Mark Crew      NaN      52.0   \n",
       "1   Brett Young  Brett Young| Kelly Archer| Justin Ebach      NaN      52.0   \n",
       "2     Desiigner                 Sidney Selby| Adnan Khan      NaN      52.0   \n",
       "3  Thomas Rhett   Thomas Rhett| Rhett Akins| Ben Hayslip      NaN      52.0   \n",
       "4   OneRepublic                              Ryan Tedder      NaN      52.0   \n",
       "\n",
       "   city  bd gender  registered_via  registration_init_time  expiration_date  \n",
       "0     1   0    NaN               7                20120102         20171005  \n",
       "1     1   0    NaN               7                20120102         20171005  \n",
       "2     1   0    NaN               7                20120102         20171005  \n",
       "3     1   0    NaN               7                20120102         20171005  \n",
       "4     1   0    NaN               7                20120102         20171005  "
      ]
     },
     "execution_count": 13,
     "metadata": {},
     "output_type": "execute_result"
    }
   ],
   "source": [
    "df_train_new = pd.merge(df_train, df_song, on='song_id')\n",
    "df_train_new = pd.merge(df_train_new,df_members, on='msno')\n",
    "df_train_new.head()"
   ]
  },
  {
   "cell_type": "code",
   "execution_count": 14,
   "metadata": {
    "ExecuteTime": {
     "end_time": "2021-01-14T03:22:29.697976Z",
     "start_time": "2021-01-14T03:22:29.661774Z"
    },
    "scrolled": true
   },
   "outputs": [
    {
     "data": {
      "text/plain": [
       "<bound method DataFrame.info of                                                  msno  \\\n",
       "0        FGtllVqz18RPiwJj/edr2gV78zirAiY/9SmYvia+kCg=   \n",
       "1        FGtllVqz18RPiwJj/edr2gV78zirAiY/9SmYvia+kCg=   \n",
       "2        FGtllVqz18RPiwJj/edr2gV78zirAiY/9SmYvia+kCg=   \n",
       "3        FGtllVqz18RPiwJj/edr2gV78zirAiY/9SmYvia+kCg=   \n",
       "4        FGtllVqz18RPiwJj/edr2gV78zirAiY/9SmYvia+kCg=   \n",
       "...                                               ...   \n",
       "7377299  EUmF2kN9dhZTTy8zZw4+1K0CfIjCb6Pxz4Vvxsnnx7o=   \n",
       "7377300  4jgFsUTajOw381tumEKELrZDgYUg00SQhQFPwOgUaJA=   \n",
       "7377301  4jgFsUTajOw381tumEKELrZDgYUg00SQhQFPwOgUaJA=   \n",
       "7377302  4jgFsUTajOw381tumEKELrZDgYUg00SQhQFPwOgUaJA=   \n",
       "7377303  /xjMtlYh6YSvPV4XTV+/sp44EHS8FJFzZMGQHQU5dks=   \n",
       "\n",
       "                                              song_id source_system_tab  \\\n",
       "0        BBzumQNXUHKdEBOB7mAJuzok+IJA1c2Ryg/yzTF6tik=           explore   \n",
       "1        3qm6XTZ6MOCU11x8FIVbAGH5l5uMkT3/ZalWG1oo2Gc=           explore   \n",
       "2        3Hg5kugV1S0wzEVLAEfqjIV5UHzb7bCrdBRQlGygLvU=           explore   \n",
       "3        bPIvRTzfHxH5LgHrStll+tYwSQNVV8PySgA3M1PfTgc=           explore   \n",
       "4        EbI7xoNxI+3QSsiHxL13zBdgHIJOwa3srHd7cDcnJ0g=           explore   \n",
       "...                                               ...               ...   \n",
       "7377299  bvDBhlgil61kBsOK+36bLtnbWMZed6izWfAs3goHJXs=          discover   \n",
       "7377300  krc+PjidPd+k60SNAMxMrYFa+6LxOmn7548W6hjgyX4=          discover   \n",
       "7377301  2Csja3EqyV77Cji+jHskL8UUEHETMKGdPdQ487D1BoA=          discover   \n",
       "7377302  TRiOBaHXiQ8ToENFt6i/8WogPwLvNNyIjEdZuOUn6uA=          discover   \n",
       "7377303  5VVP70wfwbaCtp3jPrkpXEdRIdXnFjiIlWQ4BUxhqzA=            search   \n",
       "\n",
       "           source_screen_name      source_type  target  song_length genre_ids  \\\n",
       "0                     Explore  online-playlist       1       206471       359   \n",
       "1                     Explore  online-playlist       1       187802      1011   \n",
       "2                     Explore  online-playlist       1       247803      1259   \n",
       "3                     Explore  online-playlist       1       181115      1011   \n",
       "4                     Explore  online-playlist       0       257369       465   \n",
       "...                       ...              ...     ...          ...       ...   \n",
       "7377299  Online playlist more  online-playlist       0       199993       NaN   \n",
       "7377300                Search             song       0        73746       726   \n",
       "7377301                Search             song       0       187768       465   \n",
       "7377302                Search             song       0       226403       465   \n",
       "7377303            Album more            album       0       217710       465   \n",
       "\n",
       "                                artist_name  \\\n",
       "0                                  Bastille   \n",
       "1                               Brett Young   \n",
       "2                                 Desiigner   \n",
       "3                              Thomas Rhett   \n",
       "4                               OneRepublic   \n",
       "...                                     ...   \n",
       "7377299  หนูนา หนึ่งธิดา (Noona Nuangthida)   \n",
       "7377300                               小蓓蕾組合   \n",
       "7377301                    林子祥 (George Lam)   \n",
       "7377302                    林子祥 (George Lam)   \n",
       "7377303                         Tokio Hotel   \n",
       "\n",
       "                                        composer     lyricist  language  city  \\\n",
       "0                           Dan Smith| Mark Crew          NaN      52.0     1   \n",
       "1        Brett Young| Kelly Archer| Justin Ebach          NaN      52.0     1   \n",
       "2                       Sidney Selby| Adnan Khan          NaN      52.0     1   \n",
       "3         Thomas Rhett| Rhett Akins| Ben Hayslip          NaN      52.0     1   \n",
       "4                                    Ryan Tedder          NaN      52.0     1   \n",
       "...                                          ...          ...       ...   ...   \n",
       "7377299                                      NaN          NaN      45.0     1   \n",
       "7377300                                      謝曉松          NaN      52.0     1   \n",
       "7377301  Benny Anderson| Bjorn Ulvaeus| Tim Rice  Calvin Poon      24.0     1   \n",
       "7377302  Benny Anderson| Bjorn Ulvaeus| Tim Rice  Calvin Poon      24.0     1   \n",
       "7377303                                      NaN          NaN      52.0    22   \n",
       "\n",
       "         bd  gender  registered_via  registration_init_time  expiration_date  \n",
       "0         0     NaN               7                20120102         20171005  \n",
       "1         0     NaN               7                20120102         20171005  \n",
       "2         0     NaN               7                20120102         20171005  \n",
       "3         0     NaN               7                20120102         20171005  \n",
       "4         0     NaN               7                20120102         20171005  \n",
       "...      ..     ...             ...                     ...              ...  \n",
       "7377299  32  female               3                20170130         20170202  \n",
       "7377300   0     NaN               4                20170130         20170202  \n",
       "7377301   0     NaN               4                20170130         20170202  \n",
       "7377302   0     NaN               4                20170130         20170202  \n",
       "7377303  18    male               3                20130611         20170707  \n",
       "\n",
       "[7377304 rows x 18 columns]>"
      ]
     },
     "execution_count": 14,
     "metadata": {},
     "output_type": "execute_result"
    }
   ],
   "source": [
    "df_train_new.info"
   ]
  },
  {
   "cell_type": "code",
   "execution_count": 15,
   "metadata": {
    "ExecuteTime": {
     "end_time": "2021-01-14T03:22:29.735530Z",
     "start_time": "2021-01-14T03:22:29.712820Z"
    }
   },
   "outputs": [
    {
     "data": {
      "text/plain": [
       "Index(['msno', 'song_id', 'source_system_tab', 'source_screen_name',\n",
       "       'source_type', 'target', 'song_length', 'genre_ids', 'artist_name',\n",
       "       'composer', 'lyricist', 'language', 'city', 'bd', 'gender',\n",
       "       'registered_via', 'registration_init_time', 'expiration_date'],\n",
       "      dtype='object')"
      ]
     },
     "execution_count": 15,
     "metadata": {},
     "output_type": "execute_result"
    }
   ],
   "source": [
    "df_train_new.columns"
   ]
  },
  {
   "cell_type": "code",
   "execution_count": 16,
   "metadata": {
    "ExecuteTime": {
     "end_time": "2021-01-14T03:22:29.770251Z",
     "start_time": "2021-01-14T03:22:29.760763Z"
    }
   },
   "outputs": [
    {
     "data": {
      "text/plain": [
       "(7377304, 18)"
      ]
     },
     "execution_count": 16,
     "metadata": {},
     "output_type": "execute_result"
    }
   ],
   "source": [
    "df_train_new.shape"
   ]
  },
  {
   "cell_type": "code",
   "execution_count": 17,
   "metadata": {
    "ExecuteTime": {
     "end_time": "2021-01-14T03:24:24.780739Z",
     "start_time": "2021-01-14T03:24:16.657370Z"
    }
   },
   "outputs": [
    {
     "data": {
      "text/html": [
       "<div>\n",
       "<style scoped>\n",
       "    .dataframe tbody tr th:only-of-type {\n",
       "        vertical-align: middle;\n",
       "    }\n",
       "\n",
       "    .dataframe tbody tr th {\n",
       "        vertical-align: top;\n",
       "    }\n",
       "\n",
       "    .dataframe thead th {\n",
       "        text-align: right;\n",
       "    }\n",
       "</style>\n",
       "<table border=\"1\" class=\"dataframe\">\n",
       "  <thead>\n",
       "    <tr style=\"text-align: right;\">\n",
       "      <th></th>\n",
       "      <th>id</th>\n",
       "      <th>msno</th>\n",
       "      <th>song_id</th>\n",
       "      <th>source_system_tab</th>\n",
       "      <th>source_screen_name</th>\n",
       "      <th>source_type</th>\n",
       "      <th>song_length</th>\n",
       "      <th>genre_ids</th>\n",
       "      <th>artist_name</th>\n",
       "      <th>composer</th>\n",
       "      <th>lyricist</th>\n",
       "      <th>language</th>\n",
       "      <th>city</th>\n",
       "      <th>bd</th>\n",
       "      <th>gender</th>\n",
       "      <th>registered_via</th>\n",
       "      <th>registration_init_time</th>\n",
       "      <th>expiration_date</th>\n",
       "    </tr>\n",
       "  </thead>\n",
       "  <tbody>\n",
       "    <tr>\n",
       "      <td>0</td>\n",
       "      <td>0</td>\n",
       "      <td>V8ruy7SGk7tDm3zA51DPpn6qutt+vmKMBKa21dp54uM=</td>\n",
       "      <td>WmHKgKMlp1lQMecNdNvDMkvIycZYHnFwDT72I5sIssc=</td>\n",
       "      <td>my library</td>\n",
       "      <td>Local playlist more</td>\n",
       "      <td>local-library</td>\n",
       "      <td>224130.0</td>\n",
       "      <td>458</td>\n",
       "      <td>梁文音 (Rachel Liang)</td>\n",
       "      <td>Qi Zheng Zhang</td>\n",
       "      <td>NaN</td>\n",
       "      <td>3.0</td>\n",
       "      <td>1</td>\n",
       "      <td>0</td>\n",
       "      <td>NaN</td>\n",
       "      <td>7</td>\n",
       "      <td>20160219</td>\n",
       "      <td>20170918</td>\n",
       "    </tr>\n",
       "    <tr>\n",
       "      <td>1</td>\n",
       "      <td>1</td>\n",
       "      <td>V8ruy7SGk7tDm3zA51DPpn6qutt+vmKMBKa21dp54uM=</td>\n",
       "      <td>y/rsZ9DC7FwK5F2PK2D5mj+aOBUJAjuu3dZ14NgE0vM=</td>\n",
       "      <td>my library</td>\n",
       "      <td>Local playlist more</td>\n",
       "      <td>local-library</td>\n",
       "      <td>320470.0</td>\n",
       "      <td>465</td>\n",
       "      <td>林俊傑 (JJ Lin)</td>\n",
       "      <td>林俊傑</td>\n",
       "      <td>孫燕姿/易家揚</td>\n",
       "      <td>3.0</td>\n",
       "      <td>1</td>\n",
       "      <td>0</td>\n",
       "      <td>NaN</td>\n",
       "      <td>7</td>\n",
       "      <td>20160219</td>\n",
       "      <td>20170918</td>\n",
       "    </tr>\n",
       "    <tr>\n",
       "      <td>2</td>\n",
       "      <td>2</td>\n",
       "      <td>/uQAlrAkaczV+nWCd2sPF2ekvXPRipV7q0l+gbLuxjw=</td>\n",
       "      <td>8eZLFOdGVdXBSqoAv5nsLigeH2BvKXzTQYtUM53I0k4=</td>\n",
       "      <td>discover</td>\n",
       "      <td>NaN</td>\n",
       "      <td>song-based-playlist</td>\n",
       "      <td>315899.0</td>\n",
       "      <td>2022</td>\n",
       "      <td>Yu Takahashi (高橋優)</td>\n",
       "      <td>Yu Takahashi</td>\n",
       "      <td>Yu Takahashi</td>\n",
       "      <td>17.0</td>\n",
       "      <td>1</td>\n",
       "      <td>0</td>\n",
       "      <td>NaN</td>\n",
       "      <td>4</td>\n",
       "      <td>20161117</td>\n",
       "      <td>20161124</td>\n",
       "    </tr>\n",
       "    <tr>\n",
       "      <td>3</td>\n",
       "      <td>3</td>\n",
       "      <td>1a6oo/iXKatxQx4eS9zTVD+KlSVaAFbTIqVvwLC1Y0k=</td>\n",
       "      <td>ztCf8thYsS4YN3GcIL/bvoxLm/T5mYBVKOO4C9NiVfQ=</td>\n",
       "      <td>radio</td>\n",
       "      <td>Radio</td>\n",
       "      <td>radio</td>\n",
       "      <td>285210.0</td>\n",
       "      <td>465</td>\n",
       "      <td>U2</td>\n",
       "      <td>The Edge| Adam Clayton| Larry Mullen| Jr.</td>\n",
       "      <td>NaN</td>\n",
       "      <td>52.0</td>\n",
       "      <td>3</td>\n",
       "      <td>30</td>\n",
       "      <td>male</td>\n",
       "      <td>9</td>\n",
       "      <td>20070725</td>\n",
       "      <td>20170430</td>\n",
       "    </tr>\n",
       "    <tr>\n",
       "      <td>4</td>\n",
       "      <td>4</td>\n",
       "      <td>1a6oo/iXKatxQx4eS9zTVD+KlSVaAFbTIqVvwLC1Y0k=</td>\n",
       "      <td>MKVMpslKcQhMaFEgcEQhEfi5+RZhMYlU3eRDpySrH8Y=</td>\n",
       "      <td>radio</td>\n",
       "      <td>Radio</td>\n",
       "      <td>radio</td>\n",
       "      <td>197590.0</td>\n",
       "      <td>873</td>\n",
       "      <td>Yoga Mr Sound</td>\n",
       "      <td>Neuromancer</td>\n",
       "      <td>NaN</td>\n",
       "      <td>-1.0</td>\n",
       "      <td>3</td>\n",
       "      <td>30</td>\n",
       "      <td>male</td>\n",
       "      <td>9</td>\n",
       "      <td>20070725</td>\n",
       "      <td>20170430</td>\n",
       "    </tr>\n",
       "  </tbody>\n",
       "</table>\n",
       "</div>"
      ],
      "text/plain": [
       "   id                                          msno  \\\n",
       "0   0  V8ruy7SGk7tDm3zA51DPpn6qutt+vmKMBKa21dp54uM=   \n",
       "1   1  V8ruy7SGk7tDm3zA51DPpn6qutt+vmKMBKa21dp54uM=   \n",
       "2   2  /uQAlrAkaczV+nWCd2sPF2ekvXPRipV7q0l+gbLuxjw=   \n",
       "3   3  1a6oo/iXKatxQx4eS9zTVD+KlSVaAFbTIqVvwLC1Y0k=   \n",
       "4   4  1a6oo/iXKatxQx4eS9zTVD+KlSVaAFbTIqVvwLC1Y0k=   \n",
       "\n",
       "                                        song_id source_system_tab  \\\n",
       "0  WmHKgKMlp1lQMecNdNvDMkvIycZYHnFwDT72I5sIssc=        my library   \n",
       "1  y/rsZ9DC7FwK5F2PK2D5mj+aOBUJAjuu3dZ14NgE0vM=        my library   \n",
       "2  8eZLFOdGVdXBSqoAv5nsLigeH2BvKXzTQYtUM53I0k4=          discover   \n",
       "3  ztCf8thYsS4YN3GcIL/bvoxLm/T5mYBVKOO4C9NiVfQ=             radio   \n",
       "4  MKVMpslKcQhMaFEgcEQhEfi5+RZhMYlU3eRDpySrH8Y=             radio   \n",
       "\n",
       "    source_screen_name          source_type  song_length genre_ids  \\\n",
       "0  Local playlist more        local-library     224130.0       458   \n",
       "1  Local playlist more        local-library     320470.0       465   \n",
       "2                  NaN  song-based-playlist     315899.0      2022   \n",
       "3                Radio                radio     285210.0       465   \n",
       "4                Radio                radio     197590.0       873   \n",
       "\n",
       "          artist_name                                   composer  \\\n",
       "0  梁文音 (Rachel Liang)                             Qi Zheng Zhang   \n",
       "1        林俊傑 (JJ Lin)                                        林俊傑   \n",
       "2  Yu Takahashi (高橋優)                               Yu Takahashi   \n",
       "3                  U2  The Edge| Adam Clayton| Larry Mullen| Jr.   \n",
       "4       Yoga Mr Sound                                Neuromancer   \n",
       "\n",
       "       lyricist  language  city  bd gender  registered_via  \\\n",
       "0           NaN       3.0     1   0    NaN               7   \n",
       "1       孫燕姿/易家揚       3.0     1   0    NaN               7   \n",
       "2  Yu Takahashi      17.0     1   0    NaN               4   \n",
       "3           NaN      52.0     3  30   male               9   \n",
       "4           NaN      -1.0     3  30   male               9   \n",
       "\n",
       "   registration_init_time  expiration_date  \n",
       "0                20160219         20170918  \n",
       "1                20160219         20170918  \n",
       "2                20161117         20161124  \n",
       "3                20070725         20170430  \n",
       "4                20070725         20170430  "
      ]
     },
     "execution_count": 17,
     "metadata": {},
     "output_type": "execute_result"
    }
   ],
   "source": [
    "df_test_new = pd.merge(df_test, df_song, how = 'left')\n",
    "df_test_new = pd.merge(df_test_new,df_members, how = 'left')\n",
    "df_test_new.head()"
   ]
  },
  {
   "cell_type": "code",
   "execution_count": 18,
   "metadata": {
    "ExecuteTime": {
     "end_time": "2021-01-14T03:24:28.738715Z",
     "start_time": "2021-01-14T03:24:28.718057Z"
    }
   },
   "outputs": [
    {
     "data": {
      "text/plain": [
       "(2556790, 18)"
      ]
     },
     "execution_count": 18,
     "metadata": {},
     "output_type": "execute_result"
    }
   ],
   "source": [
    "df_test_new.shape"
   ]
  },
  {
   "cell_type": "code",
   "execution_count": 19,
   "metadata": {
    "ExecuteTime": {
     "end_time": "2021-01-14T03:24:40.001726Z",
     "start_time": "2021-01-14T03:24:39.962003Z"
    },
    "scrolled": true
   },
   "outputs": [
    {
     "data": {
      "text/plain": [
       "<bound method DataFrame.info of               id                                          msno  \\\n",
       "0              0  V8ruy7SGk7tDm3zA51DPpn6qutt+vmKMBKa21dp54uM=   \n",
       "1              1  V8ruy7SGk7tDm3zA51DPpn6qutt+vmKMBKa21dp54uM=   \n",
       "2              2  /uQAlrAkaczV+nWCd2sPF2ekvXPRipV7q0l+gbLuxjw=   \n",
       "3              3  1a6oo/iXKatxQx4eS9zTVD+KlSVaAFbTIqVvwLC1Y0k=   \n",
       "4              4  1a6oo/iXKatxQx4eS9zTVD+KlSVaAFbTIqVvwLC1Y0k=   \n",
       "...          ...                                           ...   \n",
       "2556785  2556785  XmA/cIkXJ8jZUfsUc4bBfJVWMMqmylnPW0WVkg/iz0s=   \n",
       "2556786  2556786  jvbujcxCExG0CrPShsEmZ6pePcHuRqru2OLEUw85iGk=   \n",
       "2556787  2556787  jvbujcxCExG0CrPShsEmZ6pePcHuRqru2OLEUw85iGk=   \n",
       "2556788  2556788  jvbujcxCExG0CrPShsEmZ6pePcHuRqru2OLEUw85iGk=   \n",
       "2556789  2556789  jvbujcxCExG0CrPShsEmZ6pePcHuRqru2OLEUw85iGk=   \n",
       "\n",
       "                                              song_id source_system_tab  \\\n",
       "0        WmHKgKMlp1lQMecNdNvDMkvIycZYHnFwDT72I5sIssc=        my library   \n",
       "1        y/rsZ9DC7FwK5F2PK2D5mj+aOBUJAjuu3dZ14NgE0vM=        my library   \n",
       "2        8eZLFOdGVdXBSqoAv5nsLigeH2BvKXzTQYtUM53I0k4=          discover   \n",
       "3        ztCf8thYsS4YN3GcIL/bvoxLm/T5mYBVKOO4C9NiVfQ=             radio   \n",
       "4        MKVMpslKcQhMaFEgcEQhEfi5+RZhMYlU3eRDpySrH8Y=             radio   \n",
       "...                                               ...               ...   \n",
       "2556785  wJoWzZd7AL+qX9xZWZwRTzGRYg0Lxcl5Pe+9n5hZgAQ=          discover   \n",
       "2556786  KCJ8BlSfRQRgB7EVuzFvg52AhR8m2fT032MzN5ewbEI=          discover   \n",
       "2556787  ySDsKJSnhFMESzC9mBhY0hnFEEBWDYx0FOMNcYDLb/A=          discover   \n",
       "2556788  WXH8kL8e+0H2jY+s2Y6FpHyyHdaMYV3b6yfDa3FAt9U=          discover   \n",
       "2556789  ftPDlhAywvcZX7ojE6F+9CDsC22UKX96iEr4W0ciPec=          discover   \n",
       "\n",
       "           source_screen_name          source_type  song_length genre_ids  \\\n",
       "0         Local playlist more        local-library     224130.0       458   \n",
       "1         Local playlist more        local-library     320470.0       465   \n",
       "2                         NaN  song-based-playlist     315899.0      2022   \n",
       "3                       Radio                radio     285210.0       465   \n",
       "4                       Radio                radio     197590.0       873   \n",
       "...                       ...                  ...          ...       ...   \n",
       "2556785  Online playlist more      online-playlist     247640.0      1609   \n",
       "2556786                   NaN      online-playlist     197067.0       458   \n",
       "2556787                   NaN      online-playlist     212950.0       458   \n",
       "2556788                   NaN      online-playlist     164414.0       465   \n",
       "2556789                   NaN      online-playlist     231552.0       458   \n",
       "\n",
       "                         artist_name  \\\n",
       "0                 梁文音 (Rachel Liang)   \n",
       "1                       林俊傑 (JJ Lin)   \n",
       "2                 Yu Takahashi (高橋優)   \n",
       "3                                 U2   \n",
       "4                      Yoga Mr Sound   \n",
       "...                              ...   \n",
       "2556785  The Chainsmokers & Coldplay   \n",
       "2556786              郭美美 (Jocie Guo)   \n",
       "2556787             問樂團 (Guess What)   \n",
       "2556788             陳冠宇 (Kaiel Chen)   \n",
       "2556789           嘎嘎+李洛洋+Under Lover   \n",
       "\n",
       "                                                  composer  \\\n",
       "0                                           Qi Zheng Zhang   \n",
       "1                                                      林俊傑   \n",
       "2                                             Yu Takahashi   \n",
       "3                The Edge| Adam Clayton| Larry Mullen| Jr.   \n",
       "4                                              Neuromancer   \n",
       "...                                                    ...   \n",
       "2556785  Andrew Taggart| Christopher Martin| Will Champ...   \n",
       "2556786                                                 小路   \n",
       "2556787                          Skot Suyama陶山/Linkin Park   \n",
       "2556788                                                NaN   \n",
       "2556789                                      嘎嘎/李洛洋/胡睿兒/楊琳   \n",
       "\n",
       "                                                  lyricist  language  city  \\\n",
       "0                                                      NaN       3.0     1   \n",
       "1                                                  孫燕姿/易家揚       3.0     1   \n",
       "2                                             Yu Takahashi      17.0     1   \n",
       "3                                                      NaN      52.0     3   \n",
       "4                                                      NaN      -1.0     3   \n",
       "...                                                    ...       ...   ...   \n",
       "2556785  Andrew Taggart| Christopher Martin| Will Champ...      52.0    13   \n",
       "2556786                                                 小路       3.0    13   \n",
       "2556787                                陳天佑/謝和弦/Linkin Park       3.0    13   \n",
       "2556788                                                NaN       3.0    13   \n",
       "2556789                                      嘎嘎/李洛洋/胡睿兒/楊琳       3.0    13   \n",
       "\n",
       "         bd  gender  registered_via  registration_init_time  expiration_date  \n",
       "0         0     NaN               7                20160219         20170918  \n",
       "1         0     NaN               7                20160219         20170918  \n",
       "2         0     NaN               4                20161117         20161124  \n",
       "3        30    male               9                20070725         20170430  \n",
       "4        30    male               9                20070725         20170430  \n",
       "...      ..     ...             ...                     ...              ...  \n",
       "2556785  41  female               9                20101126         20170921  \n",
       "2556786  24    male               9                20140506         20170912  \n",
       "2556787  24    male               9                20140506         20170912  \n",
       "2556788  24    male               9                20140506         20170912  \n",
       "2556789  24    male               9                20140506         20170912  \n",
       "\n",
       "[2556790 rows x 18 columns]>"
      ]
     },
     "execution_count": 19,
     "metadata": {},
     "output_type": "execute_result"
    }
   ],
   "source": [
    "df_test_new.info"
   ]
  },
  {
   "cell_type": "code",
   "execution_count": 20,
   "metadata": {
    "ExecuteTime": {
     "end_time": "2021-01-14T03:24:40.950511Z",
     "start_time": "2021-01-14T03:24:40.938833Z"
    }
   },
   "outputs": [
    {
     "data": {
      "text/plain": [
       "Index(['id', 'msno', 'song_id', 'source_system_tab', 'source_screen_name',\n",
       "       'source_type', 'song_length', 'genre_ids', 'artist_name', 'composer',\n",
       "       'lyricist', 'language', 'city', 'bd', 'gender', 'registered_via',\n",
       "       'registration_init_time', 'expiration_date'],\n",
       "      dtype='object')"
      ]
     },
     "execution_count": 20,
     "metadata": {},
     "output_type": "execute_result"
    }
   ],
   "source": [
    "df_test_new.columns"
   ]
  },
  {
   "cell_type": "markdown",
   "metadata": {},
   "source": [
    "# 轉換日期欄位格式"
   ]
  },
  {
   "cell_type": "code",
   "execution_count": 21,
   "metadata": {
    "ExecuteTime": {
     "end_time": "2021-01-14T03:24:48.913218Z",
     "start_time": "2021-01-14T03:24:47.841866Z"
    }
   },
   "outputs": [],
   "source": [
    "from datetime import datetime\n",
    "\n",
    "df_train_new['registration_init_time'] = pd.to_datetime(df_train_new['registration_init_time'], format='%Y%m%d') \n",
    "df_train_new['expiration_date'] = pd.to_datetime(df_train_new['expiration_date'], format='%Y%m%d') \n",
    "\n",
    "df_test_new['registration_init_time'] = pd.to_datetime(df_test_new['registration_init_time'], format='%Y%m%d') \n",
    "df_test_new['expiration_date'] = pd.to_datetime(df_test_new['expiration_date'], format='%Y%m%d') "
   ]
  },
  {
   "cell_type": "code",
   "execution_count": 22,
   "metadata": {
    "ExecuteTime": {
     "end_time": "2021-01-14T03:24:51.594252Z",
     "start_time": "2021-01-14T03:24:48.920631Z"
    }
   },
   "outputs": [
    {
     "data": {
      "text/html": [
       "<div>\n",
       "<style scoped>\n",
       "    .dataframe tbody tr th:only-of-type {\n",
       "        vertical-align: middle;\n",
       "    }\n",
       "\n",
       "    .dataframe tbody tr th {\n",
       "        vertical-align: top;\n",
       "    }\n",
       "\n",
       "    .dataframe thead th {\n",
       "        text-align: right;\n",
       "    }\n",
       "</style>\n",
       "<table border=\"1\" class=\"dataframe\">\n",
       "  <thead>\n",
       "    <tr style=\"text-align: right;\">\n",
       "      <th></th>\n",
       "      <th>msno</th>\n",
       "      <th>song_id</th>\n",
       "      <th>source_system_tab</th>\n",
       "      <th>source_screen_name</th>\n",
       "      <th>source_type</th>\n",
       "      <th>target</th>\n",
       "      <th>song_length</th>\n",
       "      <th>genre_ids</th>\n",
       "      <th>artist_name</th>\n",
       "      <th>composer</th>\n",
       "      <th>...</th>\n",
       "      <th>city</th>\n",
       "      <th>bd</th>\n",
       "      <th>gender</th>\n",
       "      <th>registered_via</th>\n",
       "      <th>registration_init_time</th>\n",
       "      <th>expiration_date</th>\n",
       "      <th>registration_init_time_year</th>\n",
       "      <th>registration_init_time_month</th>\n",
       "      <th>expiration_date_year</th>\n",
       "      <th>expiration_date_month</th>\n",
       "    </tr>\n",
       "  </thead>\n",
       "  <tbody>\n",
       "    <tr>\n",
       "      <td>0</td>\n",
       "      <td>FGtllVqz18RPiwJj/edr2gV78zirAiY/9SmYvia+kCg=</td>\n",
       "      <td>BBzumQNXUHKdEBOB7mAJuzok+IJA1c2Ryg/yzTF6tik=</td>\n",
       "      <td>explore</td>\n",
       "      <td>Explore</td>\n",
       "      <td>online-playlist</td>\n",
       "      <td>1</td>\n",
       "      <td>206471</td>\n",
       "      <td>359</td>\n",
       "      <td>Bastille</td>\n",
       "      <td>Dan Smith| Mark Crew</td>\n",
       "      <td>...</td>\n",
       "      <td>1</td>\n",
       "      <td>0</td>\n",
       "      <td>NaN</td>\n",
       "      <td>7</td>\n",
       "      <td>2012-01-02</td>\n",
       "      <td>2017-10-05</td>\n",
       "      <td>2012</td>\n",
       "      <td>1</td>\n",
       "      <td>2017</td>\n",
       "      <td>10</td>\n",
       "    </tr>\n",
       "    <tr>\n",
       "      <td>1</td>\n",
       "      <td>FGtllVqz18RPiwJj/edr2gV78zirAiY/9SmYvia+kCg=</td>\n",
       "      <td>3qm6XTZ6MOCU11x8FIVbAGH5l5uMkT3/ZalWG1oo2Gc=</td>\n",
       "      <td>explore</td>\n",
       "      <td>Explore</td>\n",
       "      <td>online-playlist</td>\n",
       "      <td>1</td>\n",
       "      <td>187802</td>\n",
       "      <td>1011</td>\n",
       "      <td>Brett Young</td>\n",
       "      <td>Brett Young| Kelly Archer| Justin Ebach</td>\n",
       "      <td>...</td>\n",
       "      <td>1</td>\n",
       "      <td>0</td>\n",
       "      <td>NaN</td>\n",
       "      <td>7</td>\n",
       "      <td>2012-01-02</td>\n",
       "      <td>2017-10-05</td>\n",
       "      <td>2012</td>\n",
       "      <td>1</td>\n",
       "      <td>2017</td>\n",
       "      <td>10</td>\n",
       "    </tr>\n",
       "    <tr>\n",
       "      <td>2</td>\n",
       "      <td>FGtllVqz18RPiwJj/edr2gV78zirAiY/9SmYvia+kCg=</td>\n",
       "      <td>3Hg5kugV1S0wzEVLAEfqjIV5UHzb7bCrdBRQlGygLvU=</td>\n",
       "      <td>explore</td>\n",
       "      <td>Explore</td>\n",
       "      <td>online-playlist</td>\n",
       "      <td>1</td>\n",
       "      <td>247803</td>\n",
       "      <td>1259</td>\n",
       "      <td>Desiigner</td>\n",
       "      <td>Sidney Selby| Adnan Khan</td>\n",
       "      <td>...</td>\n",
       "      <td>1</td>\n",
       "      <td>0</td>\n",
       "      <td>NaN</td>\n",
       "      <td>7</td>\n",
       "      <td>2012-01-02</td>\n",
       "      <td>2017-10-05</td>\n",
       "      <td>2012</td>\n",
       "      <td>1</td>\n",
       "      <td>2017</td>\n",
       "      <td>10</td>\n",
       "    </tr>\n",
       "    <tr>\n",
       "      <td>3</td>\n",
       "      <td>FGtllVqz18RPiwJj/edr2gV78zirAiY/9SmYvia+kCg=</td>\n",
       "      <td>bPIvRTzfHxH5LgHrStll+tYwSQNVV8PySgA3M1PfTgc=</td>\n",
       "      <td>explore</td>\n",
       "      <td>Explore</td>\n",
       "      <td>online-playlist</td>\n",
       "      <td>1</td>\n",
       "      <td>181115</td>\n",
       "      <td>1011</td>\n",
       "      <td>Thomas Rhett</td>\n",
       "      <td>Thomas Rhett| Rhett Akins| Ben Hayslip</td>\n",
       "      <td>...</td>\n",
       "      <td>1</td>\n",
       "      <td>0</td>\n",
       "      <td>NaN</td>\n",
       "      <td>7</td>\n",
       "      <td>2012-01-02</td>\n",
       "      <td>2017-10-05</td>\n",
       "      <td>2012</td>\n",
       "      <td>1</td>\n",
       "      <td>2017</td>\n",
       "      <td>10</td>\n",
       "    </tr>\n",
       "    <tr>\n",
       "      <td>4</td>\n",
       "      <td>FGtllVqz18RPiwJj/edr2gV78zirAiY/9SmYvia+kCg=</td>\n",
       "      <td>EbI7xoNxI+3QSsiHxL13zBdgHIJOwa3srHd7cDcnJ0g=</td>\n",
       "      <td>explore</td>\n",
       "      <td>Explore</td>\n",
       "      <td>online-playlist</td>\n",
       "      <td>0</td>\n",
       "      <td>257369</td>\n",
       "      <td>465</td>\n",
       "      <td>OneRepublic</td>\n",
       "      <td>Ryan Tedder</td>\n",
       "      <td>...</td>\n",
       "      <td>1</td>\n",
       "      <td>0</td>\n",
       "      <td>NaN</td>\n",
       "      <td>7</td>\n",
       "      <td>2012-01-02</td>\n",
       "      <td>2017-10-05</td>\n",
       "      <td>2012</td>\n",
       "      <td>1</td>\n",
       "      <td>2017</td>\n",
       "      <td>10</td>\n",
       "    </tr>\n",
       "  </tbody>\n",
       "</table>\n",
       "<p>5 rows × 22 columns</p>\n",
       "</div>"
      ],
      "text/plain": [
       "                                           msno  \\\n",
       "0  FGtllVqz18RPiwJj/edr2gV78zirAiY/9SmYvia+kCg=   \n",
       "1  FGtllVqz18RPiwJj/edr2gV78zirAiY/9SmYvia+kCg=   \n",
       "2  FGtllVqz18RPiwJj/edr2gV78zirAiY/9SmYvia+kCg=   \n",
       "3  FGtllVqz18RPiwJj/edr2gV78zirAiY/9SmYvia+kCg=   \n",
       "4  FGtllVqz18RPiwJj/edr2gV78zirAiY/9SmYvia+kCg=   \n",
       "\n",
       "                                        song_id source_system_tab  \\\n",
       "0  BBzumQNXUHKdEBOB7mAJuzok+IJA1c2Ryg/yzTF6tik=           explore   \n",
       "1  3qm6XTZ6MOCU11x8FIVbAGH5l5uMkT3/ZalWG1oo2Gc=           explore   \n",
       "2  3Hg5kugV1S0wzEVLAEfqjIV5UHzb7bCrdBRQlGygLvU=           explore   \n",
       "3  bPIvRTzfHxH5LgHrStll+tYwSQNVV8PySgA3M1PfTgc=           explore   \n",
       "4  EbI7xoNxI+3QSsiHxL13zBdgHIJOwa3srHd7cDcnJ0g=           explore   \n",
       "\n",
       "  source_screen_name      source_type  target  song_length genre_ids  \\\n",
       "0            Explore  online-playlist       1       206471       359   \n",
       "1            Explore  online-playlist       1       187802      1011   \n",
       "2            Explore  online-playlist       1       247803      1259   \n",
       "3            Explore  online-playlist       1       181115      1011   \n",
       "4            Explore  online-playlist       0       257369       465   \n",
       "\n",
       "    artist_name                                 composer  ... city  bd  \\\n",
       "0      Bastille                     Dan Smith| Mark Crew  ...    1   0   \n",
       "1   Brett Young  Brett Young| Kelly Archer| Justin Ebach  ...    1   0   \n",
       "2     Desiigner                 Sidney Selby| Adnan Khan  ...    1   0   \n",
       "3  Thomas Rhett   Thomas Rhett| Rhett Akins| Ben Hayslip  ...    1   0   \n",
       "4   OneRepublic                              Ryan Tedder  ...    1   0   \n",
       "\n",
       "   gender  registered_via registration_init_time  expiration_date  \\\n",
       "0     NaN               7             2012-01-02       2017-10-05   \n",
       "1     NaN               7             2012-01-02       2017-10-05   \n",
       "2     NaN               7             2012-01-02       2017-10-05   \n",
       "3     NaN               7             2012-01-02       2017-10-05   \n",
       "4     NaN               7             2012-01-02       2017-10-05   \n",
       "\n",
       "  registration_init_time_year registration_init_time_month  \\\n",
       "0                        2012                            1   \n",
       "1                        2012                            1   \n",
       "2                        2012                            1   \n",
       "3                        2012                            1   \n",
       "4                        2012                            1   \n",
       "\n",
       "   expiration_date_year  expiration_date_month  \n",
       "0                  2017                     10  \n",
       "1                  2017                     10  \n",
       "2                  2017                     10  \n",
       "3                  2017                     10  \n",
       "4                  2017                     10  \n",
       "\n",
       "[5 rows x 22 columns]"
      ]
     },
     "execution_count": 22,
     "metadata": {},
     "output_type": "execute_result"
    }
   ],
   "source": [
    "df_train_new['registration_init_time_year'] = df_train_new['registration_init_time'].dt.year \n",
    "df_train_new['registration_init_time_month'] = df_train_new['registration_init_time'].dt.month\n",
    "# df_train_new['registration_init_time_day'] = df_train_new['registration_init_time'].dt.day \n",
    "\n",
    "df_test_new['registration_init_time_year'] = df_test_new['registration_init_time'].dt.year \n",
    "df_test_new['registration_init_time_month'] = df_test_new['registration_init_time'].dt.month\n",
    "\n",
    "df_train_new['expiration_date_year'] = df_train_new['expiration_date'].dt.year \n",
    "df_train_new['expiration_date_month'] = df_train_new['expiration_date'].dt.month\n",
    "# df_train_new['expiration_date_day'] = df_train_new['expiration_date'].dt.day \n",
    "\n",
    "df_test_new['expiration_date_year'] = df_test_new['expiration_date'].dt.year \n",
    "df_test_new['expiration_date_month'] = df_test_new['expiration_date'].dt.month\n",
    "\n",
    "\n",
    "df_train_new.head()"
   ]
  },
  {
   "cell_type": "code",
   "execution_count": 23,
   "metadata": {
    "ExecuteTime": {
     "end_time": "2021-01-14T03:28:33.201335Z",
     "start_time": "2021-01-14T03:24:51.604275Z"
    }
   },
   "outputs": [],
   "source": [
    "import time\n",
    "\n",
    "df_train_new['registration_init_time_new'] = df_train_new['registration_init_time'].apply(lambda x:int(time.mktime(x.timetuple())))\n",
    "df_train_new['expiration_date_new'] = df_train_new['expiration_date'].apply(lambda x:int(time.mktime(x.timetuple())))\n",
    "\n",
    "df_test_new['registration_init_time_new'] = df_test_new['registration_init_time'].apply(lambda x:int(time.mktime(x.timetuple())))\n",
    "df_test_new['expiration_date_new'] = df_test_new['expiration_date'].apply(lambda x:int(time.mktime(x.timetuple())))"
   ]
  },
  {
   "cell_type": "markdown",
   "metadata": {},
   "source": [
    "# 刪除異常值欄位"
   ]
  },
  {
   "cell_type": "code",
   "execution_count": 24,
   "metadata": {
    "ExecuteTime": {
     "end_time": "2021-01-14T03:28:45.442635Z",
     "start_time": "2021-01-14T03:28:33.209433Z"
    }
   },
   "outputs": [
    {
     "data": {
      "text/html": [
       "<div>\n",
       "<style scoped>\n",
       "    .dataframe tbody tr th:only-of-type {\n",
       "        vertical-align: middle;\n",
       "    }\n",
       "\n",
       "    .dataframe tbody tr th {\n",
       "        vertical-align: top;\n",
       "    }\n",
       "\n",
       "    .dataframe thead th {\n",
       "        text-align: right;\n",
       "    }\n",
       "</style>\n",
       "<table border=\"1\" class=\"dataframe\">\n",
       "  <thead>\n",
       "    <tr style=\"text-align: right;\">\n",
       "      <th></th>\n",
       "      <th>msno</th>\n",
       "      <th>song_id</th>\n",
       "      <th>source_system_tab</th>\n",
       "      <th>source_screen_name</th>\n",
       "      <th>source_type</th>\n",
       "      <th>target</th>\n",
       "      <th>song_length</th>\n",
       "      <th>genre_ids</th>\n",
       "      <th>artist_name</th>\n",
       "      <th>composer</th>\n",
       "      <th>...</th>\n",
       "      <th>gender</th>\n",
       "      <th>registered_via</th>\n",
       "      <th>registration_init_time</th>\n",
       "      <th>expiration_date</th>\n",
       "      <th>registration_init_time_year</th>\n",
       "      <th>registration_init_time_month</th>\n",
       "      <th>expiration_date_year</th>\n",
       "      <th>expiration_date_month</th>\n",
       "      <th>registration_init_time_new</th>\n",
       "      <th>expiration_date_new</th>\n",
       "    </tr>\n",
       "  </thead>\n",
       "  <tbody>\n",
       "    <tr>\n",
       "      <td>6711345</td>\n",
       "      <td>w8E2bY1kVYnLch27rTbD70PBg4mKLifbXUwnJ7oRnaw=</td>\n",
       "      <td>L6w2d0w84FjTvFr+BhMfgu7dZAsGiOqUGmvvxIG3gvQ=</td>\n",
       "      <td>discover</td>\n",
       "      <td>Search</td>\n",
       "      <td>online-playlist</td>\n",
       "      <td>0</td>\n",
       "      <td>198528</td>\n",
       "      <td>458</td>\n",
       "      <td>五月天 (Mayday)</td>\n",
       "      <td>阿信/冠佑</td>\n",
       "      <td>...</td>\n",
       "      <td>NaN</td>\n",
       "      <td>9</td>\n",
       "      <td>2015-02-10</td>\n",
       "      <td>2018-04-20</td>\n",
       "      <td>2015</td>\n",
       "      <td>2</td>\n",
       "      <td>2018</td>\n",
       "      <td>4</td>\n",
       "      <td>1423497600</td>\n",
       "      <td>1524153600</td>\n",
       "    </tr>\n",
       "    <tr>\n",
       "      <td>6711346</td>\n",
       "      <td>w8E2bY1kVYnLch27rTbD70PBg4mKLifbXUwnJ7oRnaw=</td>\n",
       "      <td>cy10N2j2sdY/X4BDUcMu2Iumfz7pV3tqE5iEaup2yGI=</td>\n",
       "      <td>discover</td>\n",
       "      <td>Search</td>\n",
       "      <td>online-playlist</td>\n",
       "      <td>0</td>\n",
       "      <td>250357</td>\n",
       "      <td>458</td>\n",
       "      <td>五月天 (Mayday)</td>\n",
       "      <td>阿信</td>\n",
       "      <td>...</td>\n",
       "      <td>NaN</td>\n",
       "      <td>9</td>\n",
       "      <td>2015-02-10</td>\n",
       "      <td>2018-04-20</td>\n",
       "      <td>2015</td>\n",
       "      <td>2</td>\n",
       "      <td>2018</td>\n",
       "      <td>4</td>\n",
       "      <td>1423497600</td>\n",
       "      <td>1524153600</td>\n",
       "    </tr>\n",
       "    <tr>\n",
       "      <td>6711347</td>\n",
       "      <td>w8E2bY1kVYnLch27rTbD70PBg4mKLifbXUwnJ7oRnaw=</td>\n",
       "      <td>Z+kZanRGIjuGfGG+DPRH9gEgWZxK6fEQZnaCNwyNNiI=</td>\n",
       "      <td>my library</td>\n",
       "      <td>Local playlist more</td>\n",
       "      <td>local-playlist</td>\n",
       "      <td>0</td>\n",
       "      <td>282435</td>\n",
       "      <td>465</td>\n",
       "      <td>五月天 (Mayday)</td>\n",
       "      <td>NaN</td>\n",
       "      <td>...</td>\n",
       "      <td>NaN</td>\n",
       "      <td>9</td>\n",
       "      <td>2015-02-10</td>\n",
       "      <td>2018-04-20</td>\n",
       "      <td>2015</td>\n",
       "      <td>2</td>\n",
       "      <td>2018</td>\n",
       "      <td>4</td>\n",
       "      <td>1423497600</td>\n",
       "      <td>1524153600</td>\n",
       "    </tr>\n",
       "    <tr>\n",
       "      <td>6711348</td>\n",
       "      <td>w8E2bY1kVYnLch27rTbD70PBg4mKLifbXUwnJ7oRnaw=</td>\n",
       "      <td>yL8VeuH6lYFA4hYVGX/1HmPogBfp1Ex4ZkL5PjWy11k=</td>\n",
       "      <td>my library</td>\n",
       "      <td>Local playlist more</td>\n",
       "      <td>local-playlist</td>\n",
       "      <td>0</td>\n",
       "      <td>265404</td>\n",
       "      <td>465</td>\n",
       "      <td>五月天 (Mayday)</td>\n",
       "      <td>冠佑+阿信</td>\n",
       "      <td>...</td>\n",
       "      <td>NaN</td>\n",
       "      <td>9</td>\n",
       "      <td>2015-02-10</td>\n",
       "      <td>2018-04-20</td>\n",
       "      <td>2015</td>\n",
       "      <td>2</td>\n",
       "      <td>2018</td>\n",
       "      <td>4</td>\n",
       "      <td>1423497600</td>\n",
       "      <td>1524153600</td>\n",
       "    </tr>\n",
       "    <tr>\n",
       "      <td>6711349</td>\n",
       "      <td>w8E2bY1kVYnLch27rTbD70PBg4mKLifbXUwnJ7oRnaw=</td>\n",
       "      <td>eqxzfyc6kVOcYTDo7GCguRsfLEplxdlJ+umjJsB8gdY=</td>\n",
       "      <td>my library</td>\n",
       "      <td>Local playlist more</td>\n",
       "      <td>local-playlist</td>\n",
       "      <td>0</td>\n",
       "      <td>215597</td>\n",
       "      <td>465</td>\n",
       "      <td>五月天 (Mayday)</td>\n",
       "      <td>阿信</td>\n",
       "      <td>...</td>\n",
       "      <td>NaN</td>\n",
       "      <td>9</td>\n",
       "      <td>2015-02-10</td>\n",
       "      <td>2018-04-20</td>\n",
       "      <td>2015</td>\n",
       "      <td>2</td>\n",
       "      <td>2018</td>\n",
       "      <td>4</td>\n",
       "      <td>1423497600</td>\n",
       "      <td>1524153600</td>\n",
       "    </tr>\n",
       "    <tr>\n",
       "      <td>...</td>\n",
       "      <td>...</td>\n",
       "      <td>...</td>\n",
       "      <td>...</td>\n",
       "      <td>...</td>\n",
       "      <td>...</td>\n",
       "      <td>...</td>\n",
       "      <td>...</td>\n",
       "      <td>...</td>\n",
       "      <td>...</td>\n",
       "      <td>...</td>\n",
       "      <td>...</td>\n",
       "      <td>...</td>\n",
       "      <td>...</td>\n",
       "      <td>...</td>\n",
       "      <td>...</td>\n",
       "      <td>...</td>\n",
       "      <td>...</td>\n",
       "      <td>...</td>\n",
       "      <td>...</td>\n",
       "      <td>...</td>\n",
       "      <td>...</td>\n",
       "    </tr>\n",
       "    <tr>\n",
       "      <td>7003351</td>\n",
       "      <td>0YPMbwSq0IhioFJ6VGVjgRFkM5QMWAp5VgXH9dmwgII=</td>\n",
       "      <td>PDgxwSGUG6gX6PXM4WCmsdAah7ddbUQCDn20n/SbJBo=</td>\n",
       "      <td>my library</td>\n",
       "      <td>Local playlist more</td>\n",
       "      <td>local-library</td>\n",
       "      <td>1</td>\n",
       "      <td>221704</td>\n",
       "      <td>451</td>\n",
       "      <td>關淑怡 (Shirley Kwan)</td>\n",
       "      <td>Dong Ni Lu</td>\n",
       "      <td>...</td>\n",
       "      <td>NaN</td>\n",
       "      <td>9</td>\n",
       "      <td>2015-02-27</td>\n",
       "      <td>2017-09-25</td>\n",
       "      <td>2015</td>\n",
       "      <td>2</td>\n",
       "      <td>2017</td>\n",
       "      <td>9</td>\n",
       "      <td>1424966400</td>\n",
       "      <td>1506268800</td>\n",
       "    </tr>\n",
       "    <tr>\n",
       "      <td>7003352</td>\n",
       "      <td>0YPMbwSq0IhioFJ6VGVjgRFkM5QMWAp5VgXH9dmwgII=</td>\n",
       "      <td>Fb8+EVTFkAVdR7XZO3szbDMWodYnmCw/CVOajQ4nUk0=</td>\n",
       "      <td>my library</td>\n",
       "      <td>Local playlist more</td>\n",
       "      <td>local-library</td>\n",
       "      <td>1</td>\n",
       "      <td>216372</td>\n",
       "      <td>465</td>\n",
       "      <td>鄭秀文 (Sammi Cheng)</td>\n",
       "      <td>Eddie Ng</td>\n",
       "      <td>...</td>\n",
       "      <td>NaN</td>\n",
       "      <td>9</td>\n",
       "      <td>2015-02-27</td>\n",
       "      <td>2017-09-25</td>\n",
       "      <td>2015</td>\n",
       "      <td>2</td>\n",
       "      <td>2017</td>\n",
       "      <td>9</td>\n",
       "      <td>1424966400</td>\n",
       "      <td>1506268800</td>\n",
       "    </tr>\n",
       "    <tr>\n",
       "      <td>7003353</td>\n",
       "      <td>0YPMbwSq0IhioFJ6VGVjgRFkM5QMWAp5VgXH9dmwgII=</td>\n",
       "      <td>9B70/qgLI6PWdTI6YvjV6wRkwIlUN3BIhIC6sX/vZ1A=</td>\n",
       "      <td>my library</td>\n",
       "      <td>Local playlist more</td>\n",
       "      <td>local-library</td>\n",
       "      <td>1</td>\n",
       "      <td>185759</td>\n",
       "      <td>451</td>\n",
       "      <td>Various Artists</td>\n",
       "      <td>Jie Liu</td>\n",
       "      <td>...</td>\n",
       "      <td>NaN</td>\n",
       "      <td>9</td>\n",
       "      <td>2015-02-27</td>\n",
       "      <td>2017-09-25</td>\n",
       "      <td>2015</td>\n",
       "      <td>2</td>\n",
       "      <td>2017</td>\n",
       "      <td>9</td>\n",
       "      <td>1424966400</td>\n",
       "      <td>1506268800</td>\n",
       "    </tr>\n",
       "    <tr>\n",
       "      <td>7003354</td>\n",
       "      <td>0YPMbwSq0IhioFJ6VGVjgRFkM5QMWAp5VgXH9dmwgII=</td>\n",
       "      <td>bJECN8qAxwdw/mxBhtejyB7iQ/ngs+iQwMiUhhWNZCU=</td>\n",
       "      <td>my library</td>\n",
       "      <td>Local playlist more</td>\n",
       "      <td>local-library</td>\n",
       "      <td>1</td>\n",
       "      <td>233314</td>\n",
       "      <td>451</td>\n",
       "      <td>Various Artists</td>\n",
       "      <td>H. Serizawa</td>\n",
       "      <td>...</td>\n",
       "      <td>NaN</td>\n",
       "      <td>9</td>\n",
       "      <td>2015-02-27</td>\n",
       "      <td>2017-09-25</td>\n",
       "      <td>2015</td>\n",
       "      <td>2</td>\n",
       "      <td>2017</td>\n",
       "      <td>9</td>\n",
       "      <td>1424966400</td>\n",
       "      <td>1506268800</td>\n",
       "    </tr>\n",
       "    <tr>\n",
       "      <td>7003355</td>\n",
       "      <td>0YPMbwSq0IhioFJ6VGVjgRFkM5QMWAp5VgXH9dmwgII=</td>\n",
       "      <td>UYLZGFLDDR6yeX4UN/623C+iklFjBaSi2R/LpJz8WNY=</td>\n",
       "      <td>my library</td>\n",
       "      <td>Local playlist more</td>\n",
       "      <td>local-library</td>\n",
       "      <td>1</td>\n",
       "      <td>250403</td>\n",
       "      <td>451</td>\n",
       "      <td>Various Artists</td>\n",
       "      <td>H. Serizawa</td>\n",
       "      <td>...</td>\n",
       "      <td>NaN</td>\n",
       "      <td>9</td>\n",
       "      <td>2015-02-27</td>\n",
       "      <td>2017-09-25</td>\n",
       "      <td>2015</td>\n",
       "      <td>2</td>\n",
       "      <td>2017</td>\n",
       "      <td>9</td>\n",
       "      <td>1424966400</td>\n",
       "      <td>1506268800</td>\n",
       "    </tr>\n",
       "  </tbody>\n",
       "</table>\n",
       "<p>195 rows × 24 columns</p>\n",
       "</div>"
      ],
      "text/plain": [
       "                                                 msno  \\\n",
       "6711345  w8E2bY1kVYnLch27rTbD70PBg4mKLifbXUwnJ7oRnaw=   \n",
       "6711346  w8E2bY1kVYnLch27rTbD70PBg4mKLifbXUwnJ7oRnaw=   \n",
       "6711347  w8E2bY1kVYnLch27rTbD70PBg4mKLifbXUwnJ7oRnaw=   \n",
       "6711348  w8E2bY1kVYnLch27rTbD70PBg4mKLifbXUwnJ7oRnaw=   \n",
       "6711349  w8E2bY1kVYnLch27rTbD70PBg4mKLifbXUwnJ7oRnaw=   \n",
       "...                                               ...   \n",
       "7003351  0YPMbwSq0IhioFJ6VGVjgRFkM5QMWAp5VgXH9dmwgII=   \n",
       "7003352  0YPMbwSq0IhioFJ6VGVjgRFkM5QMWAp5VgXH9dmwgII=   \n",
       "7003353  0YPMbwSq0IhioFJ6VGVjgRFkM5QMWAp5VgXH9dmwgII=   \n",
       "7003354  0YPMbwSq0IhioFJ6VGVjgRFkM5QMWAp5VgXH9dmwgII=   \n",
       "7003355  0YPMbwSq0IhioFJ6VGVjgRFkM5QMWAp5VgXH9dmwgII=   \n",
       "\n",
       "                                              song_id source_system_tab  \\\n",
       "6711345  L6w2d0w84FjTvFr+BhMfgu7dZAsGiOqUGmvvxIG3gvQ=          discover   \n",
       "6711346  cy10N2j2sdY/X4BDUcMu2Iumfz7pV3tqE5iEaup2yGI=          discover   \n",
       "6711347  Z+kZanRGIjuGfGG+DPRH9gEgWZxK6fEQZnaCNwyNNiI=        my library   \n",
       "6711348  yL8VeuH6lYFA4hYVGX/1HmPogBfp1Ex4ZkL5PjWy11k=        my library   \n",
       "6711349  eqxzfyc6kVOcYTDo7GCguRsfLEplxdlJ+umjJsB8gdY=        my library   \n",
       "...                                               ...               ...   \n",
       "7003351  PDgxwSGUG6gX6PXM4WCmsdAah7ddbUQCDn20n/SbJBo=        my library   \n",
       "7003352  Fb8+EVTFkAVdR7XZO3szbDMWodYnmCw/CVOajQ4nUk0=        my library   \n",
       "7003353  9B70/qgLI6PWdTI6YvjV6wRkwIlUN3BIhIC6sX/vZ1A=        my library   \n",
       "7003354  bJECN8qAxwdw/mxBhtejyB7iQ/ngs+iQwMiUhhWNZCU=        my library   \n",
       "7003355  UYLZGFLDDR6yeX4UN/623C+iklFjBaSi2R/LpJz8WNY=        my library   \n",
       "\n",
       "          source_screen_name      source_type  target  song_length genre_ids  \\\n",
       "6711345               Search  online-playlist       0       198528       458   \n",
       "6711346               Search  online-playlist       0       250357       458   \n",
       "6711347  Local playlist more   local-playlist       0       282435       465   \n",
       "6711348  Local playlist more   local-playlist       0       265404       465   \n",
       "6711349  Local playlist more   local-playlist       0       215597       465   \n",
       "...                      ...              ...     ...          ...       ...   \n",
       "7003351  Local playlist more    local-library       1       221704       451   \n",
       "7003352  Local playlist more    local-library       1       216372       465   \n",
       "7003353  Local playlist more    local-library       1       185759       451   \n",
       "7003354  Local playlist more    local-library       1       233314       451   \n",
       "7003355  Local playlist more    local-library       1       250403       451   \n",
       "\n",
       "                artist_name     composer  ... gender  registered_via  \\\n",
       "6711345        五月天 (Mayday)        阿信/冠佑  ...    NaN               9   \n",
       "6711346        五月天 (Mayday)           阿信  ...    NaN               9   \n",
       "6711347        五月天 (Mayday)          NaN  ...    NaN               9   \n",
       "6711348        五月天 (Mayday)        冠佑+阿信  ...    NaN               9   \n",
       "6711349        五月天 (Mayday)           阿信  ...    NaN               9   \n",
       "...                     ...          ...  ...    ...             ...   \n",
       "7003351  關淑怡 (Shirley Kwan)   Dong Ni Lu  ...    NaN               9   \n",
       "7003352   鄭秀文 (Sammi Cheng)     Eddie Ng  ...    NaN               9   \n",
       "7003353     Various Artists      Jie Liu  ...    NaN               9   \n",
       "7003354     Various Artists  H. Serizawa  ...    NaN               9   \n",
       "7003355     Various Artists  H. Serizawa  ...    NaN               9   \n",
       "\n",
       "         registration_init_time  expiration_date registration_init_time_year  \\\n",
       "6711345              2015-02-10       2018-04-20                        2015   \n",
       "6711346              2015-02-10       2018-04-20                        2015   \n",
       "6711347              2015-02-10       2018-04-20                        2015   \n",
       "6711348              2015-02-10       2018-04-20                        2015   \n",
       "6711349              2015-02-10       2018-04-20                        2015   \n",
       "...                         ...              ...                         ...   \n",
       "7003351              2015-02-27       2017-09-25                        2015   \n",
       "7003352              2015-02-27       2017-09-25                        2015   \n",
       "7003353              2015-02-27       2017-09-25                        2015   \n",
       "7003354              2015-02-27       2017-09-25                        2015   \n",
       "7003355              2015-02-27       2017-09-25                        2015   \n",
       "\n",
       "         registration_init_time_month expiration_date_year  \\\n",
       "6711345                             2                 2018   \n",
       "6711346                             2                 2018   \n",
       "6711347                             2                 2018   \n",
       "6711348                             2                 2018   \n",
       "6711349                             2                 2018   \n",
       "...                               ...                  ...   \n",
       "7003351                             2                 2017   \n",
       "7003352                             2                 2017   \n",
       "7003353                             2                 2017   \n",
       "7003354                             2                 2017   \n",
       "7003355                             2                 2017   \n",
       "\n",
       "        expiration_date_month  registration_init_time_new  expiration_date_new  \n",
       "6711345                     4                  1423497600           1524153600  \n",
       "6711346                     4                  1423497600           1524153600  \n",
       "6711347                     4                  1423497600           1524153600  \n",
       "6711348                     4                  1423497600           1524153600  \n",
       "6711349                     4                  1423497600           1524153600  \n",
       "...                       ...                         ...                  ...  \n",
       "7003351                     9                  1424966400           1506268800  \n",
       "7003352                     9                  1424966400           1506268800  \n",
       "7003353                     9                  1424966400           1506268800  \n",
       "7003354                     9                  1424966400           1506268800  \n",
       "7003355                     9                  1424966400           1506268800  \n",
       "\n",
       "[195 rows x 24 columns]"
      ]
     },
     "execution_count": 24,
     "metadata": {},
     "output_type": "execute_result"
    }
   ],
   "source": [
    "## 年齡取0~100歲\n",
    "\n",
    "df_train_new[df_train_new['bd']<0]"
   ]
  },
  {
   "cell_type": "code",
   "execution_count": 25,
   "metadata": {
    "ExecuteTime": {
     "end_time": "2021-01-14T03:28:45.904103Z",
     "start_time": "2021-01-14T03:28:45.451734Z"
    }
   },
   "outputs": [
    {
     "data": {
      "text/html": [
       "<div>\n",
       "<style scoped>\n",
       "    .dataframe tbody tr th:only-of-type {\n",
       "        vertical-align: middle;\n",
       "    }\n",
       "\n",
       "    .dataframe tbody tr th {\n",
       "        vertical-align: top;\n",
       "    }\n",
       "\n",
       "    .dataframe thead th {\n",
       "        text-align: right;\n",
       "    }\n",
       "</style>\n",
       "<table border=\"1\" class=\"dataframe\">\n",
       "  <thead>\n",
       "    <tr style=\"text-align: right;\">\n",
       "      <th></th>\n",
       "      <th>msno</th>\n",
       "      <th>song_id</th>\n",
       "      <th>source_system_tab</th>\n",
       "      <th>source_screen_name</th>\n",
       "      <th>source_type</th>\n",
       "      <th>target</th>\n",
       "      <th>song_length</th>\n",
       "      <th>genre_ids</th>\n",
       "      <th>artist_name</th>\n",
       "      <th>composer</th>\n",
       "      <th>...</th>\n",
       "      <th>gender</th>\n",
       "      <th>registered_via</th>\n",
       "      <th>registration_init_time</th>\n",
       "      <th>expiration_date</th>\n",
       "      <th>registration_init_time_year</th>\n",
       "      <th>registration_init_time_month</th>\n",
       "      <th>expiration_date_year</th>\n",
       "      <th>expiration_date_month</th>\n",
       "      <th>registration_init_time_new</th>\n",
       "      <th>expiration_date_new</th>\n",
       "    </tr>\n",
       "  </thead>\n",
       "  <tbody>\n",
       "    <tr>\n",
       "      <td>280284</td>\n",
       "      <td>4aRFGkKzGUpqTbjojytAtRQNdx0egL02hjJhSqq0+NA=</td>\n",
       "      <td>3qm6XTZ6MOCU11x8FIVbAGH5l5uMkT3/ZalWG1oo2Gc=</td>\n",
       "      <td>explore</td>\n",
       "      <td>Explore</td>\n",
       "      <td>online-playlist</td>\n",
       "      <td>1</td>\n",
       "      <td>187802</td>\n",
       "      <td>1011</td>\n",
       "      <td>Brett Young</td>\n",
       "      <td>Brett Young| Kelly Archer| Justin Ebach</td>\n",
       "      <td>...</td>\n",
       "      <td>female</td>\n",
       "      <td>3</td>\n",
       "      <td>2016-02-16</td>\n",
       "      <td>2017-09-13</td>\n",
       "      <td>2016</td>\n",
       "      <td>2</td>\n",
       "      <td>2017</td>\n",
       "      <td>9</td>\n",
       "      <td>1455552000</td>\n",
       "      <td>1505232000</td>\n",
       "    </tr>\n",
       "    <tr>\n",
       "      <td>280285</td>\n",
       "      <td>4aRFGkKzGUpqTbjojytAtRQNdx0egL02hjJhSqq0+NA=</td>\n",
       "      <td>VkILU0H1h3NMmk9MQrXouNudGk5n8Ls5cqRRuBxeTh4=</td>\n",
       "      <td>my library</td>\n",
       "      <td>Local playlist more</td>\n",
       "      <td>local-playlist</td>\n",
       "      <td>1</td>\n",
       "      <td>229982</td>\n",
       "      <td>465</td>\n",
       "      <td>BIGBANG TAEYANG</td>\n",
       "      <td>TEDDY| DEE.P| Rebecca Johnson</td>\n",
       "      <td>...</td>\n",
       "      <td>female</td>\n",
       "      <td>3</td>\n",
       "      <td>2016-02-16</td>\n",
       "      <td>2017-09-13</td>\n",
       "      <td>2016</td>\n",
       "      <td>2</td>\n",
       "      <td>2017</td>\n",
       "      <td>9</td>\n",
       "      <td>1455552000</td>\n",
       "      <td>1505232000</td>\n",
       "    </tr>\n",
       "    <tr>\n",
       "      <td>280286</td>\n",
       "      <td>4aRFGkKzGUpqTbjojytAtRQNdx0egL02hjJhSqq0+NA=</td>\n",
       "      <td>bPIvRTzfHxH5LgHrStll+tYwSQNVV8PySgA3M1PfTgc=</td>\n",
       "      <td>explore</td>\n",
       "      <td>Explore</td>\n",
       "      <td>online-playlist</td>\n",
       "      <td>1</td>\n",
       "      <td>181115</td>\n",
       "      <td>1011</td>\n",
       "      <td>Thomas Rhett</td>\n",
       "      <td>Thomas Rhett| Rhett Akins| Ben Hayslip</td>\n",
       "      <td>...</td>\n",
       "      <td>female</td>\n",
       "      <td>3</td>\n",
       "      <td>2016-02-16</td>\n",
       "      <td>2017-09-13</td>\n",
       "      <td>2016</td>\n",
       "      <td>2</td>\n",
       "      <td>2017</td>\n",
       "      <td>9</td>\n",
       "      <td>1455552000</td>\n",
       "      <td>1505232000</td>\n",
       "    </tr>\n",
       "    <tr>\n",
       "      <td>280287</td>\n",
       "      <td>4aRFGkKzGUpqTbjojytAtRQNdx0egL02hjJhSqq0+NA=</td>\n",
       "      <td>u6/Pb7X4u7KU4gXrBgGqt8RlRrNNFLn03tLAHyxRxwA=</td>\n",
       "      <td>explore</td>\n",
       "      <td>Explore</td>\n",
       "      <td>online-playlist</td>\n",
       "      <td>1</td>\n",
       "      <td>280084</td>\n",
       "      <td>465</td>\n",
       "      <td>林俊傑 (JJ Lin)</td>\n",
       "      <td>林俊傑</td>\n",
       "      <td>...</td>\n",
       "      <td>female</td>\n",
       "      <td>3</td>\n",
       "      <td>2016-02-16</td>\n",
       "      <td>2017-09-13</td>\n",
       "      <td>2016</td>\n",
       "      <td>2</td>\n",
       "      <td>2017</td>\n",
       "      <td>9</td>\n",
       "      <td>1455552000</td>\n",
       "      <td>1505232000</td>\n",
       "    </tr>\n",
       "    <tr>\n",
       "      <td>280288</td>\n",
       "      <td>4aRFGkKzGUpqTbjojytAtRQNdx0egL02hjJhSqq0+NA=</td>\n",
       "      <td>IgMar/mVrJQ+ODFPytDf7jwQMmR09+slyZUdVylRFLc=</td>\n",
       "      <td>radio</td>\n",
       "      <td>Radio</td>\n",
       "      <td>radio</td>\n",
       "      <td>1</td>\n",
       "      <td>210364</td>\n",
       "      <td>465|458</td>\n",
       "      <td>林俊傑 (JJ Lin)</td>\n",
       "      <td>JJ Lin</td>\n",
       "      <td>...</td>\n",
       "      <td>female</td>\n",
       "      <td>3</td>\n",
       "      <td>2016-02-16</td>\n",
       "      <td>2017-09-13</td>\n",
       "      <td>2016</td>\n",
       "      <td>2</td>\n",
       "      <td>2017</td>\n",
       "      <td>9</td>\n",
       "      <td>1455552000</td>\n",
       "      <td>1505232000</td>\n",
       "    </tr>\n",
       "    <tr>\n",
       "      <td>...</td>\n",
       "      <td>...</td>\n",
       "      <td>...</td>\n",
       "      <td>...</td>\n",
       "      <td>...</td>\n",
       "      <td>...</td>\n",
       "      <td>...</td>\n",
       "      <td>...</td>\n",
       "      <td>...</td>\n",
       "      <td>...</td>\n",
       "      <td>...</td>\n",
       "      <td>...</td>\n",
       "      <td>...</td>\n",
       "      <td>...</td>\n",
       "      <td>...</td>\n",
       "      <td>...</td>\n",
       "      <td>...</td>\n",
       "      <td>...</td>\n",
       "      <td>...</td>\n",
       "      <td>...</td>\n",
       "      <td>...</td>\n",
       "      <td>...</td>\n",
       "    </tr>\n",
       "    <tr>\n",
       "      <td>7375227</td>\n",
       "      <td>0QqQJKwvsz2EfQ6dTCVXvXqfctMAvcJ3RXKqLihwgh4=</td>\n",
       "      <td>3KfmCVNEP5hznOE784VeXvPY1V58kh3WFpq3XMfWqX8=</td>\n",
       "      <td>discover</td>\n",
       "      <td>Discover Feature</td>\n",
       "      <td>online-playlist</td>\n",
       "      <td>0</td>\n",
       "      <td>219637</td>\n",
       "      <td>921</td>\n",
       "      <td>Various Artists</td>\n",
       "      <td>NaN</td>\n",
       "      <td>...</td>\n",
       "      <td>female</td>\n",
       "      <td>4</td>\n",
       "      <td>2016-09-11</td>\n",
       "      <td>2017-08-12</td>\n",
       "      <td>2016</td>\n",
       "      <td>9</td>\n",
       "      <td>2017</td>\n",
       "      <td>8</td>\n",
       "      <td>1473523200</td>\n",
       "      <td>1502467200</td>\n",
       "    </tr>\n",
       "    <tr>\n",
       "      <td>7375228</td>\n",
       "      <td>0QqQJKwvsz2EfQ6dTCVXvXqfctMAvcJ3RXKqLihwgh4=</td>\n",
       "      <td>hB6AoWeDJA5OiwX81JOkupcNKIC8z8PwVOlPBCxGG1s=</td>\n",
       "      <td>discover</td>\n",
       "      <td>Discover Feature</td>\n",
       "      <td>online-playlist</td>\n",
       "      <td>0</td>\n",
       "      <td>259599</td>\n",
       "      <td>921</td>\n",
       "      <td>Various Artists</td>\n",
       "      <td>Justin Hurwitz| Benj Pasek| Justin Paul</td>\n",
       "      <td>...</td>\n",
       "      <td>female</td>\n",
       "      <td>4</td>\n",
       "      <td>2016-09-11</td>\n",
       "      <td>2017-08-12</td>\n",
       "      <td>2016</td>\n",
       "      <td>9</td>\n",
       "      <td>2017</td>\n",
       "      <td>8</td>\n",
       "      <td>1473523200</td>\n",
       "      <td>1502467200</td>\n",
       "    </tr>\n",
       "    <tr>\n",
       "      <td>7375229</td>\n",
       "      <td>0QqQJKwvsz2EfQ6dTCVXvXqfctMAvcJ3RXKqLihwgh4=</td>\n",
       "      <td>7aM2MfyZgzg9+0CEXfyzhvZjxn6czJ2j7Oie4vDVas8=</td>\n",
       "      <td>discover</td>\n",
       "      <td>Discover Feature</td>\n",
       "      <td>online-playlist</td>\n",
       "      <td>0</td>\n",
       "      <td>91951</td>\n",
       "      <td>921</td>\n",
       "      <td>Voidoid</td>\n",
       "      <td>NaN</td>\n",
       "      <td>...</td>\n",
       "      <td>female</td>\n",
       "      <td>4</td>\n",
       "      <td>2016-09-11</td>\n",
       "      <td>2017-08-12</td>\n",
       "      <td>2016</td>\n",
       "      <td>9</td>\n",
       "      <td>2017</td>\n",
       "      <td>8</td>\n",
       "      <td>1473523200</td>\n",
       "      <td>1502467200</td>\n",
       "    </tr>\n",
       "    <tr>\n",
       "      <td>7375230</td>\n",
       "      <td>0QqQJKwvsz2EfQ6dTCVXvXqfctMAvcJ3RXKqLihwgh4=</td>\n",
       "      <td>GNGEf5DNWAiXoIQpyncNUfgLXwiI9I2PN5N2k+8MYlQ=</td>\n",
       "      <td>discover</td>\n",
       "      <td>Discover Feature</td>\n",
       "      <td>online-playlist</td>\n",
       "      <td>0</td>\n",
       "      <td>211591</td>\n",
       "      <td>921</td>\n",
       "      <td>Various Artists</td>\n",
       "      <td>E. Schurman| T. VanEsch| N. Davidse| D. Smid| ...</td>\n",
       "      <td>...</td>\n",
       "      <td>female</td>\n",
       "      <td>4</td>\n",
       "      <td>2016-09-11</td>\n",
       "      <td>2017-08-12</td>\n",
       "      <td>2016</td>\n",
       "      <td>9</td>\n",
       "      <td>2017</td>\n",
       "      <td>8</td>\n",
       "      <td>1473523200</td>\n",
       "      <td>1502467200</td>\n",
       "    </tr>\n",
       "    <tr>\n",
       "      <td>7375231</td>\n",
       "      <td>0QqQJKwvsz2EfQ6dTCVXvXqfctMAvcJ3RXKqLihwgh4=</td>\n",
       "      <td>d4IFqDurh+BW21kN6bPXxjdz8I3zS+0rgseXYGfwzZU=</td>\n",
       "      <td>discover</td>\n",
       "      <td>Discover Feature</td>\n",
       "      <td>online-playlist</td>\n",
       "      <td>0</td>\n",
       "      <td>190496</td>\n",
       "      <td>893</td>\n",
       "      <td>Demusmaker</td>\n",
       "      <td>Antonio Vivaldi| Jakub Burzynski</td>\n",
       "      <td>...</td>\n",
       "      <td>female</td>\n",
       "      <td>4</td>\n",
       "      <td>2016-09-11</td>\n",
       "      <td>2017-08-12</td>\n",
       "      <td>2016</td>\n",
       "      <td>9</td>\n",
       "      <td>2017</td>\n",
       "      <td>8</td>\n",
       "      <td>1473523200</td>\n",
       "      <td>1502467200</td>\n",
       "    </tr>\n",
       "  </tbody>\n",
       "</table>\n",
       "<p>6508 rows × 24 columns</p>\n",
       "</div>"
      ],
      "text/plain": [
       "                                                 msno  \\\n",
       "280284   4aRFGkKzGUpqTbjojytAtRQNdx0egL02hjJhSqq0+NA=   \n",
       "280285   4aRFGkKzGUpqTbjojytAtRQNdx0egL02hjJhSqq0+NA=   \n",
       "280286   4aRFGkKzGUpqTbjojytAtRQNdx0egL02hjJhSqq0+NA=   \n",
       "280287   4aRFGkKzGUpqTbjojytAtRQNdx0egL02hjJhSqq0+NA=   \n",
       "280288   4aRFGkKzGUpqTbjojytAtRQNdx0egL02hjJhSqq0+NA=   \n",
       "...                                               ...   \n",
       "7375227  0QqQJKwvsz2EfQ6dTCVXvXqfctMAvcJ3RXKqLihwgh4=   \n",
       "7375228  0QqQJKwvsz2EfQ6dTCVXvXqfctMAvcJ3RXKqLihwgh4=   \n",
       "7375229  0QqQJKwvsz2EfQ6dTCVXvXqfctMAvcJ3RXKqLihwgh4=   \n",
       "7375230  0QqQJKwvsz2EfQ6dTCVXvXqfctMAvcJ3RXKqLihwgh4=   \n",
       "7375231  0QqQJKwvsz2EfQ6dTCVXvXqfctMAvcJ3RXKqLihwgh4=   \n",
       "\n",
       "                                              song_id source_system_tab  \\\n",
       "280284   3qm6XTZ6MOCU11x8FIVbAGH5l5uMkT3/ZalWG1oo2Gc=           explore   \n",
       "280285   VkILU0H1h3NMmk9MQrXouNudGk5n8Ls5cqRRuBxeTh4=        my library   \n",
       "280286   bPIvRTzfHxH5LgHrStll+tYwSQNVV8PySgA3M1PfTgc=           explore   \n",
       "280287   u6/Pb7X4u7KU4gXrBgGqt8RlRrNNFLn03tLAHyxRxwA=           explore   \n",
       "280288   IgMar/mVrJQ+ODFPytDf7jwQMmR09+slyZUdVylRFLc=             radio   \n",
       "...                                               ...               ...   \n",
       "7375227  3KfmCVNEP5hznOE784VeXvPY1V58kh3WFpq3XMfWqX8=          discover   \n",
       "7375228  hB6AoWeDJA5OiwX81JOkupcNKIC8z8PwVOlPBCxGG1s=          discover   \n",
       "7375229  7aM2MfyZgzg9+0CEXfyzhvZjxn6czJ2j7Oie4vDVas8=          discover   \n",
       "7375230  GNGEf5DNWAiXoIQpyncNUfgLXwiI9I2PN5N2k+8MYlQ=          discover   \n",
       "7375231  d4IFqDurh+BW21kN6bPXxjdz8I3zS+0rgseXYGfwzZU=          discover   \n",
       "\n",
       "          source_screen_name      source_type  target  song_length genre_ids  \\\n",
       "280284               Explore  online-playlist       1       187802      1011   \n",
       "280285   Local playlist more   local-playlist       1       229982       465   \n",
       "280286               Explore  online-playlist       1       181115      1011   \n",
       "280287               Explore  online-playlist       1       280084       465   \n",
       "280288                 Radio            radio       1       210364   465|458   \n",
       "...                      ...              ...     ...          ...       ...   \n",
       "7375227     Discover Feature  online-playlist       0       219637       921   \n",
       "7375228     Discover Feature  online-playlist       0       259599       921   \n",
       "7375229     Discover Feature  online-playlist       0        91951       921   \n",
       "7375230     Discover Feature  online-playlist       0       211591       921   \n",
       "7375231     Discover Feature  online-playlist       0       190496       893   \n",
       "\n",
       "             artist_name                                           composer  \\\n",
       "280284       Brett Young            Brett Young| Kelly Archer| Justin Ebach   \n",
       "280285   BIGBANG TAEYANG                      TEDDY| DEE.P| Rebecca Johnson   \n",
       "280286      Thomas Rhett             Thomas Rhett| Rhett Akins| Ben Hayslip   \n",
       "280287      林俊傑 (JJ Lin)                                                林俊傑   \n",
       "280288      林俊傑 (JJ Lin)                                             JJ Lin   \n",
       "...                  ...                                                ...   \n",
       "7375227  Various Artists                                                NaN   \n",
       "7375228  Various Artists            Justin Hurwitz| Benj Pasek| Justin Paul   \n",
       "7375229          Voidoid                                                NaN   \n",
       "7375230  Various Artists  E. Schurman| T. VanEsch| N. Davidse| D. Smid| ...   \n",
       "7375231       Demusmaker                   Antonio Vivaldi| Jakub Burzynski   \n",
       "\n",
       "         ...  gender  registered_via  registration_init_time  expiration_date  \\\n",
       "280284   ...  female               3              2016-02-16       2017-09-13   \n",
       "280285   ...  female               3              2016-02-16       2017-09-13   \n",
       "280286   ...  female               3              2016-02-16       2017-09-13   \n",
       "280287   ...  female               3              2016-02-16       2017-09-13   \n",
       "280288   ...  female               3              2016-02-16       2017-09-13   \n",
       "...      ...     ...             ...                     ...              ...   \n",
       "7375227  ...  female               4              2016-09-11       2017-08-12   \n",
       "7375228  ...  female               4              2016-09-11       2017-08-12   \n",
       "7375229  ...  female               4              2016-09-11       2017-08-12   \n",
       "7375230  ...  female               4              2016-09-11       2017-08-12   \n",
       "7375231  ...  female               4              2016-09-11       2017-08-12   \n",
       "\n",
       "        registration_init_time_year  registration_init_time_month  \\\n",
       "280284                         2016                             2   \n",
       "280285                         2016                             2   \n",
       "280286                         2016                             2   \n",
       "280287                         2016                             2   \n",
       "280288                         2016                             2   \n",
       "...                             ...                           ...   \n",
       "7375227                        2016                             9   \n",
       "7375228                        2016                             9   \n",
       "7375229                        2016                             9   \n",
       "7375230                        2016                             9   \n",
       "7375231                        2016                             9   \n",
       "\n",
       "        expiration_date_year expiration_date_month  \\\n",
       "280284                  2017                     9   \n",
       "280285                  2017                     9   \n",
       "280286                  2017                     9   \n",
       "280287                  2017                     9   \n",
       "280288                  2017                     9   \n",
       "...                      ...                   ...   \n",
       "7375227                 2017                     8   \n",
       "7375228                 2017                     8   \n",
       "7375229                 2017                     8   \n",
       "7375230                 2017                     8   \n",
       "7375231                 2017                     8   \n",
       "\n",
       "         registration_init_time_new  expiration_date_new  \n",
       "280284                   1455552000           1505232000  \n",
       "280285                   1455552000           1505232000  \n",
       "280286                   1455552000           1505232000  \n",
       "280287                   1455552000           1505232000  \n",
       "280288                   1455552000           1505232000  \n",
       "...                             ...                  ...  \n",
       "7375227                  1473523200           1502467200  \n",
       "7375228                  1473523200           1502467200  \n",
       "7375229                  1473523200           1502467200  \n",
       "7375230                  1473523200           1502467200  \n",
       "7375231                  1473523200           1502467200  \n",
       "\n",
       "[6508 rows x 24 columns]"
      ]
     },
     "execution_count": 25,
     "metadata": {},
     "output_type": "execute_result"
    }
   ],
   "source": [
    "df_train_new[df_train_new['bd']>100]"
   ]
  },
  {
   "cell_type": "code",
   "execution_count": 26,
   "metadata": {
    "ExecuteTime": {
     "end_time": "2021-01-14T03:29:05.280234Z",
     "start_time": "2021-01-14T03:28:45.921182Z"
    }
   },
   "outputs": [
    {
     "data": {
      "text/html": [
       "<div>\n",
       "<style scoped>\n",
       "    .dataframe tbody tr th:only-of-type {\n",
       "        vertical-align: middle;\n",
       "    }\n",
       "\n",
       "    .dataframe tbody tr th {\n",
       "        vertical-align: top;\n",
       "    }\n",
       "\n",
       "    .dataframe thead th {\n",
       "        text-align: right;\n",
       "    }\n",
       "</style>\n",
       "<table border=\"1\" class=\"dataframe\">\n",
       "  <thead>\n",
       "    <tr style=\"text-align: right;\">\n",
       "      <th></th>\n",
       "      <th>msno</th>\n",
       "      <th>song_id</th>\n",
       "      <th>source_system_tab</th>\n",
       "      <th>source_screen_name</th>\n",
       "      <th>source_type</th>\n",
       "      <th>target</th>\n",
       "      <th>song_length</th>\n",
       "      <th>genre_ids</th>\n",
       "      <th>artist_name</th>\n",
       "      <th>composer</th>\n",
       "      <th>...</th>\n",
       "      <th>gender</th>\n",
       "      <th>registered_via</th>\n",
       "      <th>registration_init_time</th>\n",
       "      <th>expiration_date</th>\n",
       "      <th>registration_init_time_year</th>\n",
       "      <th>registration_init_time_month</th>\n",
       "      <th>expiration_date_year</th>\n",
       "      <th>expiration_date_month</th>\n",
       "      <th>registration_init_time_new</th>\n",
       "      <th>expiration_date_new</th>\n",
       "    </tr>\n",
       "  </thead>\n",
       "  <tbody>\n",
       "    <tr>\n",
       "      <td>0</td>\n",
       "      <td>FGtllVqz18RPiwJj/edr2gV78zirAiY/9SmYvia+kCg=</td>\n",
       "      <td>BBzumQNXUHKdEBOB7mAJuzok+IJA1c2Ryg/yzTF6tik=</td>\n",
       "      <td>explore</td>\n",
       "      <td>Explore</td>\n",
       "      <td>online-playlist</td>\n",
       "      <td>1</td>\n",
       "      <td>206471</td>\n",
       "      <td>359</td>\n",
       "      <td>Bastille</td>\n",
       "      <td>Dan Smith| Mark Crew</td>\n",
       "      <td>...</td>\n",
       "      <td>NaN</td>\n",
       "      <td>7</td>\n",
       "      <td>2012-01-02</td>\n",
       "      <td>2017-10-05</td>\n",
       "      <td>2012</td>\n",
       "      <td>1</td>\n",
       "      <td>2017</td>\n",
       "      <td>10</td>\n",
       "      <td>1325433600</td>\n",
       "      <td>1507132800</td>\n",
       "    </tr>\n",
       "    <tr>\n",
       "      <td>1</td>\n",
       "      <td>FGtllVqz18RPiwJj/edr2gV78zirAiY/9SmYvia+kCg=</td>\n",
       "      <td>3qm6XTZ6MOCU11x8FIVbAGH5l5uMkT3/ZalWG1oo2Gc=</td>\n",
       "      <td>explore</td>\n",
       "      <td>Explore</td>\n",
       "      <td>online-playlist</td>\n",
       "      <td>1</td>\n",
       "      <td>187802</td>\n",
       "      <td>1011</td>\n",
       "      <td>Brett Young</td>\n",
       "      <td>Brett Young| Kelly Archer| Justin Ebach</td>\n",
       "      <td>...</td>\n",
       "      <td>NaN</td>\n",
       "      <td>7</td>\n",
       "      <td>2012-01-02</td>\n",
       "      <td>2017-10-05</td>\n",
       "      <td>2012</td>\n",
       "      <td>1</td>\n",
       "      <td>2017</td>\n",
       "      <td>10</td>\n",
       "      <td>1325433600</td>\n",
       "      <td>1507132800</td>\n",
       "    </tr>\n",
       "    <tr>\n",
       "      <td>2</td>\n",
       "      <td>FGtllVqz18RPiwJj/edr2gV78zirAiY/9SmYvia+kCg=</td>\n",
       "      <td>3Hg5kugV1S0wzEVLAEfqjIV5UHzb7bCrdBRQlGygLvU=</td>\n",
       "      <td>explore</td>\n",
       "      <td>Explore</td>\n",
       "      <td>online-playlist</td>\n",
       "      <td>1</td>\n",
       "      <td>247803</td>\n",
       "      <td>1259</td>\n",
       "      <td>Desiigner</td>\n",
       "      <td>Sidney Selby| Adnan Khan</td>\n",
       "      <td>...</td>\n",
       "      <td>NaN</td>\n",
       "      <td>7</td>\n",
       "      <td>2012-01-02</td>\n",
       "      <td>2017-10-05</td>\n",
       "      <td>2012</td>\n",
       "      <td>1</td>\n",
       "      <td>2017</td>\n",
       "      <td>10</td>\n",
       "      <td>1325433600</td>\n",
       "      <td>1507132800</td>\n",
       "    </tr>\n",
       "    <tr>\n",
       "      <td>3</td>\n",
       "      <td>FGtllVqz18RPiwJj/edr2gV78zirAiY/9SmYvia+kCg=</td>\n",
       "      <td>bPIvRTzfHxH5LgHrStll+tYwSQNVV8PySgA3M1PfTgc=</td>\n",
       "      <td>explore</td>\n",
       "      <td>Explore</td>\n",
       "      <td>online-playlist</td>\n",
       "      <td>1</td>\n",
       "      <td>181115</td>\n",
       "      <td>1011</td>\n",
       "      <td>Thomas Rhett</td>\n",
       "      <td>Thomas Rhett| Rhett Akins| Ben Hayslip</td>\n",
       "      <td>...</td>\n",
       "      <td>NaN</td>\n",
       "      <td>7</td>\n",
       "      <td>2012-01-02</td>\n",
       "      <td>2017-10-05</td>\n",
       "      <td>2012</td>\n",
       "      <td>1</td>\n",
       "      <td>2017</td>\n",
       "      <td>10</td>\n",
       "      <td>1325433600</td>\n",
       "      <td>1507132800</td>\n",
       "    </tr>\n",
       "    <tr>\n",
       "      <td>4</td>\n",
       "      <td>FGtllVqz18RPiwJj/edr2gV78zirAiY/9SmYvia+kCg=</td>\n",
       "      <td>EbI7xoNxI+3QSsiHxL13zBdgHIJOwa3srHd7cDcnJ0g=</td>\n",
       "      <td>explore</td>\n",
       "      <td>Explore</td>\n",
       "      <td>online-playlist</td>\n",
       "      <td>0</td>\n",
       "      <td>257369</td>\n",
       "      <td>465</td>\n",
       "      <td>OneRepublic</td>\n",
       "      <td>Ryan Tedder</td>\n",
       "      <td>...</td>\n",
       "      <td>NaN</td>\n",
       "      <td>7</td>\n",
       "      <td>2012-01-02</td>\n",
       "      <td>2017-10-05</td>\n",
       "      <td>2012</td>\n",
       "      <td>1</td>\n",
       "      <td>2017</td>\n",
       "      <td>10</td>\n",
       "      <td>1325433600</td>\n",
       "      <td>1507132800</td>\n",
       "    </tr>\n",
       "    <tr>\n",
       "      <td>...</td>\n",
       "      <td>...</td>\n",
       "      <td>...</td>\n",
       "      <td>...</td>\n",
       "      <td>...</td>\n",
       "      <td>...</td>\n",
       "      <td>...</td>\n",
       "      <td>...</td>\n",
       "      <td>...</td>\n",
       "      <td>...</td>\n",
       "      <td>...</td>\n",
       "      <td>...</td>\n",
       "      <td>...</td>\n",
       "      <td>...</td>\n",
       "      <td>...</td>\n",
       "      <td>...</td>\n",
       "      <td>...</td>\n",
       "      <td>...</td>\n",
       "      <td>...</td>\n",
       "      <td>...</td>\n",
       "      <td>...</td>\n",
       "      <td>...</td>\n",
       "    </tr>\n",
       "    <tr>\n",
       "      <td>7377299</td>\n",
       "      <td>EUmF2kN9dhZTTy8zZw4+1K0CfIjCb6Pxz4Vvxsnnx7o=</td>\n",
       "      <td>bvDBhlgil61kBsOK+36bLtnbWMZed6izWfAs3goHJXs=</td>\n",
       "      <td>discover</td>\n",
       "      <td>Online playlist more</td>\n",
       "      <td>online-playlist</td>\n",
       "      <td>0</td>\n",
       "      <td>199993</td>\n",
       "      <td>NaN</td>\n",
       "      <td>หนูนา หนึ่งธิดา (Noona Nuangthida)</td>\n",
       "      <td>NaN</td>\n",
       "      <td>...</td>\n",
       "      <td>female</td>\n",
       "      <td>3</td>\n",
       "      <td>2017-01-30</td>\n",
       "      <td>2017-02-02</td>\n",
       "      <td>2017</td>\n",
       "      <td>1</td>\n",
       "      <td>2017</td>\n",
       "      <td>2</td>\n",
       "      <td>1485705600</td>\n",
       "      <td>1485964800</td>\n",
       "    </tr>\n",
       "    <tr>\n",
       "      <td>7377300</td>\n",
       "      <td>4jgFsUTajOw381tumEKELrZDgYUg00SQhQFPwOgUaJA=</td>\n",
       "      <td>krc+PjidPd+k60SNAMxMrYFa+6LxOmn7548W6hjgyX4=</td>\n",
       "      <td>discover</td>\n",
       "      <td>Search</td>\n",
       "      <td>song</td>\n",
       "      <td>0</td>\n",
       "      <td>73746</td>\n",
       "      <td>726</td>\n",
       "      <td>小蓓蕾組合</td>\n",
       "      <td>謝曉松</td>\n",
       "      <td>...</td>\n",
       "      <td>NaN</td>\n",
       "      <td>4</td>\n",
       "      <td>2017-01-30</td>\n",
       "      <td>2017-02-02</td>\n",
       "      <td>2017</td>\n",
       "      <td>1</td>\n",
       "      <td>2017</td>\n",
       "      <td>2</td>\n",
       "      <td>1485705600</td>\n",
       "      <td>1485964800</td>\n",
       "    </tr>\n",
       "    <tr>\n",
       "      <td>7377301</td>\n",
       "      <td>4jgFsUTajOw381tumEKELrZDgYUg00SQhQFPwOgUaJA=</td>\n",
       "      <td>2Csja3EqyV77Cji+jHskL8UUEHETMKGdPdQ487D1BoA=</td>\n",
       "      <td>discover</td>\n",
       "      <td>Search</td>\n",
       "      <td>song</td>\n",
       "      <td>0</td>\n",
       "      <td>187768</td>\n",
       "      <td>465</td>\n",
       "      <td>林子祥 (George Lam)</td>\n",
       "      <td>Benny Anderson| Bjorn Ulvaeus| Tim Rice</td>\n",
       "      <td>...</td>\n",
       "      <td>NaN</td>\n",
       "      <td>4</td>\n",
       "      <td>2017-01-30</td>\n",
       "      <td>2017-02-02</td>\n",
       "      <td>2017</td>\n",
       "      <td>1</td>\n",
       "      <td>2017</td>\n",
       "      <td>2</td>\n",
       "      <td>1485705600</td>\n",
       "      <td>1485964800</td>\n",
       "    </tr>\n",
       "    <tr>\n",
       "      <td>7377302</td>\n",
       "      <td>4jgFsUTajOw381tumEKELrZDgYUg00SQhQFPwOgUaJA=</td>\n",
       "      <td>TRiOBaHXiQ8ToENFt6i/8WogPwLvNNyIjEdZuOUn6uA=</td>\n",
       "      <td>discover</td>\n",
       "      <td>Search</td>\n",
       "      <td>song</td>\n",
       "      <td>0</td>\n",
       "      <td>226403</td>\n",
       "      <td>465</td>\n",
       "      <td>林子祥 (George Lam)</td>\n",
       "      <td>Benny Anderson| Bjorn Ulvaeus| Tim Rice</td>\n",
       "      <td>...</td>\n",
       "      <td>NaN</td>\n",
       "      <td>4</td>\n",
       "      <td>2017-01-30</td>\n",
       "      <td>2017-02-02</td>\n",
       "      <td>2017</td>\n",
       "      <td>1</td>\n",
       "      <td>2017</td>\n",
       "      <td>2</td>\n",
       "      <td>1485705600</td>\n",
       "      <td>1485964800</td>\n",
       "    </tr>\n",
       "    <tr>\n",
       "      <td>7377303</td>\n",
       "      <td>/xjMtlYh6YSvPV4XTV+/sp44EHS8FJFzZMGQHQU5dks=</td>\n",
       "      <td>5VVP70wfwbaCtp3jPrkpXEdRIdXnFjiIlWQ4BUxhqzA=</td>\n",
       "      <td>search</td>\n",
       "      <td>Album more</td>\n",
       "      <td>album</td>\n",
       "      <td>0</td>\n",
       "      <td>217710</td>\n",
       "      <td>465</td>\n",
       "      <td>Tokio Hotel</td>\n",
       "      <td>NaN</td>\n",
       "      <td>...</td>\n",
       "      <td>male</td>\n",
       "      <td>3</td>\n",
       "      <td>2013-06-11</td>\n",
       "      <td>2017-07-07</td>\n",
       "      <td>2013</td>\n",
       "      <td>6</td>\n",
       "      <td>2017</td>\n",
       "      <td>7</td>\n",
       "      <td>1370880000</td>\n",
       "      <td>1499356800</td>\n",
       "    </tr>\n",
       "  </tbody>\n",
       "</table>\n",
       "<p>7370601 rows × 24 columns</p>\n",
       "</div>"
      ],
      "text/plain": [
       "                                                 msno  \\\n",
       "0        FGtllVqz18RPiwJj/edr2gV78zirAiY/9SmYvia+kCg=   \n",
       "1        FGtllVqz18RPiwJj/edr2gV78zirAiY/9SmYvia+kCg=   \n",
       "2        FGtllVqz18RPiwJj/edr2gV78zirAiY/9SmYvia+kCg=   \n",
       "3        FGtllVqz18RPiwJj/edr2gV78zirAiY/9SmYvia+kCg=   \n",
       "4        FGtllVqz18RPiwJj/edr2gV78zirAiY/9SmYvia+kCg=   \n",
       "...                                               ...   \n",
       "7377299  EUmF2kN9dhZTTy8zZw4+1K0CfIjCb6Pxz4Vvxsnnx7o=   \n",
       "7377300  4jgFsUTajOw381tumEKELrZDgYUg00SQhQFPwOgUaJA=   \n",
       "7377301  4jgFsUTajOw381tumEKELrZDgYUg00SQhQFPwOgUaJA=   \n",
       "7377302  4jgFsUTajOw381tumEKELrZDgYUg00SQhQFPwOgUaJA=   \n",
       "7377303  /xjMtlYh6YSvPV4XTV+/sp44EHS8FJFzZMGQHQU5dks=   \n",
       "\n",
       "                                              song_id source_system_tab  \\\n",
       "0        BBzumQNXUHKdEBOB7mAJuzok+IJA1c2Ryg/yzTF6tik=           explore   \n",
       "1        3qm6XTZ6MOCU11x8FIVbAGH5l5uMkT3/ZalWG1oo2Gc=           explore   \n",
       "2        3Hg5kugV1S0wzEVLAEfqjIV5UHzb7bCrdBRQlGygLvU=           explore   \n",
       "3        bPIvRTzfHxH5LgHrStll+tYwSQNVV8PySgA3M1PfTgc=           explore   \n",
       "4        EbI7xoNxI+3QSsiHxL13zBdgHIJOwa3srHd7cDcnJ0g=           explore   \n",
       "...                                               ...               ...   \n",
       "7377299  bvDBhlgil61kBsOK+36bLtnbWMZed6izWfAs3goHJXs=          discover   \n",
       "7377300  krc+PjidPd+k60SNAMxMrYFa+6LxOmn7548W6hjgyX4=          discover   \n",
       "7377301  2Csja3EqyV77Cji+jHskL8UUEHETMKGdPdQ487D1BoA=          discover   \n",
       "7377302  TRiOBaHXiQ8ToENFt6i/8WogPwLvNNyIjEdZuOUn6uA=          discover   \n",
       "7377303  5VVP70wfwbaCtp3jPrkpXEdRIdXnFjiIlWQ4BUxhqzA=            search   \n",
       "\n",
       "           source_screen_name      source_type  target  song_length genre_ids  \\\n",
       "0                     Explore  online-playlist       1       206471       359   \n",
       "1                     Explore  online-playlist       1       187802      1011   \n",
       "2                     Explore  online-playlist       1       247803      1259   \n",
       "3                     Explore  online-playlist       1       181115      1011   \n",
       "4                     Explore  online-playlist       0       257369       465   \n",
       "...                       ...              ...     ...          ...       ...   \n",
       "7377299  Online playlist more  online-playlist       0       199993       NaN   \n",
       "7377300                Search             song       0        73746       726   \n",
       "7377301                Search             song       0       187768       465   \n",
       "7377302                Search             song       0       226403       465   \n",
       "7377303            Album more            album       0       217710       465   \n",
       "\n",
       "                                artist_name  \\\n",
       "0                                  Bastille   \n",
       "1                               Brett Young   \n",
       "2                                 Desiigner   \n",
       "3                              Thomas Rhett   \n",
       "4                               OneRepublic   \n",
       "...                                     ...   \n",
       "7377299  หนูนา หนึ่งธิดา (Noona Nuangthida)   \n",
       "7377300                               小蓓蕾組合   \n",
       "7377301                    林子祥 (George Lam)   \n",
       "7377302                    林子祥 (George Lam)   \n",
       "7377303                         Tokio Hotel   \n",
       "\n",
       "                                        composer  ...  gender  registered_via  \\\n",
       "0                           Dan Smith| Mark Crew  ...     NaN               7   \n",
       "1        Brett Young| Kelly Archer| Justin Ebach  ...     NaN               7   \n",
       "2                       Sidney Selby| Adnan Khan  ...     NaN               7   \n",
       "3         Thomas Rhett| Rhett Akins| Ben Hayslip  ...     NaN               7   \n",
       "4                                    Ryan Tedder  ...     NaN               7   \n",
       "...                                          ...  ...     ...             ...   \n",
       "7377299                                      NaN  ...  female               3   \n",
       "7377300                                      謝曉松  ...     NaN               4   \n",
       "7377301  Benny Anderson| Bjorn Ulvaeus| Tim Rice  ...     NaN               4   \n",
       "7377302  Benny Anderson| Bjorn Ulvaeus| Tim Rice  ...     NaN               4   \n",
       "7377303                                      NaN  ...    male               3   \n",
       "\n",
       "         registration_init_time  expiration_date registration_init_time_year  \\\n",
       "0                    2012-01-02       2017-10-05                        2012   \n",
       "1                    2012-01-02       2017-10-05                        2012   \n",
       "2                    2012-01-02       2017-10-05                        2012   \n",
       "3                    2012-01-02       2017-10-05                        2012   \n",
       "4                    2012-01-02       2017-10-05                        2012   \n",
       "...                         ...              ...                         ...   \n",
       "7377299              2017-01-30       2017-02-02                        2017   \n",
       "7377300              2017-01-30       2017-02-02                        2017   \n",
       "7377301              2017-01-30       2017-02-02                        2017   \n",
       "7377302              2017-01-30       2017-02-02                        2017   \n",
       "7377303              2013-06-11       2017-07-07                        2013   \n",
       "\n",
       "         registration_init_time_month expiration_date_year  \\\n",
       "0                                   1                 2017   \n",
       "1                                   1                 2017   \n",
       "2                                   1                 2017   \n",
       "3                                   1                 2017   \n",
       "4                                   1                 2017   \n",
       "...                               ...                  ...   \n",
       "7377299                             1                 2017   \n",
       "7377300                             1                 2017   \n",
       "7377301                             1                 2017   \n",
       "7377302                             1                 2017   \n",
       "7377303                             6                 2017   \n",
       "\n",
       "        expiration_date_month  registration_init_time_new  expiration_date_new  \n",
       "0                          10                  1325433600           1507132800  \n",
       "1                          10                  1325433600           1507132800  \n",
       "2                          10                  1325433600           1507132800  \n",
       "3                          10                  1325433600           1507132800  \n",
       "4                          10                  1325433600           1507132800  \n",
       "...                       ...                         ...                  ...  \n",
       "7377299                     2                  1485705600           1485964800  \n",
       "7377300                     2                  1485705600           1485964800  \n",
       "7377301                     2                  1485705600           1485964800  \n",
       "7377302                     2                  1485705600           1485964800  \n",
       "7377303                     7                  1370880000           1499356800  \n",
       "\n",
       "[7370601 rows x 24 columns]"
      ]
     },
     "execution_count": 26,
     "metadata": {},
     "output_type": "execute_result"
    }
   ],
   "source": [
    "df_train_new = df_train_new[df_train_new['bd']<=100]\n",
    "df_train_new = df_train_new[df_train_new['bd']>=0]\n",
    "df_train_new"
   ]
  },
  {
   "cell_type": "code",
   "execution_count": 27,
   "metadata": {
    "ExecuteTime": {
     "end_time": "2021-01-14T03:29:09.291901Z",
     "start_time": "2021-01-14T03:29:05.284984Z"
    }
   },
   "outputs": [],
   "source": [
    "# reset index\n",
    "df_train_new = df_train_new.reset_index()"
   ]
  },
  {
   "cell_type": "code",
   "execution_count": 28,
   "metadata": {
    "ExecuteTime": {
     "end_time": "2021-01-14T03:29:16.178025Z",
     "start_time": "2021-01-14T03:29:09.295016Z"
    }
   },
   "outputs": [],
   "source": [
    "# reset index\n",
    "df_test_new = df_test_new.reset_index()"
   ]
  },
  {
   "cell_type": "markdown",
   "metadata": {},
   "source": [
    "# NA缺失值觀察"
   ]
  },
  {
   "cell_type": "code",
   "execution_count": 29,
   "metadata": {
    "ExecuteTime": {
     "end_time": "2021-01-14T03:29:28.437489Z",
     "start_time": "2021-01-14T03:29:16.181672Z"
    }
   },
   "outputs": [
    {
     "data": {
      "text/plain": [
       "index                                 0\n",
       "msno                                  0\n",
       "song_id                               0\n",
       "source_system_tab                 24845\n",
       "source_screen_name               414719\n",
       "source_type                       21535\n",
       "target                                0\n",
       "song_length                           0\n",
       "genre_ids                        118252\n",
       "artist_name                           0\n",
       "composer                        1674052\n",
       "lyricist                        3175831\n",
       "language                             36\n",
       "city                                  0\n",
       "bd                                    0\n",
       "gender                          2961241\n",
       "registered_via                        0\n",
       "registration_init_time                0\n",
       "expiration_date                       0\n",
       "registration_init_time_year           0\n",
       "registration_init_time_month          0\n",
       "expiration_date_year                  0\n",
       "expiration_date_month                 0\n",
       "registration_init_time_new            0\n",
       "expiration_date_new                   0\n",
       "dtype: int64"
      ]
     },
     "execution_count": 29,
     "metadata": {},
     "output_type": "execute_result"
    }
   ],
   "source": [
    "df_train_new.isnull().sum(axis=0)"
   ]
  },
  {
   "cell_type": "code",
   "execution_count": 30,
   "metadata": {
    "ExecuteTime": {
     "end_time": "2021-01-14T03:29:31.942068Z",
     "start_time": "2021-01-14T03:29:28.467103Z"
    }
   },
   "outputs": [
    {
     "data": {
      "text/plain": [
       "index                                 0\n",
       "id                                    0\n",
       "msno                                  0\n",
       "song_id                               0\n",
       "source_system_tab                  8442\n",
       "source_screen_name               162883\n",
       "source_type                        7297\n",
       "song_length                          25\n",
       "genre_ids                         42110\n",
       "artist_name                          25\n",
       "composer                         619304\n",
       "lyricist                        1224744\n",
       "language                             42\n",
       "city                                  0\n",
       "bd                                    0\n",
       "gender                          1052224\n",
       "registered_via                        0\n",
       "registration_init_time                0\n",
       "expiration_date                       0\n",
       "registration_init_time_year           0\n",
       "registration_init_time_month          0\n",
       "expiration_date_year                  0\n",
       "expiration_date_month                 0\n",
       "registration_init_time_new            0\n",
       "expiration_date_new                   0\n",
       "dtype: int64"
      ]
     },
     "execution_count": 30,
     "metadata": {},
     "output_type": "execute_result"
    }
   ],
   "source": [
    "df_test_new.isnull().sum(axis=0)"
   ]
  },
  {
   "cell_type": "markdown",
   "metadata": {},
   "source": [
    "# 資料內容"
   ]
  },
  {
   "cell_type": "code",
   "execution_count": 27,
   "metadata": {
    "ExecuteTime": {
     "end_time": "2021-01-13T16:09:31.775685Z",
     "start_time": "2021-01-13T16:09:18.260999Z"
    }
   },
   "outputs": [
    {
     "name": "stdout",
     "output_type": "stream",
     "text": [
      "{'my library', nan, 'discover', 'explore', 'settings', 'listen with', 'notification', 'search', 'radio'} len: 9\n",
      "{nan, 'Search Trends', 'Search Home', 'Online playlist more', 'Discover Feature', 'Payment', 'Album more', 'Explore', 'Search', 'My library_Search', 'Self profile more', 'Discover New', 'Artist more', 'Unknown', 'Local playlist more', 'Radio', 'Discover Chart', 'My library', 'Others profile more', 'Discover Genre', 'Concert'} len: 21\n",
      "{nan, 'song-based-playlist', 'listen-with', 'online-playlist', 'topic-article-playlist', 'local-library', 'top-hits-for-artist', 'song', 'album', 'local-playlist', 'my-daily-playlist', 'radio', 'artist'} len: 13\n",
      "{0, 1} len: 2\n",
      "{nan, nan, nan, 3.0, nan, nan, nan, nan, nan, nan, 10.0, nan, nan, nan, nan, nan, nan, 17.0, nan, nan, nan, nan, nan, 24.0, nan, nan, nan, 31.0, nan, nan, nan, nan, nan, nan, 38.0, nan, nan, 45.0, 52.0, 59.0, nan, nan, nan, nan, nan, -1.0} len: 46\n",
      "{1, 3, 4, 5, 6, 7, 8, 9, 10, 11, 12, 13, 14, 15, 16, 17, 18, 19, 20, 21, 22} len: 21\n",
      "{nan, 'male', 'female'} len: 3\n",
      "{3, 4, 7, 9, 13} len: 5\n"
     ]
    }
   ],
   "source": [
    "print(set(df_train_new['source_system_tab']),'len:',len(set(df_train_new['source_system_tab'])))\n",
    "print(set(df_train_new['source_screen_name']),'len:',len(set(df_train_new['source_screen_name'])))\n",
    "print(set(df_train_new['source_type']),'len:',len(set(df_train_new['source_type'])))\n",
    "print(set(df_train_new['target']),'len:',len(set(df_train_new['target'])))\n",
    "# print(set(df_train_new['genre_ids'])) ##\n",
    "# print(set(df_train_new['artist_name'])) ##\n",
    "# print(set(df_train_new['composer'])) ##\n",
    "# print(set(df_train_new['lyricist'])) ##\n",
    "print(set(df_train_new['language']),'len:',len(set(df_train_new['language'])))\n",
    "print(set(df_train_new['city']),'len:',len(set(df_train_new['city'])))\n",
    "print(set(df_train_new['gender']),'len:',len(set(df_train_new['gender'])))\n",
    "print(set(df_train_new['registered_via']),'len:',len(set(df_train_new['registered_via'])))"
   ]
  },
  {
   "cell_type": "code",
   "execution_count": 28,
   "metadata": {
    "ExecuteTime": {
     "end_time": "2021-01-13T16:09:36.513867Z",
     "start_time": "2021-01-13T16:09:31.779818Z"
    }
   },
   "outputs": [
    {
     "name": "stdout",
     "output_type": "stream",
     "text": [
      "573\n",
      "40573\n",
      "76054\n",
      "33887\n"
     ]
    }
   ],
   "source": [
    "print(len(set(df_train_new['genre_ids'])))\n",
    "print(len(set(df_train_new['artist_name'])))\n",
    "print(len(set(df_train_new['composer'])))\n",
    "print(len(set(df_train_new['lyricist'])))"
   ]
  },
  {
   "cell_type": "code",
   "execution_count": null,
   "metadata": {},
   "outputs": [],
   "source": []
  },
  {
   "cell_type": "code",
   "execution_count": 29,
   "metadata": {
    "ExecuteTime": {
     "end_time": "2021-01-13T16:09:36.529883Z",
     "start_time": "2021-01-13T16:09:36.519618Z"
    }
   },
   "outputs": [
    {
     "data": {
      "text/plain": [
       "Index(['index', 'msno', 'song_id', 'source_system_tab', 'source_screen_name',\n",
       "       'source_type', 'target', 'song_length', 'genre_ids', 'artist_name',\n",
       "       'composer', 'lyricist', 'language', 'city', 'bd', 'gender',\n",
       "       'registered_via', 'registration_init_time', 'expiration_date',\n",
       "       'registration_init_time_year', 'registration_init_time_month',\n",
       "       'expiration_date_year', 'expiration_date_month',\n",
       "       'registration_init_time_new', 'expiration_date_new'],\n",
       "      dtype='object')"
      ]
     },
     "execution_count": 29,
     "metadata": {},
     "output_type": "execute_result"
    }
   ],
   "source": [
    "df_train_new.columns"
   ]
  },
  {
   "cell_type": "code",
   "execution_count": 30,
   "metadata": {
    "ExecuteTime": {
     "end_time": "2021-01-13T16:09:36.585917Z",
     "start_time": "2021-01-13T16:09:36.536813Z"
    }
   },
   "outputs": [
    {
     "data": {
      "text/html": [
       "<div>\n",
       "<style scoped>\n",
       "    .dataframe tbody tr th:only-of-type {\n",
       "        vertical-align: middle;\n",
       "    }\n",
       "\n",
       "    .dataframe tbody tr th {\n",
       "        vertical-align: top;\n",
       "    }\n",
       "\n",
       "    .dataframe thead th {\n",
       "        text-align: right;\n",
       "    }\n",
       "</style>\n",
       "<table border=\"1\" class=\"dataframe\">\n",
       "  <thead>\n",
       "    <tr style=\"text-align: right;\">\n",
       "      <th></th>\n",
       "      <th>index</th>\n",
       "      <th>msno</th>\n",
       "      <th>song_id</th>\n",
       "      <th>source_system_tab</th>\n",
       "      <th>source_screen_name</th>\n",
       "      <th>source_type</th>\n",
       "      <th>target</th>\n",
       "      <th>song_length</th>\n",
       "      <th>genre_ids</th>\n",
       "      <th>artist_name</th>\n",
       "      <th>...</th>\n",
       "      <th>gender</th>\n",
       "      <th>registered_via</th>\n",
       "      <th>registration_init_time</th>\n",
       "      <th>expiration_date</th>\n",
       "      <th>registration_init_time_year</th>\n",
       "      <th>registration_init_time_month</th>\n",
       "      <th>expiration_date_year</th>\n",
       "      <th>expiration_date_month</th>\n",
       "      <th>registration_init_time_new</th>\n",
       "      <th>expiration_date_new</th>\n",
       "    </tr>\n",
       "  </thead>\n",
       "  <tbody>\n",
       "    <tr>\n",
       "      <td>0</td>\n",
       "      <td>0</td>\n",
       "      <td>FGtllVqz18RPiwJj/edr2gV78zirAiY/9SmYvia+kCg=</td>\n",
       "      <td>BBzumQNXUHKdEBOB7mAJuzok+IJA1c2Ryg/yzTF6tik=</td>\n",
       "      <td>explore</td>\n",
       "      <td>Explore</td>\n",
       "      <td>online-playlist</td>\n",
       "      <td>1</td>\n",
       "      <td>206471</td>\n",
       "      <td>359</td>\n",
       "      <td>Bastille</td>\n",
       "      <td>...</td>\n",
       "      <td>NaN</td>\n",
       "      <td>7</td>\n",
       "      <td>2012-01-02</td>\n",
       "      <td>2017-10-05</td>\n",
       "      <td>2012</td>\n",
       "      <td>1</td>\n",
       "      <td>2017</td>\n",
       "      <td>10</td>\n",
       "      <td>1325433600</td>\n",
       "      <td>1507132800</td>\n",
       "    </tr>\n",
       "    <tr>\n",
       "      <td>1</td>\n",
       "      <td>1</td>\n",
       "      <td>FGtllVqz18RPiwJj/edr2gV78zirAiY/9SmYvia+kCg=</td>\n",
       "      <td>3qm6XTZ6MOCU11x8FIVbAGH5l5uMkT3/ZalWG1oo2Gc=</td>\n",
       "      <td>explore</td>\n",
       "      <td>Explore</td>\n",
       "      <td>online-playlist</td>\n",
       "      <td>1</td>\n",
       "      <td>187802</td>\n",
       "      <td>1011</td>\n",
       "      <td>Brett Young</td>\n",
       "      <td>...</td>\n",
       "      <td>NaN</td>\n",
       "      <td>7</td>\n",
       "      <td>2012-01-02</td>\n",
       "      <td>2017-10-05</td>\n",
       "      <td>2012</td>\n",
       "      <td>1</td>\n",
       "      <td>2017</td>\n",
       "      <td>10</td>\n",
       "      <td>1325433600</td>\n",
       "      <td>1507132800</td>\n",
       "    </tr>\n",
       "    <tr>\n",
       "      <td>2</td>\n",
       "      <td>2</td>\n",
       "      <td>FGtllVqz18RPiwJj/edr2gV78zirAiY/9SmYvia+kCg=</td>\n",
       "      <td>3Hg5kugV1S0wzEVLAEfqjIV5UHzb7bCrdBRQlGygLvU=</td>\n",
       "      <td>explore</td>\n",
       "      <td>Explore</td>\n",
       "      <td>online-playlist</td>\n",
       "      <td>1</td>\n",
       "      <td>247803</td>\n",
       "      <td>1259</td>\n",
       "      <td>Desiigner</td>\n",
       "      <td>...</td>\n",
       "      <td>NaN</td>\n",
       "      <td>7</td>\n",
       "      <td>2012-01-02</td>\n",
       "      <td>2017-10-05</td>\n",
       "      <td>2012</td>\n",
       "      <td>1</td>\n",
       "      <td>2017</td>\n",
       "      <td>10</td>\n",
       "      <td>1325433600</td>\n",
       "      <td>1507132800</td>\n",
       "    </tr>\n",
       "    <tr>\n",
       "      <td>3</td>\n",
       "      <td>3</td>\n",
       "      <td>FGtllVqz18RPiwJj/edr2gV78zirAiY/9SmYvia+kCg=</td>\n",
       "      <td>bPIvRTzfHxH5LgHrStll+tYwSQNVV8PySgA3M1PfTgc=</td>\n",
       "      <td>explore</td>\n",
       "      <td>Explore</td>\n",
       "      <td>online-playlist</td>\n",
       "      <td>1</td>\n",
       "      <td>181115</td>\n",
       "      <td>1011</td>\n",
       "      <td>Thomas Rhett</td>\n",
       "      <td>...</td>\n",
       "      <td>NaN</td>\n",
       "      <td>7</td>\n",
       "      <td>2012-01-02</td>\n",
       "      <td>2017-10-05</td>\n",
       "      <td>2012</td>\n",
       "      <td>1</td>\n",
       "      <td>2017</td>\n",
       "      <td>10</td>\n",
       "      <td>1325433600</td>\n",
       "      <td>1507132800</td>\n",
       "    </tr>\n",
       "    <tr>\n",
       "      <td>4</td>\n",
       "      <td>4</td>\n",
       "      <td>FGtllVqz18RPiwJj/edr2gV78zirAiY/9SmYvia+kCg=</td>\n",
       "      <td>EbI7xoNxI+3QSsiHxL13zBdgHIJOwa3srHd7cDcnJ0g=</td>\n",
       "      <td>explore</td>\n",
       "      <td>Explore</td>\n",
       "      <td>online-playlist</td>\n",
       "      <td>0</td>\n",
       "      <td>257369</td>\n",
       "      <td>465</td>\n",
       "      <td>OneRepublic</td>\n",
       "      <td>...</td>\n",
       "      <td>NaN</td>\n",
       "      <td>7</td>\n",
       "      <td>2012-01-02</td>\n",
       "      <td>2017-10-05</td>\n",
       "      <td>2012</td>\n",
       "      <td>1</td>\n",
       "      <td>2017</td>\n",
       "      <td>10</td>\n",
       "      <td>1325433600</td>\n",
       "      <td>1507132800</td>\n",
       "    </tr>\n",
       "  </tbody>\n",
       "</table>\n",
       "<p>5 rows × 25 columns</p>\n",
       "</div>"
      ],
      "text/plain": [
       "   index                                          msno  \\\n",
       "0      0  FGtllVqz18RPiwJj/edr2gV78zirAiY/9SmYvia+kCg=   \n",
       "1      1  FGtllVqz18RPiwJj/edr2gV78zirAiY/9SmYvia+kCg=   \n",
       "2      2  FGtllVqz18RPiwJj/edr2gV78zirAiY/9SmYvia+kCg=   \n",
       "3      3  FGtllVqz18RPiwJj/edr2gV78zirAiY/9SmYvia+kCg=   \n",
       "4      4  FGtllVqz18RPiwJj/edr2gV78zirAiY/9SmYvia+kCg=   \n",
       "\n",
       "                                        song_id source_system_tab  \\\n",
       "0  BBzumQNXUHKdEBOB7mAJuzok+IJA1c2Ryg/yzTF6tik=           explore   \n",
       "1  3qm6XTZ6MOCU11x8FIVbAGH5l5uMkT3/ZalWG1oo2Gc=           explore   \n",
       "2  3Hg5kugV1S0wzEVLAEfqjIV5UHzb7bCrdBRQlGygLvU=           explore   \n",
       "3  bPIvRTzfHxH5LgHrStll+tYwSQNVV8PySgA3M1PfTgc=           explore   \n",
       "4  EbI7xoNxI+3QSsiHxL13zBdgHIJOwa3srHd7cDcnJ0g=           explore   \n",
       "\n",
       "  source_screen_name      source_type  target  song_length genre_ids  \\\n",
       "0            Explore  online-playlist       1       206471       359   \n",
       "1            Explore  online-playlist       1       187802      1011   \n",
       "2            Explore  online-playlist       1       247803      1259   \n",
       "3            Explore  online-playlist       1       181115      1011   \n",
       "4            Explore  online-playlist       0       257369       465   \n",
       "\n",
       "    artist_name  ... gender registered_via  registration_init_time  \\\n",
       "0      Bastille  ...    NaN              7              2012-01-02   \n",
       "1   Brett Young  ...    NaN              7              2012-01-02   \n",
       "2     Desiigner  ...    NaN              7              2012-01-02   \n",
       "3  Thomas Rhett  ...    NaN              7              2012-01-02   \n",
       "4   OneRepublic  ...    NaN              7              2012-01-02   \n",
       "\n",
       "   expiration_date  registration_init_time_year registration_init_time_month  \\\n",
       "0       2017-10-05                         2012                            1   \n",
       "1       2017-10-05                         2012                            1   \n",
       "2       2017-10-05                         2012                            1   \n",
       "3       2017-10-05                         2012                            1   \n",
       "4       2017-10-05                         2012                            1   \n",
       "\n",
       "   expiration_date_year expiration_date_month registration_init_time_new  \\\n",
       "0                  2017                    10                 1325433600   \n",
       "1                  2017                    10                 1325433600   \n",
       "2                  2017                    10                 1325433600   \n",
       "3                  2017                    10                 1325433600   \n",
       "4                  2017                    10                 1325433600   \n",
       "\n",
       "   expiration_date_new  \n",
       "0           1507132800  \n",
       "1           1507132800  \n",
       "2           1507132800  \n",
       "3           1507132800  \n",
       "4           1507132800  \n",
       "\n",
       "[5 rows x 25 columns]"
      ]
     },
     "execution_count": 30,
     "metadata": {},
     "output_type": "execute_result"
    }
   ],
   "source": [
    "df_train_new.head()"
   ]
  },
  {
   "cell_type": "code",
   "execution_count": null,
   "metadata": {},
   "outputs": [],
   "source": []
  },
  {
   "cell_type": "markdown",
   "metadata": {},
   "source": [
    "# 欄位相關性熱圖"
   ]
  },
  {
   "cell_type": "code",
   "execution_count": 25,
   "metadata": {
    "ExecuteTime": {
     "end_time": "2021-01-11T16:06:15.386092Z",
     "start_time": "2021-01-11T16:05:17.100020Z"
    }
   },
   "outputs": [],
   "source": [
    "df_train_new['language'] = df_train_new['language'].astype(str)\n",
    "\n",
    "df_corr_plot = pd.DataFrame()\n",
    "\n",
    "## 做labelencoder將資料轉為數值來畫圖\n",
    "from sklearn.preprocessing import LabelEncoder\n",
    "enc = LabelEncoder()\n",
    "for col in [\n",
    "       'msno', 'song_id', 'source_system_tab', 'source_screen_name',\n",
    "       'source_type', 'target', 'song_length', 'genre_ids', 'artist_name',\n",
    "       'composer', 'lyricist', 'language', 'city', 'bd', 'gender',\n",
    "       'registered_via', 'registration_init_time', 'expiration_date',\n",
    "       'registration_init_time_year', 'registration_init_time_month',\n",
    "       'expiration_date_year', 'expiration_date_month',\n",
    "       #'registration_init_time_day', 'expiration_date_day',\n",
    "       'registration_init_time_new', 'expiration_date_new'\n",
    "    ]:\n",
    "    df_corr_plot[col] = enc.fit_transform(df_train_new[col].fillna('nan'))"
   ]
  },
  {
   "cell_type": "code",
   "execution_count": 26,
   "metadata": {
    "ExecuteTime": {
     "end_time": "2021-01-11T16:06:45.541749Z",
     "start_time": "2021-01-11T16:06:15.427335Z"
    }
   },
   "outputs": [],
   "source": [
    "df_x = df_corr_plot.drop(['registration_init_time','expiration_date'], axis = 1)\n",
    "\n",
    "X = df_x.iloc[:,:].values\n",
    "\n",
    "from sklearn.preprocessing import StandardScaler\n",
    "\n",
    "sc = StandardScaler()\n",
    "sc.fit(df_x)\n",
    "X_train_std = sc.transform(df_x)"
   ]
  },
  {
   "cell_type": "code",
   "execution_count": 27,
   "metadata": {
    "ExecuteTime": {
     "end_time": "2021-01-11T16:06:45.888393Z",
     "start_time": "2021-01-11T16:06:45.819280Z"
    }
   },
   "outputs": [
    {
     "data": {
      "text/plain": [
       "Index(['msno', 'song_id', 'source_system_tab', 'source_screen_name',\n",
       "       'source_type', 'target', 'song_length', 'genre_ids', 'artist_name',\n",
       "       'composer', 'lyricist', 'language', 'city', 'bd', 'gender',\n",
       "       'registered_via', 'registration_init_time_year',\n",
       "       'registration_init_time_month', 'expiration_date_year',\n",
       "       'expiration_date_month', 'registration_init_time_new',\n",
       "       'expiration_date_new'],\n",
       "      dtype='object')"
      ]
     },
     "execution_count": 27,
     "metadata": {},
     "output_type": "execute_result"
    }
   ],
   "source": [
    "df_x.columns"
   ]
  },
  {
   "cell_type": "code",
   "execution_count": 28,
   "metadata": {
    "ExecuteTime": {
     "end_time": "2021-01-11T16:06:46.147309Z",
     "start_time": "2021-01-11T16:06:45.906731Z"
    }
   },
   "outputs": [
    {
     "data": {
      "text/html": [
       "<div>\n",
       "<style scoped>\n",
       "    .dataframe tbody tr th:only-of-type {\n",
       "        vertical-align: middle;\n",
       "    }\n",
       "\n",
       "    .dataframe tbody tr th {\n",
       "        vertical-align: top;\n",
       "    }\n",
       "\n",
       "    .dataframe thead th {\n",
       "        text-align: right;\n",
       "    }\n",
       "</style>\n",
       "<table border=\"1\" class=\"dataframe\">\n",
       "  <thead>\n",
       "    <tr style=\"text-align: right;\">\n",
       "      <th></th>\n",
       "      <th>msno</th>\n",
       "      <th>song_id</th>\n",
       "      <th>source_system_tab</th>\n",
       "      <th>source_screen_name</th>\n",
       "      <th>source_type</th>\n",
       "      <th>target</th>\n",
       "      <th>song_length</th>\n",
       "      <th>genre_ids</th>\n",
       "      <th>artist_name</th>\n",
       "      <th>composer</th>\n",
       "      <th>...</th>\n",
       "      <th>city</th>\n",
       "      <th>bd</th>\n",
       "      <th>gender</th>\n",
       "      <th>registered_via</th>\n",
       "      <th>registration_init_time_year</th>\n",
       "      <th>registration_init_time_month</th>\n",
       "      <th>expiration_date_year</th>\n",
       "      <th>expiration_date_month</th>\n",
       "      <th>registration_init_time_new</th>\n",
       "      <th>expiration_date_new</th>\n",
       "    </tr>\n",
       "  </thead>\n",
       "  <tbody>\n",
       "    <tr>\n",
       "      <td>0</td>\n",
       "      <td>-0.816842</td>\n",
       "      <td>-1.009374</td>\n",
       "      <td>-0.739818</td>\n",
       "      <td>-0.453718</td>\n",
       "      <td>0.627129</td>\n",
       "      <td>0.993107</td>\n",
       "      <td>-0.917522</td>\n",
       "      <td>-0.455606</td>\n",
       "      <td>-1.932695</td>\n",
       "      <td>-1.870441</td>\n",
       "      <td>...</td>\n",
       "      <td>-0.930551</td>\n",
       "      <td>-1.06413</td>\n",
       "      <td>1.076951</td>\n",
       "      <td>0.049898</td>\n",
       "      <td>-0.245204</td>\n",
       "      <td>-1.57598</td>\n",
       "      <td>-0.180389</td>\n",
       "      <td>0.660688</td>\n",
       "      <td>-0.432385</td>\n",
       "      <td>0.114482</td>\n",
       "    </tr>\n",
       "    <tr>\n",
       "      <td>1</td>\n",
       "      <td>-0.816842</td>\n",
       "      <td>-1.407919</td>\n",
       "      <td>-0.739818</td>\n",
       "      <td>-0.453718</td>\n",
       "      <td>0.627129</td>\n",
       "      <td>0.993107</td>\n",
       "      <td>-1.356799</td>\n",
       "      <td>-3.349182</td>\n",
       "      <td>-1.838187</td>\n",
       "      <td>-2.159647</td>\n",
       "      <td>...</td>\n",
       "      <td>-0.930551</td>\n",
       "      <td>-1.06413</td>\n",
       "      <td>1.076951</td>\n",
       "      <td>0.049898</td>\n",
       "      <td>-0.245204</td>\n",
       "      <td>-1.57598</td>\n",
       "      <td>-0.180389</td>\n",
       "      <td>0.660688</td>\n",
       "      <td>-0.432385</td>\n",
       "      <td>0.114482</td>\n",
       "    </tr>\n",
       "    <tr>\n",
       "      <td>2</td>\n",
       "      <td>-0.816842</td>\n",
       "      <td>-1.437945</td>\n",
       "      <td>-0.739818</td>\n",
       "      <td>-0.453718</td>\n",
       "      <td>0.627129</td>\n",
       "      <td>0.993107</td>\n",
       "      <td>0.161110</td>\n",
       "      <td>-2.449413</td>\n",
       "      <td>-1.547702</td>\n",
       "      <td>0.074150</td>\n",
       "      <td>...</td>\n",
       "      <td>-0.930551</td>\n",
       "      <td>-1.06413</td>\n",
       "      <td>1.076951</td>\n",
       "      <td>0.049898</td>\n",
       "      <td>-0.245204</td>\n",
       "      <td>-1.57598</td>\n",
       "      <td>-0.180389</td>\n",
       "      <td>0.660688</td>\n",
       "      <td>-0.432385</td>\n",
       "      <td>0.114482</td>\n",
       "    </tr>\n",
       "    <tr>\n",
       "      <td>3</td>\n",
       "      <td>-0.816842</td>\n",
       "      <td>0.408111</td>\n",
       "      <td>-0.739818</td>\n",
       "      <td>-0.453718</td>\n",
       "      <td>0.627129</td>\n",
       "      <td>0.993107</td>\n",
       "      <td>-1.497182</td>\n",
       "      <td>-3.349182</td>\n",
       "      <td>0.230402</td>\n",
       "      <td>0.242473</td>\n",
       "      <td>...</td>\n",
       "      <td>-0.930551</td>\n",
       "      <td>-1.06413</td>\n",
       "      <td>1.076951</td>\n",
       "      <td>0.049898</td>\n",
       "      <td>-0.245204</td>\n",
       "      <td>-1.57598</td>\n",
       "      <td>-0.180389</td>\n",
       "      <td>0.660688</td>\n",
       "      <td>-0.432385</td>\n",
       "      <td>0.114482</td>\n",
       "    </tr>\n",
       "    <tr>\n",
       "      <td>4</td>\n",
       "      <td>-0.816842</td>\n",
       "      <td>-0.824892</td>\n",
       "      <td>-0.739818</td>\n",
       "      <td>-0.453718</td>\n",
       "      <td>0.627129</td>\n",
       "      <td>-1.006941</td>\n",
       "      <td>0.393313</td>\n",
       "      <td>0.147648</td>\n",
       "      <td>-0.422537</td>\n",
       "      <td>-0.063194</td>\n",
       "      <td>...</td>\n",
       "      <td>-0.930551</td>\n",
       "      <td>-1.06413</td>\n",
       "      <td>1.076951</td>\n",
       "      <td>0.049898</td>\n",
       "      <td>-0.245204</td>\n",
       "      <td>-1.57598</td>\n",
       "      <td>-0.180389</td>\n",
       "      <td>0.660688</td>\n",
       "      <td>-0.432385</td>\n",
       "      <td>0.114482</td>\n",
       "    </tr>\n",
       "  </tbody>\n",
       "</table>\n",
       "<p>5 rows × 22 columns</p>\n",
       "</div>"
      ],
      "text/plain": [
       "       msno   song_id  source_system_tab  source_screen_name  source_type  \\\n",
       "0 -0.816842 -1.009374          -0.739818           -0.453718     0.627129   \n",
       "1 -0.816842 -1.407919          -0.739818           -0.453718     0.627129   \n",
       "2 -0.816842 -1.437945          -0.739818           -0.453718     0.627129   \n",
       "3 -0.816842  0.408111          -0.739818           -0.453718     0.627129   \n",
       "4 -0.816842 -0.824892          -0.739818           -0.453718     0.627129   \n",
       "\n",
       "     target  song_length  genre_ids  artist_name  composer  ...      city  \\\n",
       "0  0.993107    -0.917522  -0.455606    -1.932695 -1.870441  ... -0.930551   \n",
       "1  0.993107    -1.356799  -3.349182    -1.838187 -2.159647  ... -0.930551   \n",
       "2  0.993107     0.161110  -2.449413    -1.547702  0.074150  ... -0.930551   \n",
       "3  0.993107    -1.497182  -3.349182     0.230402  0.242473  ... -0.930551   \n",
       "4 -1.006941     0.393313   0.147648    -0.422537 -0.063194  ... -0.930551   \n",
       "\n",
       "        bd    gender  registered_via  registration_init_time_year  \\\n",
       "0 -1.06413  1.076951        0.049898                    -0.245204   \n",
       "1 -1.06413  1.076951        0.049898                    -0.245204   \n",
       "2 -1.06413  1.076951        0.049898                    -0.245204   \n",
       "3 -1.06413  1.076951        0.049898                    -0.245204   \n",
       "4 -1.06413  1.076951        0.049898                    -0.245204   \n",
       "\n",
       "   registration_init_time_month  expiration_date_year  expiration_date_month  \\\n",
       "0                      -1.57598             -0.180389               0.660688   \n",
       "1                      -1.57598             -0.180389               0.660688   \n",
       "2                      -1.57598             -0.180389               0.660688   \n",
       "3                      -1.57598             -0.180389               0.660688   \n",
       "4                      -1.57598             -0.180389               0.660688   \n",
       "\n",
       "   registration_init_time_new  expiration_date_new  \n",
       "0                   -0.432385             0.114482  \n",
       "1                   -0.432385             0.114482  \n",
       "2                   -0.432385             0.114482  \n",
       "3                   -0.432385             0.114482  \n",
       "4                   -0.432385             0.114482  \n",
       "\n",
       "[5 rows x 22 columns]"
      ]
     },
     "execution_count": 28,
     "metadata": {},
     "output_type": "execute_result"
    }
   ],
   "source": [
    "df_corr_plot = pd.DataFrame(X_train_std, columns = \n",
    "      ['msno', 'song_id', 'source_system_tab', 'source_screen_name',\n",
    "       'source_type', 'target', 'song_length', 'genre_ids', 'artist_name',\n",
    "       'composer', 'lyricist', 'language', 'city', 'bd', 'gender',\n",
    "       'registered_via', 'registration_init_time_year',\n",
    "       'registration_init_time_month', 'expiration_date_year',\n",
    "       'expiration_date_month', 'registration_init_time_new',\n",
    "       #'registration_init_time_day','expiration_date_day', \n",
    "       'expiration_date_new'])\n",
    "df_corr_plot.head()"
   ]
  },
  {
   "cell_type": "code",
   "execution_count": 29,
   "metadata": {
    "ExecuteTime": {
     "end_time": "2021-01-11T16:06:46.881100Z",
     "start_time": "2021-01-11T16:06:46.153169Z"
    }
   },
   "outputs": [],
   "source": [
    "import seaborn as sns \n",
    "import matplotlib.pyplot as plt"
   ]
  },
  {
   "cell_type": "code",
   "execution_count": 30,
   "metadata": {
    "ExecuteTime": {
     "end_time": "2021-01-11T16:07:05.198641Z",
     "start_time": "2021-01-11T16:06:46.887504Z"
    }
   },
   "outputs": [
    {
     "data": {
      "image/png": "[encoded data removed]",
      "text/plain": [
       "<Figure size 1440x792 with 2 Axes>"
      ]
     },
     "metadata": {
      "needs_background": "light"
     },
     "output_type": "display_data"
    }
   ],
   "source": [
    "fig, ax = plt.subplots(figsize=(20,11))\n",
    "ax = sns.heatmap(data=df_corr_plot.corr(),annot=True,fmt=\".4f\")"
   ]
  },
  {
   "cell_type": "markdown",
   "metadata": {},
   "source": [
    "# 刪除空值過多的列/欄位"
   ]
  },
  {
   "cell_type": "code",
   "execution_count": 31,
   "metadata": {
    "ExecuteTime": {
     "end_time": "2021-01-14T03:29:35.136810Z",
     "start_time": "2021-01-14T03:29:31.966565Z"
    }
   },
   "outputs": [],
   "source": [
    "df_train_new = df_train_new.drop(['gender','source_type'], axis = 1) # 相關為負且空值多"
   ]
  },
  {
   "cell_type": "code",
   "execution_count": 32,
   "metadata": {
    "ExecuteTime": {
     "end_time": "2021-01-14T03:29:35.878226Z",
     "start_time": "2021-01-14T03:29:35.146872Z"
    }
   },
   "outputs": [],
   "source": [
    "df_test_new = df_test_new.drop(['gender','source_type'], axis = 1) # 相關為負且空值多"
   ]
  },
  {
   "cell_type": "markdown",
   "metadata": {},
   "source": [
    "# LabelEncoder"
   ]
  },
  {
   "cell_type": "code",
   "execution_count": 33,
   "metadata": {
    "ExecuteTime": {
     "end_time": "2021-01-14T03:29:41.290840Z",
     "start_time": "2021-01-14T03:29:35.884212Z"
    }
   },
   "outputs": [],
   "source": [
    "df_train_new['language'] = df_train_new['language'].astype(str)\n",
    "df_test_new['language'] = df_test_new['language'].astype(str)"
   ]
  },
  {
   "cell_type": "code",
   "execution_count": 34,
   "metadata": {
    "ExecuteTime": {
     "end_time": "2021-01-14T03:29:51.736309Z",
     "start_time": "2021-01-14T03:29:41.296820Z"
    }
   },
   "outputs": [],
   "source": [
    "df_train_new['registered_via'] = df_train_new['registered_via'].astype(str)\n",
    "df_test_new['registered_via'] = df_test_new['registered_via'].astype(str)"
   ]
  },
  {
   "cell_type": "code",
   "execution_count": 35,
   "metadata": {
    "ExecuteTime": {
     "end_time": "2021-01-14T03:29:51.793073Z",
     "start_time": "2021-01-14T03:29:51.744643Z"
    }
   },
   "outputs": [
    {
     "name": "stdout",
     "output_type": "stream",
     "text": [
      "(7370601, 23)\n",
      "(2556790, 23)\n"
     ]
    }
   ],
   "source": [
    "print(df_train_new.shape)\n",
    "print(df_test_new.shape)"
   ]
  },
  {
   "cell_type": "code",
   "execution_count": 36,
   "metadata": {
    "ExecuteTime": {
     "end_time": "2021-01-14T03:30:18.369388Z",
     "start_time": "2021-01-14T03:29:55.566016Z"
    }
   },
   "outputs": [
    {
     "name": "stderr",
     "output_type": "stream",
     "text": [
      "/opt/anaconda3/lib/python3.7/site-packages/ipykernel_launcher.py:1: FutureWarning: Sorting because non-concatenation axis is not aligned. A future version\n",
      "of pandas will change to not sort by default.\n",
      "\n",
      "To accept the future behavior, pass 'sort=False'.\n",
      "\n",
      "To retain the current behavior and silence the warning, pass 'sort=True'.\n",
      "\n",
      "  \"\"\"Entry point for launching an IPython kernel.\n"
     ]
    },
    {
     "data": {
      "text/plain": [
       "(9927391, 24)"
      ]
     },
     "execution_count": 36,
     "metadata": {},
     "output_type": "execute_result"
    }
   ],
   "source": [
    "all_data = pd.concat([df_train_new,df_test_new])\n",
    "all_data.shape"
   ]
  },
  {
   "cell_type": "code",
   "execution_count": 37,
   "metadata": {
    "ExecuteTime": {
     "end_time": "2021-01-14T03:31:19.954971Z",
     "start_time": "2021-01-14T03:30:26.675183Z"
    }
   },
   "outputs": [],
   "source": [
    "from sklearn.preprocessing import LabelEncoder\n",
    "enc = LabelEncoder()\n",
    "\n",
    "for col in [\n",
    "    'msno', 'song_id', 'genre_ids', 'source_screen_name',\n",
    "    'artist_name', 'composer', 'lyricist','language','city' #,'gender'\n",
    "]:\n",
    "    all_data[col] = enc.fit_transform(all_data[col].fillna('nan'))"
   ]
  },
  {
   "cell_type": "markdown",
   "metadata": {
    "ExecuteTime": {
     "end_time": "2021-01-05T19:25:33.112611Z",
     "start_time": "2021-01-05T19:25:33.100368Z"
    }
   },
   "source": [
    "# One-hot Encoding"
   ]
  },
  {
   "cell_type": "code",
   "execution_count": 38,
   "metadata": {
    "ExecuteTime": {
     "end_time": "2021-01-14T03:31:38.569714Z",
     "start_time": "2021-01-14T03:31:19.961917Z"
    }
   },
   "outputs": [
    {
     "data": {
      "text/html": [
       "<div>\n",
       "<style scoped>\n",
       "    .dataframe tbody tr th:only-of-type {\n",
       "        vertical-align: middle;\n",
       "    }\n",
       "\n",
       "    .dataframe tbody tr th {\n",
       "        vertical-align: top;\n",
       "    }\n",
       "\n",
       "    .dataframe thead th {\n",
       "        text-align: right;\n",
       "    }\n",
       "</style>\n",
       "<table border=\"1\" class=\"dataframe\">\n",
       "  <thead>\n",
       "    <tr style=\"text-align: right;\">\n",
       "      <th></th>\n",
       "      <th>source_system_tab_discover</th>\n",
       "      <th>source_system_tab_explore</th>\n",
       "      <th>source_system_tab_listen with</th>\n",
       "      <th>source_system_tab_my library</th>\n",
       "      <th>source_system_tab_notification</th>\n",
       "      <th>source_system_tab_radio</th>\n",
       "      <th>source_system_tab_search</th>\n",
       "      <th>source_system_tab_settings</th>\n",
       "      <th>source_system_tab_nan</th>\n",
       "      <th>registered_via_13</th>\n",
       "      <th>registered_via_16</th>\n",
       "      <th>registered_via_3</th>\n",
       "      <th>registered_via_4</th>\n",
       "      <th>registered_via_7</th>\n",
       "      <th>registered_via_9</th>\n",
       "      <th>registered_via_nan</th>\n",
       "    </tr>\n",
       "  </thead>\n",
       "  <tbody>\n",
       "    <tr>\n",
       "      <td>0</td>\n",
       "      <td>0</td>\n",
       "      <td>1</td>\n",
       "      <td>0</td>\n",
       "      <td>0</td>\n",
       "      <td>0</td>\n",
       "      <td>0</td>\n",
       "      <td>0</td>\n",
       "      <td>0</td>\n",
       "      <td>0</td>\n",
       "      <td>0</td>\n",
       "      <td>0</td>\n",
       "      <td>0</td>\n",
       "      <td>0</td>\n",
       "      <td>1</td>\n",
       "      <td>0</td>\n",
       "      <td>0</td>\n",
       "    </tr>\n",
       "    <tr>\n",
       "      <td>1</td>\n",
       "      <td>0</td>\n",
       "      <td>1</td>\n",
       "      <td>0</td>\n",
       "      <td>0</td>\n",
       "      <td>0</td>\n",
       "      <td>0</td>\n",
       "      <td>0</td>\n",
       "      <td>0</td>\n",
       "      <td>0</td>\n",
       "      <td>0</td>\n",
       "      <td>0</td>\n",
       "      <td>0</td>\n",
       "      <td>0</td>\n",
       "      <td>1</td>\n",
       "      <td>0</td>\n",
       "      <td>0</td>\n",
       "    </tr>\n",
       "    <tr>\n",
       "      <td>2</td>\n",
       "      <td>0</td>\n",
       "      <td>1</td>\n",
       "      <td>0</td>\n",
       "      <td>0</td>\n",
       "      <td>0</td>\n",
       "      <td>0</td>\n",
       "      <td>0</td>\n",
       "      <td>0</td>\n",
       "      <td>0</td>\n",
       "      <td>0</td>\n",
       "      <td>0</td>\n",
       "      <td>0</td>\n",
       "      <td>0</td>\n",
       "      <td>1</td>\n",
       "      <td>0</td>\n",
       "      <td>0</td>\n",
       "    </tr>\n",
       "    <tr>\n",
       "      <td>3</td>\n",
       "      <td>0</td>\n",
       "      <td>1</td>\n",
       "      <td>0</td>\n",
       "      <td>0</td>\n",
       "      <td>0</td>\n",
       "      <td>0</td>\n",
       "      <td>0</td>\n",
       "      <td>0</td>\n",
       "      <td>0</td>\n",
       "      <td>0</td>\n",
       "      <td>0</td>\n",
       "      <td>0</td>\n",
       "      <td>0</td>\n",
       "      <td>1</td>\n",
       "      <td>0</td>\n",
       "      <td>0</td>\n",
       "    </tr>\n",
       "    <tr>\n",
       "      <td>4</td>\n",
       "      <td>0</td>\n",
       "      <td>1</td>\n",
       "      <td>0</td>\n",
       "      <td>0</td>\n",
       "      <td>0</td>\n",
       "      <td>0</td>\n",
       "      <td>0</td>\n",
       "      <td>0</td>\n",
       "      <td>0</td>\n",
       "      <td>0</td>\n",
       "      <td>0</td>\n",
       "      <td>0</td>\n",
       "      <td>0</td>\n",
       "      <td>1</td>\n",
       "      <td>0</td>\n",
       "      <td>0</td>\n",
       "    </tr>\n",
       "  </tbody>\n",
       "</table>\n",
       "</div>"
      ],
      "text/plain": [
       "   source_system_tab_discover  source_system_tab_explore  \\\n",
       "0                           0                          1   \n",
       "1                           0                          1   \n",
       "2                           0                          1   \n",
       "3                           0                          1   \n",
       "4                           0                          1   \n",
       "\n",
       "   source_system_tab_listen with  source_system_tab_my library  \\\n",
       "0                              0                             0   \n",
       "1                              0                             0   \n",
       "2                              0                             0   \n",
       "3                              0                             0   \n",
       "4                              0                             0   \n",
       "\n",
       "   source_system_tab_notification  source_system_tab_radio  \\\n",
       "0                               0                        0   \n",
       "1                               0                        0   \n",
       "2                               0                        0   \n",
       "3                               0                        0   \n",
       "4                               0                        0   \n",
       "\n",
       "   source_system_tab_search  source_system_tab_settings  \\\n",
       "0                         0                           0   \n",
       "1                         0                           0   \n",
       "2                         0                           0   \n",
       "3                         0                           0   \n",
       "4                         0                           0   \n",
       "\n",
       "   source_system_tab_nan  registered_via_13  registered_via_16  \\\n",
       "0                      0                  0                  0   \n",
       "1                      0                  0                  0   \n",
       "2                      0                  0                  0   \n",
       "3                      0                  0                  0   \n",
       "4                      0                  0                  0   \n",
       "\n",
       "   registered_via_3  registered_via_4  registered_via_7  registered_via_9  \\\n",
       "0                 0                 0                 1                 0   \n",
       "1                 0                 0                 1                 0   \n",
       "2                 0                 0                 1                 0   \n",
       "3                 0                 0                 1                 0   \n",
       "4                 0                 0                 1                 0   \n",
       "\n",
       "   registered_via_nan  \n",
       "0                   0  \n",
       "1                   0  \n",
       "2                   0  \n",
       "3                   0  \n",
       "4                   0  "
      ]
     },
     "execution_count": 38,
     "metadata": {},
     "output_type": "execute_result"
    }
   ],
   "source": [
    "data_dummies = pd.get_dummies(all_data[['source_system_tab',#'city','source_screen_name',#'source_type','gender','language',\n",
    "                                        'registered_via']],dummy_na=True)#, drop_first = True)\n",
    "data_dummies.head()"
   ]
  },
  {
   "cell_type": "code",
   "execution_count": 39,
   "metadata": {
    "ExecuteTime": {
     "end_time": "2021-01-14T03:31:38.641900Z",
     "start_time": "2021-01-14T03:31:38.583118Z"
    }
   },
   "outputs": [
    {
     "data": {
      "text/plain": [
       "Index(['source_system_tab_discover', 'source_system_tab_explore',\n",
       "       'source_system_tab_listen with', 'source_system_tab_my library',\n",
       "       'source_system_tab_notification', 'source_system_tab_radio',\n",
       "       'source_system_tab_search', 'source_system_tab_settings',\n",
       "       'source_system_tab_nan', 'registered_via_13', 'registered_via_16',\n",
       "       'registered_via_3', 'registered_via_4', 'registered_via_7',\n",
       "       'registered_via_9', 'registered_via_nan'],\n",
       "      dtype='object')"
      ]
     },
     "execution_count": 39,
     "metadata": {},
     "output_type": "execute_result"
    }
   ],
   "source": [
    "data_dummies.columns"
   ]
  },
  {
   "cell_type": "code",
   "execution_count": 40,
   "metadata": {
    "ExecuteTime": {
     "end_time": "2021-01-14T03:31:55.894885Z",
     "start_time": "2021-01-14T03:31:38.647774Z"
    }
   },
   "outputs": [
    {
     "data": {
      "text/html": [
       "<div>\n",
       "<style scoped>\n",
       "    .dataframe tbody tr th:only-of-type {\n",
       "        vertical-align: middle;\n",
       "    }\n",
       "\n",
       "    .dataframe tbody tr th {\n",
       "        vertical-align: top;\n",
       "    }\n",
       "\n",
       "    .dataframe thead th {\n",
       "        text-align: right;\n",
       "    }\n",
       "</style>\n",
       "<table border=\"1\" class=\"dataframe\">\n",
       "  <thead>\n",
       "    <tr style=\"text-align: right;\">\n",
       "      <th></th>\n",
       "      <th>artist_name</th>\n",
       "      <th>bd</th>\n",
       "      <th>city</th>\n",
       "      <th>composer</th>\n",
       "      <th>expiration_date</th>\n",
       "      <th>expiration_date_month</th>\n",
       "      <th>expiration_date_new</th>\n",
       "      <th>expiration_date_year</th>\n",
       "      <th>genre_ids</th>\n",
       "      <th>id</th>\n",
       "      <th>...</th>\n",
       "      <th>source_system_tab_search</th>\n",
       "      <th>source_system_tab_settings</th>\n",
       "      <th>source_system_tab_nan</th>\n",
       "      <th>registered_via_13</th>\n",
       "      <th>registered_via_16</th>\n",
       "      <th>registered_via_3</th>\n",
       "      <th>registered_via_4</th>\n",
       "      <th>registered_via_7</th>\n",
       "      <th>registered_via_9</th>\n",
       "      <th>registered_via_nan</th>\n",
       "    </tr>\n",
       "  </thead>\n",
       "  <tbody>\n",
       "    <tr>\n",
       "      <td>0</td>\n",
       "      <td>3784</td>\n",
       "      <td>0</td>\n",
       "      <td>0</td>\n",
       "      <td>16653</td>\n",
       "      <td>2017-10-05</td>\n",
       "      <td>10</td>\n",
       "      <td>1507132800</td>\n",
       "      <td>2017</td>\n",
       "      <td>307</td>\n",
       "      <td>NaN</td>\n",
       "      <td>...</td>\n",
       "      <td>0</td>\n",
       "      <td>0</td>\n",
       "      <td>0</td>\n",
       "      <td>0</td>\n",
       "      <td>0</td>\n",
       "      <td>0</td>\n",
       "      <td>0</td>\n",
       "      <td>1</td>\n",
       "      <td>0</td>\n",
       "      <td>0</td>\n",
       "    </tr>\n",
       "    <tr>\n",
       "      <td>1</td>\n",
       "      <td>5190</td>\n",
       "      <td>0</td>\n",
       "      <td>0</td>\n",
       "      <td>9701</td>\n",
       "      <td>2017-10-05</td>\n",
       "      <td>10</td>\n",
       "      <td>1507132800</td>\n",
       "      <td>2017</td>\n",
       "      <td>2</td>\n",
       "      <td>NaN</td>\n",
       "      <td>...</td>\n",
       "      <td>0</td>\n",
       "      <td>0</td>\n",
       "      <td>0</td>\n",
       "      <td>0</td>\n",
       "      <td>0</td>\n",
       "      <td>0</td>\n",
       "      <td>0</td>\n",
       "      <td>1</td>\n",
       "      <td>0</td>\n",
       "      <td>0</td>\n",
       "    </tr>\n",
       "    <tr>\n",
       "      <td>2</td>\n",
       "      <td>9451</td>\n",
       "      <td>0</td>\n",
       "      <td>0</td>\n",
       "      <td>63665</td>\n",
       "      <td>2017-10-05</td>\n",
       "      <td>10</td>\n",
       "      <td>1507132800</td>\n",
       "      <td>2017</td>\n",
       "      <td>97</td>\n",
       "      <td>NaN</td>\n",
       "      <td>...</td>\n",
       "      <td>0</td>\n",
       "      <td>0</td>\n",
       "      <td>0</td>\n",
       "      <td>0</td>\n",
       "      <td>0</td>\n",
       "      <td>0</td>\n",
       "      <td>0</td>\n",
       "      <td>1</td>\n",
       "      <td>0</td>\n",
       "      <td>0</td>\n",
       "    </tr>\n",
       "    <tr>\n",
       "      <td>3</td>\n",
       "      <td>35336</td>\n",
       "      <td>0</td>\n",
       "      <td>0</td>\n",
       "      <td>67752</td>\n",
       "      <td>2017-10-05</td>\n",
       "      <td>10</td>\n",
       "      <td>1507132800</td>\n",
       "      <td>2017</td>\n",
       "      <td>2</td>\n",
       "      <td>NaN</td>\n",
       "      <td>...</td>\n",
       "      <td>0</td>\n",
       "      <td>0</td>\n",
       "      <td>0</td>\n",
       "      <td>0</td>\n",
       "      <td>0</td>\n",
       "      <td>0</td>\n",
       "      <td>0</td>\n",
       "      <td>1</td>\n",
       "      <td>0</td>\n",
       "      <td>0</td>\n",
       "    </tr>\n",
       "    <tr>\n",
       "      <td>4</td>\n",
       "      <td>25764</td>\n",
       "      <td>0</td>\n",
       "      <td>0</td>\n",
       "      <td>60377</td>\n",
       "      <td>2017-10-05</td>\n",
       "      <td>10</td>\n",
       "      <td>1507132800</td>\n",
       "      <td>2017</td>\n",
       "      <td>371</td>\n",
       "      <td>NaN</td>\n",
       "      <td>...</td>\n",
       "      <td>0</td>\n",
       "      <td>0</td>\n",
       "      <td>0</td>\n",
       "      <td>0</td>\n",
       "      <td>0</td>\n",
       "      <td>0</td>\n",
       "      <td>0</td>\n",
       "      <td>1</td>\n",
       "      <td>0</td>\n",
       "      <td>0</td>\n",
       "    </tr>\n",
       "    <tr>\n",
       "      <td>...</td>\n",
       "      <td>...</td>\n",
       "      <td>...</td>\n",
       "      <td>...</td>\n",
       "      <td>...</td>\n",
       "      <td>...</td>\n",
       "      <td>...</td>\n",
       "      <td>...</td>\n",
       "      <td>...</td>\n",
       "      <td>...</td>\n",
       "      <td>...</td>\n",
       "      <td>...</td>\n",
       "      <td>...</td>\n",
       "      <td>...</td>\n",
       "      <td>...</td>\n",
       "      <td>...</td>\n",
       "      <td>...</td>\n",
       "      <td>...</td>\n",
       "      <td>...</td>\n",
       "      <td>...</td>\n",
       "      <td>...</td>\n",
       "      <td>...</td>\n",
       "    </tr>\n",
       "    <tr>\n",
       "      <td>2556785</td>\n",
       "      <td>33664</td>\n",
       "      <td>41</td>\n",
       "      <td>11</td>\n",
       "      <td>4478</td>\n",
       "      <td>2017-09-21</td>\n",
       "      <td>9</td>\n",
       "      <td>1505923200</td>\n",
       "      <td>2017</td>\n",
       "      <td>127</td>\n",
       "      <td>2556785.0</td>\n",
       "      <td>...</td>\n",
       "      <td>0</td>\n",
       "      <td>0</td>\n",
       "      <td>0</td>\n",
       "      <td>0</td>\n",
       "      <td>0</td>\n",
       "      <td>0</td>\n",
       "      <td>0</td>\n",
       "      <td>0</td>\n",
       "      <td>1</td>\n",
       "      <td>0</td>\n",
       "    </tr>\n",
       "    <tr>\n",
       "      <td>2556786</td>\n",
       "      <td>44900</td>\n",
       "      <td>24</td>\n",
       "      <td>11</td>\n",
       "      <td>77852</td>\n",
       "      <td>2017-09-12</td>\n",
       "      <td>9</td>\n",
       "      <td>1505145600</td>\n",
       "      <td>2017</td>\n",
       "      <td>364</td>\n",
       "      <td>2556786.0</td>\n",
       "      <td>...</td>\n",
       "      <td>0</td>\n",
       "      <td>0</td>\n",
       "      <td>0</td>\n",
       "      <td>0</td>\n",
       "      <td>0</td>\n",
       "      <td>0</td>\n",
       "      <td>0</td>\n",
       "      <td>0</td>\n",
       "      <td>1</td>\n",
       "      <td>0</td>\n",
       "    </tr>\n",
       "    <tr>\n",
       "      <td>2556787</td>\n",
       "      <td>40893</td>\n",
       "      <td>24</td>\n",
       "      <td>11</td>\n",
       "      <td>64043</td>\n",
       "      <td>2017-09-12</td>\n",
       "      <td>9</td>\n",
       "      <td>1505145600</td>\n",
       "      <td>2017</td>\n",
       "      <td>364</td>\n",
       "      <td>2556787.0</td>\n",
       "      <td>...</td>\n",
       "      <td>0</td>\n",
       "      <td>0</td>\n",
       "      <td>0</td>\n",
       "      <td>0</td>\n",
       "      <td>0</td>\n",
       "      <td>0</td>\n",
       "      <td>0</td>\n",
       "      <td>0</td>\n",
       "      <td>1</td>\n",
       "      <td>0</td>\n",
       "    </tr>\n",
       "    <tr>\n",
       "      <td>2556788</td>\n",
       "      <td>45240</td>\n",
       "      <td>24</td>\n",
       "      <td>11</td>\n",
       "      <td>74267</td>\n",
       "      <td>2017-09-12</td>\n",
       "      <td>9</td>\n",
       "      <td>1505145600</td>\n",
       "      <td>2017</td>\n",
       "      <td>371</td>\n",
       "      <td>2556788.0</td>\n",
       "      <td>...</td>\n",
       "      <td>0</td>\n",
       "      <td>0</td>\n",
       "      <td>0</td>\n",
       "      <td>0</td>\n",
       "      <td>0</td>\n",
       "      <td>0</td>\n",
       "      <td>0</td>\n",
       "      <td>0</td>\n",
       "      <td>1</td>\n",
       "      <td>0</td>\n",
       "    </tr>\n",
       "    <tr>\n",
       "      <td>2556789</td>\n",
       "      <td>40915</td>\n",
       "      <td>24</td>\n",
       "      <td>11</td>\n",
       "      <td>76970</td>\n",
       "      <td>2017-09-12</td>\n",
       "      <td>9</td>\n",
       "      <td>1505145600</td>\n",
       "      <td>2017</td>\n",
       "      <td>364</td>\n",
       "      <td>2556789.0</td>\n",
       "      <td>...</td>\n",
       "      <td>0</td>\n",
       "      <td>0</td>\n",
       "      <td>0</td>\n",
       "      <td>0</td>\n",
       "      <td>0</td>\n",
       "      <td>0</td>\n",
       "      <td>0</td>\n",
       "      <td>0</td>\n",
       "      <td>1</td>\n",
       "      <td>0</td>\n",
       "    </tr>\n",
       "  </tbody>\n",
       "</table>\n",
       "<p>9927391 rows × 40 columns</p>\n",
       "</div>"
      ],
      "text/plain": [
       "         artist_name  bd  city  composer expiration_date  \\\n",
       "0               3784   0     0     16653      2017-10-05   \n",
       "1               5190   0     0      9701      2017-10-05   \n",
       "2               9451   0     0     63665      2017-10-05   \n",
       "3              35336   0     0     67752      2017-10-05   \n",
       "4              25764   0     0     60377      2017-10-05   \n",
       "...              ...  ..   ...       ...             ...   \n",
       "2556785        33664  41    11      4478      2017-09-21   \n",
       "2556786        44900  24    11     77852      2017-09-12   \n",
       "2556787        40893  24    11     64043      2017-09-12   \n",
       "2556788        45240  24    11     74267      2017-09-12   \n",
       "2556789        40915  24    11     76970      2017-09-12   \n",
       "\n",
       "         expiration_date_month  expiration_date_new  expiration_date_year  \\\n",
       "0                           10           1507132800                  2017   \n",
       "1                           10           1507132800                  2017   \n",
       "2                           10           1507132800                  2017   \n",
       "3                           10           1507132800                  2017   \n",
       "4                           10           1507132800                  2017   \n",
       "...                        ...                  ...                   ...   \n",
       "2556785                      9           1505923200                  2017   \n",
       "2556786                      9           1505145600                  2017   \n",
       "2556787                      9           1505145600                  2017   \n",
       "2556788                      9           1505145600                  2017   \n",
       "2556789                      9           1505145600                  2017   \n",
       "\n",
       "         genre_ids         id  ...  source_system_tab_search  \\\n",
       "0              307        NaN  ...                         0   \n",
       "1                2        NaN  ...                         0   \n",
       "2               97        NaN  ...                         0   \n",
       "3                2        NaN  ...                         0   \n",
       "4              371        NaN  ...                         0   \n",
       "...            ...        ...  ...                       ...   \n",
       "2556785        127  2556785.0  ...                         0   \n",
       "2556786        364  2556786.0  ...                         0   \n",
       "2556787        364  2556787.0  ...                         0   \n",
       "2556788        371  2556788.0  ...                         0   \n",
       "2556789        364  2556789.0  ...                         0   \n",
       "\n",
       "         source_system_tab_settings  source_system_tab_nan  registered_via_13  \\\n",
       "0                                 0                      0                  0   \n",
       "1                                 0                      0                  0   \n",
       "2                                 0                      0                  0   \n",
       "3                                 0                      0                  0   \n",
       "4                                 0                      0                  0   \n",
       "...                             ...                    ...                ...   \n",
       "2556785                           0                      0                  0   \n",
       "2556786                           0                      0                  0   \n",
       "2556787                           0                      0                  0   \n",
       "2556788                           0                      0                  0   \n",
       "2556789                           0                      0                  0   \n",
       "\n",
       "        registered_via_16 registered_via_3  registered_via_4  \\\n",
       "0                       0                0                 0   \n",
       "1                       0                0                 0   \n",
       "2                       0                0                 0   \n",
       "3                       0                0                 0   \n",
       "4                       0                0                 0   \n",
       "...                   ...              ...               ...   \n",
       "2556785                 0                0                 0   \n",
       "2556786                 0                0                 0   \n",
       "2556787                 0                0                 0   \n",
       "2556788                 0                0                 0   \n",
       "2556789                 0                0                 0   \n",
       "\n",
       "         registered_via_7  registered_via_9  registered_via_nan  \n",
       "0                       1                 0                   0  \n",
       "1                       1                 0                   0  \n",
       "2                       1                 0                   0  \n",
       "3                       1                 0                   0  \n",
       "4                       1                 0                   0  \n",
       "...                   ...               ...                 ...  \n",
       "2556785                 0                 1                   0  \n",
       "2556786                 0                 1                   0  \n",
       "2556787                 0                 1                   0  \n",
       "2556788                 0                 1                   0  \n",
       "2556789                 0                 1                   0  \n",
       "\n",
       "[9927391 rows x 40 columns]"
      ]
     },
     "execution_count": 40,
     "metadata": {},
     "output_type": "execute_result"
    }
   ],
   "source": [
    "df_new = pd.concat([all_data,data_dummies],axis=1)\n",
    "df_new"
   ]
  },
  {
   "cell_type": "code",
   "execution_count": 41,
   "metadata": {
    "ExecuteTime": {
     "end_time": "2021-01-14T03:32:17.534934Z",
     "start_time": "2021-01-14T03:31:55.902791Z"
    }
   },
   "outputs": [
    {
     "data": {
      "text/html": [
       "<div>\n",
       "<style scoped>\n",
       "    .dataframe tbody tr th:only-of-type {\n",
       "        vertical-align: middle;\n",
       "    }\n",
       "\n",
       "    .dataframe tbody tr th {\n",
       "        vertical-align: top;\n",
       "    }\n",
       "\n",
       "    .dataframe thead th {\n",
       "        text-align: right;\n",
       "    }\n",
       "</style>\n",
       "<table border=\"1\" class=\"dataframe\">\n",
       "  <thead>\n",
       "    <tr style=\"text-align: right;\">\n",
       "      <th></th>\n",
       "      <th>artist_name</th>\n",
       "      <th>bd</th>\n",
       "      <th>city</th>\n",
       "      <th>composer</th>\n",
       "      <th>expiration_date</th>\n",
       "      <th>expiration_date_month</th>\n",
       "      <th>expiration_date_new</th>\n",
       "      <th>expiration_date_year</th>\n",
       "      <th>genre_ids</th>\n",
       "      <th>id</th>\n",
       "      <th>...</th>\n",
       "      <th>source_system_tab_search</th>\n",
       "      <th>source_system_tab_settings</th>\n",
       "      <th>source_system_tab_nan</th>\n",
       "      <th>registered_via_13</th>\n",
       "      <th>registered_via_16</th>\n",
       "      <th>registered_via_3</th>\n",
       "      <th>registered_via_4</th>\n",
       "      <th>registered_via_7</th>\n",
       "      <th>registered_via_9</th>\n",
       "      <th>registered_via_nan</th>\n",
       "    </tr>\n",
       "  </thead>\n",
       "  <tbody>\n",
       "    <tr>\n",
       "      <td>0</td>\n",
       "      <td>3784</td>\n",
       "      <td>0</td>\n",
       "      <td>0</td>\n",
       "      <td>16653</td>\n",
       "      <td>2017-10-05</td>\n",
       "      <td>10</td>\n",
       "      <td>1507132800</td>\n",
       "      <td>2017</td>\n",
       "      <td>307</td>\n",
       "      <td>NaN</td>\n",
       "      <td>...</td>\n",
       "      <td>0</td>\n",
       "      <td>0</td>\n",
       "      <td>0</td>\n",
       "      <td>0</td>\n",
       "      <td>0</td>\n",
       "      <td>0</td>\n",
       "      <td>0</td>\n",
       "      <td>1</td>\n",
       "      <td>0</td>\n",
       "      <td>0</td>\n",
       "    </tr>\n",
       "    <tr>\n",
       "      <td>1</td>\n",
       "      <td>5190</td>\n",
       "      <td>0</td>\n",
       "      <td>0</td>\n",
       "      <td>9701</td>\n",
       "      <td>2017-10-05</td>\n",
       "      <td>10</td>\n",
       "      <td>1507132800</td>\n",
       "      <td>2017</td>\n",
       "      <td>2</td>\n",
       "      <td>NaN</td>\n",
       "      <td>...</td>\n",
       "      <td>0</td>\n",
       "      <td>0</td>\n",
       "      <td>0</td>\n",
       "      <td>0</td>\n",
       "      <td>0</td>\n",
       "      <td>0</td>\n",
       "      <td>0</td>\n",
       "      <td>1</td>\n",
       "      <td>0</td>\n",
       "      <td>0</td>\n",
       "    </tr>\n",
       "    <tr>\n",
       "      <td>2</td>\n",
       "      <td>9451</td>\n",
       "      <td>0</td>\n",
       "      <td>0</td>\n",
       "      <td>63665</td>\n",
       "      <td>2017-10-05</td>\n",
       "      <td>10</td>\n",
       "      <td>1507132800</td>\n",
       "      <td>2017</td>\n",
       "      <td>97</td>\n",
       "      <td>NaN</td>\n",
       "      <td>...</td>\n",
       "      <td>0</td>\n",
       "      <td>0</td>\n",
       "      <td>0</td>\n",
       "      <td>0</td>\n",
       "      <td>0</td>\n",
       "      <td>0</td>\n",
       "      <td>0</td>\n",
       "      <td>1</td>\n",
       "      <td>0</td>\n",
       "      <td>0</td>\n",
       "    </tr>\n",
       "    <tr>\n",
       "      <td>3</td>\n",
       "      <td>35336</td>\n",
       "      <td>0</td>\n",
       "      <td>0</td>\n",
       "      <td>67752</td>\n",
       "      <td>2017-10-05</td>\n",
       "      <td>10</td>\n",
       "      <td>1507132800</td>\n",
       "      <td>2017</td>\n",
       "      <td>2</td>\n",
       "      <td>NaN</td>\n",
       "      <td>...</td>\n",
       "      <td>0</td>\n",
       "      <td>0</td>\n",
       "      <td>0</td>\n",
       "      <td>0</td>\n",
       "      <td>0</td>\n",
       "      <td>0</td>\n",
       "      <td>0</td>\n",
       "      <td>1</td>\n",
       "      <td>0</td>\n",
       "      <td>0</td>\n",
       "    </tr>\n",
       "    <tr>\n",
       "      <td>4</td>\n",
       "      <td>25764</td>\n",
       "      <td>0</td>\n",
       "      <td>0</td>\n",
       "      <td>60377</td>\n",
       "      <td>2017-10-05</td>\n",
       "      <td>10</td>\n",
       "      <td>1507132800</td>\n",
       "      <td>2017</td>\n",
       "      <td>371</td>\n",
       "      <td>NaN</td>\n",
       "      <td>...</td>\n",
       "      <td>0</td>\n",
       "      <td>0</td>\n",
       "      <td>0</td>\n",
       "      <td>0</td>\n",
       "      <td>0</td>\n",
       "      <td>0</td>\n",
       "      <td>0</td>\n",
       "      <td>1</td>\n",
       "      <td>0</td>\n",
       "      <td>0</td>\n",
       "    </tr>\n",
       "    <tr>\n",
       "      <td>...</td>\n",
       "      <td>...</td>\n",
       "      <td>...</td>\n",
       "      <td>...</td>\n",
       "      <td>...</td>\n",
       "      <td>...</td>\n",
       "      <td>...</td>\n",
       "      <td>...</td>\n",
       "      <td>...</td>\n",
       "      <td>...</td>\n",
       "      <td>...</td>\n",
       "      <td>...</td>\n",
       "      <td>...</td>\n",
       "      <td>...</td>\n",
       "      <td>...</td>\n",
       "      <td>...</td>\n",
       "      <td>...</td>\n",
       "      <td>...</td>\n",
       "      <td>...</td>\n",
       "      <td>...</td>\n",
       "      <td>...</td>\n",
       "      <td>...</td>\n",
       "    </tr>\n",
       "    <tr>\n",
       "      <td>2556785</td>\n",
       "      <td>33664</td>\n",
       "      <td>41</td>\n",
       "      <td>11</td>\n",
       "      <td>4478</td>\n",
       "      <td>2017-09-21</td>\n",
       "      <td>9</td>\n",
       "      <td>1505923200</td>\n",
       "      <td>2017</td>\n",
       "      <td>127</td>\n",
       "      <td>2556785.0</td>\n",
       "      <td>...</td>\n",
       "      <td>0</td>\n",
       "      <td>0</td>\n",
       "      <td>0</td>\n",
       "      <td>0</td>\n",
       "      <td>0</td>\n",
       "      <td>0</td>\n",
       "      <td>0</td>\n",
       "      <td>0</td>\n",
       "      <td>1</td>\n",
       "      <td>0</td>\n",
       "    </tr>\n",
       "    <tr>\n",
       "      <td>2556786</td>\n",
       "      <td>44900</td>\n",
       "      <td>24</td>\n",
       "      <td>11</td>\n",
       "      <td>77852</td>\n",
       "      <td>2017-09-12</td>\n",
       "      <td>9</td>\n",
       "      <td>1505145600</td>\n",
       "      <td>2017</td>\n",
       "      <td>364</td>\n",
       "      <td>2556786.0</td>\n",
       "      <td>...</td>\n",
       "      <td>0</td>\n",
       "      <td>0</td>\n",
       "      <td>0</td>\n",
       "      <td>0</td>\n",
       "      <td>0</td>\n",
       "      <td>0</td>\n",
       "      <td>0</td>\n",
       "      <td>0</td>\n",
       "      <td>1</td>\n",
       "      <td>0</td>\n",
       "    </tr>\n",
       "    <tr>\n",
       "      <td>2556787</td>\n",
       "      <td>40893</td>\n",
       "      <td>24</td>\n",
       "      <td>11</td>\n",
       "      <td>64043</td>\n",
       "      <td>2017-09-12</td>\n",
       "      <td>9</td>\n",
       "      <td>1505145600</td>\n",
       "      <td>2017</td>\n",
       "      <td>364</td>\n",
       "      <td>2556787.0</td>\n",
       "      <td>...</td>\n",
       "      <td>0</td>\n",
       "      <td>0</td>\n",
       "      <td>0</td>\n",
       "      <td>0</td>\n",
       "      <td>0</td>\n",
       "      <td>0</td>\n",
       "      <td>0</td>\n",
       "      <td>0</td>\n",
       "      <td>1</td>\n",
       "      <td>0</td>\n",
       "    </tr>\n",
       "    <tr>\n",
       "      <td>2556788</td>\n",
       "      <td>45240</td>\n",
       "      <td>24</td>\n",
       "      <td>11</td>\n",
       "      <td>74267</td>\n",
       "      <td>2017-09-12</td>\n",
       "      <td>9</td>\n",
       "      <td>1505145600</td>\n",
       "      <td>2017</td>\n",
       "      <td>371</td>\n",
       "      <td>2556788.0</td>\n",
       "      <td>...</td>\n",
       "      <td>0</td>\n",
       "      <td>0</td>\n",
       "      <td>0</td>\n",
       "      <td>0</td>\n",
       "      <td>0</td>\n",
       "      <td>0</td>\n",
       "      <td>0</td>\n",
       "      <td>0</td>\n",
       "      <td>1</td>\n",
       "      <td>0</td>\n",
       "    </tr>\n",
       "    <tr>\n",
       "      <td>2556789</td>\n",
       "      <td>40915</td>\n",
       "      <td>24</td>\n",
       "      <td>11</td>\n",
       "      <td>76970</td>\n",
       "      <td>2017-09-12</td>\n",
       "      <td>9</td>\n",
       "      <td>1505145600</td>\n",
       "      <td>2017</td>\n",
       "      <td>364</td>\n",
       "      <td>2556789.0</td>\n",
       "      <td>...</td>\n",
       "      <td>0</td>\n",
       "      <td>0</td>\n",
       "      <td>0</td>\n",
       "      <td>0</td>\n",
       "      <td>0</td>\n",
       "      <td>0</td>\n",
       "      <td>0</td>\n",
       "      <td>0</td>\n",
       "      <td>1</td>\n",
       "      <td>0</td>\n",
       "    </tr>\n",
       "  </tbody>\n",
       "</table>\n",
       "<p>9927391 rows × 38 columns</p>\n",
       "</div>"
      ],
      "text/plain": [
       "         artist_name  bd  city  composer expiration_date  \\\n",
       "0               3784   0     0     16653      2017-10-05   \n",
       "1               5190   0     0      9701      2017-10-05   \n",
       "2               9451   0     0     63665      2017-10-05   \n",
       "3              35336   0     0     67752      2017-10-05   \n",
       "4              25764   0     0     60377      2017-10-05   \n",
       "...              ...  ..   ...       ...             ...   \n",
       "2556785        33664  41    11      4478      2017-09-21   \n",
       "2556786        44900  24    11     77852      2017-09-12   \n",
       "2556787        40893  24    11     64043      2017-09-12   \n",
       "2556788        45240  24    11     74267      2017-09-12   \n",
       "2556789        40915  24    11     76970      2017-09-12   \n",
       "\n",
       "         expiration_date_month  expiration_date_new  expiration_date_year  \\\n",
       "0                           10           1507132800                  2017   \n",
       "1                           10           1507132800                  2017   \n",
       "2                           10           1507132800                  2017   \n",
       "3                           10           1507132800                  2017   \n",
       "4                           10           1507132800                  2017   \n",
       "...                        ...                  ...                   ...   \n",
       "2556785                      9           1505923200                  2017   \n",
       "2556786                      9           1505145600                  2017   \n",
       "2556787                      9           1505145600                  2017   \n",
       "2556788                      9           1505145600                  2017   \n",
       "2556789                      9           1505145600                  2017   \n",
       "\n",
       "         genre_ids         id  ...  source_system_tab_search  \\\n",
       "0              307        NaN  ...                         0   \n",
       "1                2        NaN  ...                         0   \n",
       "2               97        NaN  ...                         0   \n",
       "3                2        NaN  ...                         0   \n",
       "4              371        NaN  ...                         0   \n",
       "...            ...        ...  ...                       ...   \n",
       "2556785        127  2556785.0  ...                         0   \n",
       "2556786        364  2556786.0  ...                         0   \n",
       "2556787        364  2556787.0  ...                         0   \n",
       "2556788        371  2556788.0  ...                         0   \n",
       "2556789        364  2556789.0  ...                         0   \n",
       "\n",
       "         source_system_tab_settings  source_system_tab_nan  registered_via_13  \\\n",
       "0                                 0                      0                  0   \n",
       "1                                 0                      0                  0   \n",
       "2                                 0                      0                  0   \n",
       "3                                 0                      0                  0   \n",
       "4                                 0                      0                  0   \n",
       "...                             ...                    ...                ...   \n",
       "2556785                           0                      0                  0   \n",
       "2556786                           0                      0                  0   \n",
       "2556787                           0                      0                  0   \n",
       "2556788                           0                      0                  0   \n",
       "2556789                           0                      0                  0   \n",
       "\n",
       "        registered_via_16  registered_via_3  registered_via_4  \\\n",
       "0                       0                 0                 0   \n",
       "1                       0                 0                 0   \n",
       "2                       0                 0                 0   \n",
       "3                       0                 0                 0   \n",
       "4                       0                 0                 0   \n",
       "...                   ...               ...               ...   \n",
       "2556785                 0                 0                 0   \n",
       "2556786                 0                 0                 0   \n",
       "2556787                 0                 0                 0   \n",
       "2556788                 0                 0                 0   \n",
       "2556789                 0                 0                 0   \n",
       "\n",
       "         registered_via_7  registered_via_9  registered_via_nan  \n",
       "0                       1                 0                   0  \n",
       "1                       1                 0                   0  \n",
       "2                       1                 0                   0  \n",
       "3                       1                 0                   0  \n",
       "4                       1                 0                   0  \n",
       "...                   ...               ...                 ...  \n",
       "2556785                 0                 1                   0  \n",
       "2556786                 0                 1                   0  \n",
       "2556787                 0                 1                   0  \n",
       "2556788                 0                 1                   0  \n",
       "2556789                 0                 1                   0  \n",
       "\n",
       "[9927391 rows x 38 columns]"
      ]
     },
     "execution_count": 41,
     "metadata": {},
     "output_type": "execute_result"
    }
   ],
   "source": [
    "all_data = df_new.drop(['source_system_tab',#'city','source_screen_name','source_type','gender','language',\n",
    "                        'registered_via'], axis = 1)\n",
    "all_data"
   ]
  },
  {
   "cell_type": "code",
   "execution_count": 43,
   "metadata": {
    "ExecuteTime": {
     "end_time": "2021-01-14T03:32:44.295573Z",
     "start_time": "2021-01-14T03:32:33.941513Z"
    },
    "scrolled": true
   },
   "outputs": [],
   "source": [
    "df_train_new = all_data[:7370601]\n",
    "df_test_new = all_data[7370601:]"
   ]
  },
  {
   "cell_type": "code",
   "execution_count": 44,
   "metadata": {
    "ExecuteTime": {
     "end_time": "2021-01-14T03:32:44.318314Z",
     "start_time": "2021-01-14T03:32:44.305415Z"
    }
   },
   "outputs": [
    {
     "name": "stdout",
     "output_type": "stream",
     "text": [
      "(7370601, 38)\n",
      "(2556790, 38)\n"
     ]
    }
   ],
   "source": [
    "print(df_train_new.shape)\n",
    "print(df_test_new.shape)"
   ]
  },
  {
   "cell_type": "markdown",
   "metadata": {},
   "source": [
    "# 切出ID欄位"
   ]
  },
  {
   "cell_type": "code",
   "execution_count": 45,
   "metadata": {
    "ExecuteTime": {
     "end_time": "2021-01-14T03:32:59.802552Z",
     "start_time": "2021-01-14T03:32:49.600753Z"
    }
   },
   "outputs": [
    {
     "data": {
      "text/html": [
       "<div>\n",
       "<style scoped>\n",
       "    .dataframe tbody tr th:only-of-type {\n",
       "        vertical-align: middle;\n",
       "    }\n",
       "\n",
       "    .dataframe tbody tr th {\n",
       "        vertical-align: top;\n",
       "    }\n",
       "\n",
       "    .dataframe thead th {\n",
       "        text-align: right;\n",
       "    }\n",
       "</style>\n",
       "<table border=\"1\" class=\"dataframe\">\n",
       "  <thead>\n",
       "    <tr style=\"text-align: right;\">\n",
       "      <th></th>\n",
       "      <th>artist_name</th>\n",
       "      <th>bd</th>\n",
       "      <th>city</th>\n",
       "      <th>composer</th>\n",
       "      <th>expiration_date</th>\n",
       "      <th>expiration_date_month</th>\n",
       "      <th>expiration_date_new</th>\n",
       "      <th>expiration_date_year</th>\n",
       "      <th>genre_ids</th>\n",
       "      <th>index</th>\n",
       "      <th>...</th>\n",
       "      <th>source_system_tab_search</th>\n",
       "      <th>source_system_tab_settings</th>\n",
       "      <th>source_system_tab_nan</th>\n",
       "      <th>registered_via_13</th>\n",
       "      <th>registered_via_16</th>\n",
       "      <th>registered_via_3</th>\n",
       "      <th>registered_via_4</th>\n",
       "      <th>registered_via_7</th>\n",
       "      <th>registered_via_9</th>\n",
       "      <th>registered_via_nan</th>\n",
       "    </tr>\n",
       "  </thead>\n",
       "  <tbody>\n",
       "    <tr>\n",
       "      <td>0</td>\n",
       "      <td>3784</td>\n",
       "      <td>0</td>\n",
       "      <td>0</td>\n",
       "      <td>16653</td>\n",
       "      <td>2017-10-05</td>\n",
       "      <td>10</td>\n",
       "      <td>1507132800</td>\n",
       "      <td>2017</td>\n",
       "      <td>307</td>\n",
       "      <td>0</td>\n",
       "      <td>...</td>\n",
       "      <td>0</td>\n",
       "      <td>0</td>\n",
       "      <td>0</td>\n",
       "      <td>0</td>\n",
       "      <td>0</td>\n",
       "      <td>0</td>\n",
       "      <td>0</td>\n",
       "      <td>1</td>\n",
       "      <td>0</td>\n",
       "      <td>0</td>\n",
       "    </tr>\n",
       "    <tr>\n",
       "      <td>1</td>\n",
       "      <td>5190</td>\n",
       "      <td>0</td>\n",
       "      <td>0</td>\n",
       "      <td>9701</td>\n",
       "      <td>2017-10-05</td>\n",
       "      <td>10</td>\n",
       "      <td>1507132800</td>\n",
       "      <td>2017</td>\n",
       "      <td>2</td>\n",
       "      <td>1</td>\n",
       "      <td>...</td>\n",
       "      <td>0</td>\n",
       "      <td>0</td>\n",
       "      <td>0</td>\n",
       "      <td>0</td>\n",
       "      <td>0</td>\n",
       "      <td>0</td>\n",
       "      <td>0</td>\n",
       "      <td>1</td>\n",
       "      <td>0</td>\n",
       "      <td>0</td>\n",
       "    </tr>\n",
       "    <tr>\n",
       "      <td>2</td>\n",
       "      <td>9451</td>\n",
       "      <td>0</td>\n",
       "      <td>0</td>\n",
       "      <td>63665</td>\n",
       "      <td>2017-10-05</td>\n",
       "      <td>10</td>\n",
       "      <td>1507132800</td>\n",
       "      <td>2017</td>\n",
       "      <td>97</td>\n",
       "      <td>2</td>\n",
       "      <td>...</td>\n",
       "      <td>0</td>\n",
       "      <td>0</td>\n",
       "      <td>0</td>\n",
       "      <td>0</td>\n",
       "      <td>0</td>\n",
       "      <td>0</td>\n",
       "      <td>0</td>\n",
       "      <td>1</td>\n",
       "      <td>0</td>\n",
       "      <td>0</td>\n",
       "    </tr>\n",
       "    <tr>\n",
       "      <td>3</td>\n",
       "      <td>35336</td>\n",
       "      <td>0</td>\n",
       "      <td>0</td>\n",
       "      <td>67752</td>\n",
       "      <td>2017-10-05</td>\n",
       "      <td>10</td>\n",
       "      <td>1507132800</td>\n",
       "      <td>2017</td>\n",
       "      <td>2</td>\n",
       "      <td>3</td>\n",
       "      <td>...</td>\n",
       "      <td>0</td>\n",
       "      <td>0</td>\n",
       "      <td>0</td>\n",
       "      <td>0</td>\n",
       "      <td>0</td>\n",
       "      <td>0</td>\n",
       "      <td>0</td>\n",
       "      <td>1</td>\n",
       "      <td>0</td>\n",
       "      <td>0</td>\n",
       "    </tr>\n",
       "    <tr>\n",
       "      <td>4</td>\n",
       "      <td>25764</td>\n",
       "      <td>0</td>\n",
       "      <td>0</td>\n",
       "      <td>60377</td>\n",
       "      <td>2017-10-05</td>\n",
       "      <td>10</td>\n",
       "      <td>1507132800</td>\n",
       "      <td>2017</td>\n",
       "      <td>371</td>\n",
       "      <td>4</td>\n",
       "      <td>...</td>\n",
       "      <td>0</td>\n",
       "      <td>0</td>\n",
       "      <td>0</td>\n",
       "      <td>0</td>\n",
       "      <td>0</td>\n",
       "      <td>0</td>\n",
       "      <td>0</td>\n",
       "      <td>1</td>\n",
       "      <td>0</td>\n",
       "      <td>0</td>\n",
       "    </tr>\n",
       "    <tr>\n",
       "      <td>...</td>\n",
       "      <td>...</td>\n",
       "      <td>...</td>\n",
       "      <td>...</td>\n",
       "      <td>...</td>\n",
       "      <td>...</td>\n",
       "      <td>...</td>\n",
       "      <td>...</td>\n",
       "      <td>...</td>\n",
       "      <td>...</td>\n",
       "      <td>...</td>\n",
       "      <td>...</td>\n",
       "      <td>...</td>\n",
       "      <td>...</td>\n",
       "      <td>...</td>\n",
       "      <td>...</td>\n",
       "      <td>...</td>\n",
       "      <td>...</td>\n",
       "      <td>...</td>\n",
       "      <td>...</td>\n",
       "      <td>...</td>\n",
       "      <td>...</td>\n",
       "    </tr>\n",
       "    <tr>\n",
       "      <td>7370596</td>\n",
       "      <td>39512</td>\n",
       "      <td>32</td>\n",
       "      <td>0</td>\n",
       "      <td>74267</td>\n",
       "      <td>2017-02-02</td>\n",
       "      <td>2</td>\n",
       "      <td>1485964800</td>\n",
       "      <td>2017</td>\n",
       "      <td>608</td>\n",
       "      <td>7377299</td>\n",
       "      <td>...</td>\n",
       "      <td>0</td>\n",
       "      <td>0</td>\n",
       "      <td>0</td>\n",
       "      <td>0</td>\n",
       "      <td>0</td>\n",
       "      <td>1</td>\n",
       "      <td>0</td>\n",
       "      <td>0</td>\n",
       "      <td>0</td>\n",
       "      <td>0</td>\n",
       "    </tr>\n",
       "    <tr>\n",
       "      <td>7370597</td>\n",
       "      <td>41432</td>\n",
       "      <td>0</td>\n",
       "      <td>0</td>\n",
       "      <td>83436</td>\n",
       "      <td>2017-02-02</td>\n",
       "      <td>2</td>\n",
       "      <td>1485964800</td>\n",
       "      <td>2017</td>\n",
       "      <td>448</td>\n",
       "      <td>7377300</td>\n",
       "      <td>...</td>\n",
       "      <td>0</td>\n",
       "      <td>0</td>\n",
       "      <td>0</td>\n",
       "      <td>0</td>\n",
       "      <td>0</td>\n",
       "      <td>0</td>\n",
       "      <td>1</td>\n",
       "      <td>0</td>\n",
       "      <td>0</td>\n",
       "      <td>0</td>\n",
       "    </tr>\n",
       "    <tr>\n",
       "      <td>7370598</td>\n",
       "      <td>42657</td>\n",
       "      <td>0</td>\n",
       "      <td>0</td>\n",
       "      <td>8019</td>\n",
       "      <td>2017-02-02</td>\n",
       "      <td>2</td>\n",
       "      <td>1485964800</td>\n",
       "      <td>2017</td>\n",
       "      <td>371</td>\n",
       "      <td>7377301</td>\n",
       "      <td>...</td>\n",
       "      <td>0</td>\n",
       "      <td>0</td>\n",
       "      <td>0</td>\n",
       "      <td>0</td>\n",
       "      <td>0</td>\n",
       "      <td>0</td>\n",
       "      <td>1</td>\n",
       "      <td>0</td>\n",
       "      <td>0</td>\n",
       "      <td>0</td>\n",
       "    </tr>\n",
       "    <tr>\n",
       "      <td>7370599</td>\n",
       "      <td>42657</td>\n",
       "      <td>0</td>\n",
       "      <td>0</td>\n",
       "      <td>8019</td>\n",
       "      <td>2017-02-02</td>\n",
       "      <td>2</td>\n",
       "      <td>1485964800</td>\n",
       "      <td>2017</td>\n",
       "      <td>371</td>\n",
       "      <td>7377302</td>\n",
       "      <td>...</td>\n",
       "      <td>0</td>\n",
       "      <td>0</td>\n",
       "      <td>0</td>\n",
       "      <td>0</td>\n",
       "      <td>0</td>\n",
       "      <td>0</td>\n",
       "      <td>1</td>\n",
       "      <td>0</td>\n",
       "      <td>0</td>\n",
       "      <td>0</td>\n",
       "    </tr>\n",
       "    <tr>\n",
       "      <td>7370600</td>\n",
       "      <td>35642</td>\n",
       "      <td>18</td>\n",
       "      <td>20</td>\n",
       "      <td>74267</td>\n",
       "      <td>2017-07-07</td>\n",
       "      <td>7</td>\n",
       "      <td>1499356800</td>\n",
       "      <td>2017</td>\n",
       "      <td>371</td>\n",
       "      <td>7377303</td>\n",
       "      <td>...</td>\n",
       "      <td>1</td>\n",
       "      <td>0</td>\n",
       "      <td>0</td>\n",
       "      <td>0</td>\n",
       "      <td>0</td>\n",
       "      <td>1</td>\n",
       "      <td>0</td>\n",
       "      <td>0</td>\n",
       "      <td>0</td>\n",
       "      <td>0</td>\n",
       "    </tr>\n",
       "  </tbody>\n",
       "</table>\n",
       "<p>7370601 rows × 37 columns</p>\n",
       "</div>"
      ],
      "text/plain": [
       "         artist_name  bd  city  composer expiration_date  \\\n",
       "0               3784   0     0     16653      2017-10-05   \n",
       "1               5190   0     0      9701      2017-10-05   \n",
       "2               9451   0     0     63665      2017-10-05   \n",
       "3              35336   0     0     67752      2017-10-05   \n",
       "4              25764   0     0     60377      2017-10-05   \n",
       "...              ...  ..   ...       ...             ...   \n",
       "7370596        39512  32     0     74267      2017-02-02   \n",
       "7370597        41432   0     0     83436      2017-02-02   \n",
       "7370598        42657   0     0      8019      2017-02-02   \n",
       "7370599        42657   0     0      8019      2017-02-02   \n",
       "7370600        35642  18    20     74267      2017-07-07   \n",
       "\n",
       "         expiration_date_month  expiration_date_new  expiration_date_year  \\\n",
       "0                           10           1507132800                  2017   \n",
       "1                           10           1507132800                  2017   \n",
       "2                           10           1507132800                  2017   \n",
       "3                           10           1507132800                  2017   \n",
       "4                           10           1507132800                  2017   \n",
       "...                        ...                  ...                   ...   \n",
       "7370596                      2           1485964800                  2017   \n",
       "7370597                      2           1485964800                  2017   \n",
       "7370598                      2           1485964800                  2017   \n",
       "7370599                      2           1485964800                  2017   \n",
       "7370600                      7           1499356800                  2017   \n",
       "\n",
       "         genre_ids    index  ...  source_system_tab_search  \\\n",
       "0              307        0  ...                         0   \n",
       "1                2        1  ...                         0   \n",
       "2               97        2  ...                         0   \n",
       "3                2        3  ...                         0   \n",
       "4              371        4  ...                         0   \n",
       "...            ...      ...  ...                       ...   \n",
       "7370596        608  7377299  ...                         0   \n",
       "7370597        448  7377300  ...                         0   \n",
       "7370598        371  7377301  ...                         0   \n",
       "7370599        371  7377302  ...                         0   \n",
       "7370600        371  7377303  ...                         1   \n",
       "\n",
       "         source_system_tab_settings  source_system_tab_nan registered_via_13  \\\n",
       "0                                 0                      0                 0   \n",
       "1                                 0                      0                 0   \n",
       "2                                 0                      0                 0   \n",
       "3                                 0                      0                 0   \n",
       "4                                 0                      0                 0   \n",
       "...                             ...                    ...               ...   \n",
       "7370596                           0                      0                 0   \n",
       "7370597                           0                      0                 0   \n",
       "7370598                           0                      0                 0   \n",
       "7370599                           0                      0                 0   \n",
       "7370600                           0                      0                 0   \n",
       "\n",
       "         registered_via_16  registered_via_3  registered_via_4  \\\n",
       "0                        0                 0                 0   \n",
       "1                        0                 0                 0   \n",
       "2                        0                 0                 0   \n",
       "3                        0                 0                 0   \n",
       "4                        0                 0                 0   \n",
       "...                    ...               ...               ...   \n",
       "7370596                  0                 1                 0   \n",
       "7370597                  0                 0                 1   \n",
       "7370598                  0                 0                 1   \n",
       "7370599                  0                 0                 1   \n",
       "7370600                  0                 1                 0   \n",
       "\n",
       "         registered_via_7  registered_via_9  registered_via_nan  \n",
       "0                       1                 0                   0  \n",
       "1                       1                 0                   0  \n",
       "2                       1                 0                   0  \n",
       "3                       1                 0                   0  \n",
       "4                       1                 0                   0  \n",
       "...                   ...               ...                 ...  \n",
       "7370596                 0                 0                   0  \n",
       "7370597                 0                 0                   0  \n",
       "7370598                 0                 0                   0  \n",
       "7370599                 0                 0                   0  \n",
       "7370600                 0                 0                   0  \n",
       "\n",
       "[7370601 rows x 37 columns]"
      ]
     },
     "execution_count": 45,
     "metadata": {},
     "output_type": "execute_result"
    }
   ],
   "source": [
    "df_train_new = df_train_new.drop(['id'], axis = 1)\n",
    "df_train_new"
   ]
  },
  {
   "cell_type": "code",
   "execution_count": 46,
   "metadata": {
    "ExecuteTime": {
     "end_time": "2021-01-14T03:33:02.235177Z",
     "start_time": "2021-01-14T03:32:59.824157Z"
    }
   },
   "outputs": [
    {
     "data": {
      "text/html": [
       "<div>\n",
       "<style scoped>\n",
       "    .dataframe tbody tr th:only-of-type {\n",
       "        vertical-align: middle;\n",
       "    }\n",
       "\n",
       "    .dataframe tbody tr th {\n",
       "        vertical-align: top;\n",
       "    }\n",
       "\n",
       "    .dataframe thead th {\n",
       "        text-align: right;\n",
       "    }\n",
       "</style>\n",
       "<table border=\"1\" class=\"dataframe\">\n",
       "  <thead>\n",
       "    <tr style=\"text-align: right;\">\n",
       "      <th></th>\n",
       "      <th>artist_name</th>\n",
       "      <th>bd</th>\n",
       "      <th>city</th>\n",
       "      <th>composer</th>\n",
       "      <th>expiration_date</th>\n",
       "      <th>expiration_date_month</th>\n",
       "      <th>expiration_date_new</th>\n",
       "      <th>expiration_date_year</th>\n",
       "      <th>genre_ids</th>\n",
       "      <th>index</th>\n",
       "      <th>...</th>\n",
       "      <th>source_system_tab_search</th>\n",
       "      <th>source_system_tab_settings</th>\n",
       "      <th>source_system_tab_nan</th>\n",
       "      <th>registered_via_13</th>\n",
       "      <th>registered_via_16</th>\n",
       "      <th>registered_via_3</th>\n",
       "      <th>registered_via_4</th>\n",
       "      <th>registered_via_7</th>\n",
       "      <th>registered_via_9</th>\n",
       "      <th>registered_via_nan</th>\n",
       "    </tr>\n",
       "  </thead>\n",
       "  <tbody>\n",
       "    <tr>\n",
       "      <td>0</td>\n",
       "      <td>42807</td>\n",
       "      <td>0</td>\n",
       "      <td>0</td>\n",
       "      <td>56683</td>\n",
       "      <td>2017-09-18</td>\n",
       "      <td>9</td>\n",
       "      <td>1505664000</td>\n",
       "      <td>2017</td>\n",
       "      <td>364</td>\n",
       "      <td>0</td>\n",
       "      <td>...</td>\n",
       "      <td>0</td>\n",
       "      <td>0</td>\n",
       "      <td>0</td>\n",
       "      <td>0</td>\n",
       "      <td>0</td>\n",
       "      <td>0</td>\n",
       "      <td>0</td>\n",
       "      <td>1</td>\n",
       "      <td>0</td>\n",
       "      <td>0</td>\n",
       "    </tr>\n",
       "    <tr>\n",
       "      <td>1</td>\n",
       "      <td>42627</td>\n",
       "      <td>0</td>\n",
       "      <td>0</td>\n",
       "      <td>79906</td>\n",
       "      <td>2017-09-18</td>\n",
       "      <td>9</td>\n",
       "      <td>1505664000</td>\n",
       "      <td>2017</td>\n",
       "      <td>371</td>\n",
       "      <td>1</td>\n",
       "      <td>...</td>\n",
       "      <td>0</td>\n",
       "      <td>0</td>\n",
       "      <td>0</td>\n",
       "      <td>0</td>\n",
       "      <td>0</td>\n",
       "      <td>0</td>\n",
       "      <td>0</td>\n",
       "      <td>1</td>\n",
       "      <td>0</td>\n",
       "      <td>0</td>\n",
       "    </tr>\n",
       "    <tr>\n",
       "      <td>2</td>\n",
       "      <td>38486</td>\n",
       "      <td>0</td>\n",
       "      <td>0</td>\n",
       "      <td>73197</td>\n",
       "      <td>2016-11-24</td>\n",
       "      <td>11</td>\n",
       "      <td>1479916800</td>\n",
       "      <td>2016</td>\n",
       "      <td>200</td>\n",
       "      <td>2</td>\n",
       "      <td>...</td>\n",
       "      <td>0</td>\n",
       "      <td>0</td>\n",
       "      <td>0</td>\n",
       "      <td>0</td>\n",
       "      <td>0</td>\n",
       "      <td>0</td>\n",
       "      <td>1</td>\n",
       "      <td>0</td>\n",
       "      <td>0</td>\n",
       "      <td>0</td>\n",
       "    </tr>\n",
       "    <tr>\n",
       "      <td>3</td>\n",
       "      <td>36417</td>\n",
       "      <td>30</td>\n",
       "      <td>1</td>\n",
       "      <td>67319</td>\n",
       "      <td>2017-04-30</td>\n",
       "      <td>4</td>\n",
       "      <td>1493481600</td>\n",
       "      <td>2017</td>\n",
       "      <td>371</td>\n",
       "      <td>3</td>\n",
       "      <td>...</td>\n",
       "      <td>0</td>\n",
       "      <td>0</td>\n",
       "      <td>0</td>\n",
       "      <td>0</td>\n",
       "      <td>0</td>\n",
       "      <td>0</td>\n",
       "      <td>0</td>\n",
       "      <td>0</td>\n",
       "      <td>1</td>\n",
       "      <td>0</td>\n",
       "    </tr>\n",
       "    <tr>\n",
       "      <td>4</td>\n",
       "      <td>38292</td>\n",
       "      <td>30</td>\n",
       "      <td>1</td>\n",
       "      <td>52435</td>\n",
       "      <td>2017-04-30</td>\n",
       "      <td>4</td>\n",
       "      <td>1493481600</td>\n",
       "      <td>2017</td>\n",
       "      <td>519</td>\n",
       "      <td>4</td>\n",
       "      <td>...</td>\n",
       "      <td>0</td>\n",
       "      <td>0</td>\n",
       "      <td>0</td>\n",
       "      <td>0</td>\n",
       "      <td>0</td>\n",
       "      <td>0</td>\n",
       "      <td>0</td>\n",
       "      <td>0</td>\n",
       "      <td>1</td>\n",
       "      <td>0</td>\n",
       "    </tr>\n",
       "    <tr>\n",
       "      <td>...</td>\n",
       "      <td>...</td>\n",
       "      <td>...</td>\n",
       "      <td>...</td>\n",
       "      <td>...</td>\n",
       "      <td>...</td>\n",
       "      <td>...</td>\n",
       "      <td>...</td>\n",
       "      <td>...</td>\n",
       "      <td>...</td>\n",
       "      <td>...</td>\n",
       "      <td>...</td>\n",
       "      <td>...</td>\n",
       "      <td>...</td>\n",
       "      <td>...</td>\n",
       "      <td>...</td>\n",
       "      <td>...</td>\n",
       "      <td>...</td>\n",
       "      <td>...</td>\n",
       "      <td>...</td>\n",
       "      <td>...</td>\n",
       "      <td>...</td>\n",
       "    </tr>\n",
       "    <tr>\n",
       "      <td>2556785</td>\n",
       "      <td>33664</td>\n",
       "      <td>41</td>\n",
       "      <td>11</td>\n",
       "      <td>4478</td>\n",
       "      <td>2017-09-21</td>\n",
       "      <td>9</td>\n",
       "      <td>1505923200</td>\n",
       "      <td>2017</td>\n",
       "      <td>127</td>\n",
       "      <td>2556785</td>\n",
       "      <td>...</td>\n",
       "      <td>0</td>\n",
       "      <td>0</td>\n",
       "      <td>0</td>\n",
       "      <td>0</td>\n",
       "      <td>0</td>\n",
       "      <td>0</td>\n",
       "      <td>0</td>\n",
       "      <td>0</td>\n",
       "      <td>1</td>\n",
       "      <td>0</td>\n",
       "    </tr>\n",
       "    <tr>\n",
       "      <td>2556786</td>\n",
       "      <td>44900</td>\n",
       "      <td>24</td>\n",
       "      <td>11</td>\n",
       "      <td>77852</td>\n",
       "      <td>2017-09-12</td>\n",
       "      <td>9</td>\n",
       "      <td>1505145600</td>\n",
       "      <td>2017</td>\n",
       "      <td>364</td>\n",
       "      <td>2556786</td>\n",
       "      <td>...</td>\n",
       "      <td>0</td>\n",
       "      <td>0</td>\n",
       "      <td>0</td>\n",
       "      <td>0</td>\n",
       "      <td>0</td>\n",
       "      <td>0</td>\n",
       "      <td>0</td>\n",
       "      <td>0</td>\n",
       "      <td>1</td>\n",
       "      <td>0</td>\n",
       "    </tr>\n",
       "    <tr>\n",
       "      <td>2556787</td>\n",
       "      <td>40893</td>\n",
       "      <td>24</td>\n",
       "      <td>11</td>\n",
       "      <td>64043</td>\n",
       "      <td>2017-09-12</td>\n",
       "      <td>9</td>\n",
       "      <td>1505145600</td>\n",
       "      <td>2017</td>\n",
       "      <td>364</td>\n",
       "      <td>2556787</td>\n",
       "      <td>...</td>\n",
       "      <td>0</td>\n",
       "      <td>0</td>\n",
       "      <td>0</td>\n",
       "      <td>0</td>\n",
       "      <td>0</td>\n",
       "      <td>0</td>\n",
       "      <td>0</td>\n",
       "      <td>0</td>\n",
       "      <td>1</td>\n",
       "      <td>0</td>\n",
       "    </tr>\n",
       "    <tr>\n",
       "      <td>2556788</td>\n",
       "      <td>45240</td>\n",
       "      <td>24</td>\n",
       "      <td>11</td>\n",
       "      <td>74267</td>\n",
       "      <td>2017-09-12</td>\n",
       "      <td>9</td>\n",
       "      <td>1505145600</td>\n",
       "      <td>2017</td>\n",
       "      <td>371</td>\n",
       "      <td>2556788</td>\n",
       "      <td>...</td>\n",
       "      <td>0</td>\n",
       "      <td>0</td>\n",
       "      <td>0</td>\n",
       "      <td>0</td>\n",
       "      <td>0</td>\n",
       "      <td>0</td>\n",
       "      <td>0</td>\n",
       "      <td>0</td>\n",
       "      <td>1</td>\n",
       "      <td>0</td>\n",
       "    </tr>\n",
       "    <tr>\n",
       "      <td>2556789</td>\n",
       "      <td>40915</td>\n",
       "      <td>24</td>\n",
       "      <td>11</td>\n",
       "      <td>76970</td>\n",
       "      <td>2017-09-12</td>\n",
       "      <td>9</td>\n",
       "      <td>1505145600</td>\n",
       "      <td>2017</td>\n",
       "      <td>364</td>\n",
       "      <td>2556789</td>\n",
       "      <td>...</td>\n",
       "      <td>0</td>\n",
       "      <td>0</td>\n",
       "      <td>0</td>\n",
       "      <td>0</td>\n",
       "      <td>0</td>\n",
       "      <td>0</td>\n",
       "      <td>0</td>\n",
       "      <td>0</td>\n",
       "      <td>1</td>\n",
       "      <td>0</td>\n",
       "    </tr>\n",
       "  </tbody>\n",
       "</table>\n",
       "<p>2556790 rows × 37 columns</p>\n",
       "</div>"
      ],
      "text/plain": [
       "         artist_name  bd  city  composer expiration_date  \\\n",
       "0              42807   0     0     56683      2017-09-18   \n",
       "1              42627   0     0     79906      2017-09-18   \n",
       "2              38486   0     0     73197      2016-11-24   \n",
       "3              36417  30     1     67319      2017-04-30   \n",
       "4              38292  30     1     52435      2017-04-30   \n",
       "...              ...  ..   ...       ...             ...   \n",
       "2556785        33664  41    11      4478      2017-09-21   \n",
       "2556786        44900  24    11     77852      2017-09-12   \n",
       "2556787        40893  24    11     64043      2017-09-12   \n",
       "2556788        45240  24    11     74267      2017-09-12   \n",
       "2556789        40915  24    11     76970      2017-09-12   \n",
       "\n",
       "         expiration_date_month  expiration_date_new  expiration_date_year  \\\n",
       "0                            9           1505664000                  2017   \n",
       "1                            9           1505664000                  2017   \n",
       "2                           11           1479916800                  2016   \n",
       "3                            4           1493481600                  2017   \n",
       "4                            4           1493481600                  2017   \n",
       "...                        ...                  ...                   ...   \n",
       "2556785                      9           1505923200                  2017   \n",
       "2556786                      9           1505145600                  2017   \n",
       "2556787                      9           1505145600                  2017   \n",
       "2556788                      9           1505145600                  2017   \n",
       "2556789                      9           1505145600                  2017   \n",
       "\n",
       "         genre_ids    index  ...  source_system_tab_search  \\\n",
       "0              364        0  ...                         0   \n",
       "1              371        1  ...                         0   \n",
       "2              200        2  ...                         0   \n",
       "3              371        3  ...                         0   \n",
       "4              519        4  ...                         0   \n",
       "...            ...      ...  ...                       ...   \n",
       "2556785        127  2556785  ...                         0   \n",
       "2556786        364  2556786  ...                         0   \n",
       "2556787        364  2556787  ...                         0   \n",
       "2556788        371  2556788  ...                         0   \n",
       "2556789        364  2556789  ...                         0   \n",
       "\n",
       "         source_system_tab_settings  source_system_tab_nan registered_via_13  \\\n",
       "0                                 0                      0                 0   \n",
       "1                                 0                      0                 0   \n",
       "2                                 0                      0                 0   \n",
       "3                                 0                      0                 0   \n",
       "4                                 0                      0                 0   \n",
       "...                             ...                    ...               ...   \n",
       "2556785                           0                      0                 0   \n",
       "2556786                           0                      0                 0   \n",
       "2556787                           0                      0                 0   \n",
       "2556788                           0                      0                 0   \n",
       "2556789                           0                      0                 0   \n",
       "\n",
       "         registered_via_16  registered_via_3  registered_via_4  \\\n",
       "0                        0                 0                 0   \n",
       "1                        0                 0                 0   \n",
       "2                        0                 0                 1   \n",
       "3                        0                 0                 0   \n",
       "4                        0                 0                 0   \n",
       "...                    ...               ...               ...   \n",
       "2556785                  0                 0                 0   \n",
       "2556786                  0                 0                 0   \n",
       "2556787                  0                 0                 0   \n",
       "2556788                  0                 0                 0   \n",
       "2556789                  0                 0                 0   \n",
       "\n",
       "         registered_via_7  registered_via_9  registered_via_nan  \n",
       "0                       1                 0                   0  \n",
       "1                       1                 0                   0  \n",
       "2                       0                 0                   0  \n",
       "3                       0                 1                   0  \n",
       "4                       0                 1                   0  \n",
       "...                   ...               ...                 ...  \n",
       "2556785                 0                 1                   0  \n",
       "2556786                 0                 1                   0  \n",
       "2556787                 0                 1                   0  \n",
       "2556788                 0                 1                   0  \n",
       "2556789                 0                 1                   0  \n",
       "\n",
       "[2556790 rows x 37 columns]"
      ]
     },
     "execution_count": 46,
     "metadata": {},
     "output_type": "execute_result"
    }
   ],
   "source": [
    "test_id = df_test_new['id']\n",
    "df_test_new = df_test_new.drop(['id'],axis=1)\n",
    "df_test_new"
   ]
  },
  {
   "cell_type": "code",
   "execution_count": 47,
   "metadata": {
    "ExecuteTime": {
     "end_time": "2021-01-14T03:33:02.913223Z",
     "start_time": "2021-01-14T03:33:02.240048Z"
    }
   },
   "outputs": [],
   "source": [
    "df_test_new = df_test_new.drop(['target'],axis=1)"
   ]
  },
  {
   "cell_type": "code",
   "execution_count": null,
   "metadata": {},
   "outputs": [],
   "source": []
  },
  {
   "cell_type": "code",
   "execution_count": 48,
   "metadata": {
    "ExecuteTime": {
     "end_time": "2021-01-14T03:33:02.974693Z",
     "start_time": "2021-01-14T03:33:02.932222Z"
    }
   },
   "outputs": [
    {
     "data": {
      "text/plain": [
       "0                0.0\n",
       "1                1.0\n",
       "2                2.0\n",
       "3                3.0\n",
       "4                4.0\n",
       "             ...    \n",
       "2556785    2556785.0\n",
       "2556786    2556786.0\n",
       "2556787    2556787.0\n",
       "2556788    2556788.0\n",
       "2556789    2556789.0\n",
       "Name: id, Length: 2556790, dtype: float64"
      ]
     },
     "execution_count": 48,
     "metadata": {},
     "output_type": "execute_result"
    }
   ],
   "source": [
    "test_id"
   ]
  },
  {
   "cell_type": "code",
   "execution_count": 49,
   "metadata": {
    "ExecuteTime": {
     "end_time": "2021-01-14T03:33:04.557327Z",
     "start_time": "2021-01-14T03:33:04.533818Z"
    }
   },
   "outputs": [
    {
     "data": {
      "text/plain": [
       "Index(['artist_name', 'bd', 'city', 'composer', 'expiration_date',\n",
       "       'expiration_date_month', 'expiration_date_new', 'expiration_date_year',\n",
       "       'genre_ids', 'index', 'language', 'lyricist', 'msno',\n",
       "       'registration_init_time', 'registration_init_time_month',\n",
       "       'registration_init_time_new', 'registration_init_time_year', 'song_id',\n",
       "       'song_length', 'source_screen_name', 'target',\n",
       "       'source_system_tab_discover', 'source_system_tab_explore',\n",
       "       'source_system_tab_listen with', 'source_system_tab_my library',\n",
       "       'source_system_tab_notification', 'source_system_tab_radio',\n",
       "       'source_system_tab_search', 'source_system_tab_settings',\n",
       "       'source_system_tab_nan', 'registered_via_13', 'registered_via_16',\n",
       "       'registered_via_3', 'registered_via_4', 'registered_via_7',\n",
       "       'registered_via_9', 'registered_via_nan'],\n",
       "      dtype='object')"
      ]
     },
     "execution_count": 49,
     "metadata": {},
     "output_type": "execute_result"
    }
   ],
   "source": [
    "df_train_new.columns"
   ]
  },
  {
   "cell_type": "code",
   "execution_count": null,
   "metadata": {},
   "outputs": [],
   "source": []
  },
  {
   "cell_type": "code",
   "execution_count": 50,
   "metadata": {
    "ExecuteTime": {
     "end_time": "2021-01-14T03:33:07.957733Z",
     "start_time": "2021-01-14T03:33:07.931755Z"
    }
   },
   "outputs": [
    {
     "data": {
      "text/plain": [
       "(7370601, 37)"
      ]
     },
     "execution_count": 50,
     "metadata": {},
     "output_type": "execute_result"
    }
   ],
   "source": [
    "df_train_new.shape"
   ]
  },
  {
   "cell_type": "code",
   "execution_count": 51,
   "metadata": {
    "ExecuteTime": {
     "end_time": "2021-01-14T03:33:09.403457Z",
     "start_time": "2021-01-14T03:33:09.366077Z"
    }
   },
   "outputs": [
    {
     "data": {
      "text/plain": [
       "(2556790, 36)"
      ]
     },
     "execution_count": 51,
     "metadata": {},
     "output_type": "execute_result"
    }
   ],
   "source": [
    "df_test_new.shape"
   ]
  },
  {
   "cell_type": "markdown",
   "metadata": {},
   "source": [
    "# 轉換為丟入模型的資料格式"
   ]
  },
  {
   "cell_type": "code",
   "execution_count": 52,
   "metadata": {
    "ExecuteTime": {
     "end_time": "2021-01-14T03:33:37.770430Z",
     "start_time": "2021-01-14T03:33:27.657123Z"
    }
   },
   "outputs": [],
   "source": [
    "df_x = df_train_new.drop([\"target\",'registration_init_time','expiration_date'], axis = 1)\n",
    "# df_x\n",
    "df_y = df_train_new['target']\n",
    "df_y = pd.DataFrame(df_y)\n",
    "# df_y\n",
    "\n",
    "X = df_x.iloc[:,:].values\n",
    "y = df_y.iloc[:,-1].values"
   ]
  },
  {
   "cell_type": "code",
   "execution_count": 53,
   "metadata": {
    "ExecuteTime": {
     "end_time": "2021-01-14T03:33:37.813915Z",
     "start_time": "2021-01-14T03:33:37.781607Z"
    }
   },
   "outputs": [
    {
     "data": {
      "text/plain": [
       "Index(['artist_name', 'bd', 'city', 'composer', 'expiration_date_month',\n",
       "       'expiration_date_new', 'expiration_date_year', 'genre_ids', 'index',\n",
       "       'language', 'lyricist', 'msno', 'registration_init_time_month',\n",
       "       'registration_init_time_new', 'registration_init_time_year', 'song_id',\n",
       "       'song_length', 'source_screen_name', 'source_system_tab_discover',\n",
       "       'source_system_tab_explore', 'source_system_tab_listen with',\n",
       "       'source_system_tab_my library', 'source_system_tab_notification',\n",
       "       'source_system_tab_radio', 'source_system_tab_search',\n",
       "       'source_system_tab_settings', 'source_system_tab_nan',\n",
       "       'registered_via_13', 'registered_via_16', 'registered_via_3',\n",
       "       'registered_via_4', 'registered_via_7', 'registered_via_9',\n",
       "       'registered_via_nan'],\n",
       "      dtype='object')"
      ]
     },
     "execution_count": 53,
     "metadata": {},
     "output_type": "execute_result"
    }
   ],
   "source": [
    "df_x.columns"
   ]
  },
  {
   "cell_type": "code",
   "execution_count": 54,
   "metadata": {
    "ExecuteTime": {
     "end_time": "2021-01-14T03:33:37.837769Z",
     "start_time": "2021-01-14T03:33:37.824426Z"
    }
   },
   "outputs": [
    {
     "data": {
      "text/plain": [
       "34"
      ]
     },
     "execution_count": 54,
     "metadata": {},
     "output_type": "execute_result"
    }
   ],
   "source": [
    "len(df_x.columns)"
   ]
  },
  {
   "cell_type": "code",
   "execution_count": 55,
   "metadata": {
    "ExecuteTime": {
     "end_time": "2021-01-14T03:33:41.146976Z",
     "start_time": "2021-01-14T03:33:37.841903Z"
    }
   },
   "outputs": [],
   "source": [
    "df_x_test = df_test_new.drop(['registration_init_time','expiration_date'], axis = 1)\n",
    "X_ = df_x_test.iloc[:,:].values"
   ]
  },
  {
   "cell_type": "code",
   "execution_count": 56,
   "metadata": {
    "ExecuteTime": {
     "end_time": "2021-01-14T03:33:41.172701Z",
     "start_time": "2021-01-14T03:33:41.154607Z"
    }
   },
   "outputs": [
    {
     "data": {
      "text/plain": [
       "Index(['artist_name', 'bd', 'city', 'composer', 'expiration_date_month',\n",
       "       'expiration_date_new', 'expiration_date_year', 'genre_ids', 'index',\n",
       "       'language', 'lyricist', 'msno', 'registration_init_time_month',\n",
       "       'registration_init_time_new', 'registration_init_time_year', 'song_id',\n",
       "       'song_length', 'source_screen_name', 'source_system_tab_discover',\n",
       "       'source_system_tab_explore', 'source_system_tab_listen with',\n",
       "       'source_system_tab_my library', 'source_system_tab_notification',\n",
       "       'source_system_tab_radio', 'source_system_tab_search',\n",
       "       'source_system_tab_settings', 'source_system_tab_nan',\n",
       "       'registered_via_13', 'registered_via_16', 'registered_via_3',\n",
       "       'registered_via_4', 'registered_via_7', 'registered_via_9',\n",
       "       'registered_via_nan'],\n",
       "      dtype='object')"
      ]
     },
     "execution_count": 56,
     "metadata": {},
     "output_type": "execute_result"
    }
   ],
   "source": [
    "df_x_test.columns"
   ]
  },
  {
   "cell_type": "code",
   "execution_count": 57,
   "metadata": {
    "ExecuteTime": {
     "end_time": "2021-01-14T03:33:41.208047Z",
     "start_time": "2021-01-14T03:33:41.188885Z"
    }
   },
   "outputs": [
    {
     "data": {
      "text/plain": [
       "34"
      ]
     },
     "execution_count": 57,
     "metadata": {},
     "output_type": "execute_result"
    }
   ],
   "source": [
    "len(df_x_test.columns)"
   ]
  },
  {
   "cell_type": "code",
   "execution_count": 58,
   "metadata": {
    "ExecuteTime": {
     "end_time": "2021-01-14T03:34:50.523334Z",
     "start_time": "2021-01-14T03:33:48.221715Z"
    }
   },
   "outputs": [],
   "source": [
    "from sklearn.model_selection import train_test_split\n",
    "from sklearn.preprocessing import StandardScaler\n",
    "\n",
    "X_train, X_test, y_train, y_test = train_test_split(X,y,test_size=0.3)#,random_state=3)\n",
    "\n",
    "sc = StandardScaler()\n",
    "sc.fit(X_train)\n",
    "X_train_std = sc.transform(X_train)\n",
    "X_test_std = sc.transform(X_test)\n",
    "\n",
    "\n",
    "all_test_std = sc.transform(X_)"
   ]
  },
  {
   "cell_type": "code",
   "execution_count": 59,
   "metadata": {
    "ExecuteTime": {
     "end_time": "2021-01-14T03:34:50.629267Z",
     "start_time": "2021-01-14T03:34:50.581867Z"
    }
   },
   "outputs": [
    {
     "data": {
      "text/plain": [
       "(7370601, 34)"
      ]
     },
     "execution_count": 59,
     "metadata": {},
     "output_type": "execute_result"
    }
   ],
   "source": [
    "X.shape"
   ]
  },
  {
   "cell_type": "code",
   "execution_count": 60,
   "metadata": {
    "ExecuteTime": {
     "end_time": "2021-01-14T03:34:50.653039Z",
     "start_time": "2021-01-14T03:34:50.640103Z"
    }
   },
   "outputs": [
    {
     "data": {
      "text/plain": [
       "(2556790, 34)"
      ]
     },
     "execution_count": 60,
     "metadata": {},
     "output_type": "execute_result"
    }
   ],
   "source": [
    "X_.shape"
   ]
  },
  {
   "cell_type": "markdown",
   "metadata": {},
   "source": [
    "# 輸出csv"
   ]
  },
  {
   "cell_type": "code",
   "execution_count": 71,
   "metadata": {
    "ExecuteTime": {
     "end_time": "2021-01-14T05:09:05.902403Z",
     "start_time": "2021-01-14T05:09:05.748036Z"
    }
   },
   "outputs": [
    {
     "data": {
      "text/plain": [
       "True"
      ]
     },
     "execution_count": 71,
     "metadata": {},
     "output_type": "execute_result"
    }
   ],
   "source": [
    "np.any(np.isnan(X_))"
   ]
  },
  {
   "cell_type": "code",
   "execution_count": 72,
   "metadata": {
    "ExecuteTime": {
     "end_time": "2021-01-14T05:09:14.142858Z",
     "start_time": "2021-01-14T05:09:14.006100Z"
    }
   },
   "outputs": [
    {
     "data": {
      "text/plain": [
       "False"
      ]
     },
     "execution_count": 72,
     "metadata": {},
     "output_type": "execute_result"
    }
   ],
   "source": [
    "np.all(np.isfinite(X_))"
   ]
  },
  {
   "cell_type": "code",
   "execution_count": 81,
   "metadata": {
    "ExecuteTime": {
     "end_time": "2021-01-14T05:14:31.251137Z",
     "start_time": "2021-01-14T05:14:28.248434Z"
    }
   },
   "outputs": [],
   "source": [
    "df_test_new = df_test_new.fillna(-100)"
   ]
  },
  {
   "cell_type": "code",
   "execution_count": 82,
   "metadata": {
    "ExecuteTime": {
     "end_time": "2021-01-14T05:14:36.408172Z",
     "start_time": "2021-01-14T05:14:31.713328Z"
    }
   },
   "outputs": [],
   "source": [
    "df_x_test = df_test_new.drop(['registration_init_time','expiration_date'], axis = 1)\n",
    "X_ = df_x_test.iloc[:,:].values\n",
    "all_test_std = sc.transform(X_)"
   ]
  },
  {
   "cell_type": "code",
   "execution_count": 83,
   "metadata": {
    "ExecuteTime": {
     "end_time": "2021-01-14T05:14:37.312842Z",
     "start_time": "2021-01-14T05:14:36.948615Z"
    }
   },
   "outputs": [
    {
     "name": "stdout",
     "output_type": "stream",
     "text": [
      "False\n",
      "True\n"
     ]
    }
   ],
   "source": [
    "print(np.any(np.isnan(X_)))\n",
    "print(np.all(np.isfinite(X_)))"
   ]
  },
  {
   "cell_type": "code",
   "execution_count": 96,
   "metadata": {
    "ExecuteTime": {
     "end_time": "2021-01-14T05:29:54.971636Z",
     "start_time": "2021-01-14T05:21:06.989681Z"
    }
   },
   "outputs": [],
   "source": [
    "df_train_new.to_csv(\"機器學習期末kkbox.csv\")"
   ]
  },
  {
   "cell_type": "code",
   "execution_count": 97,
   "metadata": {
    "ExecuteTime": {
     "end_time": "2021-01-14T05:32:43.336456Z",
     "start_time": "2021-01-14T05:29:54.978786Z"
    }
   },
   "outputs": [],
   "source": [
    "df_test_new.to_csv(\"機器學習期末kkbox_test.csv\")"
   ]
  },
  {
   "cell_type": "code",
   "execution_count": null,
   "metadata": {},
   "outputs": [],
   "source": []
  },
  {
   "cell_type": "code",
   "execution_count": null,
   "metadata": {},
   "outputs": [],
   "source": []
  },
  {
   "cell_type": "code",
   "execution_count": null,
   "metadata": {},
   "outputs": [],
   "source": []
  },
  {
   "cell_type": "markdown",
   "metadata": {},
   "source": [
    "# 模型建置"
   ]
  },
  {
   "cell_type": "code",
   "execution_count": 8,
   "metadata": {
    "ExecuteTime": {
     "end_time": "2021-01-16T17:59:21.478767Z",
     "start_time": "2021-01-16T17:59:20.961075Z"
    }
   },
   "outputs": [],
   "source": [
    "#confusion matrix\n",
    "from sklearn.metrics import confusion_matrix\n",
    "#ROC & AUC\n",
    "from sklearn.metrics import accuracy_score\n",
    "from sklearn.metrics import precision_score\n",
    "from sklearn.metrics import recall_score\n",
    "from sklearn.metrics import f1_score\n",
    "from sklearn.metrics import classification_report\n",
    "from sklearn.metrics import roc_curve\n",
    "from sklearn.metrics import roc_auc_score\n",
    "import matplotlib.pyplot as plt\n",
    "\n",
    "def evaluate_model(predicted, actual):\n",
    "    \n",
    "    # Table-Type Plotting\n",
    "    #print('Confusion Matrix:\\n{}'.format(confusion_matrix(predicted, actual)))\n",
    "    print('Classification Report:\\n{}'.format(classification_report(predicted, actual)))\n",
    "    print('Accuracy: {}'.format(accuracy_score(predicted, actual)))\n",
    "    print('Precision: {}'.format(precision_score(predicted, actual)))\n",
    "    print('Recall: {}'.format(recall_score(predicted, actual)))\n",
    "    print('F-1: {}'.format(f1_score(predicted, actual)))\n",
    "    print('AUC: {}'.format(roc_auc_score(predicted, actual)))    \n",
    "        \n",
    "    # ROC Curve Plotting\n",
    "    fpr, tpr, thresh = roc_curve(actual, predicted)\n",
    "    roc_auc = roc_auc_score(predicted, actual)    \n",
    "    plt.title('ROC')\n",
    "    plt.plot(fpr, tpr, 'b',\n",
    "    label='AUC = %0.2f'% roc_auc)\n",
    "    plt.legend(loc='lower right')\n",
    "    plt.plot([0,1],[0,1],'r--')\n",
    "    plt.xlim([-0.1,1.2])\n",
    "    plt.ylim([-0.1,1.2])\n",
    "    plt.ylabel('True Positive Rate')\n",
    "    plt.xlabel('False Positive Rate')\n",
    "    plt.show()\n",
    "    \n",
    "    print('Confusion Matrix:\\n{}'.format(confusion_matrix(predicted, actual)))\n",
    "    tp, fp, fn, tn  = confusion_matrix(actual, predicted).ravel()\n",
    "    print(\"True positives: \" + str(tp))\n",
    "    print(\"False positives: \" + str(fp))\n",
    "    print(\"True negatives: \" + str(tn))\n",
    "    print(\"False negatives: \" + str(fn))\n",
    "    print('\\n')"
   ]
  },
  {
   "cell_type": "code",
   "execution_count": 9,
   "metadata": {
    "ExecuteTime": {
     "end_time": "2021-01-16T17:59:21.836538Z",
     "start_time": "2021-01-16T17:59:21.823686Z"
    }
   },
   "outputs": [],
   "source": [
    "#confusion matrix\n",
    "from sklearn.metrics import confusion_matrix\n",
    "\n",
    "def printCM(y,y_pred):\n",
    "    print('Confusion Matrix:\\n{}'.format(confusion_matrix(y, y_pred)))\n",
    "    tp, fp, fn, tn  = confusion_matrix(y, y_pred).ravel()\n",
    "    print(\"True positives: \" + str(tp))\n",
    "    print(\"False positives: \" + str(fp))\n",
    "    print(\"True negatives: \" + str(tn))\n",
    "    print(\"False negatives: \" + str(fn))\n",
    "    print('\\n')"
   ]
  },
  {
   "cell_type": "code",
   "execution_count": 2,
   "metadata": {
    "ExecuteTime": {
     "end_time": "2021-01-16T17:58:00.907655Z",
     "start_time": "2021-01-16T17:56:02.825326Z"
    }
   },
   "outputs": [
    {
     "name": "stderr",
     "output_type": "stream",
     "text": [
      "/opt/anaconda3/lib/python3.7/site-packages/numpy/lib/arraysetops.py:568: FutureWarning: elementwise comparison failed; returning scalar instead, but in the future will perform elementwise comparison\n",
      "  mask |= (ar1 == a)\n"
     ]
    }
   ],
   "source": [
    "import pandas as pd\n",
    "import csv\n",
    "import numpy as np\n",
    "\n",
    "\n",
    "df = pd.read_csv('機器學習期末kkbox.csv', index_col=0)\n",
    "df_test = pd.read_csv('機器學習期末kkbox_test.csv', index_col=0)\n",
    "\n",
    "df_x = df.drop([\"target\",'registration_init_time','expiration_date'], axis = 1)\n",
    "df_y = df['target']\n",
    "df_y = pd.DataFrame(df_y)\n",
    "\n",
    "X = df_x.iloc[:,:].values\n",
    "y = df_y.iloc[:,-1].values\n",
    "\n",
    "\n",
    "df_x_test = df_test.drop(['registration_init_time','expiration_date'], axis = 1)\n",
    "X_ = df_x_test.iloc[:,:].values\n",
    "\n",
    "from sklearn.model_selection import train_test_split\n",
    "from sklearn.preprocessing import StandardScaler\n",
    "\n",
    "X_train, X_test, y_train, y_test = train_test_split(X,y,test_size=0.3)#,random_state=3)\n",
    "\n",
    "sc = StandardScaler()\n",
    "sc.fit(X_train)\n",
    "X_train_std = sc.transform(X_train)\n",
    "X_test_std = sc.transform(X_test)\n",
    "\n",
    "\n",
    "all_test_std = sc.transform(X_)"
   ]
  },
  {
   "cell_type": "code",
   "execution_count": 4,
   "metadata": {
    "ExecuteTime": {
     "end_time": "2021-01-16T17:58:11.410370Z",
     "start_time": "2021-01-16T17:58:11.016727Z"
    }
   },
   "outputs": [
    {
     "name": "stdout",
     "output_type": "stream",
     "text": [
      "(7370601, 34)\n",
      "(2556790, 34)\n",
      "False\n",
      "True\n"
     ]
    }
   ],
   "source": [
    "print(X.shape)\n",
    "print(X_.shape)\n",
    "print(np.any(np.isnan(X_)))\n",
    "print(np.all(np.isfinite(X_)))"
   ]
  },
  {
   "cell_type": "code",
   "execution_count": null,
   "metadata": {},
   "outputs": [],
   "source": []
  },
  {
   "cell_type": "markdown",
   "metadata": {},
   "source": [
    "## XGBoost"
   ]
  },
  {
   "cell_type": "code",
   "execution_count": 117,
   "metadata": {
    "ExecuteTime": {
     "end_time": "2021-01-13T18:21:06.091888Z",
     "start_time": "2021-01-13T17:29:52.862370Z"
    }
   },
   "outputs": [
    {
     "name": "stdout",
     "output_type": "stream",
     "text": [
      "[01:30:07] WARNING: src/learner.cc:686: Tree method is automatically selected to be 'approx' for faster speed. To use old behavior (exact greedy algorithm on single machine), set tree_method to 'exact'.\n"
     ]
    }
   ],
   "source": [
    "import warnings\n",
    "warnings.filterwarnings('ignore')\n",
    "\n",
    "from xgboost import XGBClassifier\n",
    "xgb = XGBClassifier()\n",
    "\n",
    "xgb.fit(X_train_std, y_train)\n",
    "pred_y_test = xgb.predict(X_test_std)"
   ]
  },
  {
   "cell_type": "code",
   "execution_count": 118,
   "metadata": {
    "ExecuteTime": {
     "end_time": "2021-01-13T18:21:48.301830Z",
     "start_time": "2021-01-13T18:21:06.113794Z"
    }
   },
   "outputs": [
    {
     "data": {
      "text/plain": [
       "0.6316770102065736"
      ]
     },
     "execution_count": 118,
     "metadata": {},
     "output_type": "execute_result"
    }
   ],
   "source": [
    "xgb.score(X_train_std, y_train)"
   ]
  },
  {
   "cell_type": "code",
   "execution_count": 119,
   "metadata": {
    "ExecuteTime": {
     "end_time": "2021-01-13T18:22:16.185167Z",
     "start_time": "2021-01-13T18:21:48.334915Z"
    }
   },
   "outputs": [
    {
     "name": "stdout",
     "output_type": "stream",
     "text": [
      "Classification Report:\n",
      "              precision    recall  f1-score   support\n",
      "\n",
      "         0.0       0.63      0.63      0.63   1097202\n",
      "         1.0       0.63      0.63      0.63   1113979\n",
      "\n",
      "    accuracy                           0.63   2211181\n",
      "   macro avg       0.63      0.63      0.63   2211181\n",
      "weighted avg       0.63      0.63      0.63   2211181\n",
      "\n",
      "Accuracy: 0.6312726095240507\n",
      "Precision: 0.6344740017650343\n",
      "Recall: 0.63246973237377\n",
      "F-1: 0.6334702817204697\n",
      "AUC: 0.6312634570935731\n"
     ]
    },
    {
     "data": {
      "image/png": "[encoded data removed]",
      "text/plain": [
       "<Figure size 432x288 with 1 Axes>"
      ]
     },
     "metadata": {
      "needs_background": "light"
     },
     "output_type": "display_data"
    },
    {
     "name": "stdout",
     "output_type": "stream",
     "text": [
      "Confusion Matrix:\n",
      "[[691300 405902]\n",
      " [409421 704558]]\n",
      "True positives: 691300\n",
      "False positives: 409421\n",
      "True negatives: 704558\n",
      "False negatives: 405902\n",
      "\n",
      "\n"
     ]
    }
   ],
   "source": [
    "evaluate_model(y_test, pred_y_test)"
   ]
  },
  {
   "cell_type": "markdown",
   "metadata": {},
   "source": [
    "## AdaBoost"
   ]
  },
  {
   "cell_type": "code",
   "execution_count": 120,
   "metadata": {
    "ExecuteTime": {
     "end_time": "2021-01-13T18:50:03.528467Z",
     "start_time": "2021-01-13T18:22:16.190714Z"
    }
   },
   "outputs": [],
   "source": [
    "from sklearn.ensemble import AdaBoostClassifier\n",
    "ada = AdaBoostClassifier()\n",
    "\n",
    "ada.fit(X_train_std, y_train)\n",
    "pred_y_test = ada.predict(X_test_std)"
   ]
  },
  {
   "cell_type": "code",
   "execution_count": 121,
   "metadata": {
    "ExecuteTime": {
     "end_time": "2021-01-13T18:51:15.931217Z",
     "start_time": "2021-01-13T18:50:03.560626Z"
    }
   },
   "outputs": [
    {
     "data": {
      "text/plain": [
       "0.6248706249927317"
      ]
     },
     "execution_count": 121,
     "metadata": {},
     "output_type": "execute_result"
    }
   ],
   "source": [
    "ada.score(X_train_std, y_train)"
   ]
  },
  {
   "cell_type": "code",
   "execution_count": 122,
   "metadata": {
    "ExecuteTime": {
     "end_time": "2021-01-13T18:51:46.256983Z",
     "start_time": "2021-01-13T18:51:15.946568Z"
    }
   },
   "outputs": [
    {
     "name": "stdout",
     "output_type": "stream",
     "text": [
      "Classification Report:\n",
      "              precision    recall  f1-score   support\n",
      "\n",
      "         0.0       0.62      0.61      0.62   1097202\n",
      "         1.0       0.62      0.64      0.63   1113979\n",
      "\n",
      "    accuracy                           0.62   2211181\n",
      "   macro avg       0.62      0.62      0.62   2211181\n",
      "weighted avg       0.62      0.62      0.62   2211181\n",
      "\n",
      "Accuracy: 0.6244350869512717\n",
      "Precision: 0.6243250709240071\n",
      "Recall: 0.6390793722323311\n",
      "F-1: 0.6316160696700149\n",
      "AUC: 0.6243231261755166\n"
     ]
    },
    {
     "data": {
      "image/png": "[encoded data removed]",
      "text/plain": [
       "<Figure size 432x288 with 1 Axes>"
      ]
     },
     "metadata": {
      "needs_background": "light"
     },
     "output_type": "display_data"
    },
    {
     "name": "stdout",
     "output_type": "stream",
     "text": [
      "Confusion Matrix:\n",
      "[[668818 428384]\n",
      " [402058 711921]]\n",
      "True positives: 668818\n",
      "False positives: 402058\n",
      "True negatives: 711921\n",
      "False negatives: 428384\n",
      "\n",
      "\n"
     ]
    }
   ],
   "source": [
    "evaluate_model(y_test, pred_y_test)"
   ]
  },
  {
   "cell_type": "markdown",
   "metadata": {},
   "source": [
    "## RandomForest"
   ]
  },
  {
   "cell_type": "code",
   "execution_count": 61,
   "metadata": {
    "ExecuteTime": {
     "end_time": "2021-01-14T03:46:36.284892Z",
     "start_time": "2021-01-14T03:34:50.660063Z"
    }
   },
   "outputs": [
    {
     "name": "stderr",
     "output_type": "stream",
     "text": [
      "/opt/anaconda3/lib/python3.7/site-packages/sklearn/ensemble/forest.py:245: FutureWarning: The default value of n_estimators will change from 10 in version 0.20 to 100 in 0.22.\n",
      "  \"10 in version 0.20 to 100 in 0.22.\", FutureWarning)\n"
     ]
    }
   ],
   "source": [
    "from sklearn.ensemble import RandomForestClassifier\n",
    "rf = RandomForestClassifier()\n",
    "\n",
    "rf.fit(X_train_std, y_train)\n",
    "pred_y_test = rf.predict(X_test_std)"
   ]
  },
  {
   "cell_type": "code",
   "execution_count": 62,
   "metadata": {
    "ExecuteTime": {
     "end_time": "2021-01-14T03:47:48.515875Z",
     "start_time": "2021-01-14T03:46:36.307577Z"
    }
   },
   "outputs": [
    {
     "data": {
      "text/plain": [
       "0.9862224823720496"
      ]
     },
     "execution_count": 62,
     "metadata": {},
     "output_type": "execute_result"
    }
   ],
   "source": [
    "rf.score(X_train_std, y_train)"
   ]
  },
  {
   "cell_type": "code",
   "execution_count": 66,
   "metadata": {
    "ExecuteTime": {
     "end_time": "2021-01-14T04:26:04.855183Z",
     "start_time": "2021-01-14T04:25:34.789780Z"
    }
   },
   "outputs": [
    {
     "name": "stdout",
     "output_type": "stream",
     "text": [
      "Classification Report:\n",
      "              precision    recall  f1-score   support\n",
      "\n",
      "         0.0       0.68      0.75      0.72   1098649\n",
      "         1.0       0.73      0.65      0.69   1112532\n",
      "\n",
      "    accuracy                           0.70   2211181\n",
      "   macro avg       0.71      0.70      0.70   2211181\n",
      "weighted avg       0.71      0.70      0.70   2211181\n",
      "\n",
      "Accuracy: 0.7026498509167726\n",
      "Precision: 0.7289399883879005\n",
      "Recall: 0.6511399222674045\n",
      "F-1: 0.6878470206136476\n",
      "AUC: 0.7029753016928798\n"
     ]
    },
    {
     "data": {
      "image/png": "[encoded data removed]",
      "text/plain": [
       "<Figure size 432x288 with 1 Axes>"
      ]
     },
     "metadata": {
      "needs_background": "light"
     },
     "output_type": "display_data"
    },
    {
     "name": "stdout",
     "output_type": "stream",
     "text": [
      "Confusion Matrix:\n",
      "[[829272 269377]\n",
      " [388118 724414]]\n",
      "True positives: 829272\n",
      "False positives: 388118\n",
      "True negatives: 724414\n",
      "False negatives: 269377\n",
      "\n",
      "\n"
     ]
    }
   ],
   "source": [
    "evaluate_model(y_test, pred_y_test)"
   ]
  },
  {
   "cell_type": "code",
   "execution_count": 84,
   "metadata": {
    "ExecuteTime": {
     "end_time": "2021-01-14T05:15:24.001591Z",
     "start_time": "2021-01-14T05:14:46.255861Z"
    }
   },
   "outputs": [],
   "source": [
    "pred_result = rf.predict(all_test_std)"
   ]
  },
  {
   "cell_type": "code",
   "execution_count": 85,
   "metadata": {
    "ExecuteTime": {
     "end_time": "2021-01-14T05:15:24.252645Z",
     "start_time": "2021-01-14T05:15:24.010948Z"
    }
   },
   "outputs": [
    {
     "data": {
      "text/plain": [
       "array([0., 0., 0., ..., 0., 0., 1.])"
      ]
     },
     "execution_count": 85,
     "metadata": {},
     "output_type": "execute_result"
    }
   ],
   "source": [
    "pred_result"
   ]
  },
  {
   "cell_type": "code",
   "execution_count": 86,
   "metadata": {
    "ExecuteTime": {
     "end_time": "2021-01-14T05:15:24.461509Z",
     "start_time": "2021-01-14T05:15:24.264813Z"
    }
   },
   "outputs": [],
   "source": [
    "update = pd.DataFrame({'id':test_id,\n",
    "                       'target':pred_result})"
   ]
  },
  {
   "cell_type": "code",
   "execution_count": 87,
   "metadata": {
    "ExecuteTime": {
     "end_time": "2021-01-14T05:15:26.919418Z",
     "start_time": "2021-01-14T05:15:24.469340Z"
    }
   },
   "outputs": [],
   "source": [
    "update['id'] = update['id'].apply(lambda x:int(x))"
   ]
  },
  {
   "cell_type": "code",
   "execution_count": 88,
   "metadata": {
    "ExecuteTime": {
     "end_time": "2021-01-14T05:15:27.020894Z",
     "start_time": "2021-01-14T05:15:26.923248Z"
    }
   },
   "outputs": [
    {
     "data": {
      "text/html": [
       "<div>\n",
       "<style scoped>\n",
       "    .dataframe tbody tr th:only-of-type {\n",
       "        vertical-align: middle;\n",
       "    }\n",
       "\n",
       "    .dataframe tbody tr th {\n",
       "        vertical-align: top;\n",
       "    }\n",
       "\n",
       "    .dataframe thead th {\n",
       "        text-align: right;\n",
       "    }\n",
       "</style>\n",
       "<table border=\"1\" class=\"dataframe\">\n",
       "  <thead>\n",
       "    <tr style=\"text-align: right;\">\n",
       "      <th></th>\n",
       "      <th>target</th>\n",
       "    </tr>\n",
       "    <tr>\n",
       "      <th>id</th>\n",
       "      <th></th>\n",
       "    </tr>\n",
       "  </thead>\n",
       "  <tbody>\n",
       "    <tr>\n",
       "      <td>0</td>\n",
       "      <td>0.0</td>\n",
       "    </tr>\n",
       "    <tr>\n",
       "      <td>1</td>\n",
       "      <td>0.0</td>\n",
       "    </tr>\n",
       "    <tr>\n",
       "      <td>2</td>\n",
       "      <td>0.0</td>\n",
       "    </tr>\n",
       "    <tr>\n",
       "      <td>3</td>\n",
       "      <td>1.0</td>\n",
       "    </tr>\n",
       "    <tr>\n",
       "      <td>4</td>\n",
       "      <td>0.0</td>\n",
       "    </tr>\n",
       "  </tbody>\n",
       "</table>\n",
       "</div>"
      ],
      "text/plain": [
       "    target\n",
       "id        \n",
       "0      0.0\n",
       "1      0.0\n",
       "2      0.0\n",
       "3      1.0\n",
       "4      0.0"
      ]
     },
     "execution_count": 88,
     "metadata": {},
     "output_type": "execute_result"
    }
   ],
   "source": [
    "update.set_index(\"id\" , inplace=True)\n",
    "update.head()"
   ]
  },
  {
   "cell_type": "code",
   "execution_count": 89,
   "metadata": {
    "ExecuteTime": {
     "end_time": "2021-01-14T05:15:27.073445Z",
     "start_time": "2021-01-14T05:15:27.041358Z"
    }
   },
   "outputs": [
    {
     "data": {
      "text/plain": [
       "(2556790, 1)"
      ]
     },
     "execution_count": 89,
     "metadata": {},
     "output_type": "execute_result"
    }
   ],
   "source": [
    "update.shape"
   ]
  },
  {
   "cell_type": "code",
   "execution_count": 95,
   "metadata": {
    "ExecuteTime": {
     "end_time": "2021-01-14T05:18:16.836472Z",
     "start_time": "2021-01-14T05:18:09.328198Z"
    }
   },
   "outputs": [],
   "source": [
    "update.to_csv('submission.csv')"
   ]
  },
  {
   "cell_type": "code",
   "execution_count": 92,
   "metadata": {
    "ExecuteTime": {
     "end_time": "2021-01-14T05:17:24.756253Z",
     "start_time": "2021-01-14T05:17:12.573951Z"
    }
   },
   "outputs": [],
   "source": [
    "test_ids_df = pd.DataFrame({\"id\":test_id})\n",
    "test_ids_df.to_csv(\"test_ids_df.csv\")"
   ]
  },
  {
   "cell_type": "markdown",
   "metadata": {},
   "source": [
    "## Gradient Boosting"
   ]
  },
  {
   "cell_type": "code",
   "execution_count": 123,
   "metadata": {
    "ExecuteTime": {
     "end_time": "2021-01-13T19:44:00.163289Z",
     "start_time": "2021-01-13T18:51:46.275670Z"
    }
   },
   "outputs": [],
   "source": [
    "from sklearn.ensemble import GradientBoostingClassifier\n",
    "gb = GradientBoostingClassifier()\n",
    "\n",
    "gb.fit(X_train_std, y_train)\n",
    "pred_y_test = gb.predict(X_test_std)"
   ]
  },
  {
   "cell_type": "code",
   "execution_count": 124,
   "metadata": {
    "ExecuteTime": {
     "end_time": "2021-01-13T19:44:24.638722Z",
     "start_time": "2021-01-13T19:44:00.228536Z"
    }
   },
   "outputs": [
    {
     "data": {
      "text/plain": [
       "0.6332519934411233"
      ]
     },
     "execution_count": 124,
     "metadata": {},
     "output_type": "execute_result"
    }
   ],
   "source": [
    "gb.score(X_train_std, y_train)"
   ]
  },
  {
   "cell_type": "code",
   "execution_count": 125,
   "metadata": {
    "ExecuteTime": {
     "end_time": "2021-01-13T19:44:52.706571Z",
     "start_time": "2021-01-13T19:44:24.656037Z"
    }
   },
   "outputs": [
    {
     "name": "stdout",
     "output_type": "stream",
     "text": [
      "Classification Report:\n",
      "              precision    recall  f1-score   support\n",
      "\n",
      "         0.0       0.63      0.63      0.63   1097202\n",
      "         1.0       0.64      0.64      0.64   1113979\n",
      "\n",
      "    accuracy                           0.63   2211181\n",
      "   macro avg       0.63      0.63      0.63   2211181\n",
      "weighted avg       0.63      0.63      0.63   2211181\n",
      "\n",
      "Accuracy: 0.6329640133485228\n",
      "Precision: 0.6357099645821029\n",
      "Recall: 0.6357938524873449\n",
      "F-1: 0.6357519057674571\n",
      "AUC: 0.6329423782206101\n"
     ]
    },
    {
     "data": {
      "image/png": "[encoded data removed]",
      "text/plain": [
       "<Figure size 432x288 with 1 Axes>"
      ]
     },
     "metadata": {
      "needs_background": "light"
     },
     "output_type": "display_data"
    },
    {
     "name": "stdout",
     "output_type": "stream",
     "text": [
      "Confusion Matrix:\n",
      "[[691337 405865]\n",
      " [405718 708261]]\n",
      "True positives: 691337\n",
      "False positives: 405718\n",
      "True negatives: 708261\n",
      "False negatives: 405865\n",
      "\n",
      "\n"
     ]
    }
   ],
   "source": [
    "evaluate_model(y_test, pred_y_test)"
   ]
  },
  {
   "cell_type": "markdown",
   "metadata": {},
   "source": [
    "## DecisionTree Classifier"
   ]
  },
  {
   "cell_type": "code",
   "execution_count": 126,
   "metadata": {
    "ExecuteTime": {
     "end_time": "2021-01-13T19:50:35.510713Z",
     "start_time": "2021-01-13T19:44:52.716366Z"
    }
   },
   "outputs": [],
   "source": [
    "from sklearn.tree import DecisionTreeClassifier\n",
    "tree = DecisionTreeClassifier()\n",
    "\n",
    "tree.fit(X_train_std, y_train)\n",
    "pred_y_test = tree.predict(X_test_std)"
   ]
  },
  {
   "cell_type": "code",
   "execution_count": 127,
   "metadata": {
    "ExecuteTime": {
     "end_time": "2021-01-13T19:50:44.236084Z",
     "start_time": "2021-01-13T19:50:35.518590Z"
    }
   },
   "outputs": [
    {
     "data": {
      "text/plain": [
       "1.0"
      ]
     },
     "execution_count": 127,
     "metadata": {},
     "output_type": "execute_result"
    }
   ],
   "source": [
    "tree.score(X_train_std, y_train)"
   ]
  },
  {
   "cell_type": "code",
   "execution_count": 128,
   "metadata": {
    "ExecuteTime": {
     "end_time": "2021-01-13T19:51:12.162547Z",
     "start_time": "2021-01-13T19:50:44.247150Z"
    }
   },
   "outputs": [
    {
     "name": "stdout",
     "output_type": "stream",
     "text": [
      "Classification Report:\n",
      "              precision    recall  f1-score   support\n",
      "\n",
      "         0.0       0.66      0.65      0.65   1097202\n",
      "         1.0       0.66      0.66      0.66   1113979\n",
      "\n",
      "    accuracy                           0.66   2211181\n",
      "   macro avg       0.66      0.66      0.66   2211181\n",
      "weighted avg       0.66      0.66      0.66   2211181\n",
      "\n",
      "Accuracy: 0.6566522595843579\n",
      "Precision: 0.6581488504870954\n",
      "Recall: 0.6626803557338155\n",
      "F-1: 0.660406829758797\n",
      "AUC: 0.6566061726427102\n"
     ]
    },
    {
     "data": {
      "image/png": "[encoded data removed]",
      "text/plain": [
       "<Figure size 432x288 with 1 Axes>"
      ]
     },
     "metadata": {
      "needs_background": "light"
     },
     "output_type": "display_data"
    },
    {
     "name": "stdout",
     "output_type": "stream",
     "text": [
      "Confusion Matrix:\n",
      "[[713765 383437]\n",
      " [375767 738212]]\n",
      "True positives: 713765\n",
      "False positives: 375767\n",
      "True negatives: 738212\n",
      "False negatives: 383437\n",
      "\n",
      "\n"
     ]
    }
   ],
   "source": [
    "evaluate_model(y_test, pred_y_test)"
   ]
  },
  {
   "cell_type": "code",
   "execution_count": null,
   "metadata": {},
   "outputs": [],
   "source": []
  },
  {
   "cell_type": "markdown",
   "metadata": {},
   "source": [
    "## Navie Bayes"
   ]
  },
  {
   "cell_type": "code",
   "execution_count": 5,
   "metadata": {
    "ExecuteTime": {
     "end_time": "2021-01-16T17:58:56.180599Z",
     "start_time": "2021-01-16T17:58:32.933558Z"
    }
   },
   "outputs": [],
   "source": [
    "from sklearn.naive_bayes import GaussianNB\n",
    "\n",
    "gnb_model = GaussianNB()\n",
    "\n",
    "gnb_model.fit (X_train_std, y_train)\n",
    "pred_y_test = gnb_model.predict(X_test_std)"
   ]
  },
  {
   "cell_type": "code",
   "execution_count": 10,
   "metadata": {
    "ExecuteTime": {
     "end_time": "2021-01-16T17:59:35.892228Z",
     "start_time": "2021-01-16T17:59:25.129935Z"
    }
   },
   "outputs": [
    {
     "data": {
      "text/plain": [
       "0.5865595357617717"
      ]
     },
     "execution_count": 10,
     "metadata": {},
     "output_type": "execute_result"
    }
   ],
   "source": [
    "gnb_model.score(X_train_std, y_train)"
   ]
  },
  {
   "cell_type": "code",
   "execution_count": 11,
   "metadata": {
    "ExecuteTime": {
     "end_time": "2021-01-16T18:00:03.765311Z",
     "start_time": "2021-01-16T17:59:35.898725Z"
    }
   },
   "outputs": [
    {
     "name": "stdout",
     "output_type": "stream",
     "text": [
      "Classification Report:\n",
      "              precision    recall  f1-score   support\n",
      "\n",
      "         0.0       0.65      0.37      0.47   1098279\n",
      "         1.0       0.56      0.80      0.66   1112902\n",
      "\n",
      "    accuracy                           0.59   2211181\n",
      "   macro avg       0.61      0.59      0.57   2211181\n",
      "weighted avg       0.61      0.59      0.57   2211181\n",
      "\n",
      "Accuracy: 0.5868207984782793\n",
      "Precision: 0.5626520811300563\n",
      "Recall: 0.804078885652106\n",
      "F-1: 0.6620420103161426\n",
      "AUC: 0.5853744606129723\n"
     ]
    },
    {
     "data": {
      "image/png": "[encoded data removed]",
      "text/plain": [
       "<Figure size 432x288 with 1 Axes>"
      ]
     },
     "metadata": {
      "needs_background": "light"
     },
     "output_type": "display_data"
    },
    {
     "name": "stdout",
     "output_type": "stream",
     "text": [
      "Confusion Matrix:\n",
      "[[402706 695573]\n",
      " [218041 894861]]\n",
      "True positives: 402706\n",
      "False positives: 218041\n",
      "True negatives: 894861\n",
      "False negatives: 695573\n",
      "\n",
      "\n"
     ]
    }
   ],
   "source": [
    "evaluate_model(y_test, pred_y_test)"
   ]
  },
  {
   "cell_type": "code",
   "execution_count": null,
   "metadata": {},
   "outputs": [],
   "source": []
  },
  {
   "cell_type": "markdown",
   "metadata": {},
   "source": [
    "## SVM"
   ]
  },
  {
   "cell_type": "code",
   "execution_count": 12,
   "metadata": {
    "ExecuteTime": {
     "end_time": "2021-01-16T18:54:05.146921Z",
     "start_time": "2021-01-16T18:00:44.124852Z"
    }
   },
   "outputs": [
    {
     "name": "stderr",
     "output_type": "stream",
     "text": [
      "/opt/anaconda3/lib/python3.7/site-packages/sklearn/svm/base.py:929: ConvergenceWarning: Liblinear failed to converge, increase the number of iterations.\n",
      "  \"the number of iterations.\", ConvergenceWarning)\n"
     ]
    }
   ],
   "source": [
    "from sklearn.svm import LinearSVC\n",
    "\n",
    "svm_model = LinearSVC()\n",
    "\n",
    "svm_model.fit(X_train_std, y_train)\n",
    "pred_y_test = svm_model.predict(X_test_std)"
   ]
  },
  {
   "cell_type": "code",
   "execution_count": 13,
   "metadata": {
    "ExecuteTime": {
     "end_time": "2021-01-17T00:07:13.128748Z",
     "start_time": "2021-01-17T00:06:58.267328Z"
    }
   },
   "outputs": [
    {
     "data": {
      "text/plain": [
       "0.6158378267324621"
      ]
     },
     "execution_count": 13,
     "metadata": {},
     "output_type": "execute_result"
    }
   ],
   "source": [
    "svm_model.score(X_train_std, y_train)"
   ]
  },
  {
   "cell_type": "code",
   "execution_count": 14,
   "metadata": {
    "ExecuteTime": {
     "end_time": "2021-01-17T00:07:36.959885Z",
     "start_time": "2021-01-17T00:07:13.143728Z"
    }
   },
   "outputs": [
    {
     "name": "stdout",
     "output_type": "stream",
     "text": [
      "Classification Report:\n",
      "              precision    recall  f1-score   support\n",
      "\n",
      "         0.0       0.61      0.61      0.61   1098279\n",
      "         1.0       0.62      0.62      0.62   1112902\n",
      "\n",
      "    accuracy                           0.62   2211181\n",
      "   macro avg       0.62      0.62      0.62   2211181\n",
      "weighted avg       0.62      0.62      0.62   2211181\n",
      "\n",
      "Accuracy: 0.6165040311037405\n",
      "Precision: 0.6192140744094038\n",
      "Recall: 0.6182242461600392\n",
      "F-1: 0.6187187644023785\n",
      "AUC: 0.6164925792300506\n"
     ]
    },
    {
     "data": {
      "image/png": "[encoded data removed]",
      "text/plain": [
       "<Figure size 432x288 with 1 Axes>"
      ]
     },
     "metadata": {
      "needs_background": "light"
     },
     "output_type": "display_data"
    },
    {
     "name": "stdout",
     "output_type": "stream",
     "text": [
      "Confusion Matrix:\n",
      "[[675179 423100]\n",
      " [424879 688023]]\n",
      "True positives: 675179\n",
      "False positives: 424879\n",
      "True negatives: 688023\n",
      "False negatives: 423100\n",
      "\n",
      "\n"
     ]
    }
   ],
   "source": [
    "evaluate_model(y_test, pred_y_test)"
   ]
  },
  {
   "cell_type": "code",
   "execution_count": null,
   "metadata": {},
   "outputs": [],
   "source": []
  }
 ],
 "metadata": {
  "kernelspec": {
   "display_name": "Python 3",
   "language": "python",
   "name": "python3"
  },
  "language_info": {
   "codemirror_mode": {
    "name": "ipython",
    "version": 3
   },
   "file_extension": ".py",
   "mimetype": "text/x-python",
   "name": "python",
   "nbconvert_exporter": "python",
   "pygments_lexer": "ipython3",
   "version": "3.7.4"
  },
  "toc": {
   "base_numbering": 1,
   "nav_menu": {},
   "number_sections": true,
   "sideBar": true,
   "skip_h1_title": false,
   "title_cell": "Table of Contents",
   "title_sidebar": "Contents",
   "toc_cell": false,
   "toc_position": {},
   "toc_section_display": true,
   "toc_window_display": true
  }
 },
 "nbformat": 4,
 "nbformat_minor": 2
}
